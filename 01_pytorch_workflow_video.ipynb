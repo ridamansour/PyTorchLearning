{
 "cells": [
  {
   "metadata": {},
   "cell_type": "markdown",
   "source": [
    "# PyTorch Workflow\n",
    "\n",
    "Let's explore an example PyTorch end-to-end workflow\n",
    "\n",
    "Resources:\n",
    "* Ground truth notebook - https://github.com/mrdbourke/pytorch-deep-learning/blob/main/01_pytorch_workflow.ipynb\n",
    "* Book version of notebook - https://www.learnpytorch.io/01_pytorch_workflow/\n",
    "* Ask a question - https://github.com/mrdbourke/pytorch-deep-learning/discussions\n"
   ],
   "id": "b2945a7c5d332531"
  },
  {
   "cell_type": "code",
   "id": "initial_id",
   "metadata": {
    "collapsed": true,
    "ExecuteTime": {
     "end_time": "2025-07-16T04:08:38.912798Z",
     "start_time": "2025-07-16T04:08:38.895817Z"
    }
   },
   "source": [
    "what_were_covering = {\n",
    "    1: \"data (prepare and load)\",\n",
    "    2: \"build model\",\n",
    "    3: \"fitting the model to data (training)\",\n",
    "    4: \"making predictions and evaluating model (inference)\",\n",
    "    5: \"saving and loading a model\",\n",
    "    6: \"putting it all together\"\n",
    "}\n",
    "what_were_covering"
   ],
   "outputs": [
    {
     "data": {
      "text/plain": [
       "{1: 'data (prepare and load)',\n",
       " 2: 'build model',\n",
       " 3: 'fitting the model to data (training)',\n",
       " 4: 'making predictions and evaluating model (inference)',\n",
       " 5: 'saving and loading a model',\n",
       " 6: 'putting it all together'}"
      ]
     },
     "execution_count": 76,
     "metadata": {},
     "output_type": "execute_result"
    }
   ],
   "execution_count": 76
  },
  {
   "metadata": {
    "ExecuteTime": {
     "end_time": "2025-07-16T04:08:38.938073Z",
     "start_time": "2025-07-16T04:08:38.932387Z"
    }
   },
   "cell_type": "code",
   "source": [
    "import torch\n",
    "from torch import nn # nn contains all of PyTorch's building blocks for neural networks\n",
    "from sklearn.model_selection import train_test_split\n",
    "import matplotlib.pyplot as plt\n",
    "\n",
    "# Check PyTorch version\n",
    "torch.__version__"
   ],
   "id": "22ba9fa3ca7701a3",
   "outputs": [
    {
     "data": {
      "text/plain": [
       "'2.7.1'"
      ]
     },
     "execution_count": 77,
     "metadata": {},
     "output_type": "execute_result"
    }
   ],
   "execution_count": 77
  },
  {
   "metadata": {},
   "cell_type": "markdown",
   "source": [
    "## 1. Data (preparing and loading)\n",
    "\n",
    "Data can be almost anything... in machine learning.\n",
    "* Excel spreadsheet\n",
    "* Images of any kind\n",
    "* Videos (YouTube has lots of data)\n",
    "* Audio like songs or podcasts\n",
    "* DNA\n",
    "* Text\n",
    "\n",
    "Machine Learning is a game of two parts:\n",
    "1. Get data into numerical representation.\n",
    "2. Build a model to learn patterns in that numerical representation.\n",
    "\n",
    "To showcase this, let's create some *known* data using the linear regression formula.\n",
    "\n",
    "We'll use a linear regression formula to make a straight line with known **parameters**."
   ],
   "id": "7ec94810e97649db"
  },
  {
   "metadata": {
    "ExecuteTime": {
     "end_time": "2025-07-16T04:08:38.981990Z",
     "start_time": "2025-07-16T04:08:38.977507Z"
    }
   },
   "cell_type": "code",
   "source": [
    "# Create *known* parameters\n",
    "weight = 0.7\n",
    "bias = 0.3\n",
    "\n",
    "# Create\n",
    "start = 0\n",
    "end = 1\n",
    "step = 0.02\n",
    "X = torch.arange(start, end, step).unsqueeze(1)\n",
    "y = weight*X + bias\n",
    "\n",
    "X[:10], y[:10]"
   ],
   "id": "9b890d3a91b0bfc2",
   "outputs": [
    {
     "data": {
      "text/plain": [
       "(tensor([[0.0000],\n",
       "         [0.0200],\n",
       "         [0.0400],\n",
       "         [0.0600],\n",
       "         [0.0800],\n",
       "         [0.1000],\n",
       "         [0.1200],\n",
       "         [0.1400],\n",
       "         [0.1600],\n",
       "         [0.1800]]),\n",
       " tensor([[0.3000],\n",
       "         [0.3140],\n",
       "         [0.3280],\n",
       "         [0.3420],\n",
       "         [0.3560],\n",
       "         [0.3700],\n",
       "         [0.3840],\n",
       "         [0.3980],\n",
       "         [0.4120],\n",
       "         [0.4260]]))"
      ]
     },
     "execution_count": 78,
     "metadata": {},
     "output_type": "execute_result"
    }
   ],
   "execution_count": 78
  },
  {
   "metadata": {},
   "cell_type": "markdown",
   "source": [
    "### Splitting data into training and test sets\n",
    "**(one of the most important concepts in machine learning in general)**\n",
    "\n",
    "Let's create a training and test set with our data"
   ],
   "id": "fc0ed03d5ce931ca"
  },
  {
   "metadata": {
    "ExecuteTime": {
     "end_time": "2025-07-16T04:08:39.006394Z",
     "start_time": "2025-07-16T04:08:39.001737Z"
    }
   },
   "cell_type": "code",
   "source": [
    "# Create a train/test split\n",
    "X_train, X_test, y_train, y_test = train_test_split(X, y, train_size=0.8)\n",
    "len(X_train), len(y_train), len(X_test), len(y_test)"
   ],
   "id": "76cbd196dd4b176c",
   "outputs": [
    {
     "data": {
      "text/plain": [
       "(40, 40, 10, 10)"
      ]
     },
     "execution_count": 79,
     "metadata": {},
     "output_type": "execute_result"
    }
   ],
   "execution_count": 79
  },
  {
   "metadata": {},
   "cell_type": "markdown",
   "source": [
    "How might we better visualize our data?\n",
    "\n",
    "This is where the data explorer's motto comes in!\n",
    "\n",
    "\"Visualize, visualize, visualize!\""
   ],
   "id": "29b471b2f623ce85"
  },
  {
   "metadata": {
    "ExecuteTime": {
     "end_time": "2025-07-16T04:08:39.131445Z",
     "start_time": "2025-07-16T04:08:39.027779Z"
    }
   },
   "cell_type": "code",
   "source": [
    "def plot_predictions(train_data=X_train,\n",
    "                     train_labels=y_train,\n",
    "                     test_data=X_test,\n",
    "                     test_labels=y_test,\n",
    "                     predictions=None):\n",
    "    \"\"\"\n",
    "    Plots training data, test data, and compare predictions.\n",
    "    :param train_data:\n",
    "    :param train_labels:\n",
    "    :param test_data:\n",
    "    :param test_labels:\n",
    "    :param predictions:\n",
    "    :return:\n",
    "    \"\"\"\n",
    "    plt.figure(figsize=(12, 8))\n",
    "\n",
    "    # Plot training data in blue\n",
    "    plt.scatter(train_data, train_labels, c=\"c\", s=20, label=\"Training data\")\n",
    "\n",
    "    # Plot test data in green\n",
    "    plt.scatter(test_data, test_labels, c=\"g\", s=20, label=\"Testing data\")\n",
    "\n",
    "    # Are there predictions?\n",
    "    if predictions is not None:\n",
    "        # Plot the predictions if they exist\n",
    "        plt.scatter(test_data, predictions, c=\"r\", s=20, label=\"Predictions\")\n",
    "\n",
    "    # Show the legend\n",
    "    plt.legend(prop={'size': 8})\n",
    "plot_predictions()"
   ],
   "id": "143b1371c1b6a4ba",
   "outputs": [
    {
     "data": {
      "text/plain": [
       "<Figure size 1200x800 with 1 Axes>"
      ],
      "image/png": "[encoded data removed]"
     },
     "metadata": {},
     "output_type": "display_data"
    }
   ],
   "execution_count": 80
  },
  {
   "metadata": {},
   "cell_type": "markdown",
   "source": [
    "## 2. Build model\n",
    "\n",
    "Our first PyTorch model!!\n",
    "\n",
    "What our model does:\n",
    "* Starty with random values (weight and bias)\n",
    "* Look at training data and adjust the random values (the weight and bias values we used to create the data)\n",
    "\n",
    "How does it do so?\n",
    "\n",
    "Through two main algorithms:\n",
    "1. Gradient descent - https://youtu.be/lHZwWFHWa-w\n",
    "2. Backpropagation - https://youtu.be/llg3gGewQ5U"
   ],
   "id": "8964da189e52b861"
  },
  {
   "metadata": {
    "ExecuteTime": {
     "end_time": "2025-07-16T04:08:39.165Z",
     "start_time": "2025-07-16T04:08:39.160320Z"
    }
   },
   "cell_type": "code",
   "source": [
    "# Create linear regression model class\n",
    "class LinearRegressionModel(nn.Module): # <- almost everything in\n",
    "    def __init__(self):\n",
    "        super().__init__()\n",
    "        self.weight = nn.Parameter(torch.randn(1, requires_grad=True, dtype=torch.float))\n",
    "        self.bias = nn.Parameter(torch.randn(1, requires_grad=True, dtype=torch.float))\n",
    "\n",
    "    # Forward method to define the computation in the model\n",
    "    def forward(self, x: torch.Tensor) -> torch.Tensor: # <- \"x\" is the input data\n",
    "        return x * self.weight + self.bias # this is the linear regression formula"
   ],
   "id": "7a5cb1f8a51737a1",
   "outputs": [],
   "execution_count": 81
  },
  {
   "metadata": {},
   "cell_type": "markdown",
   "source": [
    "### PyTorch model building essentials\n",
    "\n",
    "* torch.nn - contains all the buildings for computational graphs (a neural network can be considered a computational graph)\n",
    "* torch.nn.Parameter - what parameters should our model try and learn, often a PyTorch layer from torch.nn will set these for us\n",
    "* torch.nn.Module - The base class for all neural network modules, if you subclass it, you should overwrite forward()\n",
    "* torch.optim - this where the optimizers in PyTorch live, they will help with gradient descent\n",
    "* def forward() - All nn.Module subclasses require you to overwrite forward(), this method defines what happens in the forward computation\n",
    "\n",
    "See more of these essential modules via PyTorch cheatsheet - https://pytorch.org/tutorials/beginner/ptcheat.html"
   ],
   "id": "532bbad07b2373af"
  },
  {
   "metadata": {},
   "cell_type": "markdown",
   "source": [
    "### Checking the contents of our PyTorch model\n",
    "\n",
    "Now we've created a model, let's see what's inside...\n",
    "\n",
    "So we can check our model parameters or what's inside our model using `.parameters()`."
   ],
   "id": "ac14d8f227aa3cf5"
  },
  {
   "metadata": {
    "ExecuteTime": {
     "end_time": "2025-07-16T04:08:39.184807Z",
     "start_time": "2025-07-16T04:08:39.179756Z"
    }
   },
   "cell_type": "code",
   "source": [
    "# Create a random seed\n",
    "torch.manual_seed(42)\n",
    "\n",
    "# Create an instance of the model (this is a subclass of nn.Module)\n",
    "model_0 = LinearRegressionModel()\n",
    "\n",
    "# Check out the parameters\n",
    "list(model_0.parameters())"
   ],
   "id": "e81c50f9c00061b5",
   "outputs": [
    {
     "data": {
      "text/plain": [
       "[Parameter containing:\n",
       " tensor([0.3367], requires_grad=True),\n",
       " Parameter containing:\n",
       " tensor([0.1288], requires_grad=True)]"
      ]
     },
     "execution_count": 82,
     "metadata": {},
     "output_type": "execute_result"
    }
   ],
   "execution_count": 82
  },
  {
   "metadata": {
    "ExecuteTime": {
     "end_time": "2025-07-16T04:08:39.206186Z",
     "start_time": "2025-07-16T04:08:39.201705Z"
    }
   },
   "cell_type": "code",
   "source": [
    "# List named parameters\n",
    "model_0.state_dict()"
   ],
   "id": "7f31660f012e574d",
   "outputs": [
    {
     "data": {
      "text/plain": [
       "OrderedDict([('weight', tensor([0.3367])), ('bias', tensor([0.1288]))])"
      ]
     },
     "execution_count": 83,
     "metadata": {},
     "output_type": "execute_result"
    }
   ],
   "execution_count": 83
  },
  {
   "metadata": {},
   "cell_type": "markdown",
   "source": [
    "### Making prediction using `torch.inference_mode()`\n",
    "\n",
    "To check our model's predictive power, let's see how well it predicts `y_test` based on `X_test`.\n",
    "\n",
    "When we pass data through our model, it's going to run through the `forward()` method."
   ],
   "id": "285920672cb27203"
  },
  {
   "metadata": {
    "ExecuteTime": {
     "end_time": "2025-07-16T04:08:39.230897Z",
     "start_time": "2025-07-16T04:08:39.226622Z"
    }
   },
   "cell_type": "code",
   "source": "X_test, y_test",
   "id": "a85131111e7da061",
   "outputs": [
    {
     "data": {
      "text/plain": [
       "(tensor([[0.1200],\n",
       "         [0.0800],\n",
       "         [0.8800],\n",
       "         [0.0600],\n",
       "         [0.2400],\n",
       "         [0.3200],\n",
       "         [0.1000],\n",
       "         [0.6400],\n",
       "         [0.4600],\n",
       "         [0.0000]]),\n",
       " tensor([[0.3840],\n",
       "         [0.3560],\n",
       "         [0.9160],\n",
       "         [0.3420],\n",
       "         [0.4680],\n",
       "         [0.5240],\n",
       "         [0.3700],\n",
       "         [0.7480],\n",
       "         [0.6220],\n",
       "         [0.3000]]))"
      ]
     },
     "execution_count": 84,
     "metadata": {},
     "output_type": "execute_result"
    }
   ],
   "execution_count": 84
  },
  {
   "metadata": {
    "ExecuteTime": {
     "end_time": "2025-07-16T04:08:39.250228Z",
     "start_time": "2025-07-16T04:08:39.246225Z"
    }
   },
   "cell_type": "code",
   "source": [
    "# Make predictions with model\n",
    "with torch.inference_mode():\n",
    "    y_preds = model_0(X_test)\n",
    "y_preds"
   ],
   "id": "6d1a9dc3c08c7640",
   "outputs": [
    {
     "data": {
      "text/plain": [
       "tensor([[0.1692],\n",
       "        [0.1557],\n",
       "        [0.4251],\n",
       "        [0.1490],\n",
       "        [0.2096],\n",
       "        [0.2366],\n",
       "        [0.1625],\n",
       "        [0.3443],\n",
       "        [0.2837],\n",
       "        [0.1288]])"
      ]
     },
     "execution_count": 85,
     "metadata": {},
     "output_type": "execute_result"
    }
   ],
   "execution_count": 85
  },
  {
   "metadata": {
    "ExecuteTime": {
     "end_time": "2025-07-16T04:08:39.294257Z",
     "start_time": "2025-07-16T04:08:39.291201Z"
    }
   },
   "cell_type": "code",
   "source": "y_test",
   "id": "2aa3cf8dd5b0c744",
   "outputs": [
    {
     "data": {
      "text/plain": [
       "tensor([[0.3840],\n",
       "        [0.3560],\n",
       "        [0.9160],\n",
       "        [0.3420],\n",
       "        [0.4680],\n",
       "        [0.5240],\n",
       "        [0.3700],\n",
       "        [0.7480],\n",
       "        [0.6220],\n",
       "        [0.3000]])"
      ]
     },
     "execution_count": 86,
     "metadata": {},
     "output_type": "execute_result"
    }
   ],
   "execution_count": 86
  },
  {
   "metadata": {
    "ExecuteTime": {
     "end_time": "2025-07-16T04:08:39.525583Z",
     "start_time": "2025-07-16T04:08:39.408431Z"
    }
   },
   "cell_type": "code",
   "source": "plot_predictions(predictions=y_preds)",
   "id": "fd1dab55f158b391",
   "outputs": [
    {
     "data": {
      "text/plain": [
       "<Figure size 1200x800 with 1 Axes>"
      ],
      "image/png": "[encoded data removed]"
     },
     "metadata": {},
     "output_type": "display_data"
    }
   ],
   "execution_count": 87
  },
  {
   "metadata": {},
   "cell_type": "markdown",
   "source": "See more on inference mode here - https://twitter.com/PyTorch/status/1437838231505096708?s=20&t=cnKav09iTgwQ-rfri6u7PQ",
   "id": "42297ca76577d63b"
  },
  {
   "metadata": {},
   "cell_type": "markdown",
   "source": [
    "## 3. Train model\n",
    "\n",
    "The whole idea of training a model is for a model to move from some *unknown* parameters (these may be random) to some known parameters.\n",
    "\n",
    "Or in other words, from a poor representation of the data to a better representation of the data.\n",
    "\n",
    "One way to measure how poor or how wrong your model predictions are is to use a loss function.\n",
    "\n",
    "* Note: Loss function may also be called cost function or criterion in different areas. For our case, we're going to refer it as a loss function.\n",
    "* **Loss function:** A function to measure how wrong your model's predictions are to ideal outputs, lower is better.\n",
    "* **Optimizer:** Takes into account the loss of a model and adjusts the model's parameters (e.g., weight & bias)\n",
    "\n",
    "And specifically for PyTorch, we need:\n",
    "* A training loop\n",
    "* A testing loop"
   ],
   "id": "1ddd1fd83af1c363"
  },
  {
   "metadata": {
    "ExecuteTime": {
     "end_time": "2025-07-16T04:08:39.564566Z",
     "start_time": "2025-07-16T04:08:39.558999Z"
    }
   },
   "cell_type": "code",
   "source": "list(model_0.parameters())",
   "id": "f17385ebc9bca8f9",
   "outputs": [
    {
     "data": {
      "text/plain": [
       "[Parameter containing:\n",
       " tensor([0.3367], requires_grad=True),\n",
       " Parameter containing:\n",
       " tensor([0.1288], requires_grad=True)]"
      ]
     },
     "execution_count": 88,
     "metadata": {},
     "output_type": "execute_result"
    }
   ],
   "execution_count": 88
  },
  {
   "metadata": {
    "ExecuteTime": {
     "end_time": "2025-07-16T04:08:39.585684Z",
     "start_time": "2025-07-16T04:08:39.582300Z"
    }
   },
   "cell_type": "code",
   "source": [
    "# Check out our model's parameters (a parameter is a value that the model sets itself)\n",
    "model_0.state_dict()"
   ],
   "id": "7f755b53aa7e621e",
   "outputs": [
    {
     "data": {
      "text/plain": [
       "OrderedDict([('weight', tensor([0.3367])), ('bias', tensor([0.1288]))])"
      ]
     },
     "execution_count": 89,
     "metadata": {},
     "output_type": "execute_result"
    }
   ],
   "execution_count": 89
  },
  {
   "metadata": {
    "ExecuteTime": {
     "end_time": "2025-07-16T04:08:39.615436Z",
     "start_time": "2025-07-16T04:08:39.612409Z"
    }
   },
   "cell_type": "code",
   "source": [
    "# Setup a loss function\n",
    "loss_fn = nn.L1Loss()\n",
    "\n",
    "# Setup an optimizer\n",
    "optimizer = torch.optim.SGD(model_0.parameters(),\n",
    "                            lr=0.001) # lr = learning rate = possibly the most important hyperparameter you can set"
   ],
   "id": "ec480ec73d5ba10f",
   "outputs": [],
   "execution_count": 90
  },
  {
   "metadata": {},
   "cell_type": "markdown",
   "source": [
    "> **Q:** Which loss function and optimizer should I use?\n",
    "> **A:** This will be problem specific. But with experience, you'll get an idea of what works and what doesn't with your particular problem set.\n",
    ">\n",
    "> For example, for a regression problem (like ours), a loss function of `nn.L1Loss()` and an optimizer like `torch.optim.SGD()` will suffice.\n",
    ">\n",
    "> But for a classification problem like classifying whether a photo is of a dog or a cat, you'll likely want to use a loss function of `nn.BCELoss()` (binary cross entropy loss)."
   ],
   "id": "51a81746ad3c9ff6"
  },
  {
   "metadata": {},
   "cell_type": "markdown",
   "source": [
    "### Building a training loop (and a testing loop) in PyTorch\n",
    "\n",
    "A couple of things we need in a training loop:\n",
    "0. Loop through the data\n",
    "1. Forward pass (this involves data moving through our model's `forward()` functions) to make predictions on data - also called forward propagation\n",
    "2. Calculate the loss (compare forward pass prediction to ground truth labels)\n",
    "3. Optimizer zero grad\n",
    "4. Loss backward - move backwards through the network to calculate the gradients of each of the parameters of our model with respect to the loss (**Backpropagation**)\n",
    "5. Optimizer step - use the optimizer to adjust our model's parameters to try and improve the loss (**gradient decent**)"
   ],
   "id": "67f8012b505d1560"
  },
  {
   "metadata": {
    "ExecuteTime": {
     "end_time": "2025-07-16T04:08:39.630250Z",
     "start_time": "2025-07-16T04:08:39.626846Z"
    }
   },
   "cell_type": "code",
   "source": "list(model_0.parameters())",
   "id": "4bd2037907c82454",
   "outputs": [
    {
     "data": {
      "text/plain": [
       "[Parameter containing:\n",
       " tensor([0.3367], requires_grad=True),\n",
       " Parameter containing:\n",
       " tensor([0.1288], requires_grad=True)]"
      ]
     },
     "execution_count": 91,
     "metadata": {},
     "output_type": "execute_result"
    }
   ],
   "execution_count": 91
  },
  {
   "metadata": {
    "ExecuteTime": {
     "end_time": "2025-07-16T04:08:39.823483Z",
     "start_time": "2025-07-16T04:08:39.649322Z"
    }
   },
   "cell_type": "code",
   "source": [
    "torch.manual_seed(42)\n",
    "\n",
    "# An epoch is one loop through the data... (this is a hyperparameter because we've set it ourselves)\n",
    "epochs = 1_500\n",
    "\n",
    "# Track different values\n",
    "epoch_count = []\n",
    "loss_values = []\n",
    "train_loss_values = []\n",
    "\n",
    "### Training\n",
    "# 0. Loop through the data\n",
    "for epoch in range(epochs):\n",
    "    # Set the model to training mode\n",
    "    model_0.train() # train mode in PyTorch sets all parameters that require gradients to require gradients\n",
    "\n",
    "    # 1. Forward pass\n",
    "    y_pred = model_0(X_train)\n",
    "\n",
    "    # 2. Calculate the loss\n",
    "    loss = loss_fn(y_pred, y_train)\n",
    "\n",
    "    # 3. Optimizer zero grad\n",
    "    optimizer.zero_grad()\n",
    "\n",
    "    # 4. Perform backpropagation on the loss with respect to the parameters of the model\n",
    "    loss.backward()\n",
    "\n",
    "    # 5. Step the optimizer (perform gradient descent)\n",
    "    optimizer.step() # by default, how the optimizer changes will accumulate through the loop so... we have to zero them above in step 3 for the next iteration of the loop\n",
    "\n",
    "    ### Testing\n",
    "    model_0.eval() # turns off different settings in the model not needed for evaluation/testing (dropout/bach norm layers)\n",
    "    with torch.inference_mode(): # turns off gradient tracking and a couple more things behind the scenes\n",
    "    # with torch.no_grad(): # you may also see torch.no_grad() in older PyTorch code\n",
    "        # 1. Do the forward pass\n",
    "        test_pred = model_0(X_test)\n",
    "\n",
    "        # 2. Calculate the loss\n",
    "        test_loss = loss_fn(test_pred, y_test)\n",
    "\n",
    "    # print what's happening\n",
    "    if epoch % 10 == 0:\n",
    "        epoch_count.append(epoch)\n",
    "        loss_values.append(loss.item())\n",
    "        train_loss_values.append(test_loss.item())\n",
    "        print(f\"Epoch {epoch} | Loss: {loss} | Test Loss: {test_loss}\")\n",
    "        # print out model state_dict()\n",
    "        print(model_0.state_dict())"
   ],
   "id": "546b2b4faed010f1",
   "outputs": [
    {
     "name": "stdout",
     "output_type": "stream",
     "text": [
      "Epoch 0 | Loss: 0.3673778176307678 | Test Loss: 0.2753937840461731\n",
      "OrderedDict({'weight': tensor([0.3372]), 'bias': tensor([0.1298])})\n",
      "Epoch 10 | Loss: 0.3544618487358093 | Test Loss: 0.2638278007507324\n",
      "OrderedDict({'weight': tensor([0.3426]), 'bias': tensor([0.1398])})\n",
      "Epoch 20 | Loss: 0.34154587984085083 | Test Loss: 0.25226181745529175\n",
      "OrderedDict({'weight': tensor([0.3480]), 'bias': tensor([0.1498])})\n",
      "Epoch 30 | Loss: 0.32862991094589233 | Test Loss: 0.2406958043575287\n",
      "OrderedDict({'weight': tensor([0.3534]), 'bias': tensor([0.1598])})\n",
      "Epoch 40 | Loss: 0.3157139718532562 | Test Loss: 0.2291298359632492\n",
      "OrderedDict({'weight': tensor([0.3588]), 'bias': tensor([0.1698])})\n",
      "Epoch 50 | Loss: 0.3027980327606201 | Test Loss: 0.21756386756896973\n",
      "OrderedDict({'weight': tensor([0.3642]), 'bias': tensor([0.1798])})\n",
      "Epoch 60 | Loss: 0.289882093667984 | Test Loss: 0.20599786937236786\n",
      "OrderedDict({'weight': tensor([0.3696]), 'bias': tensor([0.1898])})\n",
      "Epoch 70 | Loss: 0.2769661247730255 | Test Loss: 0.194431871175766\n",
      "OrderedDict({'weight': tensor([0.3750]), 'bias': tensor([0.1998])})\n",
      "Epoch 80 | Loss: 0.264050155878067 | Test Loss: 0.1828659027814865\n",
      "OrderedDict({'weight': tensor([0.3804]), 'bias': tensor([0.2098])})\n",
      "Epoch 90 | Loss: 0.2511341869831085 | Test Loss: 0.17129990458488464\n",
      "OrderedDict({'weight': tensor([0.3858]), 'bias': tensor([0.2198])})\n",
      "Epoch 100 | Loss: 0.23821821808815002 | Test Loss: 0.15973393619060516\n",
      "OrderedDict({'weight': tensor([0.3912]), 'bias': tensor([0.2298])})\n",
      "Epoch 110 | Loss: 0.22530226409435272 | Test Loss: 0.1481679379940033\n",
      "OrderedDict({'weight': tensor([0.3966]), 'bias': tensor([0.2398])})\n",
      "Epoch 120 | Loss: 0.2123863250017166 | Test Loss: 0.13660195469856262\n",
      "OrderedDict({'weight': tensor([0.4020]), 'bias': tensor([0.2498])})\n",
      "Epoch 130 | Loss: 0.19947049021720886 | Test Loss: 0.1250361204147339\n",
      "OrderedDict({'weight': tensor([0.4074]), 'bias': tensor([0.2598])})\n",
      "Epoch 140 | Loss: 0.1865546852350235 | Test Loss: 0.11347027868032455\n",
      "OrderedDict({'weight': tensor([0.4128]), 'bias': tensor([0.2698])})\n",
      "Epoch 150 | Loss: 0.17363885045051575 | Test Loss: 0.10190443694591522\n",
      "OrderedDict({'weight': tensor([0.4182]), 'bias': tensor([0.2798])})\n",
      "Epoch 160 | Loss: 0.16072306036949158 | Test Loss: 0.09033861756324768\n",
      "OrderedDict({'weight': tensor([0.4236]), 'bias': tensor([0.2898])})\n",
      "Epoch 170 | Loss: 0.1478072702884674 | Test Loss: 0.07877276837825775\n",
      "OrderedDict({'weight': tensor([0.4290]), 'bias': tensor([0.2998])})\n",
      "Epoch 180 | Loss: 0.1352098286151886 | Test Loss: 0.06932977586984634\n",
      "OrderedDict({'weight': tensor([0.4344]), 'bias': tensor([0.3096])})\n",
      "Epoch 190 | Loss: 0.1239885538816452 | Test Loss: 0.061110664159059525\n",
      "OrderedDict({'weight': tensor([0.4398]), 'bias': tensor([0.3187])})\n",
      "Epoch 200 | Loss: 0.11300481855869293 | Test Loss: 0.05612742900848389\n",
      "OrderedDict({'weight': tensor([0.4452]), 'bias': tensor([0.3277])})\n",
      "Epoch 210 | Loss: 0.10206154733896255 | Test Loss: 0.05438412353396416\n",
      "OrderedDict({'weight': tensor([0.4505]), 'bias': tensor([0.3367])})\n",
      "Epoch 220 | Loss: 0.09250658750534058 | Test Loss: 0.05324116349220276\n",
      "OrderedDict({'weight': tensor([0.4558]), 'bias': tensor([0.3448])})\n",
      "Epoch 230 | Loss: 0.08459190279245377 | Test Loss: 0.05213372781872749\n",
      "OrderedDict({'weight': tensor([0.4609]), 'bias': tensor([0.3521])})\n",
      "Epoch 240 | Loss: 0.07780228555202484 | Test Loss: 0.05153824761509895\n",
      "OrderedDict({'weight': tensor([0.4658]), 'bias': tensor([0.3586])})\n",
      "Epoch 250 | Loss: 0.07160966843366623 | Test Loss: 0.051947303116321564\n",
      "OrderedDict({'weight': tensor([0.4706]), 'bias': tensor([0.3648])})\n",
      "Epoch 260 | Loss: 0.06658094376325607 | Test Loss: 0.05222700163722038\n",
      "OrderedDict({'weight': tensor([0.4752]), 'bias': tensor([0.3701])})\n",
      "Epoch 270 | Loss: 0.062056053429841995 | Test Loss: 0.053374893963336945\n",
      "OrderedDict({'weight': tensor([0.4797]), 'bias': tensor([0.3751])})\n",
      "Epoch 280 | Loss: 0.05818936228752136 | Test Loss: 0.05467968061566353\n",
      "OrderedDict({'weight': tensor([0.4840]), 'bias': tensor([0.3795])})\n",
      "Epoch 290 | Loss: 0.05508706718683243 | Test Loss: 0.05574985593557358\n",
      "OrderedDict({'weight': tensor([0.4881]), 'bias': tensor([0.3832])})\n",
      "Epoch 300 | Loss: 0.05255681276321411 | Test Loss: 0.05662279576063156\n",
      "OrderedDict({'weight': tensor([0.4919]), 'bias': tensor([0.3864])})\n",
      "Epoch 310 | Loss: 0.05051904916763306 | Test Loss: 0.05729983374476433\n",
      "OrderedDict({'weight': tensor([0.4955]), 'bias': tensor([0.3891])})\n",
      "Epoch 320 | Loss: 0.04887457564473152 | Test Loss: 0.05779986456036568\n",
      "OrderedDict({'weight': tensor([0.4989]), 'bias': tensor([0.3912])})\n",
      "Epoch 330 | Loss: 0.04736565053462982 | Test Loss: 0.05869407579302788\n",
      "OrderedDict({'weight': tensor([0.5022]), 'bias': tensor([0.3932])})\n",
      "Epoch 340 | Loss: 0.045992374420166016 | Test Loss: 0.05969914048910141\n",
      "OrderedDict({'weight': tensor([0.5054]), 'bias': tensor([0.3950])})\n",
      "Epoch 350 | Loss: 0.04484572261571884 | Test Loss: 0.060496531426906586\n",
      "OrderedDict({'weight': tensor([0.5085]), 'bias': tensor([0.3964])})\n",
      "Epoch 360 | Loss: 0.04393913596868515 | Test Loss: 0.061056703329086304\n",
      "OrderedDict({'weight': tensor([0.5113]), 'bias': tensor([0.3974])})\n",
      "Epoch 370 | Loss: 0.0431523397564888 | Test Loss: 0.061439115554094315\n",
      "OrderedDict({'weight': tensor([0.5140]), 'bias': tensor([0.3981])})\n",
      "Epoch 380 | Loss: 0.042461615055799484 | Test Loss: 0.06170303747057915\n",
      "OrderedDict({'weight': tensor([0.5166]), 'bias': tensor([0.3986])})\n",
      "Epoch 390 | Loss: 0.04186932370066643 | Test Loss: 0.0617595799267292\n",
      "OrderedDict({'weight': tensor([0.5190]), 'bias': tensor([0.3987])})\n",
      "Epoch 400 | Loss: 0.04133564978837967 | Test Loss: 0.061727236956357956\n",
      "OrderedDict({'weight': tensor([0.5213]), 'bias': tensor([0.3987])})\n",
      "Epoch 410 | Loss: 0.04080197960138321 | Test Loss: 0.06169489771127701\n",
      "OrderedDict({'weight': tensor([0.5236]), 'bias': tensor([0.3987])})\n",
      "Epoch 420 | Loss: 0.040348224341869354 | Test Loss: 0.061396025121212006\n",
      "OrderedDict({'weight': tensor([0.5257]), 'bias': tensor([0.3983])})\n",
      "Epoch 430 | Loss: 0.03991110250353813 | Test Loss: 0.06106755882501602\n",
      "OrderedDict({'weight': tensor([0.5277]), 'bias': tensor([0.3978])})\n",
      "Epoch 440 | Loss: 0.03947398066520691 | Test Loss: 0.06073908880352974\n",
      "OrderedDict({'weight': tensor([0.5297]), 'bias': tensor([0.3973])})\n",
      "Epoch 450 | Loss: 0.039036862552165985 | Test Loss: 0.06041061878204346\n",
      "OrderedDict({'weight': tensor([0.5317]), 'bias': tensor([0.3968])})\n",
      "Epoch 460 | Loss: 0.03859974071383476 | Test Loss: 0.060082145035266876\n",
      "OrderedDict({'weight': tensor([0.5338]), 'bias': tensor([0.3963])})\n",
      "Epoch 470 | Loss: 0.03818589448928833 | Test Loss: 0.059546612203121185\n",
      "OrderedDict({'weight': tensor([0.5356]), 'bias': tensor([0.3954])})\n",
      "Epoch 480 | Loss: 0.037783171981573105 | Test Loss: 0.05892232805490494\n",
      "OrderedDict({'weight': tensor([0.5373]), 'bias': tensor([0.3944])})\n",
      "Epoch 490 | Loss: 0.03738044947385788 | Test Loss: 0.05829805135726929\n",
      "OrderedDict({'weight': tensor([0.5391]), 'bias': tensor([0.3934])})\n",
      "Epoch 500 | Loss: 0.03697773069143295 | Test Loss: 0.05767377093434334\n",
      "OrderedDict({'weight': tensor([0.5408]), 'bias': tensor([0.3924])})\n",
      "Epoch 510 | Loss: 0.036575011909008026 | Test Loss: 0.05704949051141739\n",
      "OrderedDict({'weight': tensor([0.5426]), 'bias': tensor([0.3914])})\n",
      "Epoch 520 | Loss: 0.036172281950712204 | Test Loss: 0.056425224989652634\n",
      "OrderedDict({'weight': tensor([0.5443]), 'bias': tensor([0.3904])})\n",
      "Epoch 530 | Loss: 0.03576955944299698 | Test Loss: 0.05580093711614609\n",
      "OrderedDict({'weight': tensor([0.5460]), 'bias': tensor([0.3894])})\n",
      "Epoch 540 | Loss: 0.035366836935281754 | Test Loss: 0.05517665296792984\n",
      "OrderedDict({'weight': tensor([0.5478]), 'bias': tensor([0.3884])})\n",
      "Epoch 550 | Loss: 0.03496411442756653 | Test Loss: 0.05455236881971359\n",
      "OrderedDict({'weight': tensor([0.5495]), 'bias': tensor([0.3874])})\n",
      "Epoch 560 | Loss: 0.0345613956451416 | Test Loss: 0.05392809957265854\n",
      "OrderedDict({'weight': tensor([0.5513]), 'bias': tensor([0.3864])})\n",
      "Epoch 570 | Loss: 0.03415866941213608 | Test Loss: 0.05330382660031319\n",
      "OrderedDict({'weight': tensor([0.5530]), 'bias': tensor([0.3854])})\n",
      "Epoch 580 | Loss: 0.03375595062971115 | Test Loss: 0.05267953872680664\n",
      "OrderedDict({'weight': tensor([0.5547]), 'bias': tensor([0.3844])})\n",
      "Epoch 590 | Loss: 0.03335322439670563 | Test Loss: 0.05205526202917099\n",
      "OrderedDict({'weight': tensor([0.5565]), 'bias': tensor([0.3834])})\n",
      "Epoch 600 | Loss: 0.0329505018889904 | Test Loss: 0.05143098160624504\n",
      "OrderedDict({'weight': tensor([0.5582]), 'bias': tensor([0.3824])})\n",
      "Epoch 610 | Loss: 0.03254779055714607 | Test Loss: 0.05080670118331909\n",
      "OrderedDict({'weight': tensor([0.5600]), 'bias': tensor([0.3814])})\n",
      "Epoch 620 | Loss: 0.03214506059885025 | Test Loss: 0.050182439386844635\n",
      "OrderedDict({'weight': tensor([0.5617]), 'bias': tensor([0.3804])})\n",
      "Epoch 630 | Loss: 0.03174233436584473 | Test Loss: 0.04955814778804779\n",
      "OrderedDict({'weight': tensor([0.5634]), 'bias': tensor([0.3794])})\n",
      "Epoch 640 | Loss: 0.0313396118581295 | Test Loss: 0.04893386736512184\n",
      "OrderedDict({'weight': tensor([0.5652]), 'bias': tensor([0.3784])})\n",
      "Epoch 650 | Loss: 0.030936885625123978 | Test Loss: 0.048309583216905594\n",
      "OrderedDict({'weight': tensor([0.5669]), 'bias': tensor([0.3774])})\n",
      "Epoch 660 | Loss: 0.0305341724306345 | Test Loss: 0.04768531024456024\n",
      "OrderedDict({'weight': tensor([0.5687]), 'bias': tensor([0.3764])})\n",
      "Epoch 670 | Loss: 0.030131448060274124 | Test Loss: 0.04706104099750519\n",
      "OrderedDict({'weight': tensor([0.5704]), 'bias': tensor([0.3754])})\n",
      "Epoch 680 | Loss: 0.029728729277849197 | Test Loss: 0.04643675312399864\n",
      "OrderedDict({'weight': tensor([0.5721]), 'bias': tensor([0.3744])})\n",
      "Epoch 690 | Loss: 0.029326001182198524 | Test Loss: 0.04581247270107269\n",
      "OrderedDict({'weight': tensor([0.5739]), 'bias': tensor([0.3734])})\n",
      "Epoch 700 | Loss: 0.0289232786744833 | Test Loss: 0.04518819600343704\n",
      "OrderedDict({'weight': tensor([0.5756]), 'bias': tensor([0.3724])})\n",
      "Epoch 710 | Loss: 0.02852056547999382 | Test Loss: 0.04456391558051109\n",
      "OrderedDict({'weight': tensor([0.5774]), 'bias': tensor([0.3714])})\n",
      "Epoch 720 | Loss: 0.028117835521697998 | Test Loss: 0.04393964633345604\n",
      "OrderedDict({'weight': tensor([0.5791]), 'bias': tensor([0.3704])})\n",
      "Epoch 730 | Loss: 0.027715111151337624 | Test Loss: 0.04331536591053009\n",
      "OrderedDict({'weight': tensor([0.5808]), 'bias': tensor([0.3694])})\n",
      "Epoch 740 | Loss: 0.0273123886436224 | Test Loss: 0.042691078037023544\n",
      "OrderedDict({'weight': tensor([0.5826]), 'bias': tensor([0.3684])})\n",
      "Epoch 750 | Loss: 0.026909660547971725 | Test Loss: 0.0420667938888073\n",
      "OrderedDict({'weight': tensor([0.5843]), 'bias': tensor([0.3674])})\n",
      "Epoch 760 | Loss: 0.026506949216127396 | Test Loss: 0.041442520916461945\n",
      "OrderedDict({'weight': tensor([0.5861]), 'bias': tensor([0.3664])})\n",
      "Epoch 770 | Loss: 0.026104222983121872 | Test Loss: 0.04081825166940689\n",
      "OrderedDict({'weight': tensor([0.5878]), 'bias': tensor([0.3654])})\n",
      "Epoch 780 | Loss: 0.025701504200696945 | Test Loss: 0.04019396752119064\n",
      "OrderedDict({'weight': tensor([0.5895]), 'bias': tensor([0.3644])})\n",
      "Epoch 790 | Loss: 0.02529877796769142 | Test Loss: 0.039569683372974396\n",
      "OrderedDict({'weight': tensor([0.5913]), 'bias': tensor([0.3634])})\n",
      "Epoch 800 | Loss: 0.024896055459976196 | Test Loss: 0.038945406675338745\n",
      "OrderedDict({'weight': tensor([0.5930]), 'bias': tensor([0.3624])})\n",
      "Epoch 810 | Loss: 0.02449333854019642 | Test Loss: 0.038321129977703094\n",
      "OrderedDict({'weight': tensor([0.5948]), 'bias': tensor([0.3614])})\n",
      "Epoch 820 | Loss: 0.024090614169836044 | Test Loss: 0.03769686073064804\n",
      "OrderedDict({'weight': tensor([0.5965]), 'bias': tensor([0.3604])})\n",
      "Epoch 830 | Loss: 0.02368788979947567 | Test Loss: 0.03707257658243179\n",
      "OrderedDict({'weight': tensor([0.5982]), 'bias': tensor([0.3594])})\n",
      "Epoch 840 | Loss: 0.023285165429115295 | Test Loss: 0.036448292434215546\n",
      "OrderedDict({'weight': tensor([0.6000]), 'bias': tensor([0.3584])})\n",
      "Epoch 850 | Loss: 0.02288244105875492 | Test Loss: 0.0358240082859993\n",
      "OrderedDict({'weight': tensor([0.6017]), 'bias': tensor([0.3574])})\n",
      "Epoch 860 | Loss: 0.022479724138975143 | Test Loss: 0.035199735313653946\n",
      "OrderedDict({'weight': tensor([0.6035]), 'bias': tensor([0.3564])})\n",
      "Epoch 870 | Loss: 0.02207699976861477 | Test Loss: 0.03457546606659889\n",
      "OrderedDict({'weight': tensor([0.6052]), 'bias': tensor([0.3554])})\n",
      "Epoch 880 | Loss: 0.021674280986189842 | Test Loss: 0.033951178193092346\n",
      "OrderedDict({'weight': tensor([0.6069]), 'bias': tensor([0.3544])})\n",
      "Epoch 890 | Loss: 0.02127155289053917 | Test Loss: 0.0333268940448761\n",
      "OrderedDict({'weight': tensor([0.6087]), 'bias': tensor([0.3534])})\n",
      "Epoch 900 | Loss: 0.020868830382823944 | Test Loss: 0.03270261734724045\n",
      "OrderedDict({'weight': tensor([0.6104]), 'bias': tensor([0.3524])})\n",
      "Epoch 910 | Loss: 0.020466115325689316 | Test Loss: 0.0320783406496048\n",
      "OrderedDict({'weight': tensor([0.6122]), 'bias': tensor([0.3514])})\n",
      "Epoch 920 | Loss: 0.02006339281797409 | Test Loss: 0.031454067677259445\n",
      "OrderedDict({'weight': tensor([0.6139]), 'bias': tensor([0.3504])})\n",
      "Epoch 930 | Loss: 0.019660666584968567 | Test Loss: 0.030829790979623795\n",
      "OrderedDict({'weight': tensor([0.6156]), 'bias': tensor([0.3494])})\n",
      "Epoch 940 | Loss: 0.019257942214608192 | Test Loss: 0.030205506831407547\n",
      "OrderedDict({'weight': tensor([0.6174]), 'bias': tensor([0.3484])})\n",
      "Epoch 950 | Loss: 0.018855217844247818 | Test Loss: 0.029581218957901\n",
      "OrderedDict({'weight': tensor([0.6191]), 'bias': tensor([0.3474])})\n",
      "Epoch 960 | Loss: 0.01845250092446804 | Test Loss: 0.02895694598555565\n",
      "OrderedDict({'weight': tensor([0.6209]), 'bias': tensor([0.3464])})\n",
      "Epoch 970 | Loss: 0.018049778416752815 | Test Loss: 0.028332680463790894\n",
      "OrderedDict({'weight': tensor([0.6226]), 'bias': tensor([0.3454])})\n",
      "Epoch 980 | Loss: 0.01764705777168274 | Test Loss: 0.0277083907276392\n",
      "OrderedDict({'weight': tensor([0.6243]), 'bias': tensor([0.3444])})\n",
      "Epoch 990 | Loss: 0.017244331538677216 | Test Loss: 0.02708410657942295\n",
      "OrderedDict({'weight': tensor([0.6261]), 'bias': tensor([0.3434])})\n",
      "Epoch 1000 | Loss: 0.016841603443026543 | Test Loss: 0.02645983174443245\n",
      "OrderedDict({'weight': tensor([0.6278]), 'bias': tensor([0.3424])})\n",
      "Epoch 1010 | Loss: 0.016438892111182213 | Test Loss: 0.02583555318415165\n",
      "OrderedDict({'weight': tensor([0.6296]), 'bias': tensor([0.3414])})\n",
      "Epoch 1020 | Loss: 0.01603616774082184 | Test Loss: 0.025211280211806297\n",
      "OrderedDict({'weight': tensor([0.6313]), 'bias': tensor([0.3404])})\n",
      "Epoch 1030 | Loss: 0.015633445233106613 | Test Loss: 0.024587001651525497\n",
      "OrderedDict({'weight': tensor([0.6330]), 'bias': tensor([0.3394])})\n",
      "Epoch 1040 | Loss: 0.015230718068778515 | Test Loss: 0.02396271750330925\n",
      "OrderedDict({'weight': tensor([0.6348]), 'bias': tensor([0.3384])})\n",
      "Epoch 1050 | Loss: 0.014827996492385864 | Test Loss: 0.023338431492447853\n",
      "OrderedDict({'weight': tensor([0.6365]), 'bias': tensor([0.3374])})\n",
      "Epoch 1060 | Loss: 0.014425275847315788 | Test Loss: 0.0227141585201025\n",
      "OrderedDict({'weight': tensor([0.6383]), 'bias': tensor([0.3364])})\n",
      "Epoch 1070 | Loss: 0.014022556133568287 | Test Loss: 0.022089892998337746\n",
      "OrderedDict({'weight': tensor([0.6400]), 'bias': tensor([0.3354])})\n",
      "Epoch 1080 | Loss: 0.013619834557175636 | Test Loss: 0.02146560326218605\n",
      "OrderedDict({'weight': tensor([0.6417]), 'bias': tensor([0.3344])})\n",
      "Epoch 1090 | Loss: 0.013217106461524963 | Test Loss: 0.020841319113969803\n",
      "OrderedDict({'weight': tensor([0.6435]), 'bias': tensor([0.3334])})\n",
      "Epoch 1100 | Loss: 0.01281438022851944 | Test Loss: 0.020217042416334152\n",
      "OrderedDict({'weight': tensor([0.6452]), 'bias': tensor([0.3324])})\n",
      "Epoch 1110 | Loss: 0.01241166703402996 | Test Loss: 0.0195927657186985\n",
      "OrderedDict({'weight': tensor([0.6470]), 'bias': tensor([0.3314])})\n",
      "Epoch 1120 | Loss: 0.012008944526314735 | Test Loss: 0.01896849274635315\n",
      "OrderedDict({'weight': tensor([0.6487]), 'bias': tensor([0.3304])})\n",
      "Epoch 1130 | Loss: 0.011606222949922085 | Test Loss: 0.018344219774007797\n",
      "OrderedDict({'weight': tensor([0.6504]), 'bias': tensor([0.3294])})\n",
      "Epoch 1140 | Loss: 0.011203493922948837 | Test Loss: 0.017719930037856102\n",
      "OrderedDict({'weight': tensor([0.6522]), 'bias': tensor([0.3284])})\n",
      "Epoch 1150 | Loss: 0.010800773277878761 | Test Loss: 0.017095644026994705\n",
      "OrderedDict({'weight': tensor([0.6539]), 'bias': tensor([0.3274])})\n",
      "Epoch 1160 | Loss: 0.01039805170148611 | Test Loss: 0.016471371054649353\n",
      "OrderedDict({'weight': tensor([0.6557]), 'bias': tensor([0.3264])})\n",
      "Epoch 1170 | Loss: 0.00999533198773861 | Test Loss: 0.015847105532884598\n",
      "OrderedDict({'weight': tensor([0.6574]), 'bias': tensor([0.3254])})\n",
      "Epoch 1180 | Loss: 0.009592609480023384 | Test Loss: 0.015222820453345776\n",
      "OrderedDict({'weight': tensor([0.6591]), 'bias': tensor([0.3244])})\n",
      "Epoch 1190 | Loss: 0.00918988324701786 | Test Loss: 0.01459853071719408\n",
      "OrderedDict({'weight': tensor([0.6609]), 'bias': tensor([0.3234])})\n",
      "Epoch 1200 | Loss: 0.008787157014012337 | Test Loss: 0.013974254950881004\n",
      "OrderedDict({'weight': tensor([0.6626]), 'bias': tensor([0.3224])})\n",
      "Epoch 1210 | Loss: 0.008384542539715767 | Test Loss: 0.01333518885076046\n",
      "OrderedDict({'weight': tensor([0.6643]), 'bias': tensor([0.3214])})\n",
      "Epoch 1220 | Loss: 0.007982032373547554 | Test Loss: 0.012681323103606701\n",
      "OrderedDict({'weight': tensor([0.6660]), 'bias': tensor([0.3203])})\n",
      "Epoch 1230 | Loss: 0.007579525467008352 | Test Loss: 0.01202746294438839\n",
      "OrderedDict({'weight': tensor([0.6678]), 'bias': tensor([0.3193])})\n",
      "Epoch 1240 | Loss: 0.007176809012889862 | Test Loss: 0.01140318252146244\n",
      "OrderedDict({'weight': tensor([0.6695]), 'bias': tensor([0.3183])})\n",
      "Epoch 1250 | Loss: 0.0067742979153990746 | Test Loss: 0.010749325156211853\n",
      "OrderedDict({'weight': tensor([0.6712]), 'bias': tensor([0.3172])})\n",
      "Epoch 1260 | Loss: 0.006371800787746906 | Test Loss: 0.010095452889800072\n",
      "OrderedDict({'weight': tensor([0.6729]), 'bias': tensor([0.3162])})\n",
      "Epoch 1270 | Loss: 0.005969068501144648 | Test Loss: 0.0094711659476161\n",
      "OrderedDict({'weight': tensor([0.6747]), 'bias': tensor([0.3152])})\n",
      "Epoch 1280 | Loss: 0.005566566251218319 | Test Loss: 0.008817312307655811\n",
      "OrderedDict({'weight': tensor([0.6764]), 'bias': tensor([0.3141])})\n",
      "Epoch 1290 | Loss: 0.005164055619388819 | Test Loss: 0.008163446560502052\n",
      "OrderedDict({'weight': tensor([0.6781]), 'bias': tensor([0.3131])})\n",
      "Epoch 1300 | Loss: 0.0047613405622541904 | Test Loss: 0.0075391680002212524\n",
      "OrderedDict({'weight': tensor([0.6798]), 'bias': tensor([0.3121])})\n",
      "Epoch 1310 | Loss: 0.0043588257394731045 | Test Loss: 0.006885298993438482\n",
      "OrderedDict({'weight': tensor([0.6815]), 'bias': tensor([0.3110])})\n",
      "Epoch 1320 | Loss: 0.003956153988838196 | Test Loss: 0.006231436040252447\n",
      "OrderedDict({'weight': tensor([0.6832]), 'bias': tensor([0.3100])})\n",
      "Epoch 1330 | Loss: 0.003553602145984769 | Test Loss: 0.005607160739600658\n",
      "OrderedDict({'weight': tensor([0.6850]), 'bias': tensor([0.3090])})\n",
      "Epoch 1340 | Loss: 0.003151092678308487 | Test Loss: 0.004953301046043634\n",
      "OrderedDict({'weight': tensor([0.6867]), 'bias': tensor([0.3079])})\n",
      "Epoch 1350 | Loss: 0.0027483694721013308 | Test Loss: 0.004329022951424122\n",
      "OrderedDict({'weight': tensor([0.6884]), 'bias': tensor([0.3069])})\n",
      "Epoch 1360 | Loss: 0.0023458637297153473 | Test Loss: 0.0036751539446413517\n",
      "OrderedDict({'weight': tensor([0.6901]), 'bias': tensor([0.3059])})\n",
      "Epoch 1370 | Loss: 0.001943363226018846 | Test Loss: 0.0030212937854230404\n",
      "OrderedDict({'weight': tensor([0.6918]), 'bias': tensor([0.3048])})\n",
      "Epoch 1380 | Loss: 0.0015406400198116899 | Test Loss: 0.0023970038164407015\n",
      "OrderedDict({'weight': tensor([0.6936]), 'bias': tensor([0.3038])})\n",
      "Epoch 1390 | Loss: 0.0011381261283531785 | Test Loss: 0.0017431527376174927\n",
      "OrderedDict({'weight': tensor([0.6953]), 'bias': tensor([0.3028])})\n",
      "Epoch 1400 | Loss: 0.0007356181740760803 | Test Loss: 0.0010892779100686312\n",
      "OrderedDict({'weight': tensor([0.6970]), 'bias': tensor([0.3017])})\n",
      "Epoch 1410 | Loss: 0.00033290236024186015 | Test Loss: 0.00046499670133925974\n",
      "OrderedDict({'weight': tensor([0.6987]), 'bias': tensor([0.3007])})\n",
      "Epoch 1420 | Loss: 0.001053513609804213 | Test Loss: 0.00035738051519729197\n",
      "OrderedDict({'weight': tensor([0.6995]), 'bias': tensor([0.3005])})\n",
      "Epoch 1430 | Loss: 0.001053513609804213 | Test Loss: 0.00035738051519729197\n",
      "OrderedDict({'weight': tensor([0.6995]), 'bias': tensor([0.3005])})\n",
      "Epoch 1440 | Loss: 0.001053513609804213 | Test Loss: 0.00035738051519729197\n",
      "OrderedDict({'weight': tensor([0.6995]), 'bias': tensor([0.3005])})\n",
      "Epoch 1450 | Loss: 0.001053513609804213 | Test Loss: 0.00035738051519729197\n",
      "OrderedDict({'weight': tensor([0.6995]), 'bias': tensor([0.3005])})\n",
      "Epoch 1460 | Loss: 0.001053513609804213 | Test Loss: 0.00035738051519729197\n",
      "OrderedDict({'weight': tensor([0.6995]), 'bias': tensor([0.3005])})\n",
      "Epoch 1470 | Loss: 0.001053513609804213 | Test Loss: 0.00035738051519729197\n",
      "OrderedDict({'weight': tensor([0.6995]), 'bias': tensor([0.3005])})\n",
      "Epoch 1480 | Loss: 0.001053513609804213 | Test Loss: 0.00035738051519729197\n",
      "OrderedDict({'weight': tensor([0.6995]), 'bias': tensor([0.3005])})\n",
      "Epoch 1490 | Loss: 0.001053513609804213 | Test Loss: 0.00035738051519729197\n",
      "OrderedDict({'weight': tensor([0.6995]), 'bias': tensor([0.3005])})\n"
     ]
    }
   ],
   "execution_count": 92
  },
  {
   "metadata": {
    "ExecuteTime": {
     "end_time": "2025-07-16T04:08:39.836737Z",
     "start_time": "2025-07-16T04:08:39.832916Z"
    }
   },
   "cell_type": "code",
   "source": [
    "with torch.inference_mode():\n",
    "    y_preds_new = model_0(X_test)\n",
    "y_preds_new"
   ],
   "id": "fe0e9e4308452cc6",
   "outputs": [
    {
     "data": {
      "text/plain": [
       "tensor([[0.3834],\n",
       "        [0.3554],\n",
       "        [0.9146],\n",
       "        [0.3414],\n",
       "        [0.4673],\n",
       "        [0.5232],\n",
       "        [0.3694],\n",
       "        [0.7468],\n",
       "        [0.6210],\n",
       "        [0.2995]])"
      ]
     },
     "execution_count": 93,
     "metadata": {},
     "output_type": "execute_result"
    }
   ],
   "execution_count": 93
  },
  {
   "metadata": {
    "ExecuteTime": {
     "end_time": "2025-07-16T04:09:27.352648Z",
     "start_time": "2025-07-16T04:09:27.247058Z"
    }
   },
   "cell_type": "code",
   "source": [
    "# Plot the loss curves\n",
    "plt.plot(epoch_count, loss_values, label=\"Testing loss\")\n",
    "plt.plot(epoch_count, train_loss_values, label=\"Training loss\")\n",
    "plt.legend()\n",
    "plt.show()"
   ],
   "id": "848e75fe01bae978",
   "outputs": [
    {
     "data": {
      "text/plain": [
       "<Figure size 640x480 with 1 Axes>"
      ],
      "image/png": "[encoded data removed]"
     },
     "metadata": {},
     "output_type": "display_data"
    }
   ],
   "execution_count": 99
  },
  {
   "metadata": {
    "ExecuteTime": {
     "end_time": "2025-07-16T04:08:39.975271Z",
     "start_time": "2025-07-16T04:08:39.972010Z"
    }
   },
   "cell_type": "code",
   "source": "model_0.state_dict()",
   "id": "478e93c79154fc45",
   "outputs": [
    {
     "data": {
      "text/plain": [
       "OrderedDict([('weight', tensor([0.6990])), ('bias', tensor([0.2995]))])"
      ]
     },
     "execution_count": 95,
     "metadata": {},
     "output_type": "execute_result"
    }
   ],
   "execution_count": 95
  },
  {
   "metadata": {
    "ExecuteTime": {
     "end_time": "2025-07-16T04:08:40.004052Z",
     "start_time": "2025-07-16T04:08:40.001037Z"
    }
   },
   "cell_type": "code",
   "source": "weight, bias",
   "id": "a990577c505b6178",
   "outputs": [
    {
     "data": {
      "text/plain": [
       "(0.7, 0.3)"
      ]
     },
     "execution_count": 96,
     "metadata": {},
     "output_type": "execute_result"
    }
   ],
   "execution_count": 96
  },
  {
   "metadata": {
    "ExecuteTime": {
     "end_time": "2025-07-16T04:08:40.125970Z",
     "start_time": "2025-07-16T04:08:40.031180Z"
    }
   },
   "cell_type": "code",
   "source": "plot_predictions(predictions=y_preds)",
   "id": "f8f5ea6c715b6356",
   "outputs": [
    {
     "data": {
      "text/plain": [
       "<Figure size 1200x800 with 1 Axes>"
      ],
      "image/png": "[encoded data removed]"
     },
     "metadata": {},
     "output_type": "display_data"
    }
   ],
   "execution_count": 97
  },
  {
   "metadata": {
    "ExecuteTime": {
     "end_time": "2025-07-16T04:08:40.238357Z",
     "start_time": "2025-07-16T04:08:40.138117Z"
    }
   },
   "cell_type": "code",
   "source": "plot_predictions(predictions=y_preds_new)",
   "id": "bdf41ba61c8c96d9",
   "outputs": [
    {
     "data": {
      "text/plain": [
       "<Figure size 1200x800 with 1 Axes>"
      ],
      "image/png": "[encoded data removed]"
     },
     "metadata": {},
     "output_type": "display_data"
    }
   ],
   "execution_count": 98
  },
  {
   "metadata": {},
   "cell_type": "markdown",
   "source": [
    "## Saving a model in PyTorch\n",
    "There are three main methods you should about for saving and loading models in\n",
    "PyTorch.\n",
    "1. `torch.save()` - allows you to save a PyTorch object in Python's pickle format\n",
    "2. `torch.load()` - allows you to load a saved PyTorch object\n",
    "3. `torch.nn.Module.load_state_dict)` - this allows loading a model's saved state dictionary\n",
    "\n",
    "Pytorch save and load code tutorial and extra-curriculum - https://docs.pytorch.org/tutorials/beginner/saving_loading_models.html"
   ],
   "id": "a861fe6fc21ea2cd"
  },
  {
   "metadata": {
    "ExecuteTime": {
     "end_time": "2025-07-16T04:34:12.429193Z",
     "start_time": "2025-07-16T04:34:12.325106Z"
    }
   },
   "cell_type": "code",
   "source": [
    "# Saving our PyTorch model\n",
    "from pathlib import Path\n",
    "\n",
    "# 1. Create models directory\n",
    "MODEL_PATH = Path(\"models\")\n",
    "MODEL_PATH.mkdir(parents=True, exist_ok=True)\n",
    "\n",
    "# 2. Create a model save path\n",
    "MODEL_NAME = \"01_pytorch_workflow_video.pth\"\n",
    "MODEL_SAVE_PATH = MODEL_PATH / MODEL_NAME\n",
    "\n",
    "# 3. Save the model state dict\n",
    "print(f\"Saving model to {MODEL_SAVE_PATH}\")\n",
    "torch.save(model_0.state_dict(), MODEL_SAVE_PATH)"
   ],
   "id": "3ec1f4624e1e4b78",
   "outputs": [
    {
     "name": "stdout",
     "output_type": "stream",
     "text": [
      "Saving model to models/01_pytorch_workflow_video.pth\n"
     ]
    }
   ],
   "execution_count": 101
  },
  {
   "metadata": {
    "ExecuteTime": {
     "end_time": "2025-07-16T04:35:23.143753Z",
     "start_time": "2025-07-16T04:35:22.980844Z"
    }
   },
   "cell_type": "code",
   "source": "",
   "id": "26875a016cc9e1b8",
   "outputs": [
    {
     "name": "stdout",
     "output_type": "stream",
     "text": [
      "total 600\r\n",
      "-rw-r--r--@ 1 ridamansour  staff   11978 Jun 29 22:29 00_pytorch_fundamentals_exercises.ipynb\r\n",
      "-rw-r--r--@ 1 ridamansour  staff   79479 Jun 29 22:15 00_pytorch_fundimentals.ipynb\r\n",
      "-rw-r--r--@ 1 ridamansour  staff  206023 Jul 16 07:34 01_pytorch_workflow_video.ipynb\r\n",
      "drwxr-xr-x@ 3 ridamansour  staff      96 Jul 16 07:34 \u001B[34mmodels\u001B[m\u001B[m\r\n",
      "-rw-r--r--@ 1 ridamansour  staff       1 Jun 29 07:35 Readme.md\r\n"
     ]
    }
   ],
   "execution_count": 105
  },
  {
   "metadata": {},
   "cell_type": "code",
   "outputs": [],
   "execution_count": null,
   "source": "",
   "id": "5b28defda0e058d4"
  }
 ],
 "metadata": {
  "kernelspec": {
   "display_name": "Python 3",
   "language": "python",
   "name": "python3"
  },
  "language_info": {
   "codemirror_mode": {
    "name": "ipython",
    "version": 2
   },
   "file_extension": ".py",
   "mimetype": "text/x-python",
   "name": "python",
   "nbconvert_exporter": "python",
   "pygments_lexer": "ipython2",
   "version": "2.7.6"
  }
 },
 "nbformat": 4,
 "nbformat_minor": 5
}
