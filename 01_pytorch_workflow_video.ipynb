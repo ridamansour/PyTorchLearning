{
 "cells": [
  {
   "metadata": {},
   "cell_type": "markdown",
   "source": [
    "# PyTorch Workflow\n",
    "\n",
    "Let's explore an example PyTorch end-to-end workflow\n",
    "\n",
    "Resources:\n",
    "* Ground truth notebook - https://github.com/mrdbourke/pytorch-deep-learning/blob/main/01_pytorch_workflow.ipynb\n",
    "* Book version of notebook - https://www.learnpytorch.io/01_pytorch_workflow/\n",
    "* Ask a question - https://github.com/mrdbourke/pytorch-deep-learning/discussions\n"
   ],
   "id": "b2945a7c5d332531"
  },
  {
   "cell_type": "code",
   "id": "initial_id",
   "metadata": {
    "collapsed": true,
    "ExecuteTime": {
     "end_time": "2025-07-16T06:30:12.041867Z",
     "start_time": "2025-07-16T06:30:12.031277Z"
    }
   },
   "source": [
    "from statistics import LinearRegression\n",
    "\n",
    "what_were_covering = {\n",
    "    1: \"data (prepare and load)\",\n",
    "    2: \"build model\",\n",
    "    3: \"fitting the model to data (training)\",\n",
    "    4: \"making predictions and evaluating model (inference)\",\n",
    "    5: \"saving and loading a model\",\n",
    "    6: \"putting it all together\"\n",
    "}\n",
    "what_were_covering"
   ],
   "outputs": [
    {
     "data": {
      "text/plain": [
       "{1: 'data (prepare and load)',\n",
       " 2: 'build model',\n",
       " 3: 'fitting the model to data (training)',\n",
       " 4: 'making predictions and evaluating model (inference)',\n",
       " 5: 'saving and loading a model',\n",
       " 6: 'putting it all together'}"
      ]
     },
     "execution_count": 1,
     "metadata": {},
     "output_type": "execute_result"
    }
   ],
   "execution_count": 1
  },
  {
   "metadata": {
    "ExecuteTime": {
     "end_time": "2025-07-16T06:30:16.543071Z",
     "start_time": "2025-07-16T06:30:12.314620Z"
    }
   },
   "cell_type": "code",
   "source": [
    "import torch\n",
    "from torch import nn # nn contains all of PyTorch's building blocks for neural networks\n",
    "from sklearn.model_selection import train_test_split\n",
    "import matplotlib.pyplot as plt\n",
    "\n",
    "# Check PyTorch version\n",
    "torch.__version__"
   ],
   "id": "22ba9fa3ca7701a3",
   "outputs": [
    {
     "data": {
      "text/plain": [
       "'2.7.1'"
      ]
     },
     "execution_count": 2,
     "metadata": {},
     "output_type": "execute_result"
    }
   ],
   "execution_count": 2
  },
  {
   "metadata": {},
   "cell_type": "markdown",
   "source": [
    "## 1. Data (preparing and loading)\n",
    "\n",
    "Data can be almost anything... in machine learning.\n",
    "* Excel spreadsheet\n",
    "* Images of any kind\n",
    "* Videos (YouTube has lots of data)\n",
    "* Audio like songs or podcasts\n",
    "* DNA\n",
    "* Text\n",
    "\n",
    "Machine Learning is a game of two parts:\n",
    "1. Get data into numerical representation.\n",
    "2. Build a model to learn patterns in that numerical representation.\n",
    "\n",
    "To showcase this, let's create some *known* data using the linear regression formula.\n",
    "\n",
    "We'll use a linear regression formula to make a straight line with known **parameters**."
   ],
   "id": "7ec94810e97649db"
  },
  {
   "metadata": {
    "ExecuteTime": {
     "end_time": "2025-07-16T06:30:17.418223Z",
     "start_time": "2025-07-16T06:30:17.390403Z"
    }
   },
   "cell_type": "code",
   "source": [
    "# Create *known* parameters\n",
    "weight = 0.7\n",
    "bias = 0.3\n",
    "\n",
    "# Create\n",
    "start = 0\n",
    "end = 1\n",
    "step = 0.02\n",
    "X = torch.arange(start, end, step).unsqueeze(1)\n",
    "y = weight*X + bias\n",
    "\n",
    "X[:10], y[:10]"
   ],
   "id": "9b890d3a91b0bfc2",
   "outputs": [
    {
     "data": {
      "text/plain": [
       "(tensor([[0.0000],\n",
       "         [0.0200],\n",
       "         [0.0400],\n",
       "         [0.0600],\n",
       "         [0.0800],\n",
       "         [0.1000],\n",
       "         [0.1200],\n",
       "         [0.1400],\n",
       "         [0.1600],\n",
       "         [0.1800]]),\n",
       " tensor([[0.3000],\n",
       "         [0.3140],\n",
       "         [0.3280],\n",
       "         [0.3420],\n",
       "         [0.3560],\n",
       "         [0.3700],\n",
       "         [0.3840],\n",
       "         [0.3980],\n",
       "         [0.4120],\n",
       "         [0.4260]]))"
      ]
     },
     "execution_count": 3,
     "metadata": {},
     "output_type": "execute_result"
    }
   ],
   "execution_count": 3
  },
  {
   "metadata": {},
   "cell_type": "markdown",
   "source": [
    "### Splitting data into training and test sets\n",
    "**(one of the most important concepts in machine learning in general)**\n",
    "\n",
    "Let's create a training and test set with our data"
   ],
   "id": "fc0ed03d5ce931ca"
  },
  {
   "metadata": {
    "ExecuteTime": {
     "end_time": "2025-07-16T06:30:17.709753Z",
     "start_time": "2025-07-16T06:30:17.661591Z"
    }
   },
   "cell_type": "code",
   "source": [
    "# Create a train/test split\n",
    "X_train, X_test, y_train, y_test = train_test_split(X, y, train_size=0.8)\n",
    "len(X_train), len(y_train), len(X_test), len(y_test)"
   ],
   "id": "76cbd196dd4b176c",
   "outputs": [
    {
     "data": {
      "text/plain": [
       "(40, 40, 10, 10)"
      ]
     },
     "execution_count": 4,
     "metadata": {},
     "output_type": "execute_result"
    }
   ],
   "execution_count": 4
  },
  {
   "metadata": {},
   "cell_type": "markdown",
   "source": [
    "How might we better visualize our data?\n",
    "\n",
    "This is where the data explorer's motto comes in!\n",
    "\n",
    "\"Visualize, visualize, visualize!\""
   ],
   "id": "29b471b2f623ce85"
  },
  {
   "metadata": {
    "ExecuteTime": {
     "end_time": "2025-07-16T06:37:47.095066Z",
     "start_time": "2025-07-16T06:37:46.977738Z"
    }
   },
   "cell_type": "code",
   "source": [
    "def plot_predictions(train_data=X_train,\n",
    "                     train_labels=y_train,\n",
    "                     test_data=X_test,\n",
    "                     test_labels=y_test,\n",
    "                     predictions=None):\n",
    "    \"\"\"\n",
    "    Plots training data, test data, and compare predictions.\n",
    "    :param train_data:\n",
    "    :param train_labels:\n",
    "    :param test_data:\n",
    "    :param test_labels:\n",
    "    :param predictions:\n",
    "    :return:\n",
    "    \"\"\"\n",
    "    plt.figure(figsize=(12, 8))\n",
    "\n",
    "    # Plot training data in blue\n",
    "    plt.scatter(train_data, train_labels, c=\"c\", s=20, label=\"Training data\")\n",
    "\n",
    "    # Plot test data in green\n",
    "    plt.scatter(test_data, test_labels, c=\"g\", s=20, label=\"Testing data\")\n",
    "\n",
    "    # Are there predictions?\n",
    "    if predictions is not None:\n",
    "        # Plot the predictions if they exist\n",
    "        plt.scatter(test_data, predictions, c=\"r\", s=20, label=\"Predictions\")\n",
    "\n",
    "    # Show the legend\n",
    "    plt.legend(prop={'size': 8})\n",
    "plot_predictions()"
   ],
   "id": "143b1371c1b6a4ba",
   "outputs": [
    {
     "data": {
      "text/plain": [
       "<Figure size 1200x800 with 1 Axes>"
      ],
      "image/png": "[encoded data removed]"
     },
     "metadata": {},
     "output_type": "display_data"
    }
   ],
   "execution_count": 49
  },
  {
   "metadata": {},
   "cell_type": "markdown",
   "source": [
    "## 2. Build model\n",
    "\n",
    "Our first PyTorch model!!\n",
    "\n",
    "What our model does:\n",
    "* Starty with random values (weight and bias)\n",
    "* Look at training data and adjust the random values (the weight and bias values we used to create the data)\n",
    "\n",
    "How does it do so?\n",
    "\n",
    "Through two main algorithms:\n",
    "1. Gradient descent - https://youtu.be/lHZwWFHWa-w\n",
    "2. Backpropagation - https://youtu.be/llg3gGewQ5U"
   ],
   "id": "8964da189e52b861"
  },
  {
   "metadata": {
    "ExecuteTime": {
     "end_time": "2025-07-16T06:30:18.131295Z",
     "start_time": "2025-07-16T06:30:18.126524Z"
    }
   },
   "cell_type": "code",
   "source": [
    "# Create linear regression model class\n",
    "class LinearRegressionModel(nn.Module): # <- almost everything in\n",
    "    def __init__(self):\n",
    "        super().__init__()\n",
    "        self.weight = nn.Parameter(torch.randn(1, requires_grad=True, dtype=torch.float))\n",
    "        self.bias = nn.Parameter(torch.randn(1, requires_grad=True, dtype=torch.float))\n",
    "\n",
    "    # Forward method to define the computation in the model\n",
    "    def forward(self, x: torch.Tensor) -> torch.Tensor: # <- \"x\" is the input data\n",
    "        return x * self.weight + self.bias # this is the linear regression formula"
   ],
   "id": "7a5cb1f8a51737a1",
   "outputs": [],
   "execution_count": 6
  },
  {
   "metadata": {},
   "cell_type": "markdown",
   "source": [
    "### PyTorch model building essentials\n",
    "\n",
    "* torch.nn - contains all the buildings for computational graphs (a neural network can be considered a computational graph)\n",
    "* torch.nn.Parameter - what parameters should our model try and learn, often a PyTorch layer from torch.nn will set these for us\n",
    "* torch.nn.Module - The base class for all neural network modules, if you subclass it, you should overwrite forward()\n",
    "* torch.optim - this where the optimizers in PyTorch live, they will help with gradient descent\n",
    "* def forward() - All nn.Module subclasses require you to overwrite forward(), this method defines what happens in the forward computation\n",
    "\n",
    "See more of these essential modules via PyTorch cheatsheet - https://pytorch.org/tutorials/beginner/ptcheat.html"
   ],
   "id": "532bbad07b2373af"
  },
  {
   "metadata": {},
   "cell_type": "markdown",
   "source": [
    "### Checking the contents of our PyTorch model\n",
    "\n",
    "Now we've created a model, let's see what's inside...\n",
    "\n",
    "So we can check our model parameters or what's inside our model using `.parameters()`."
   ],
   "id": "ac14d8f227aa3cf5"
  },
  {
   "metadata": {
    "ExecuteTime": {
     "end_time": "2025-07-16T06:30:18.228938Z",
     "start_time": "2025-07-16T06:30:18.175874Z"
    }
   },
   "cell_type": "code",
   "source": [
    "# Create a random seed\n",
    "torch.manual_seed(42)\n",
    "\n",
    "# Create an instance of the model (this is a subclass of nn.Module)\n",
    "model_0 = LinearRegressionModel()\n",
    "\n",
    "# Check out the parameters\n",
    "list(model_0.parameters())"
   ],
   "id": "e81c50f9c00061b5",
   "outputs": [
    {
     "data": {
      "text/plain": [
       "[Parameter containing:\n",
       " tensor([0.3367], requires_grad=True),\n",
       " Parameter containing:\n",
       " tensor([0.1288], requires_grad=True)]"
      ]
     },
     "execution_count": 7,
     "metadata": {},
     "output_type": "execute_result"
    }
   ],
   "execution_count": 7
  },
  {
   "metadata": {
    "ExecuteTime": {
     "end_time": "2025-07-16T06:30:18.401366Z",
     "start_time": "2025-07-16T06:30:18.379130Z"
    }
   },
   "cell_type": "code",
   "source": [
    "# List named parameters\n",
    "model_0.state_dict()"
   ],
   "id": "7f31660f012e574d",
   "outputs": [
    {
     "data": {
      "text/plain": [
       "OrderedDict([('weight', tensor([0.3367])), ('bias', tensor([0.1288]))])"
      ]
     },
     "execution_count": 8,
     "metadata": {},
     "output_type": "execute_result"
    }
   ],
   "execution_count": 8
  },
  {
   "metadata": {},
   "cell_type": "markdown",
   "source": [
    "### Making prediction using `torch.inference_mode()`\n",
    "\n",
    "To check our model's predictive power, let's see how well it predicts `y_test` based on `X_test`.\n",
    "\n",
    "When we pass data through our model, it's going to run through the `forward()` method."
   ],
   "id": "285920672cb27203"
  },
  {
   "metadata": {
    "ExecuteTime": {
     "end_time": "2025-07-16T06:30:18.467404Z",
     "start_time": "2025-07-16T06:30:18.458095Z"
    }
   },
   "cell_type": "code",
   "source": "X_test, y_test",
   "id": "a85131111e7da061",
   "outputs": [
    {
     "data": {
      "text/plain": [
       "(tensor([[0.1400],\n",
       "         [0.1800],\n",
       "         [0.1200],\n",
       "         [0.8200],\n",
       "         [0.3200],\n",
       "         [0.0000],\n",
       "         [0.7200],\n",
       "         [0.7800],\n",
       "         [0.6000],\n",
       "         [0.8400]]),\n",
       " tensor([[0.3980],\n",
       "         [0.4260],\n",
       "         [0.3840],\n",
       "         [0.8740],\n",
       "         [0.5240],\n",
       "         [0.3000],\n",
       "         [0.8040],\n",
       "         [0.8460],\n",
       "         [0.7200],\n",
       "         [0.8880]]))"
      ]
     },
     "execution_count": 9,
     "metadata": {},
     "output_type": "execute_result"
    }
   ],
   "execution_count": 9
  },
  {
   "metadata": {
    "ExecuteTime": {
     "end_time": "2025-07-16T06:30:18.537472Z",
     "start_time": "2025-07-16T06:30:18.524633Z"
    }
   },
   "cell_type": "code",
   "source": [
    "# Make predictions with model\n",
    "with torch.inference_mode():\n",
    "    y_preds = model_0(X_test)\n",
    "y_preds"
   ],
   "id": "6d1a9dc3c08c7640",
   "outputs": [
    {
     "data": {
      "text/plain": [
       "tensor([[0.1759],\n",
       "        [0.1894],\n",
       "        [0.1692],\n",
       "        [0.4049],\n",
       "        [0.2366],\n",
       "        [0.1288],\n",
       "        [0.3712],\n",
       "        [0.3914],\n",
       "        [0.3308],\n",
       "        [0.4116]])"
      ]
     },
     "execution_count": 10,
     "metadata": {},
     "output_type": "execute_result"
    }
   ],
   "execution_count": 10
  },
  {
   "metadata": {
    "ExecuteTime": {
     "end_time": "2025-07-16T06:30:18.669438Z",
     "start_time": "2025-07-16T06:30:18.657141Z"
    }
   },
   "cell_type": "code",
   "source": "y_test",
   "id": "2aa3cf8dd5b0c744",
   "outputs": [
    {
     "data": {
      "text/plain": [
       "tensor([[0.3980],\n",
       "        [0.4260],\n",
       "        [0.3840],\n",
       "        [0.8740],\n",
       "        [0.5240],\n",
       "        [0.3000],\n",
       "        [0.8040],\n",
       "        [0.8460],\n",
       "        [0.7200],\n",
       "        [0.8880]])"
      ]
     },
     "execution_count": 11,
     "metadata": {},
     "output_type": "execute_result"
    }
   ],
   "execution_count": 11
  },
  {
   "metadata": {
    "ExecuteTime": {
     "end_time": "2025-07-16T06:30:18.962239Z",
     "start_time": "2025-07-16T06:30:18.805785Z"
    }
   },
   "cell_type": "code",
   "source": "plot_predictions(predictions=y_preds)",
   "id": "fd1dab55f158b391",
   "outputs": [
    {
     "data": {
      "text/plain": [
       "<Figure size 1200x800 with 1 Axes>"
      ],
      "image/png": "[encoded data removed]"
     },
     "metadata": {},
     "output_type": "display_data"
    }
   ],
   "execution_count": 12
  },
  {
   "metadata": {},
   "cell_type": "markdown",
   "source": "See more on inference mode here - https://twitter.com/PyTorch/status/1437838231505096708?s=20&t=cnKav09iTgwQ-rfri6u7PQ",
   "id": "42297ca76577d63b"
  },
  {
   "metadata": {},
   "cell_type": "markdown",
   "source": [
    "## 3. Train model\n",
    "\n",
    "The whole idea of training a model is for a model to move from some *unknown* parameters (these may be random) to some known parameters.\n",
    "\n",
    "Or in other words, from a poor representation of the data to a better representation of the data.\n",
    "\n",
    "One way to measure how poor or how wrong your model predictions are is to use a loss function.\n",
    "\n",
    "* Note: Loss function may also be called cost function or criterion in different areas. For our case, we're going to refer it as a loss function.\n",
    "* **Loss function:** A function to measure how wrong your model's predictions are to ideal outputs, lower is better.\n",
    "* **Optimizer:** Takes into account the loss of a model and adjusts the model's parameters (e.g., weight & bias)\n",
    "\n",
    "And specifically for PyTorch, we need:\n",
    "* A training loop\n",
    "* A testing loop"
   ],
   "id": "1ddd1fd83af1c363"
  },
  {
   "metadata": {
    "ExecuteTime": {
     "end_time": "2025-07-16T06:30:19.036673Z",
     "start_time": "2025-07-16T06:30:19.029708Z"
    }
   },
   "cell_type": "code",
   "source": "list(model_0.parameters())",
   "id": "f17385ebc9bca8f9",
   "outputs": [
    {
     "data": {
      "text/plain": [
       "[Parameter containing:\n",
       " tensor([0.3367], requires_grad=True),\n",
       " Parameter containing:\n",
       " tensor([0.1288], requires_grad=True)]"
      ]
     },
     "execution_count": 13,
     "metadata": {},
     "output_type": "execute_result"
    }
   ],
   "execution_count": 13
  },
  {
   "metadata": {
    "ExecuteTime": {
     "end_time": "2025-07-16T06:30:19.092329Z",
     "start_time": "2025-07-16T06:30:19.082913Z"
    }
   },
   "cell_type": "code",
   "source": [
    "# Check out our model's parameters (a parameter is a value that the model sets itself)\n",
    "model_0.state_dict()"
   ],
   "id": "7f755b53aa7e621e",
   "outputs": [
    {
     "data": {
      "text/plain": [
       "OrderedDict([('weight', tensor([0.3367])), ('bias', tensor([0.1288]))])"
      ]
     },
     "execution_count": 14,
     "metadata": {},
     "output_type": "execute_result"
    }
   ],
   "execution_count": 14
  },
  {
   "metadata": {
    "ExecuteTime": {
     "end_time": "2025-07-16T06:30:21.035717Z",
     "start_time": "2025-07-16T06:30:19.144989Z"
    }
   },
   "cell_type": "code",
   "source": [
    "# Setup a loss function\n",
    "loss_fn = nn.L1Loss()\n",
    "\n",
    "# Setup an optimizer\n",
    "optimizer = torch.optim.SGD(model_0.parameters(),\n",
    "                            lr=0.001) # lr = learning rate = possibly the most important hyperparameter you can set"
   ],
   "id": "ec480ec73d5ba10f",
   "outputs": [],
   "execution_count": 15
  },
  {
   "metadata": {},
   "cell_type": "markdown",
   "source": [
    "> **Q:** Which loss function and optimizer should I use?\n",
    "> **A:** This will be problem specific. But with experience, you'll get an idea of what works and what doesn't with your particular problem set.\n",
    ">\n",
    "> For example, for a regression problem (like ours), a loss function of `nn.L1Loss()` and an optimizer like `torch.optim.SGD()` will suffice.\n",
    ">\n",
    "> But for a classification problem like classifying whether a photo is of a dog or a cat, you'll likely want to use a loss function of `nn.BCELoss()` (binary cross entropy loss)."
   ],
   "id": "51a81746ad3c9ff6"
  },
  {
   "metadata": {},
   "cell_type": "markdown",
   "source": [
    "### Building a training loop (and a testing loop) in PyTorch\n",
    "\n",
    "A couple of things we need in a training loop:\n",
    "0. Loop through the data\n",
    "1. Forward pass (this involves data moving through our model's `forward()` functions) to make predictions on data - also called forward propagation\n",
    "2. Calculate the loss (compare forward pass prediction to ground truth labels)\n",
    "3. Optimizer zero grad\n",
    "4. Loss backward - move backwards through the network to calculate the gradients of each of the parameters of our model with respect to the loss (**Backpropagation**)\n",
    "5. Optimizer step - use the optimizer to adjust our model's parameters to try and improve the loss (**gradient decent**)"
   ],
   "id": "67f8012b505d1560"
  },
  {
   "metadata": {
    "ExecuteTime": {
     "end_time": "2025-07-16T06:30:21.057463Z",
     "start_time": "2025-07-16T06:30:21.052830Z"
    }
   },
   "cell_type": "code",
   "source": "list(model_0.parameters())",
   "id": "4bd2037907c82454",
   "outputs": [
    {
     "data": {
      "text/plain": [
       "[Parameter containing:\n",
       " tensor([0.3367], requires_grad=True),\n",
       " Parameter containing:\n",
       " tensor([0.1288], requires_grad=True)]"
      ]
     },
     "execution_count": 16,
     "metadata": {},
     "output_type": "execute_result"
    }
   ],
   "execution_count": 16
  },
  {
   "metadata": {
    "ExecuteTime": {
     "end_time": "2025-07-16T06:30:21.414531Z",
     "start_time": "2025-07-16T06:30:21.111030Z"
    }
   },
   "cell_type": "code",
   "source": [
    "torch.manual_seed(42)\n",
    "\n",
    "# An epoch is one loop through the data... (this is a hyperparameter because we've set it ourselves)\n",
    "epochs = 1_500\n",
    "\n",
    "# Track different values\n",
    "epoch_count = []\n",
    "loss_values = []\n",
    "train_loss_values = []\n",
    "\n",
    "### Training\n",
    "# 0. Loop through the data\n",
    "for epoch in range(epochs):\n",
    "    # Set the model to training mode\n",
    "    model_0.train() # train mode in PyTorch sets all parameters that require gradients to require gradients\n",
    "\n",
    "    # 1. Forward pass\n",
    "    y_pred = model_0(X_train)\n",
    "\n",
    "    # 2. Calculate the loss\n",
    "    loss = loss_fn(y_pred, y_train)\n",
    "\n",
    "    # 3. Optimizer zero grad\n",
    "    optimizer.zero_grad()\n",
    "\n",
    "    # 4. Perform backpropagation on the loss with respect to the parameters of the model\n",
    "    loss.backward()\n",
    "\n",
    "    # 5. Step the optimizer (perform gradient descent)\n",
    "    optimizer.step() # by default, how the optimizer changes will accumulate through the loop so... we have to zero them above in step 3 for the next iteration of the loop\n",
    "\n",
    "    ### Testing\n",
    "    model_0.eval() # turns off different settings in the model not needed for evaluation/testing (dropout/bach norm layers)\n",
    "    with torch.inference_mode(): # turns off gradient tracking and a couple more things behind the scenes\n",
    "    # with torch.no_grad(): # you may also see torch.no_grad() in older PyTorch code\n",
    "        # 1. Do the forward pass\n",
    "        test_pred = model_0(X_test)\n",
    "\n",
    "        # 2. Calculate the loss\n",
    "\n",
    "        test_loss = loss_fn(test_pred, y_test)\n",
    "\n",
    "    # print what's happening\n",
    "    if epoch % 10 == 0:\n",
    "        epoch_count.append(epoch)\n",
    "        loss_values.append(loss.item())\n",
    "        train_loss_values.append(test_loss.item())\n",
    "        print(f\"Epoch {epoch} | Loss: {loss} | Test Loss: {test_loss}\")\n",
    "        # print out model state_dict()\n",
    "        print(model_0.state_dict())"
   ],
   "id": "546b2b4faed010f1",
   "outputs": [
    {
     "name": "stdout",
     "output_type": "stream",
     "text": [
      "Epoch 0 | Loss: 0.3526637554168701 | Test Loss: 0.3341807723045349\n",
      "OrderedDict({'weight': tensor([0.3372]), 'bias': tensor([0.1298])})\n",
      "Epoch 10 | Loss: 0.3401688039302826 | Test Loss: 0.32192307710647583\n",
      "OrderedDict({'weight': tensor([0.3422]), 'bias': tensor([0.1398])})\n",
      "Epoch 20 | Loss: 0.32767385244369507 | Test Loss: 0.30966538190841675\n",
      "OrderedDict({'weight': tensor([0.3472]), 'bias': tensor([0.1498])})\n",
      "Epoch 30 | Loss: 0.31517890095710754 | Test Loss: 0.29740768671035767\n",
      "OrderedDict({'weight': tensor([0.3522]), 'bias': tensor([0.1598])})\n",
      "Epoch 40 | Loss: 0.30268391966819763 | Test Loss: 0.2851499915122986\n",
      "OrderedDict({'weight': tensor([0.3572]), 'bias': tensor([0.1698])})\n",
      "Epoch 50 | Loss: 0.2901889681816101 | Test Loss: 0.2728922963142395\n",
      "OrderedDict({'weight': tensor([0.3622]), 'bias': tensor([0.1798])})\n",
      "Epoch 60 | Loss: 0.2776940166950226 | Test Loss: 0.26063457131385803\n",
      "OrderedDict({'weight': tensor([0.3672]), 'bias': tensor([0.1898])})\n",
      "Epoch 70 | Loss: 0.26519903540611267 | Test Loss: 0.24837687611579895\n",
      "OrderedDict({'weight': tensor([0.3722]), 'bias': tensor([0.1998])})\n",
      "Epoch 80 | Loss: 0.25270408391952515 | Test Loss: 0.23611918091773987\n",
      "OrderedDict({'weight': tensor([0.3771]), 'bias': tensor([0.2098])})\n",
      "Epoch 90 | Loss: 0.24020914733409882 | Test Loss: 0.2238614857196808\n",
      "OrderedDict({'weight': tensor([0.3821]), 'bias': tensor([0.2198])})\n",
      "Epoch 100 | Loss: 0.2277141809463501 | Test Loss: 0.21160376071929932\n",
      "OrderedDict({'weight': tensor([0.3871]), 'bias': tensor([0.2298])})\n",
      "Epoch 110 | Loss: 0.21521921455860138 | Test Loss: 0.19934606552124023\n",
      "OrderedDict({'weight': tensor([0.3921]), 'bias': tensor([0.2398])})\n",
      "Epoch 120 | Loss: 0.20272426307201385 | Test Loss: 0.18708837032318115\n",
      "OrderedDict({'weight': tensor([0.3971]), 'bias': tensor([0.2498])})\n",
      "Epoch 130 | Loss: 0.19022944569587708 | Test Loss: 0.174830824136734\n",
      "OrderedDict({'weight': tensor([0.4021]), 'bias': tensor([0.2598])})\n",
      "Epoch 140 | Loss: 0.1777346432209015 | Test Loss: 0.16257326304912567\n",
      "OrderedDict({'weight': tensor([0.4071]), 'bias': tensor([0.2698])})\n",
      "Epoch 150 | Loss: 0.1652398258447647 | Test Loss: 0.15031571686267853\n",
      "OrderedDict({'weight': tensor([0.4121]), 'bias': tensor([0.2798])})\n",
      "Epoch 160 | Loss: 0.15274502336978912 | Test Loss: 0.1380581557750702\n",
      "OrderedDict({'weight': tensor([0.4171]), 'bias': tensor([0.2898])})\n",
      "Epoch 170 | Loss: 0.14025020599365234 | Test Loss: 0.12580060958862305\n",
      "OrderedDict({'weight': tensor([0.4221]), 'bias': tensor([0.2998])})\n",
      "Epoch 180 | Loss: 0.12806634604930878 | Test Loss: 0.11566654592752457\n",
      "OrderedDict({'weight': tensor([0.4271]), 'bias': tensor([0.3096])})\n",
      "Epoch 190 | Loss: 0.11737847328186035 | Test Loss: 0.10622324049472809\n",
      "OrderedDict({'weight': tensor([0.4321]), 'bias': tensor([0.3186])})\n",
      "Epoch 200 | Loss: 0.1081867665052414 | Test Loss: 0.09744341671466827\n",
      "OrderedDict({'weight': tensor([0.4370]), 'bias': tensor([0.3268])})\n",
      "Epoch 210 | Loss: 0.1001572459936142 | Test Loss: 0.08991877734661102\n",
      "OrderedDict({'weight': tensor([0.4418]), 'bias': tensor([0.3343])})\n",
      "Epoch 220 | Loss: 0.0922071561217308 | Test Loss: 0.08463653922080994\n",
      "OrderedDict({'weight': tensor([0.4466]), 'bias': tensor([0.3418])})\n",
      "Epoch 230 | Loss: 0.08503662049770355 | Test Loss: 0.08073324710130692\n",
      "OrderedDict({'weight': tensor([0.4514]), 'bias': tensor([0.3488])})\n",
      "Epoch 240 | Loss: 0.07851870357990265 | Test Loss: 0.07773593813180923\n",
      "OrderedDict({'weight': tensor([0.4561]), 'bias': tensor([0.3553])})\n",
      "Epoch 250 | Loss: 0.07313024997711182 | Test Loss: 0.07494976371526718\n",
      "OrderedDict({'weight': tensor([0.4606]), 'bias': tensor([0.3610])})\n",
      "Epoch 260 | Loss: 0.06858984380960464 | Test Loss: 0.0723533183336258\n",
      "OrderedDict({'weight': tensor([0.4649]), 'bias': tensor([0.3661])})\n",
      "Epoch 270 | Loss: 0.06484870612621307 | Test Loss: 0.06996823847293854\n",
      "OrderedDict({'weight': tensor([0.4690]), 'bias': tensor([0.3705])})\n",
      "Epoch 280 | Loss: 0.06163667514920235 | Test Loss: 0.0680839866399765\n",
      "OrderedDict({'weight': tensor([0.4731]), 'bias': tensor([0.3745])})\n",
      "Epoch 290 | Loss: 0.05862956494092941 | Test Loss: 0.06690497696399689\n",
      "OrderedDict({'weight': tensor([0.4770]), 'bias': tensor([0.3783])})\n",
      "Epoch 300 | Loss: 0.056130968034267426 | Test Loss: 0.0657784566283226\n",
      "OrderedDict({'weight': tensor([0.4807]), 'bias': tensor([0.3815])})\n",
      "Epoch 310 | Loss: 0.05407130718231201 | Test Loss: 0.0647074431180954\n",
      "OrderedDict({'weight': tensor([0.4843]), 'bias': tensor([0.3843])})\n",
      "Epoch 320 | Loss: 0.052362553775310516 | Test Loss: 0.0636889711022377\n",
      "OrderedDict({'weight': tensor([0.4877]), 'bias': tensor([0.3866])})\n",
      "Epoch 330 | Loss: 0.05092555284500122 | Test Loss: 0.06271906942129135\n",
      "OrderedDict({'weight': tensor([0.4909]), 'bias': tensor([0.3885])})\n",
      "Epoch 340 | Loss: 0.04976118728518486 | Test Loss: 0.061799608170986176\n",
      "OrderedDict({'weight': tensor([0.4940]), 'bias': tensor([0.3900])})\n",
      "Epoch 350 | Loss: 0.04875851795077324 | Test Loss: 0.06092632934451103\n",
      "OrderedDict({'weight': tensor([0.4969]), 'bias': tensor([0.3911])})\n",
      "Epoch 360 | Loss: 0.0478491485118866 | Test Loss: 0.060072869062423706\n",
      "OrderedDict({'weight': tensor([0.4998]), 'bias': tensor([0.3921])})\n",
      "Epoch 370 | Loss: 0.0471116341650486 | Test Loss: 0.05928149074316025\n",
      "OrderedDict({'weight': tensor([0.5024]), 'bias': tensor([0.3927])})\n",
      "Epoch 380 | Loss: 0.04640284925699234 | Test Loss: 0.05849703401327133\n",
      "OrderedDict({'weight': tensor([0.5050]), 'bias': tensor([0.3932])})\n",
      "Epoch 390 | Loss: 0.04578537493944168 | Test Loss: 0.05776289850473404\n",
      "OrderedDict({'weight': tensor([0.5075]), 'bias': tensor([0.3933])})\n",
      "Epoch 400 | Loss: 0.045221246778964996 | Test Loss: 0.05705031007528305\n",
      "OrderedDict({'weight': tensor([0.5098]), 'bias': tensor([0.3933])})\n",
      "Epoch 410 | Loss: 0.044657133519649506 | Test Loss: 0.05633775144815445\n",
      "OrderedDict({'weight': tensor([0.5122]), 'bias': tensor([0.3933])})\n",
      "Epoch 420 | Loss: 0.04412837699055672 | Test Loss: 0.055662740021944046\n",
      "OrderedDict({'weight': tensor([0.5145]), 'bias': tensor([0.3931])})\n",
      "Epoch 430 | Loss: 0.043651826679706573 | Test Loss: 0.05502526834607124\n",
      "OrderedDict({'weight': tensor([0.5166]), 'bias': tensor([0.3926])})\n",
      "Epoch 440 | Loss: 0.04317528009414673 | Test Loss: 0.05438779667019844\n",
      "OrderedDict({'weight': tensor([0.5187]), 'bias': tensor([0.3921])})\n",
      "Epoch 450 | Loss: 0.042698729783296585 | Test Loss: 0.05375031381845474\n",
      "OrderedDict({'weight': tensor([0.5208]), 'bias': tensor([0.3916])})\n",
      "Epoch 460 | Loss: 0.04222219064831734 | Test Loss: 0.053112853318452835\n",
      "OrderedDict({'weight': tensor([0.5230]), 'bias': tensor([0.3911])})\n",
      "Epoch 470 | Loss: 0.041745640337467194 | Test Loss: 0.05247537046670914\n",
      "OrderedDict({'weight': tensor([0.5251]), 'bias': tensor([0.3906])})\n",
      "Epoch 480 | Loss: 0.04127606004476547 | Test Loss: 0.051861297339200974\n",
      "OrderedDict({'weight': tensor([0.5271]), 'bias': tensor([0.3899])})\n",
      "Epoch 490 | Loss: 0.0408283956348896 | Test Loss: 0.05129396915435791\n",
      "OrderedDict({'weight': tensor([0.5290]), 'bias': tensor([0.3890])})\n",
      "Epoch 500 | Loss: 0.040380578488111496 | Test Loss: 0.050734471529722214\n",
      "OrderedDict({'weight': tensor([0.5309]), 'bias': tensor([0.3880])})\n",
      "Epoch 510 | Loss: 0.039932917803525925 | Test Loss: 0.050167154520750046\n",
      "OrderedDict({'weight': tensor([0.5328]), 'bias': tensor([0.3870])})\n",
      "Epoch 520 | Loss: 0.039485104382038116 | Test Loss: 0.04960766062140465\n",
      "OrderedDict({'weight': tensor([0.5346]), 'bias': tensor([0.3860])})\n",
      "Epoch 530 | Loss: 0.03903743624687195 | Test Loss: 0.04904034733772278\n",
      "OrderedDict({'weight': tensor([0.5365]), 'bias': tensor([0.3851])})\n",
      "Epoch 540 | Loss: 0.03858962655067444 | Test Loss: 0.04848083481192589\n",
      "OrderedDict({'weight': tensor([0.5384]), 'bias': tensor([0.3841])})\n",
      "Epoch 550 | Loss: 0.038141880184412 | Test Loss: 0.04791353642940521\n",
      "OrderedDict({'weight': tensor([0.5403]), 'bias': tensor([0.3831])})\n",
      "Epoch 560 | Loss: 0.03769414871931076 | Test Loss: 0.04735403507947922\n",
      "OrderedDict({'weight': tensor([0.5422]), 'bias': tensor([0.3821])})\n",
      "Epoch 570 | Loss: 0.037246331572532654 | Test Loss: 0.04679451510310173\n",
      "OrderedDict({'weight': tensor([0.5440]), 'bias': tensor([0.3811])})\n",
      "Epoch 580 | Loss: 0.03679867461323738 | Test Loss: 0.04622722044587135\n",
      "OrderedDict({'weight': tensor([0.5459]), 'bias': tensor([0.3802])})\n",
      "Epoch 590 | Loss: 0.036350857466459274 | Test Loss: 0.04566771164536476\n",
      "OrderedDict({'weight': tensor([0.5478]), 'bias': tensor([0.3792])})\n",
      "Epoch 600 | Loss: 0.035903189331293106 | Test Loss: 0.04510040581226349\n",
      "OrderedDict({'weight': tensor([0.5497]), 'bias': tensor([0.3782])})\n",
      "Epoch 610 | Loss: 0.035455379635095596 | Test Loss: 0.0445408895611763\n",
      "OrderedDict({'weight': tensor([0.5515]), 'bias': tensor([0.3772])})\n",
      "Epoch 620 | Loss: 0.03500770777463913 | Test Loss: 0.043973587453365326\n",
      "OrderedDict({'weight': tensor([0.5534]), 'bias': tensor([0.3763])})\n",
      "Epoch 630 | Loss: 0.03455989807844162 | Test Loss: 0.04341408610343933\n",
      "OrderedDict({'weight': tensor([0.5553]), 'bias': tensor([0.3753])})\n",
      "Epoch 640 | Loss: 0.03411222994327545 | Test Loss: 0.042846765369176865\n",
      "OrderedDict({'weight': tensor([0.5572]), 'bias': tensor([0.3743])})\n",
      "Epoch 650 | Loss: 0.03366442397236824 | Test Loss: 0.04228726029396057\n",
      "OrderedDict({'weight': tensor([0.5590]), 'bias': tensor([0.3733])})\n",
      "Epoch 660 | Loss: 0.03321675583720207 | Test Loss: 0.0417199581861496\n",
      "OrderedDict({'weight': tensor([0.5609]), 'bias': tensor([0.3724])})\n",
      "Epoch 670 | Loss: 0.032768942415714264 | Test Loss: 0.0411604568362236\n",
      "OrderedDict({'weight': tensor([0.5628]), 'bias': tensor([0.3714])})\n",
      "Epoch 680 | Loss: 0.032321274280548096 | Test Loss: 0.04059315100312233\n",
      "OrderedDict({'weight': tensor([0.5647]), 'bias': tensor([0.3704])})\n",
      "Epoch 690 | Loss: 0.031873464584350586 | Test Loss: 0.04003363475203514\n",
      "OrderedDict({'weight': tensor([0.5666]), 'bias': tensor([0.3694])})\n",
      "Epoch 700 | Loss: 0.03142579644918442 | Test Loss: 0.03946631774306297\n",
      "OrderedDict({'weight': tensor([0.5684]), 'bias': tensor([0.3685])})\n",
      "Epoch 710 | Loss: 0.03097797930240631 | Test Loss: 0.03890683129429817\n",
      "OrderedDict({'weight': tensor([0.5703]), 'bias': tensor([0.3675])})\n",
      "Epoch 720 | Loss: 0.030530322343111038 | Test Loss: 0.038339514285326004\n",
      "OrderedDict({'weight': tensor([0.5722]), 'bias': tensor([0.3665])})\n",
      "Epoch 730 | Loss: 0.030082499608397484 | Test Loss: 0.03778001293540001\n",
      "OrderedDict({'weight': tensor([0.5741]), 'bias': tensor([0.3655])})\n",
      "Epoch 740 | Loss: 0.029634732753038406 | Test Loss: 0.03721268102526665\n",
      "OrderedDict({'weight': tensor([0.5760]), 'bias': tensor([0.3646])})\n",
      "Epoch 750 | Loss: 0.029187023639678955 | Test Loss: 0.036653198301792145\n",
      "OrderedDict({'weight': tensor([0.5778]), 'bias': tensor([0.3636])})\n",
      "Epoch 760 | Loss: 0.028739213943481445 | Test Loss: 0.036093685775995255\n",
      "OrderedDict({'weight': tensor([0.5797]), 'bias': tensor([0.3626])})\n",
      "Epoch 770 | Loss: 0.028291553258895874 | Test Loss: 0.03552637994289398\n",
      "OrderedDict({'weight': tensor([0.5816]), 'bias': tensor([0.3616])})\n",
      "Epoch 780 | Loss: 0.027843743562698364 | Test Loss: 0.03496687486767769\n",
      "OrderedDict({'weight': tensor([0.5834]), 'bias': tensor([0.3606])})\n",
      "Epoch 790 | Loss: 0.027396071702241898 | Test Loss: 0.034399572759866714\n",
      "OrderedDict({'weight': tensor([0.5853]), 'bias': tensor([0.3597])})\n",
      "Epoch 800 | Loss: 0.02694825828075409 | Test Loss: 0.03384006395936012\n",
      "OrderedDict({'weight': tensor([0.5872]), 'bias': tensor([0.3587])})\n",
      "Epoch 810 | Loss: 0.026500588282942772 | Test Loss: 0.03327275067567825\n",
      "OrderedDict({'weight': tensor([0.5891]), 'bias': tensor([0.3577])})\n",
      "Epoch 820 | Loss: 0.02605278231203556 | Test Loss: 0.03271324560046196\n",
      "OrderedDict({'weight': tensor([0.5910]), 'bias': tensor([0.3567])})\n",
      "Epoch 830 | Loss: 0.025605112314224243 | Test Loss: 0.032145943492650986\n",
      "OrderedDict({'weight': tensor([0.5928]), 'bias': tensor([0.3558])})\n",
      "Epoch 840 | Loss: 0.025157297030091286 | Test Loss: 0.0315864272415638\n",
      "OrderedDict({'weight': tensor([0.5947]), 'bias': tensor([0.3548])})\n",
      "Epoch 850 | Loss: 0.024709630757570267 | Test Loss: 0.031019117683172226\n",
      "OrderedDict({'weight': tensor([0.5966]), 'bias': tensor([0.3538])})\n",
      "Epoch 860 | Loss: 0.02426181733608246 | Test Loss: 0.03045961819589138\n",
      "OrderedDict({'weight': tensor([0.5985]), 'bias': tensor([0.3528])})\n",
      "Epoch 870 | Loss: 0.023814156651496887 | Test Loss: 0.029892316088080406\n",
      "OrderedDict({'weight': tensor([0.6004]), 'bias': tensor([0.3519])})\n",
      "Epoch 880 | Loss: 0.02336634323000908 | Test Loss: 0.029332801699638367\n",
      "OrderedDict({'weight': tensor([0.6022]), 'bias': tensor([0.3509])})\n",
      "Epoch 890 | Loss: 0.02291868068277836 | Test Loss: 0.028765495866537094\n",
      "OrderedDict({'weight': tensor([0.6041]), 'bias': tensor([0.3499])})\n",
      "Epoch 900 | Loss: 0.022470861673355103 | Test Loss: 0.028206000104546547\n",
      "OrderedDict({'weight': tensor([0.6060]), 'bias': tensor([0.3489])})\n",
      "Epoch 910 | Loss: 0.02202320098876953 | Test Loss: 0.027638670057058334\n",
      "OrderedDict({'weight': tensor([0.6079]), 'bias': tensor([0.3480])})\n",
      "Epoch 920 | Loss: 0.021575385704636574 | Test Loss: 0.027079176157712936\n",
      "OrderedDict({'weight': tensor([0.6097]), 'bias': tensor([0.3470])})\n",
      "Epoch 930 | Loss: 0.021127596497535706 | Test Loss: 0.026511866599321365\n",
      "OrderedDict({'weight': tensor([0.6116]), 'bias': tensor([0.3460])})\n",
      "Epoch 940 | Loss: 0.020679906010627747 | Test Loss: 0.02595236524939537\n",
      "OrderedDict({'weight': tensor([0.6135]), 'bias': tensor([0.3450])})\n",
      "Epoch 950 | Loss: 0.02023209258913994 | Test Loss: 0.025392841547727585\n",
      "OrderedDict({'weight': tensor([0.6154]), 'bias': tensor([0.3440])})\n",
      "Epoch 960 | Loss: 0.019784430041909218 | Test Loss: 0.02482553943991661\n",
      "OrderedDict({'weight': tensor([0.6172]), 'bias': tensor([0.3431])})\n",
      "Epoch 970 | Loss: 0.01933661662042141 | Test Loss: 0.024266043677926064\n",
      "OrderedDict({'weight': tensor([0.6191]), 'bias': tensor([0.3421])})\n",
      "Epoch 980 | Loss: 0.01888895034790039 | Test Loss: 0.02369873784482479\n",
      "OrderedDict({'weight': tensor([0.6210]), 'bias': tensor([0.3411])})\n",
      "Epoch 990 | Loss: 0.018441131338477135 | Test Loss: 0.023139219731092453\n",
      "OrderedDict({'weight': tensor([0.6229]), 'bias': tensor([0.3401])})\n",
      "Epoch 1000 | Loss: 0.01799347624182701 | Test Loss: 0.022571925073862076\n",
      "OrderedDict({'weight': tensor([0.6248]), 'bias': tensor([0.3392])})\n",
      "Epoch 1010 | Loss: 0.0175456665456295 | Test Loss: 0.022012416273355484\n",
      "OrderedDict({'weight': tensor([0.6266]), 'bias': tensor([0.3382])})\n",
      "Epoch 1020 | Loss: 0.017097990959882736 | Test Loss: 0.02144511044025421\n",
      "OrderedDict({'weight': tensor([0.6285]), 'bias': tensor([0.3372])})\n",
      "Epoch 1030 | Loss: 0.016650181263685226 | Test Loss: 0.020885592326521873\n",
      "OrderedDict({'weight': tensor([0.6304]), 'bias': tensor([0.3362])})\n",
      "Epoch 1040 | Loss: 0.016202514991164207 | Test Loss: 0.02031828463077545\n",
      "OrderedDict({'weight': tensor([0.6323]), 'bias': tensor([0.3353])})\n",
      "Epoch 1050 | Loss: 0.01575470343232155 | Test Loss: 0.019758785143494606\n",
      "OrderedDict({'weight': tensor([0.6341]), 'bias': tensor([0.3343])})\n",
      "Epoch 1060 | Loss: 0.01530703715980053 | Test Loss: 0.019191477447748184\n",
      "OrderedDict({'weight': tensor([0.6360]), 'bias': tensor([0.3333])})\n",
      "Epoch 1070 | Loss: 0.014859226532280445 | Test Loss: 0.018631964921951294\n",
      "OrderedDict({'weight': tensor([0.6379]), 'bias': tensor([0.3323])})\n",
      "Epoch 1080 | Loss: 0.014411559328436852 | Test Loss: 0.018064657226204872\n",
      "OrderedDict({'weight': tensor([0.6398]), 'bias': tensor([0.3314])})\n",
      "Epoch 1090 | Loss: 0.013963746838271618 | Test Loss: 0.017505159601569176\n",
      "OrderedDict({'weight': tensor([0.6416]), 'bias': tensor([0.3304])})\n",
      "Epoch 1100 | Loss: 0.013516077771782875 | Test Loss: 0.016937848180532455\n",
      "OrderedDict({'weight': tensor([0.6435]), 'bias': tensor([0.3294])})\n",
      "Epoch 1110 | Loss: 0.013068268075585365 | Test Loss: 0.01637834683060646\n",
      "OrderedDict({'weight': tensor([0.6454]), 'bias': tensor([0.3284])})\n",
      "Epoch 1120 | Loss: 0.012620454654097557 | Test Loss: 0.015811022371053696\n",
      "OrderedDict({'weight': tensor([0.6473]), 'bias': tensor([0.3275])})\n",
      "Epoch 1130 | Loss: 0.012172780930995941 | Test Loss: 0.015251529403030872\n",
      "OrderedDict({'weight': tensor([0.6492]), 'bias': tensor([0.3265])})\n",
      "Epoch 1140 | Loss: 0.011724968440830708 | Test Loss: 0.01469202060252428\n",
      "OrderedDict({'weight': tensor([0.6510]), 'bias': tensor([0.3255])})\n",
      "Epoch 1150 | Loss: 0.01127730030566454 | Test Loss: 0.014124711975455284\n",
      "OrderedDict({'weight': tensor([0.6529]), 'bias': tensor([0.3245])})\n",
      "Epoch 1160 | Loss: 0.010829486884176731 | Test Loss: 0.013565188273787498\n",
      "OrderedDict({'weight': tensor([0.6548]), 'bias': tensor([0.3235])})\n",
      "Epoch 1170 | Loss: 0.010381829924881458 | Test Loss: 0.012997904792428017\n",
      "OrderedDict({'weight': tensor([0.6567]), 'bias': tensor([0.3226])})\n",
      "Epoch 1180 | Loss: 0.00993401650339365 | Test Loss: 0.012438383884727955\n",
      "OrderedDict({'weight': tensor([0.6585]), 'bias': tensor([0.3216])})\n",
      "Epoch 1190 | Loss: 0.009486353024840355 | Test Loss: 0.011871084570884705\n",
      "OrderedDict({'weight': tensor([0.6604]), 'bias': tensor([0.3206])})\n",
      "Epoch 1200 | Loss: 0.009038543328642845 | Test Loss: 0.011311572976410389\n",
      "OrderedDict({'weight': tensor([0.6623]), 'bias': tensor([0.3196])})\n",
      "Epoch 1210 | Loss: 0.008590875193476677 | Test Loss: 0.010744276456534863\n",
      "OrderedDict({'weight': tensor([0.6642]), 'bias': tensor([0.3187])})\n",
      "Epoch 1220 | Loss: 0.008143064565956593 | Test Loss: 0.01018476765602827\n",
      "OrderedDict({'weight': tensor([0.6661]), 'bias': tensor([0.3177])})\n",
      "Epoch 1230 | Loss: 0.007695390377193689 | Test Loss: 0.009617462754249573\n",
      "OrderedDict({'weight': tensor([0.6679]), 'bias': tensor([0.3167])})\n",
      "Epoch 1240 | Loss: 0.007247584871947765 | Test Loss: 0.009057944640517235\n",
      "OrderedDict({'weight': tensor([0.6698]), 'bias': tensor([0.3157])})\n",
      "Epoch 1250 | Loss: 0.006799915339797735 | Test Loss: 0.008490649051964283\n",
      "OrderedDict({'weight': tensor([0.6717]), 'bias': tensor([0.3148])})\n",
      "Epoch 1260 | Loss: 0.006352100521326065 | Test Loss: 0.007931125350296497\n",
      "OrderedDict({'weight': tensor([0.6736]), 'bias': tensor([0.3138])})\n",
      "Epoch 1270 | Loss: 0.005904440768063068 | Test Loss: 0.007363828830420971\n",
      "OrderedDict({'weight': tensor([0.6755]), 'bias': tensor([0.3128])})\n",
      "Epoch 1280 | Loss: 0.005456618964672089 | Test Loss: 0.006804317235946655\n",
      "OrderedDict({'weight': tensor([0.6773]), 'bias': tensor([0.3118])})\n",
      "Epoch 1290 | Loss: 0.0050088874995708466 | Test Loss: 0.006240916438400745\n",
      "OrderedDict({'weight': tensor([0.6792]), 'bias': tensor([0.3108])})\n",
      "Epoch 1300 | Loss: 0.004561126232147217 | Test Loss: 0.00567361107096076\n",
      "OrderedDict({'weight': tensor([0.6811]), 'bias': tensor([0.3099])})\n",
      "Epoch 1310 | Loss: 0.004113398492336273 | Test Loss: 0.005114096216857433\n",
      "OrderedDict({'weight': tensor([0.6830]), 'bias': tensor([0.3089])})\n",
      "Epoch 1320 | Loss: 0.003665591822937131 | Test Loss: 0.004554581828415394\n",
      "OrderedDict({'weight': tensor([0.6848]), 'bias': tensor([0.3079])})\n",
      "Epoch 1330 | Loss: 0.003217927413061261 | Test Loss: 0.0039872825145721436\n",
      "OrderedDict({'weight': tensor([0.6867]), 'bias': tensor([0.3069])})\n",
      "Epoch 1340 | Loss: 0.002770115388557315 | Test Loss: 0.003427785588428378\n",
      "OrderedDict({'weight': tensor([0.6886]), 'bias': tensor([0.3059])})\n",
      "Epoch 1350 | Loss: 0.0023224472533911467 | Test Loss: 0.0028604776598513126\n",
      "OrderedDict({'weight': tensor([0.6905]), 'bias': tensor([0.3050])})\n",
      "Epoch 1360 | Loss: 0.0018746338319033384 | Test Loss: 0.002300956752151251\n",
      "OrderedDict({'weight': tensor([0.6923]), 'bias': tensor([0.3040])})\n",
      "Epoch 1370 | Loss: 0.001426967210136354 | Test Loss: 0.0017336576711386442\n",
      "OrderedDict({'weight': tensor([0.6942]), 'bias': tensor([0.3030])})\n",
      "Epoch 1380 | Loss: 0.0009791568154469132 | Test Loss: 0.00117415189743042\n",
      "OrderedDict({'weight': tensor([0.6961]), 'bias': tensor([0.3020])})\n",
      "Epoch 1390 | Loss: 0.0005317270988598466 | Test Loss: 0.0006152450805529952\n",
      "OrderedDict({'weight': tensor([0.6979]), 'bias': tensor([0.3010])})\n",
      "Epoch 1400 | Loss: 0.000497115426696837 | Test Loss: 0.0007051110151223838\n",
      "OrderedDict({'weight': tensor([0.6990]), 'bias': tensor([0.2997])})\n",
      "Epoch 1410 | Loss: 0.000497115426696837 | Test Loss: 0.0007051110151223838\n",
      "OrderedDict({'weight': tensor([0.6990]), 'bias': tensor([0.2997])})\n",
      "Epoch 1420 | Loss: 0.000497115426696837 | Test Loss: 0.0007051110151223838\n",
      "OrderedDict({'weight': tensor([0.6990]), 'bias': tensor([0.2997])})\n",
      "Epoch 1430 | Loss: 0.000497115426696837 | Test Loss: 0.0007051110151223838\n",
      "OrderedDict({'weight': tensor([0.6990]), 'bias': tensor([0.2997])})\n",
      "Epoch 1440 | Loss: 0.000497115426696837 | Test Loss: 0.0007051110151223838\n",
      "OrderedDict({'weight': tensor([0.6990]), 'bias': tensor([0.2997])})\n",
      "Epoch 1450 | Loss: 0.000497115426696837 | Test Loss: 0.0007051110151223838\n",
      "OrderedDict({'weight': tensor([0.6990]), 'bias': tensor([0.2997])})\n",
      "Epoch 1460 | Loss: 0.000497115426696837 | Test Loss: 0.0007051110151223838\n",
      "OrderedDict({'weight': tensor([0.6990]), 'bias': tensor([0.2997])})\n",
      "Epoch 1470 | Loss: 0.000497115426696837 | Test Loss: 0.0007051110151223838\n",
      "OrderedDict({'weight': tensor([0.6990]), 'bias': tensor([0.2997])})\n",
      "Epoch 1480 | Loss: 0.000497115426696837 | Test Loss: 0.0007051110151223838\n",
      "OrderedDict({'weight': tensor([0.6990]), 'bias': tensor([0.2997])})\n",
      "Epoch 1490 | Loss: 0.000497115426696837 | Test Loss: 0.0007051110151223838\n",
      "OrderedDict({'weight': tensor([0.6990]), 'bias': tensor([0.2997])})\n"
     ]
    }
   ],
   "execution_count": 17
  },
  {
   "metadata": {
    "ExecuteTime": {
     "end_time": "2025-07-16T06:30:21.435053Z",
     "start_time": "2025-07-16T06:30:21.428448Z"
    }
   },
   "cell_type": "code",
   "source": [
    "with torch.inference_mode():\n",
    "    y_preds_new = model_0(X_test)\n",
    "y_preds_new"
   ],
   "id": "fe0e9e4308452cc6",
   "outputs": [
    {
     "data": {
      "text/plain": [
       "tensor([[0.3987],\n",
       "        [0.4267],\n",
       "        [0.3847],\n",
       "        [0.8743],\n",
       "        [0.5246],\n",
       "        [0.3007],\n",
       "        [0.8044],\n",
       "        [0.8464],\n",
       "        [0.7204],\n",
       "        [0.8883]])"
      ]
     },
     "execution_count": 18,
     "metadata": {},
     "output_type": "execute_result"
    }
   ],
   "execution_count": 18
  },
  {
   "metadata": {
    "ExecuteTime": {
     "end_time": "2025-07-16T06:30:21.611039Z",
     "start_time": "2025-07-16T06:30:21.536842Z"
    }
   },
   "cell_type": "code",
   "source": [
    "# Plot the loss curves\n",
    "plt.plot(epoch_count, loss_values, label=\"Testing loss\")\n",
    "plt.plot(epoch_count, train_loss_values, label=\"Training loss\")\n",
    "plt.legend()\n",
    "plt.show()"
   ],
   "id": "848e75fe01bae978",
   "outputs": [
    {
     "data": {
      "text/plain": [
       "<Figure size 640x480 with 1 Axes>"
      ],
      "image/png": "[encoded data removed]"
     },
     "metadata": {},
     "output_type": "display_data"
    }
   ],
   "execution_count": 19
  },
  {
   "metadata": {
    "ExecuteTime": {
     "end_time": "2025-07-16T06:30:21.748869Z",
     "start_time": "2025-07-16T06:30:21.745479Z"
    }
   },
   "cell_type": "code",
   "source": "model_0.state_dict()",
   "id": "478e93c79154fc45",
   "outputs": [
    {
     "data": {
      "text/plain": [
       "OrderedDict([('weight', tensor([0.6995])), ('bias', tensor([0.3007]))])"
      ]
     },
     "execution_count": 20,
     "metadata": {},
     "output_type": "execute_result"
    }
   ],
   "execution_count": 20
  },
  {
   "metadata": {
    "ExecuteTime": {
     "end_time": "2025-07-16T06:30:21.810435Z",
     "start_time": "2025-07-16T06:30:21.807946Z"
    }
   },
   "cell_type": "code",
   "source": "weight, bias",
   "id": "a990577c505b6178",
   "outputs": [
    {
     "data": {
      "text/plain": [
       "(0.7, 0.3)"
      ]
     },
     "execution_count": 21,
     "metadata": {},
     "output_type": "execute_result"
    }
   ],
   "execution_count": 21
  },
  {
   "metadata": {
    "ExecuteTime": {
     "end_time": "2025-07-16T06:30:22.014861Z",
     "start_time": "2025-07-16T06:30:21.859386Z"
    }
   },
   "cell_type": "code",
   "source": "plot_predictions(predictions=y_preds)",
   "id": "f8f5ea6c715b6356",
   "outputs": [
    {
     "data": {
      "text/plain": [
       "<Figure size 1200x800 with 1 Axes>"
      ],
      "image/png": "[encoded data removed]"
     },
     "metadata": {},
     "output_type": "display_data"
    }
   ],
   "execution_count": 22
  },
  {
   "metadata": {
    "ExecuteTime": {
     "end_time": "2025-07-16T06:30:22.140237Z",
     "start_time": "2025-07-16T06:30:22.034149Z"
    }
   },
   "cell_type": "code",
   "source": "plot_predictions(predictions=y_preds_new)",
   "id": "bdf41ba61c8c96d9",
   "outputs": [
    {
     "data": {
      "text/plain": [
       "<Figure size 1200x800 with 1 Axes>"
      ],
      "image/png": "[encoded data removed]"
     },
     "metadata": {},
     "output_type": "display_data"
    }
   ],
   "execution_count": 23
  },
  {
   "metadata": {},
   "cell_type": "markdown",
   "source": [
    "## Saving a model in PyTorch\n",
    "There are three main methods you should about for saving and loading models in\n",
    "PyTorch.\n",
    "1. `torch.save()` - allows you to save a PyTorch object in Python's pickle format\n",
    "2. `torch.load()` - allows you to load a saved PyTorch object\n",
    "3. `torch.nn.Module.load_state_dict)` - this allows loading a model's saved state dictionary\n",
    "\n",
    "Pytorch save and load code tutorial and extra-curriculum - https://docs.pytorch.org/tutorials/beginner/saving_loading_models.html"
   ],
   "id": "a861fe6fc21ea2cd"
  },
  {
   "metadata": {
    "ExecuteTime": {
     "end_time": "2025-07-16T06:30:22.166295Z",
     "start_time": "2025-07-16T06:30:22.158634Z"
    }
   },
   "cell_type": "code",
   "source": [
    "# Saving our PyTorch model\n",
    "from pathlib import Path\n",
    "\n",
    "# 1. Create models directory\n",
    "MODEL_PATH = Path(\"models\")\n",
    "MODEL_PATH.mkdir(parents=True, exist_ok=True)\n",
    "\n",
    "# 2. Create a model save path\n",
    "MODEL_NAME = \"01_pytorch_workflow_video_model_0.pth\"\n",
    "MODEL_SAVE_PATH = MODEL_PATH / MODEL_NAME\n",
    "\n",
    "# 3. Save the model state dict\n",
    "print(f\"Saving model to {MODEL_SAVE_PATH}\")\n",
    "torch.save(model_0.state_dict(), MODEL_SAVE_PATH)"
   ],
   "id": "3ec1f4624e1e4b78",
   "outputs": [
    {
     "name": "stdout",
     "output_type": "stream",
     "text": [
      "Saving model to models/01_pytorch_workflow_video_model_0.pth\n"
     ]
    }
   ],
   "execution_count": 24
  },
  {
   "metadata": {},
   "cell_type": "markdown",
   "source": [
    "## Loading a PyTorch model\n",
    "\n",
    "Since we saved our model's `state_dict()` rather than the entire model, we'll create a new instance of our model class and load the saved `state_dict()` into that."
   ],
   "id": "6373d7e89285306d"
  },
  {
   "metadata": {
    "ExecuteTime": {
     "end_time": "2025-07-16T06:30:22.199855Z",
     "start_time": "2025-07-16T06:30:22.196277Z"
    }
   },
   "cell_type": "code",
   "source": "model_0.state_dict()",
   "id": "5b28defda0e058d4",
   "outputs": [
    {
     "data": {
      "text/plain": [
       "OrderedDict([('weight', tensor([0.6995])), ('bias', tensor([0.3007]))])"
      ]
     },
     "execution_count": 25,
     "metadata": {},
     "output_type": "execute_result"
    }
   ],
   "execution_count": 25
  },
  {
   "metadata": {
    "ExecuteTime": {
     "end_time": "2025-07-16T06:30:22.245132Z",
     "start_time": "2025-07-16T06:30:22.238260Z"
    }
   },
   "cell_type": "code",
   "source": [
    "# To load a saved state_dict, we have to instantiate a new instance of our model class\n",
    "loaded_model_0 = LinearRegressionModel()\n",
    "loaded_model_0.load_state_dict(torch.load(MODEL_SAVE_PATH))\n",
    "loaded_model_0.state_dict()"
   ],
   "id": "39fa579cbef3fd50",
   "outputs": [
    {
     "data": {
      "text/plain": [
       "OrderedDict([('weight', tensor([0.6995])), ('bias', tensor([0.3007]))])"
      ]
     },
     "execution_count": 26,
     "metadata": {},
     "output_type": "execute_result"
    }
   ],
   "execution_count": 26
  },
  {
   "metadata": {
    "ExecuteTime": {
     "end_time": "2025-07-16T06:30:22.316196Z",
     "start_time": "2025-07-16T06:30:22.310755Z"
    }
   },
   "cell_type": "code",
   "source": [
    "# Make some predictions with our loaded model + making sure they are the same\n",
    "loaded_model_0.eval()\n",
    "model_0.eval()\n",
    "with torch.inference_mode():\n",
    "    y_preds = model_0(X_test)\n",
    "    loaded_model_preds = loaded_model_0(X_test)\n",
    "loaded_model_preds == y_preds"
   ],
   "id": "ffda09fe6796fd16",
   "outputs": [
    {
     "data": {
      "text/plain": [
       "tensor([[True],\n",
       "        [True],\n",
       "        [True],\n",
       "        [True],\n",
       "        [True],\n",
       "        [True],\n",
       "        [True],\n",
       "        [True],\n",
       "        [True],\n",
       "        [True]])"
      ]
     },
     "execution_count": 27,
     "metadata": {},
     "output_type": "execute_result"
    }
   ],
   "execution_count": 27
  },
  {
   "metadata": {},
   "cell_type": "markdown",
   "source": [
    "## 6. Putting it all together\n",
    "Let's go back through the steps above and see it all in one place."
   ],
   "id": "fffa9c948b3546d2"
  },
  {
   "metadata": {
    "ExecuteTime": {
     "end_time": "2025-07-16T06:30:22.403977Z",
     "start_time": "2025-07-16T06:30:22.389992Z"
    }
   },
   "cell_type": "code",
   "source": [
    "# Import PyTorch\n",
    "import torch\n",
    "from torch import nn\n",
    "import matplotlib.pyplot as plt\n",
    "import pandas as pd\n",
    "from sklearn.model_selection import train_test_split\n",
    "\n",
    "torch.manual_seed(42)\n",
    "\n",
    "# Check PyTorch version\n",
    "torch.__version__"
   ],
   "id": "186735dcb1e42f06",
   "outputs": [
    {
     "data": {
      "text/plain": [
       "'2.7.1'"
      ]
     },
     "execution_count": 28,
     "metadata": {},
     "output_type": "execute_result"
    }
   ],
   "execution_count": 28
  },
  {
   "metadata": {},
   "cell_type": "markdown",
   "source": [
    "Create device-agnostic code.\n",
    "This means if we've got access to a GPU, our code will use it (for potentially faster computing).\n",
    "If no GPU is available, the code will default to using CPU."
   ],
   "id": "4fccd1fde938dfb5"
  },
  {
   "metadata": {
    "ExecuteTime": {
     "end_time": "2025-07-16T06:30:22.471850Z",
     "start_time": "2025-07-16T06:30:22.466404Z"
    }
   },
   "cell_type": "code",
   "source": [
    "# Setup device agnostic code\n",
    "device = torch.device(\"cuda:0\" if torch.cuda.is_available() else \"cpu\")\n",
    "print(f\"Using device: {device}\")"
   ],
   "id": "b796537f7dc42562",
   "outputs": [
    {
     "name": "stdout",
     "output_type": "stream",
     "text": [
      "Using device: cpu\n"
     ]
    }
   ],
   "execution_count": 29
  },
  {
   "metadata": {},
   "cell_type": "markdown",
   "source": "### 6.1 Data",
   "id": "9423558244d53f0c"
  },
  {
   "metadata": {
    "ExecuteTime": {
     "end_time": "2025-07-16T06:30:22.529599Z",
     "start_time": "2025-07-16T06:30:22.519955Z"
    }
   },
   "cell_type": "code",
   "source": [
    "# Create some data using linear regression formula of y = weight * X + bias\n",
    "weight = 0.7\n",
    "bias = 0.3\n",
    "\n",
    "# Create range values\n",
    "start = 0\n",
    "end = 1\n",
    "step = 0.02\n",
    "\n",
    "# Create X and y (features and labels)\n",
    "X = torch.arange(start, end, step).unsqueeze(1) # without unsqueeze, errors will pop up\n",
    "y = weight * X + bias\n",
    "X[:10], y[:10]"
   ],
   "id": "e8f6ba9fb78f93ed",
   "outputs": [
    {
     "data": {
      "text/plain": [
       "(tensor([[0.0000],\n",
       "         [0.0200],\n",
       "         [0.0400],\n",
       "         [0.0600],\n",
       "         [0.0800],\n",
       "         [0.1000],\n",
       "         [0.1200],\n",
       "         [0.1400],\n",
       "         [0.1600],\n",
       "         [0.1800]]),\n",
       " tensor([[0.3000],\n",
       "         [0.3140],\n",
       "         [0.3280],\n",
       "         [0.3420],\n",
       "         [0.3560],\n",
       "         [0.3700],\n",
       "         [0.3840],\n",
       "         [0.3980],\n",
       "         [0.4120],\n",
       "         [0.4260]]))"
      ]
     },
     "execution_count": 30,
     "metadata": {},
     "output_type": "execute_result"
    }
   ],
   "execution_count": 30
  },
  {
   "metadata": {
    "ExecuteTime": {
     "end_time": "2025-07-16T06:30:22.674084Z",
     "start_time": "2025-07-16T06:30:22.660799Z"
    }
   },
   "cell_type": "code",
   "source": [
    "# Split the data\n",
    "X_train, X_test, y_train, y_test = train_test_split(X, y, train_size=0.8)\n",
    "len(X_train), len(y_train), len(X_test), len(y_test)"
   ],
   "id": "1c127aed149475d5",
   "outputs": [
    {
     "data": {
      "text/plain": [
       "(40, 40, 10, 10)"
      ]
     },
     "execution_count": 31,
     "metadata": {},
     "output_type": "execute_result"
    }
   ],
   "execution_count": 31
  },
  {
   "metadata": {
    "ExecuteTime": {
     "end_time": "2025-07-16T06:30:22.956425Z",
     "start_time": "2025-07-16T06:30:22.718065Z"
    }
   },
   "cell_type": "code",
   "source": [
    "# Plot the data\n",
    "plot_predictions(X_train, y_train,X_test, y_test)"
   ],
   "id": "3134e954c2331c33",
   "outputs": [
    {
     "data": {
      "text/plain": [
       "<Figure size 1200x800 with 1 Axes>"
      ],
      "image/png": "[encoded data removed]"
     },
     "metadata": {},
     "output_type": "display_data"
    }
   ],
   "execution_count": 32
  },
  {
   "metadata": {},
   "cell_type": "markdown",
   "source": "### 6.2 Building a PyTorch Linear model",
   "id": "bd1a32f48654dafd"
  },
  {
   "metadata": {
    "ExecuteTime": {
     "end_time": "2025-07-16T06:30:23.026480Z",
     "start_time": "2025-07-16T06:30:23.003684Z"
    }
   },
   "cell_type": "code",
   "source": [
    "# Create a linear model by subclassing nn.Module\n",
    "class LinearRegressionModelV2(nn.Module):\n",
    "    def __init__(self):\n",
    "        super().__init__()\n",
    "        # Use nn.Linear() for creating model parameters / also called: linear transform, probing layer, fully connected layer, dence layer\n",
    "        self.linear_layer = nn.Linear(in_features=1, out_features=1)\n",
    "\n",
    "    def forward(self, x: torch.Tensor) -> torch.Tensor:\n",
    "        return self.linear_layer(x)\n",
    "\n",
    "model_1 = LinearRegressionModelV2()\n",
    "model_1, model_1.state_dict()"
   ],
   "id": "19aec3ecc275f7f6",
   "outputs": [
    {
     "data": {
      "text/plain": [
       "(LinearRegressionModelV2(\n",
       "   (linear_layer): Linear(in_features=1, out_features=1, bias=True)\n",
       " ),\n",
       " OrderedDict([('linear_layer.weight', tensor([[0.7645]])),\n",
       "              ('linear_layer.bias', tensor([0.8300]))]))"
      ]
     },
     "execution_count": 33,
     "metadata": {},
     "output_type": "execute_result"
    }
   ],
   "execution_count": 33
  },
  {
   "metadata": {
    "ExecuteTime": {
     "end_time": "2025-07-16T06:30:23.109500Z",
     "start_time": "2025-07-16T06:30:23.100969Z"
    }
   },
   "cell_type": "code",
   "source": "X_train[:10], y_train[:10]",
   "id": "95f07029fa0d975e",
   "outputs": [
    {
     "data": {
      "text/plain": [
       "(tensor([[0.6800],\n",
       "         [0.0800],\n",
       "         [0.3600],\n",
       "         [0.7000],\n",
       "         [0.7400],\n",
       "         [0.5200],\n",
       "         [0.7600],\n",
       "         [0.5400],\n",
       "         [0.2800],\n",
       "         [0.9400]]),\n",
       " tensor([[0.7760],\n",
       "         [0.3560],\n",
       "         [0.5520],\n",
       "         [0.7900],\n",
       "         [0.8180],\n",
       "         [0.6640],\n",
       "         [0.8320],\n",
       "         [0.6780],\n",
       "         [0.4960],\n",
       "         [0.9580]]))"
      ]
     },
     "execution_count": 34,
     "metadata": {},
     "output_type": "execute_result"
    }
   ],
   "execution_count": 34
  },
  {
   "metadata": {
    "ExecuteTime": {
     "end_time": "2025-07-16T06:30:23.161161Z",
     "start_time": "2025-07-16T06:30:23.156988Z"
    }
   },
   "cell_type": "code",
   "source": [
    "# Set the model to use target device\n",
    "model_1.to(device)\n",
    "next(model_1.parameters()).device"
   ],
   "id": "1898fba5453fa4b2",
   "outputs": [
    {
     "data": {
      "text/plain": [
       "device(type='cpu')"
      ]
     },
     "execution_count": 35,
     "metadata": {},
     "output_type": "execute_result"
    }
   ],
   "execution_count": 35
  },
  {
   "metadata": {
    "ExecuteTime": {
     "end_time": "2025-07-16T06:30:23.215364Z",
     "start_time": "2025-07-16T06:30:23.209445Z"
    }
   },
   "cell_type": "code",
   "source": "model_1.state_dict()",
   "id": "f70a2f086c4364a9",
   "outputs": [
    {
     "data": {
      "text/plain": [
       "OrderedDict([('linear_layer.weight', tensor([[0.7645]])),\n",
       "             ('linear_layer.bias', tensor([0.8300]))])"
      ]
     },
     "execution_count": 36,
     "metadata": {},
     "output_type": "execute_result"
    }
   ],
   "execution_count": 36
  },
  {
   "metadata": {},
   "cell_type": "markdown",
   "source": [
    "### 6.3 Training\n",
    "\n",
    "For training, we need:\n",
    "* Loss function\n",
    "* Optimizer\n",
    "* Training loop\n",
    "* Testing loop"
   ],
   "id": "c2e3337352bda772"
  },
  {
   "metadata": {
    "ExecuteTime": {
     "end_time": "2025-07-16T06:30:23.248149Z",
     "start_time": "2025-07-16T06:30:23.245278Z"
    }
   },
   "cell_type": "code",
   "source": [
    "# Setup loss function\n",
    "loss_fn = nn.L1Loss() # Same as MAE\n",
    "\n",
    "# Setup our optimizer\n",
    "optimizer = torch.optim.SGD(model_1.parameters(), lr=0.001)"
   ],
   "id": "e44304dada658bfd",
   "outputs": [],
   "execution_count": 37
  },
  {
   "metadata": {
    "ExecuteTime": {
     "end_time": "2025-07-16T06:30:23.470608Z",
     "start_time": "2025-07-16T06:30:23.276790Z"
    }
   },
   "cell_type": "code",
   "source": [
    "# Let's write a training loop\n",
    "torch.manual_seed(42)\n",
    "epochs = 1_500\n",
    "\n",
    "# Put data to the target device (device-agnostic code)\n",
    "X_train.to(device)\n",
    "X_test.to(device)\n",
    "y_train.to(device)\n",
    "y_test.to(device)\n",
    "\n",
    "epoch_count = []\n",
    "loss_values = []\n",
    "train_loss_values = []\n",
    "\n",
    "for epoch in range(epochs):\n",
    "    model_1.train()\n",
    "\n",
    "    # 1. Forward pass\n",
    "    y_pred = model_1(X_train)\n",
    "\n",
    "    # 2. Calculate the loss\n",
    "    loss = loss_fn(y_pred, y_train)\n",
    "\n",
    "    # 3. Optimizer zero grad\n",
    "    optimizer.zero_grad()\n",
    "\n",
    "    # 4. Perform backpropagation\n",
    "    loss.backward()\n",
    "\n",
    "    # 5. Optimizer step\n",
    "    optimizer.step()\n",
    "\n",
    "    ### Testing\n",
    "    model_1.eval()\n",
    "    with torch.inference_mode():\n",
    "        test_pred = model_1(X_test)\n",
    "        test_loss = loss_fn(test_pred, y_test)\n",
    "\n",
    "    # Printing out what's happening\n",
    "    if epoch % 10 == 0:\n",
    "        print(f\"Epoch {epoch} | Loss: {loss} | Test Loss: {test_loss}\")\n"
   ],
   "id": "d4328b512e80cb5",
   "outputs": [
    {
     "name": "stdout",
     "output_type": "stream",
     "text": [
      "Epoch 0 | Loss: 0.5623417496681213 | Test Loss: 0.5575686693191528\n",
      "Epoch 10 | Loss: 0.5498319864273071 | Test Loss: 0.5453344583511353\n",
      "Epoch 20 | Loss: 0.5373221635818481 | Test Loss: 0.5331002473831177\n",
      "Epoch 30 | Loss: 0.5248124003410339 | Test Loss: 0.5208660364151001\n",
      "Epoch 40 | Loss: 0.5123026967048645 | Test Loss: 0.5086318254470825\n",
      "Epoch 50 | Loss: 0.4997928738594055 | Test Loss: 0.4963974952697754\n",
      "Epoch 60 | Loss: 0.4872830808162689 | Test Loss: 0.4841632843017578\n",
      "Epoch 70 | Loss: 0.4747733473777771 | Test Loss: 0.47192907333374023\n",
      "Epoch 80 | Loss: 0.4622635841369629 | Test Loss: 0.45969486236572266\n",
      "Epoch 90 | Loss: 0.4497538208961487 | Test Loss: 0.4474605619907379\n",
      "Epoch 100 | Loss: 0.4372440278530121 | Test Loss: 0.4352263808250427\n",
      "Epoch 110 | Loss: 0.4247342646121979 | Test Loss: 0.42299216985702515\n",
      "Epoch 120 | Loss: 0.41222453117370605 | Test Loss: 0.4107579290866852\n",
      "Epoch 130 | Loss: 0.39971476793289185 | Test Loss: 0.3985236883163452\n",
      "Epoch 140 | Loss: 0.38720497488975525 | Test Loss: 0.38628944754600525\n",
      "Epoch 150 | Loss: 0.37469521164894104 | Test Loss: 0.37405523657798767\n",
      "Epoch 160 | Loss: 0.3621854782104492 | Test Loss: 0.3618209958076477\n",
      "Epoch 170 | Loss: 0.349675714969635 | Test Loss: 0.34958672523498535\n",
      "Epoch 180 | Loss: 0.3371659219264984 | Test Loss: 0.33735254406929016\n",
      "Epoch 190 | Loss: 0.3246561586856842 | Test Loss: 0.3251183331012726\n",
      "Epoch 200 | Loss: 0.31214639544487 | Test Loss: 0.3128840923309326\n",
      "Epoch 210 | Loss: 0.2996366322040558 | Test Loss: 0.30064982175827026\n",
      "Epoch 220 | Loss: 0.2871268391609192 | Test Loss: 0.2884156107902527\n",
      "Epoch 230 | Loss: 0.27461710572242737 | Test Loss: 0.2761813998222351\n",
      "Epoch 240 | Loss: 0.26210731267929077 | Test Loss: 0.26394718885421753\n",
      "Epoch 250 | Loss: 0.24959754943847656 | Test Loss: 0.25171294808387756\n",
      "Epoch 260 | Loss: 0.23708780109882355 | Test Loss: 0.2394787073135376\n",
      "Epoch 270 | Loss: 0.22457802295684814 | Test Loss: 0.22724449634552002\n",
      "Epoch 280 | Loss: 0.21206827461719513 | Test Loss: 0.21501025557518005\n",
      "Epoch 290 | Loss: 0.19955849647521973 | Test Loss: 0.20277602970600128\n",
      "Epoch 300 | Loss: 0.18704871833324432 | Test Loss: 0.19054178893566132\n",
      "Epoch 310 | Loss: 0.17453895509243011 | Test Loss: 0.17830757796764374\n",
      "Epoch 320 | Loss: 0.1620291918516159 | Test Loss: 0.16607335209846497\n",
      "Epoch 330 | Loss: 0.1495194137096405 | Test Loss: 0.1538390964269638\n",
      "Epoch 340 | Loss: 0.1370096653699875 | Test Loss: 0.14160487055778503\n",
      "Epoch 350 | Loss: 0.12449989467859268 | Test Loss: 0.12937065958976746\n",
      "Epoch 360 | Loss: 0.11199013143777847 | Test Loss: 0.11713643372058868\n",
      "Epoch 370 | Loss: 0.09948036074638367 | Test Loss: 0.10490219295024872\n",
      "Epoch 380 | Loss: 0.08697059750556946 | Test Loss: 0.09266796708106995\n",
      "Epoch 390 | Loss: 0.07446082681417465 | Test Loss: 0.08043374121189117\n",
      "Epoch 400 | Loss: 0.06197132542729378 | Test Loss: 0.06917409598827362\n",
      "Epoch 410 | Loss: 0.05286954715847969 | Test Loss: 0.062477659434080124\n",
      "Epoch 420 | Loss: 0.04716925695538521 | Test Loss: 0.05811562016606331\n",
      "Epoch 430 | Loss: 0.04371079429984093 | Test Loss: 0.05467228963971138\n",
      "Epoch 440 | Loss: 0.04144265130162239 | Test Loss: 0.05192244052886963\n",
      "Epoch 450 | Loss: 0.03958108276128769 | Test Loss: 0.05023614317178726\n",
      "Epoch 460 | Loss: 0.03821680694818497 | Test Loss: 0.048759251832962036\n",
      "Epoch 470 | Loss: 0.03721916675567627 | Test Loss: 0.04749290645122528\n",
      "Epoch 480 | Loss: 0.03643354773521423 | Test Loss: 0.04638509824872017\n",
      "Epoch 490 | Loss: 0.035744331777095795 | Test Loss: 0.04536566883325577\n",
      "Epoch 500 | Loss: 0.03517792746424675 | Test Loss: 0.04447020962834358\n",
      "Epoch 510 | Loss: 0.0346115306019783 | Test Loss: 0.0435747355222702\n",
      "Epoch 520 | Loss: 0.034125007688999176 | Test Loss: 0.04285707324743271\n",
      "Epoch 530 | Loss: 0.03364716097712517 | Test Loss: 0.04213942959904671\n",
      "Epoch 540 | Loss: 0.03316932171583176 | Test Loss: 0.041421763598918915\n",
      "Epoch 550 | Loss: 0.03269147872924805 | Test Loss: 0.04070410877466202\n",
      "Epoch 560 | Loss: 0.03221653029322624 | Test Loss: 0.04000430554151535\n",
      "Epoch 570 | Loss: 0.03176356852054596 | Test Loss: 0.03944738581776619\n",
      "Epoch 580 | Loss: 0.03131059929728508 | Test Loss: 0.038890473544597626\n",
      "Epoch 590 | Loss: 0.030858075246214867 | Test Loss: 0.038315676152706146\n",
      "Epoch 600 | Loss: 0.030405107885599136 | Test Loss: 0.03775874897837639\n",
      "Epoch 610 | Loss: 0.029952138662338257 | Test Loss: 0.03720184043049812\n",
      "Epoch 620 | Loss: 0.029499614611268044 | Test Loss: 0.03662705793976784\n",
      "Epoch 630 | Loss: 0.029046649113297462 | Test Loss: 0.03607013449072838\n",
      "Epoch 640 | Loss: 0.028593679890036583 | Test Loss: 0.03551321104168892\n",
      "Epoch 650 | Loss: 0.028141159564256668 | Test Loss: 0.03493844345211983\n",
      "Epoch 660 | Loss: 0.02768818661570549 | Test Loss: 0.034381505101919174\n",
      "Epoch 670 | Loss: 0.02723531797528267 | Test Loss: 0.03380672633647919\n",
      "Epoch 680 | Loss: 0.026782697066664696 | Test Loss: 0.033249806612730026\n",
      "Epoch 690 | Loss: 0.026329725980758667 | Test Loss: 0.03269289433956146\n",
      "Epoch 700 | Loss: 0.025877073407173157 | Test Loss: 0.03211810067296028\n",
      "Epoch 710 | Loss: 0.025424236431717873 | Test Loss: 0.031561173498630524\n",
      "Epoch 720 | Loss: 0.024971265345811844 | Test Loss: 0.03100426122546196\n",
      "Epoch 730 | Loss: 0.024518737569451332 | Test Loss: 0.030429473146796227\n",
      "Epoch 740 | Loss: 0.024065770208835602 | Test Loss: 0.029872557148337364\n",
      "Epoch 750 | Loss: 0.023612800985574722 | Test Loss: 0.029315639287233353\n",
      "Epoch 760 | Loss: 0.023160284385085106 | Test Loss: 0.028740858659148216\n",
      "Epoch 770 | Loss: 0.022707311436533928 | Test Loss: 0.02818392775952816\n",
      "Epoch 780 | Loss: 0.022254347801208496 | Test Loss: 0.027627015486359596\n",
      "Epoch 790 | Loss: 0.021801818162202835 | Test Loss: 0.027052229270339012\n",
      "Epoch 800 | Loss: 0.021348850801587105 | Test Loss: 0.02649531699717045\n",
      "Epoch 810 | Loss: 0.020895879715681076 | Test Loss: 0.025938386097550392\n",
      "Epoch 820 | Loss: 0.02044335938990116 | Test Loss: 0.02536359429359436\n",
      "Epoch 830 | Loss: 0.01999039016664028 | Test Loss: 0.024806683883070946\n",
      "Epoch 840 | Loss: 0.019537607207894325 | Test Loss: 0.02423190139234066\n",
      "Epoch 850 | Loss: 0.019084898754954338 | Test Loss: 0.02367497980594635\n",
      "Epoch 860 | Loss: 0.018631931394338608 | Test Loss: 0.02311805449426174\n",
      "Epoch 870 | Loss: 0.018179353326559067 | Test Loss: 0.02254328690469265\n",
      "Epoch 880 | Loss: 0.017726438120007515 | Test Loss: 0.021986350417137146\n",
      "Epoch 890 | Loss: 0.017273470759391785 | Test Loss: 0.021429430693387985\n",
      "Epoch 900 | Loss: 0.01682094857096672 | Test Loss: 0.020854651927947998\n",
      "Epoch 910 | Loss: 0.01636797934770584 | Test Loss: 0.020297739654779434\n",
      "Epoch 920 | Loss: 0.01591501571238041 | Test Loss: 0.019740808755159378\n",
      "Epoch 930 | Loss: 0.015462485142052174 | Test Loss: 0.019166016951203346\n",
      "Epoch 940 | Loss: 0.01500951498746872 | Test Loss: 0.01860910654067993\n",
      "Epoch 950 | Loss: 0.014556542038917542 | Test Loss: 0.018052179366350174\n",
      "Epoch 960 | Loss: 0.014104023575782776 | Test Loss: 0.017477402463555336\n",
      "Epoch 970 | Loss: 0.013651055283844471 | Test Loss: 0.016920482739806175\n",
      "Epoch 980 | Loss: 0.013198146596550941 | Test Loss: 0.016345703974366188\n",
      "Epoch 990 | Loss: 0.012745559215545654 | Test Loss: 0.015788773074746132\n",
      "Epoch 1000 | Loss: 0.012292595580220222 | Test Loss: 0.015231859870254993\n",
      "Epoch 1010 | Loss: 0.01183989830315113 | Test Loss: 0.014657074585556984\n",
      "Epoch 1020 | Loss: 0.01138710230588913 | Test Loss: 0.014100161381065845\n",
      "Epoch 1030 | Loss: 0.010934132151305676 | Test Loss: 0.01354323048144579\n",
      "Epoch 1040 | Loss: 0.010481609031558037 | Test Loss: 0.012968438677489758\n",
      "Epoch 1050 | Loss: 0.010028643533587456 | Test Loss: 0.012411522679030895\n",
      "Epoch 1060 | Loss: 0.009575671516358852 | Test Loss: 0.011854601092636585\n",
      "Epoch 1070 | Loss: 0.009123152121901512 | Test Loss: 0.011279824189841747\n",
      "Epoch 1080 | Loss: 0.008670181035995483 | Test Loss: 0.010722899809479713\n",
      "Epoch 1090 | Loss: 0.008217206224799156 | Test Loss: 0.010165974497795105\n",
      "Epoch 1100 | Loss: 0.007764691952615976 | Test Loss: 0.009591194801032543\n",
      "Epoch 1110 | Loss: 0.007311721332371235 | Test Loss: 0.009034276008605957\n",
      "Epoch 1120 | Loss: 0.006858753971755505 | Test Loss: 0.008477345108985901\n",
      "Epoch 1130 | Loss: 0.006406229920685291 | Test Loss: 0.007902583107352257\n",
      "Epoch 1140 | Loss: 0.005953268613666296 | Test Loss: 0.007345652673393488\n",
      "Epoch 1150 | Loss: 0.005500440951436758 | Test Loss: 0.0067708613350987434\n",
      "Epoch 1160 | Loss: 0.0050477697513997555 | Test Loss: 0.006213950924575329\n",
      "Epoch 1170 | Loss: 0.004594794474542141 | Test Loss: 0.005657023284584284\n",
      "Epoch 1180 | Loss: 0.004142196383327246 | Test Loss: 0.005082246847450733\n",
      "Epoch 1190 | Loss: 0.0036893070209771395 | Test Loss: 0.00452532758936286\n",
      "Epoch 1200 | Loss: 0.0032363408245146275 | Test Loss: 0.003968396689742804\n",
      "Epoch 1210 | Loss: 0.0027838132809847593 | Test Loss: 0.0033936172258108854\n",
      "Epoch 1220 | Loss: 0.0023308463860303164 | Test Loss: 0.0028367042541503906\n",
      "Epoch 1230 | Loss: 0.0018778748344630003 | Test Loss: 0.0022797673009335995\n",
      "Epoch 1240 | Loss: 0.0014253519475460052 | Test Loss: 0.0017050057649612427\n",
      "Epoch 1250 | Loss: 0.0009723856928758323 | Test Loss: 0.0011480808025225997\n",
      "Epoch 1260 | Loss: 0.0005194060504436493 | Test Loss: 0.0005911558982916176\n",
      "Epoch 1270 | Loss: 0.00022714809165336192 | Test Loss: 0.0009858846897259355\n",
      "Epoch 1280 | Loss: 0.00022714809165336192 | Test Loss: 0.0009858846897259355\n",
      "Epoch 1290 | Loss: 0.00022714809165336192 | Test Loss: 0.0009858846897259355\n",
      "Epoch 1300 | Loss: 0.00022714809165336192 | Test Loss: 0.0009858846897259355\n",
      "Epoch 1310 | Loss: 0.00022714809165336192 | Test Loss: 0.0009858846897259355\n",
      "Epoch 1320 | Loss: 0.00022714809165336192 | Test Loss: 0.0009858846897259355\n",
      "Epoch 1330 | Loss: 0.00022714809165336192 | Test Loss: 0.0009858846897259355\n",
      "Epoch 1340 | Loss: 0.00022714809165336192 | Test Loss: 0.0009858846897259355\n",
      "Epoch 1350 | Loss: 0.00022714809165336192 | Test Loss: 0.0009858846897259355\n",
      "Epoch 1360 | Loss: 0.00022714809165336192 | Test Loss: 0.0009858846897259355\n",
      "Epoch 1370 | Loss: 0.00022714809165336192 | Test Loss: 0.0009858846897259355\n",
      "Epoch 1380 | Loss: 0.00022714809165336192 | Test Loss: 0.0009858846897259355\n",
      "Epoch 1390 | Loss: 0.00022714809165336192 | Test Loss: 0.0009858846897259355\n",
      "Epoch 1400 | Loss: 0.00022714809165336192 | Test Loss: 0.0009858846897259355\n",
      "Epoch 1410 | Loss: 0.00022714809165336192 | Test Loss: 0.0009858846897259355\n",
      "Epoch 1420 | Loss: 0.00022714809165336192 | Test Loss: 0.0009858846897259355\n",
      "Epoch 1430 | Loss: 0.00022714809165336192 | Test Loss: 0.0009858846897259355\n",
      "Epoch 1440 | Loss: 0.00022714809165336192 | Test Loss: 0.0009858846897259355\n",
      "Epoch 1450 | Loss: 0.00022714809165336192 | Test Loss: 0.0009858846897259355\n",
      "Epoch 1460 | Loss: 0.00022714809165336192 | Test Loss: 0.0009858846897259355\n",
      "Epoch 1470 | Loss: 0.00022714809165336192 | Test Loss: 0.0009858846897259355\n",
      "Epoch 1480 | Loss: 0.00022714809165336192 | Test Loss: 0.0009858846897259355\n",
      "Epoch 1490 | Loss: 0.00022714809165336192 | Test Loss: 0.0009858846897259355\n"
     ]
    }
   ],
   "execution_count": 38
  },
  {
   "metadata": {
    "ExecuteTime": {
     "end_time": "2025-07-16T06:30:23.486152Z",
     "start_time": "2025-07-16T06:30:23.481884Z"
    }
   },
   "cell_type": "code",
   "source": "model_1.state_dict()",
   "id": "95055f7ef81c1d71",
   "outputs": [
    {
     "data": {
      "text/plain": [
       "OrderedDict([('linear_layer.weight', tensor([[0.6998]])),\n",
       "             ('linear_layer.bias', tensor([0.3003]))])"
      ]
     },
     "execution_count": 39,
     "metadata": {},
     "output_type": "execute_result"
    }
   ],
   "execution_count": 39
  },
  {
   "metadata": {
    "ExecuteTime": {
     "end_time": "2025-07-16T06:30:23.523507Z",
     "start_time": "2025-07-16T06:30:23.519032Z"
    }
   },
   "cell_type": "code",
   "source": "weight, bias",
   "id": "c763010e9f2c88e0",
   "outputs": [
    {
     "data": {
      "text/plain": [
       "(0.7, 0.3)"
      ]
     },
     "execution_count": 40,
     "metadata": {},
     "output_type": "execute_result"
    }
   ],
   "execution_count": 40
  },
  {
   "metadata": {},
   "cell_type": "markdown",
   "source": "### 6.4 Making and evaluating predictions",
   "id": "68fd9e13cb57ad4e"
  },
  {
   "metadata": {
    "ExecuteTime": {
     "end_time": "2025-07-16T06:30:23.558382Z",
     "start_time": "2025-07-16T06:30:23.554239Z"
    }
   },
   "cell_type": "code",
   "source": [
    "# Turn into evaluation predictions\n",
    "model_1.eval()\n",
    "\n",
    "# Make predictions on the test data\n",
    "with torch.inference_mode():\n",
    "    y_preds = model_1(X_test)\n",
    "y_preds"
   ],
   "id": "f88d409b4cd686ac",
   "outputs": [
    {
     "data": {
      "text/plain": [
       "tensor([[0.6922],\n",
       "        [0.9302],\n",
       "        [0.5663],\n",
       "        [0.6082],\n",
       "        [0.9861],\n",
       "        [0.3283],\n",
       "        [0.3843],\n",
       "        [0.3983],\n",
       "        [0.8042],\n",
       "        [0.4263]])"
      ]
     },
     "execution_count": 41,
     "metadata": {},
     "output_type": "execute_result"
    }
   ],
   "execution_count": 41
  },
  {
   "metadata": {
    "ExecuteTime": {
     "end_time": "2025-07-16T06:37:54.922293Z",
     "start_time": "2025-07-16T06:37:54.789510Z"
    }
   },
   "cell_type": "code",
   "source": [
    "# Check out our model predictions visually\n",
    "plot_predictions(predictions=y_preds) # Rerun the function cell to update the default params"
   ],
   "id": "d8101c578b401a0f",
   "outputs": [
    {
     "data": {
      "text/plain": [
       "<Figure size 1200x800 with 1 Axes>"
      ],
      "image/png": "[encoded data removed]"
     },
     "metadata": {},
     "output_type": "display_data"
    }
   ],
   "execution_count": 50
  },
  {
   "metadata": {},
   "cell_type": "markdown",
   "source": "### 6.5 Saving and loading a trained model",
   "id": "62b893650c490b24"
  },
  {
   "metadata": {
    "ExecuteTime": {
     "end_time": "2025-07-16T06:30:23.812069Z",
     "start_time": "2025-07-16T06:30:23.804220Z"
    }
   },
   "cell_type": "code",
   "source": [
    "from pathlib import Path\n",
    "\n",
    "# 1. Create models directory\n",
    "Model_PATH = Path(\"models\")\n",
    "Model_PATH.mkdir(parents=True, exist_ok=True)\n",
    "\n",
    "# 2. Create model save path\n",
    "MODEL_NAME = \"01_pytorch_workflow_video_model_1.pth\"\n",
    "MODEL_SAVE_PATH = Model_PATH / MODEL_NAME\n",
    "\n",
    "# 3. Save the model state dict\n",
    "print(f\"Saving model to {MODEL_SAVE_PATH}\")\n",
    "torch.save(model_1.state_dict(), MODEL_SAVE_PATH)"
   ],
   "id": "b99d157021030470",
   "outputs": [
    {
     "name": "stdout",
     "output_type": "stream",
     "text": [
      "Saving model to models/01_pytorch_workflow_video_model_1.pth\n"
     ]
    }
   ],
   "execution_count": 43
  },
  {
   "metadata": {
    "ExecuteTime": {
     "end_time": "2025-07-16T06:30:23.868082Z",
     "start_time": "2025-07-16T06:30:23.863924Z"
    }
   },
   "cell_type": "code",
   "source": "model_1.state_dict()",
   "id": "dad20224dc3bfbaa",
   "outputs": [
    {
     "data": {
      "text/plain": [
       "OrderedDict([('linear_layer.weight', tensor([[0.6998]])),\n",
       "             ('linear_layer.bias', tensor([0.3003]))])"
      ]
     },
     "execution_count": 44,
     "metadata": {},
     "output_type": "execute_result"
    }
   ],
   "execution_count": 44
  },
  {
   "metadata": {
    "ExecuteTime": {
     "end_time": "2025-07-16T06:40:46.254023Z",
     "start_time": "2025-07-16T06:40:46.204509Z"
    }
   },
   "cell_type": "code",
   "source": [
    "# Load a PyTorch model\n",
    "\n",
    "# Create a new instance of linear regression model v2\n",
    "loaded_model_1 = LinearRegressionModelV2()\n",
    "\n",
    "# load the saved model model_1 state_dict\n",
    "loaded_model_1.load_state_dict(torch.load(MODEL_SAVE_PATH))\n",
    "\n",
    "# put the loaded model to device\n",
    "loaded_model_1.to(device)"
   ],
   "id": "8f69195601373a04",
   "outputs": [
    {
     "data": {
      "text/plain": [
       "LinearRegressionModelV2(\n",
       "  (linear_layer): Linear(in_features=1, out_features=1, bias=True)\n",
       ")"
      ]
     },
     "execution_count": 51,
     "metadata": {},
     "output_type": "execute_result"
    }
   ],
   "execution_count": 51
  },
  {
   "metadata": {
    "ExecuteTime": {
     "end_time": "2025-07-16T06:40:52.929183Z",
     "start_time": "2025-07-16T06:40:52.921050Z"
    }
   },
   "cell_type": "code",
   "source": "next(loaded_model_1.parameters()).device",
   "id": "69bdc286c40744bd",
   "outputs": [
    {
     "data": {
      "text/plain": [
       "device(type='cpu')"
      ]
     },
     "execution_count": 52,
     "metadata": {},
     "output_type": "execute_result"
    }
   ],
   "execution_count": 52
  },
  {
   "metadata": {
    "ExecuteTime": {
     "end_time": "2025-07-16T06:41:04.216706Z",
     "start_time": "2025-07-16T06:41:04.197026Z"
    }
   },
   "cell_type": "code",
   "source": "loaded_model_1.state_dict()",
   "id": "1d83debe53149450",
   "outputs": [
    {
     "data": {
      "text/plain": [
       "OrderedDict([('linear_layer.weight', tensor([[0.6998]])),\n",
       "             ('linear_layer.bias', tensor([0.3003]))])"
      ]
     },
     "execution_count": 53,
     "metadata": {},
     "output_type": "execute_result"
    }
   ],
   "execution_count": 53
  },
  {
   "metadata": {
    "ExecuteTime": {
     "end_time": "2025-07-16T06:42:11.783223Z",
     "start_time": "2025-07-16T06:42:11.710259Z"
    }
   },
   "cell_type": "code",
   "source": [
    "# Evaluate loaded model\n",
    "loaded_model_1.eval()\n",
    "with torch.inference_mode():\n",
    "    loaded_model_1_pred = model_1(X_test)\n",
    "    loaded_model_1_loss = loss_fn(test_pred, y_test)\n",
    "loaded_model_1_pred == y_preds"
   ],
   "id": "b95a4c9ab1c938a2",
   "outputs": [
    {
     "data": {
      "text/plain": [
       "tensor([[True],\n",
       "        [True],\n",
       "        [True],\n",
       "        [True],\n",
       "        [True],\n",
       "        [True],\n",
       "        [True],\n",
       "        [True],\n",
       "        [True],\n",
       "        [True]])"
      ]
     },
     "execution_count": 54,
     "metadata": {},
     "output_type": "execute_result"
    }
   ],
   "execution_count": 54
  },
  {
   "metadata": {},
   "cell_type": "markdown",
   "source": [
    "copied cell form [here](https://colab.research.google.com/github/mrdbourke/pytorch-deep-learning/blob/main/01_pytorch_workflow.ipynb)\n",
    "\n",
    "## Exercises\n",
    "\n",
    "All exercises have been inspired from code throughout the notebook.\n",
    "\n",
    "There is one exercise per major section.\n",
    "\n",
    "You should be able to complete them by referencing their specific section.\n",
    "\n",
    "> **Note:** For all exercises, your code should be device agnostic (meaning it could run on CPU or GPU if it's available).\n",
    "\n",
    "1. Create a straight line dataset using the linear regression formula (`weight * X + bias`).\n",
    "  * Set `weight=0.3` and `bias=0.9` there should be at least 100 datapoints total.\n",
    "  * Split the data into 80% training, 20% testing.\n",
    "  * Plot the training and testing data so it becomes visual.\n",
    "2. Build a PyTorch model by subclassing `nn.Module`.\n",
    "  * Inside should be a randomly initialized `nn.Parameter()` with `requires_grad=True`, one for `weights` and one for `bias`.\n",
    "  * Implement the `forward()` method to compute the linear regression function you used to create the dataset in 1.\n",
    "  * Once you've constructed the model, make an instance of it and check its `state_dict()`.\n",
    "  * **Note:** If you'd like to use `nn.Linear()` instead of `nn.Parameter()` you can.\n",
    "3. Create a loss function and optimizer using `nn.L1Loss()` and `torch.optim.SGD(params, lr)` respectively.\n",
    "  * Set the learning rate of the optimizer to be 0.01 and the parameters to optimize should be the model parameters from the model you created in 2.\n",
    "  * Write a training loop to perform the appropriate training steps for 300 epochs.\n",
    "  * The training loop should test the model on the test dataset every 20 epochs.\n",
    "4. Make predictions with the trained model on the test data.\n",
    "  * Visualize these predictions against the original training and testing data (**note:** you may need to make sure the predictions are *not* on the GPU if you want to use non-CUDA-enabled libraries such as matplotlib to plot).\n",
    "5. Save your trained model's `state_dict()` to file.\n",
    "  * Create a new instance of your model class you made in 2. and load in the `state_dict()` you just saved to it.\n",
    "  * Perform predictions on your test data with the loaded model and confirm they match the original model predictions from 4.\n",
    "\n",
    "> **Resource:** See the [exercises notebooks templates](https://github.com/mrdbourke/pytorch-deep-learning/tree/main/extras/exercises) and [solutions](https://github.com/mrdbourke/pytorch-deep-learning/tree/main/extras/solutions) on the course GitHub.\n",
    "\n",
    "## Extra-curriculum\n",
    "* Listen to [The Unofficial PyTorch Optimization Loop Song](https://youtu.be/Nutpusq_AFw) (to help remember the steps in a PyTorch training/testing loop).\n",
    "* Read [What is `torch.nn`, really?](https://pytorch.org/tutorials/beginner/nn_tutorial.html) by Jeremy Howard for a deeper understanding of how one of the most important modules in PyTorch works.\n",
    "* Spend 10-minutes scrolling through and checking out the [PyTorch documentation cheatsheet](https://pytorch.org/tutorials/beginner/ptcheat.html) for all of the different PyTorch modules you might come across.\n",
    "* Spend 10-minutes reading the [loading and saving documentation on the PyTorch website](https://pytorch.org/tutorials/beginner/saving_loading_models.html) to become more familiar with the different saving and loading options in PyTorch.\n",
    "* Spend 1-2 hours reading/watching the following for an overview of the internals of gradient descent and backpropagation, the two main algorithms that have been working in the background to help our model learn.\n",
    " * [Wikipedia page for gradient descent](https://en.wikipedia.org/wiki/Gradient_descent)\n",
    " * [Gradient Descent Algorithm — a deep dive](https://towardsdatascience.com/gradient-descent-algorithm-a-deep-dive-cf04e8115f21) by Robert Kwiatkowski\n",
    " * [Gradient descent, how neural networks learn video](https://youtu.be/IHZwWFHWa-w) by 3Blue1Brown\n",
    " * [What is backpropagation really doing?](https://youtu.be/Ilg3gGewQ5U) video by 3Blue1Brown\n",
    " * [Backpropagation Wikipedia Page](https://en.wikipedia.org/wiki/Backpropagation)\n"
   ],
   "id": "c470fad131ec62fa"
  },
  {
   "metadata": {},
   "cell_type": "code",
   "outputs": [],
   "execution_count": null,
   "source": "",
   "id": "a46395c98cd8126e"
  }
 ],
 "metadata": {
  "kernelspec": {
   "display_name": "Python 3",
   "language": "python",
   "name": "python3"
  },
  "language_info": {
   "codemirror_mode": {
    "name": "ipython",
    "version": 2
   },
   "file_extension": ".py",
   "mimetype": "text/x-python",
   "name": "python",
   "nbconvert_exporter": "python",
   "pygments_lexer": "ipython2",
   "version": "2.7.6"
  }
 },
 "nbformat": 4,
 "nbformat_minor": 5
}
