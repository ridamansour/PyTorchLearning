{
 "cells": [
  {
   "metadata": {},
   "cell_type": "markdown",
   "source": [
    "# PyTorch Workflow\n",
    "\n",
    "Let's explore an example PyTorch end-to-end workflow\n",
    "\n",
    "Resources:\n",
    "* Ground truth notebook - https://github.com/mrdbourke/pytorch-deep-learning/blob/main/01_pytorch_workflow.ipynb\n",
    "* Book version of notebook - https://www.learnpytorch.io/01_pytorch_workflow/\n",
    "* Ask a question - https://github.com/mrdbourke/pytorch-deep-learning/discussions\n"
   ],
   "id": "b2945a7c5d332531"
  },
  {
   "cell_type": "code",
   "id": "initial_id",
   "metadata": {
    "collapsed": true,
    "ExecuteTime": {
     "end_time": "2025-07-07T15:48:56.721204Z",
     "start_time": "2025-07-07T15:48:56.707277Z"
    }
   },
   "source": [
    "what_were_covering = {\n",
    "    1: \"data (prepare and load)\",\n",
    "    2: \"build model\",\n",
    "    3: \"fitting the model to data (training)\",\n",
    "    4: \"making predictions and evaluating model (inference)\",\n",
    "    5: \"saving and loading a model\",\n",
    "    6: \"putting it all together\"\n",
    "}\n",
    "what_were_covering"
   ],
   "outputs": [
    {
     "data": {
      "text/plain": [
       "{1: 'data (prepare and load)',\n",
       " 2: 'build model',\n",
       " 3: 'fitting the model to data (training)',\n",
       " 4: 'making predictions and evaluating model (inference)',\n",
       " 5: 'saving and loading a model',\n",
       " 6: 'putting it all together'}"
      ]
     },
     "execution_count": 1,
     "metadata": {},
     "output_type": "execute_result"
    }
   ],
   "execution_count": 1
  },
  {
   "metadata": {
    "ExecuteTime": {
     "end_time": "2025-07-07T15:49:00.633135Z",
     "start_time": "2025-07-07T15:48:56.814790Z"
    }
   },
   "cell_type": "code",
   "source": [
    "import torch\n",
    "from torch import nn # nn contains all of PyTorch's building blocks for neural networks\n",
    "from sklearn.model_selection import train_test_split\n",
    "import matplotlib.pyplot as plt\n",
    "\n",
    "# Check PyTorch version\n",
    "torch.__version__"
   ],
   "id": "22ba9fa3ca7701a3",
   "outputs": [
    {
     "data": {
      "text/plain": [
       "'2.7.1'"
      ]
     },
     "execution_count": 2,
     "metadata": {},
     "output_type": "execute_result"
    }
   ],
   "execution_count": 2
  },
  {
   "metadata": {},
   "cell_type": "markdown",
   "source": [
    "## 1. Data (preparing and loading)\n",
    "\n",
    "Data can be almost anything... in machine learning.\n",
    "* Excel spreadsheet\n",
    "* Images of any kind\n",
    "* Videos (YouTube has lots of data)\n",
    "* Audio like songs or podcasts\n",
    "* DNA\n",
    "* Text\n",
    "\n",
    "Machine Learning is a game of two parts:\n",
    "1. Get data into numerical representation.\n",
    "2. Build a model to learn patterns in that numerical representation.\n",
    "\n",
    "To showcase this, let's create some *known* data using the linear regression formula.\n",
    "\n",
    "We'll use a linear regression formula to make a straight line with known **parameters**."
   ],
   "id": "7ec94810e97649db"
  },
  {
   "metadata": {
    "ExecuteTime": {
     "end_time": "2025-07-07T15:49:00.659585Z",
     "start_time": "2025-07-07T15:49:00.650749Z"
    }
   },
   "cell_type": "code",
   "source": [
    "# Create *known* parameters\n",
    "weight = 0.7\n",
    "bias = 0.3\n",
    "\n",
    "# Create\n",
    "start = 0\n",
    "end = 1\n",
    "step = 0.02\n",
    "X = torch.arange(start, end, step).unsqueeze(1)\n",
    "y = weight*X + bias\n",
    "\n",
    "X[:10], y[:10]"
   ],
   "id": "9b890d3a91b0bfc2",
   "outputs": [
    {
     "data": {
      "text/plain": [
       "(tensor([[0.0000],\n",
       "         [0.0200],\n",
       "         [0.0400],\n",
       "         [0.0600],\n",
       "         [0.0800],\n",
       "         [0.1000],\n",
       "         [0.1200],\n",
       "         [0.1400],\n",
       "         [0.1600],\n",
       "         [0.1800]]),\n",
       " tensor([[0.3000],\n",
       "         [0.3140],\n",
       "         [0.3280],\n",
       "         [0.3420],\n",
       "         [0.3560],\n",
       "         [0.3700],\n",
       "         [0.3840],\n",
       "         [0.3980],\n",
       "         [0.4120],\n",
       "         [0.4260]]))"
      ]
     },
     "execution_count": 3,
     "metadata": {},
     "output_type": "execute_result"
    }
   ],
   "execution_count": 3
  },
  {
   "metadata": {},
   "cell_type": "markdown",
   "source": [
    "### Splitting data into training and test sets\n",
    "**(one of the most important concepts in machine learning in general)**\n",
    "\n",
    "Let's create a training and test set with our data"
   ],
   "id": "fc0ed03d5ce931ca"
  },
  {
   "metadata": {
    "ExecuteTime": {
     "end_time": "2025-07-07T15:49:00.686311Z",
     "start_time": "2025-07-07T15:49:00.679397Z"
    }
   },
   "cell_type": "code",
   "source": [
    "# Create a train/test split\n",
    "X_train, X_test, y_train, y_test = train_test_split(X, y, train_size=0.8)\n",
    "len(X_train), len(y_train), len(X_test), len(y_test)"
   ],
   "id": "76cbd196dd4b176c",
   "outputs": [
    {
     "data": {
      "text/plain": [
       "(40, 40, 10, 10)"
      ]
     },
     "execution_count": 4,
     "metadata": {},
     "output_type": "execute_result"
    }
   ],
   "execution_count": 4
  },
  {
   "metadata": {},
   "cell_type": "markdown",
   "source": [
    "How might we better visualize our data?\n",
    "\n",
    "This is where the data explorer's motto comes in!\n",
    "\n",
    "\"Visualize, visualize, visualize!\""
   ],
   "id": "29b471b2f623ce85"
  },
  {
   "metadata": {
    "ExecuteTime": {
     "end_time": "2025-07-07T15:49:00.875427Z",
     "start_time": "2025-07-07T15:49:00.708905Z"
    }
   },
   "cell_type": "code",
   "source": [
    "def plot_predictions(train_data=X_train,\n",
    "                     train_labels=y_train,\n",
    "                     test_data=X_test,\n",
    "                     test_labels=y_test,\n",
    "                     predictions=None):\n",
    "    \"\"\"\n",
    "    Plots training data, test data, and compare predictions.\n",
    "    :param train_data:\n",
    "    :param train_labels:\n",
    "    :param test_data:\n",
    "    :param test_labels:\n",
    "    :param predictions:\n",
    "    :return:\n",
    "    \"\"\"\n",
    "    plt.figure(figsize=(12, 8))\n",
    "\n",
    "    # Plot training data in blue\n",
    "    plt.scatter(train_data, train_labels, c=\"c\", s=20, label=\"Training data\")\n",
    "\n",
    "    # Plot test data in green\n",
    "    plt.scatter(test_data, test_labels, c=\"g\", s=20, label=\"Testing data\")\n",
    "\n",
    "    # Are there predictions?\n",
    "    if predictions is not None:\n",
    "        # Plot the predictions if they exist\n",
    "        plt.scatter(test_data, predictions, c=\"r\", s=20, label=\"Predictions\")\n",
    "\n",
    "    # Show the legend\n",
    "    plt.legend(prop={'size': 8})\n",
    "plot_predictions()"
   ],
   "id": "143b1371c1b6a4ba",
   "outputs": [
    {
     "data": {
      "text/plain": [
       "<Figure size 1200x800 with 1 Axes>"
      ],
      "image/png": "[encoded data removed]"
     },
     "metadata": {},
     "output_type": "display_data"
    }
   ],
   "execution_count": 5
  },
  {
   "metadata": {},
   "cell_type": "markdown",
   "source": [
    "## 2. Build model\n",
    "\n",
    "Our first PyTorch model!!\n",
    "\n",
    "What our model does:\n",
    "* Starty with random values (weight and bias)\n",
    "* Look at training data and adjust the random values (the weight and bias values we used to create the data)\n",
    "\n",
    "How does it do so?\n",
    "\n",
    "Through two main algorithms:\n",
    "1. Gradient descent - https://youtu.be/lHZwWFHWa-w\n",
    "2. Backpropagation - https://youtu.be/llg3gGewQ5U"
   ],
   "id": "8964da189e52b861"
  },
  {
   "metadata": {
    "ExecuteTime": {
     "end_time": "2025-07-07T15:53:39.890508Z",
     "start_time": "2025-07-07T15:53:39.881956Z"
    }
   },
   "cell_type": "code",
   "source": [
    "# Create linear regression model class\n",
    "class LinearRegressionModel(nn.Module): # <- almost everything in\n",
    "    def __init__(self):\n",
    "        super().__init__()\n",
    "        self.weight = nn.Parameter(torch.randn(1, requires_grad=True, dtype=torch.float))\n",
    "        self.bias = nn.Parameter(torch.randn(1, requires_grad=True, dtype=torch.float))\n",
    "\n",
    "    # Forward method to define the computation in the model\n",
    "    def forward(self, x: torch.Tensor) -> torch.Tensor: # <- \"x\" is the input data\n",
    "        return x * self.weight + self.bias # this is the linear regression formula"
   ],
   "id": "7a5cb1f8a51737a1",
   "outputs": [],
   "execution_count": 32
  },
  {
   "metadata": {},
   "cell_type": "markdown",
   "source": [
    "### PyTorch model building essentials\n",
    "\n",
    "* torch.nn - contains all the buildings for computational graphs (a neural network can be considered a computational graph)\n",
    "* torch.nn.Parameter - what parameters should our model try and learn, often a PyTorch layer from torch.nn will set these for us\n",
    "* torch.nn.Module - The base class for all neural network modules, if you subclass it, you should overwrite forward()\n",
    "* torch.optim - this where the optimizers in PyTorch live, they will help with gradient descent\n",
    "* def forward() - All nn.Module subclasses require you to overwrite forward(), this method defines what happens in the forward computation\n",
    "\n",
    "See more of these essential modules via PyTorch cheatsheet - https://pytorch.org/tutorials/beginner/ptcheat.html"
   ],
   "id": "532bbad07b2373af"
  },
  {
   "metadata": {},
   "cell_type": "markdown",
   "source": [
    "### Checking the contents of our PyTorch model\n",
    "\n",
    "Now we've created a model, let's see what's inside...\n",
    "\n",
    "So we can check our model parameters or what's inside our model using `.parameters()`."
   ],
   "id": "ac14d8f227aa3cf5"
  },
  {
   "metadata": {
    "ExecuteTime": {
     "end_time": "2025-07-07T15:53:41.015527Z",
     "start_time": "2025-07-07T15:53:40.993104Z"
    }
   },
   "cell_type": "code",
   "source": [
    "# Create a random seed\n",
    "torch.manual_seed(42)\n",
    "\n",
    "# Create an instance of the model (this is a subclass of nn.Module)\n",
    "model_0 = LinearRegressionModel()\n",
    "\n",
    "# Check out the parameters\n",
    "list(model_0.parameters())"
   ],
   "id": "e81c50f9c00061b5",
   "outputs": [
    {
     "data": {
      "text/plain": [
       "[Parameter containing:\n",
       " tensor([0.3367], requires_grad=True),\n",
       " Parameter containing:\n",
       " tensor([0.1288], requires_grad=True)]"
      ]
     },
     "execution_count": 33,
     "metadata": {},
     "output_type": "execute_result"
    }
   ],
   "execution_count": 33
  },
  {
   "metadata": {
    "ExecuteTime": {
     "end_time": "2025-07-07T15:53:41.149011Z",
     "start_time": "2025-07-07T15:53:41.144659Z"
    }
   },
   "cell_type": "code",
   "source": [
    "# List named parameters\n",
    "model_0.state_dict()"
   ],
   "id": "7f31660f012e574d",
   "outputs": [
    {
     "data": {
      "text/plain": [
       "OrderedDict([('weight', tensor([0.3367])), ('bias', tensor([0.1288]))])"
      ]
     },
     "execution_count": 34,
     "metadata": {},
     "output_type": "execute_result"
    }
   ],
   "execution_count": 34
  },
  {
   "metadata": {},
   "cell_type": "markdown",
   "source": [
    "### Making prediction using `torch.inference_mode()`\n",
    "\n",
    "To check our model's predictive power, let's see how well it predicts `y_test` based on `X_test`.\n",
    "\n",
    "When we pass data through our model, it's going to run through the `forward()` method."
   ],
   "id": "285920672cb27203"
  },
  {
   "metadata": {
    "ExecuteTime": {
     "end_time": "2025-07-07T15:53:41.521587Z",
     "start_time": "2025-07-07T15:53:41.515273Z"
    }
   },
   "cell_type": "code",
   "source": "X_test, y_test",
   "id": "a85131111e7da061",
   "outputs": [
    {
     "data": {
      "text/plain": [
       "(tensor([[0.1600],\n",
       "         [0.1200],\n",
       "         [0.5600],\n",
       "         [0.2400],\n",
       "         [0.3200],\n",
       "         [0.0000],\n",
       "         [0.7000],\n",
       "         [0.9200],\n",
       "         [0.2600],\n",
       "         [0.4200]]),\n",
       " tensor([[0.4120],\n",
       "         [0.3840],\n",
       "         [0.6920],\n",
       "         [0.4680],\n",
       "         [0.5240],\n",
       "         [0.3000],\n",
       "         [0.7900],\n",
       "         [0.9440],\n",
       "         [0.4820],\n",
       "         [0.5940]]))"
      ]
     },
     "execution_count": 35,
     "metadata": {},
     "output_type": "execute_result"
    }
   ],
   "execution_count": 35
  },
  {
   "metadata": {
    "ExecuteTime": {
     "end_time": "2025-07-07T15:53:41.658193Z",
     "start_time": "2025-07-07T15:53:41.653471Z"
    }
   },
   "cell_type": "code",
   "source": [
    "# MAke predictions with model\n",
    "with torch.inference_mode():\n",
    "    y_pred = model_0()\n",
    "y_pred"
   ],
   "id": "6d1a9dc3c08c7640",
   "outputs": [
    {
     "data": {
      "text/plain": [
       "tensor([[0.1827],\n",
       "        [0.1692],\n",
       "        [0.3174],\n",
       "        [0.2096],\n",
       "        [0.2366],\n",
       "        [0.1288],\n",
       "        [0.3645],\n",
       "        [0.4386],\n",
       "        [0.2163],\n",
       "        [0.2702]])"
      ]
     },
     "execution_count": 36,
     "metadata": {},
     "output_type": "execute_result"
    }
   ],
   "execution_count": 36
  },
  {
   "metadata": {
    "ExecuteTime": {
     "end_time": "2025-07-07T15:54:29.188136Z",
     "start_time": "2025-07-07T15:54:29.102768Z"
    }
   },
   "cell_type": "code",
   "source": "y_pred",
   "id": "c19289e747f6d69d",
   "outputs": [
    {
     "data": {
      "text/plain": [
       "tensor([[0.1827],\n",
       "        [0.1692],\n",
       "        [0.3174],\n",
       "        [0.2096],\n",
       "        [0.2366],\n",
       "        [0.1288],\n",
       "        [0.3645],\n",
       "        [0.4386],\n",
       "        [0.2163],\n",
       "        [0.2702]])"
      ]
     },
     "execution_count": 37,
     "metadata": {},
     "output_type": "execute_result"
    }
   ],
   "execution_count": 37
  },
  {
   "metadata": {
    "ExecuteTime": {
     "end_time": "2025-07-07T15:54:38.062094Z",
     "start_time": "2025-07-07T15:54:38.024276Z"
    }
   },
   "cell_type": "code",
   "source": "y_test",
   "id": "2aa3cf8dd5b0c744",
   "outputs": [
    {
     "data": {
      "text/plain": [
       "tensor([[0.4120],\n",
       "        [0.3840],\n",
       "        [0.6920],\n",
       "        [0.4680],\n",
       "        [0.5240],\n",
       "        [0.3000],\n",
       "        [0.7900],\n",
       "        [0.9440],\n",
       "        [0.4820],\n",
       "        [0.5940]])"
      ]
     },
     "execution_count": 38,
     "metadata": {},
     "output_type": "execute_result"
    }
   ],
   "execution_count": 38
  },
  {
   "metadata": {
    "ExecuteTime": {
     "end_time": "2025-07-07T15:55:28.845043Z",
     "start_time": "2025-07-07T15:55:28.650631Z"
    }
   },
   "cell_type": "code",
   "source": "plot_predictions(predictions=y_pred)",
   "id": "fd1dab55f158b391",
   "outputs": [
    {
     "data": {
      "text/plain": [
       "<Figure size 1200x800 with 1 Axes>"
      ],
      "image/png": "[encoded data removed]"
     },
     "metadata": {},
     "output_type": "display_data"
    }
   ],
   "execution_count": 40
  },
  {
   "metadata": {},
   "cell_type": "markdown",
   "source": "See more on inference mode here - https://twitter.com/PyTorch/status/1437838231505096708?s=20&t=cnKav09iTgwQ-rfri6u7PQ",
   "id": "42297ca76577d63b"
  },
  {
   "metadata": {},
   "cell_type": "code",
   "outputs": [],
   "execution_count": null,
   "source": "",
   "id": "66314fa52b98f239"
  }
 ],
 "metadata": {
  "kernelspec": {
   "display_name": "Python 3",
   "language": "python",
   "name": "python3"
  },
  "language_info": {
   "codemirror_mode": {
    "name": "ipython",
    "version": 2
   },
   "file_extension": ".py",
   "mimetype": "text/x-python",
   "name": "python",
   "nbconvert_exporter": "python",
   "pygments_lexer": "ipython2",
   "version": "2.7.6"
  }
 },
 "nbformat": 4,
 "nbformat_minor": 5
}
