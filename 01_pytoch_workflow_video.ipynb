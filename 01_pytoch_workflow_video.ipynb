{
 "cells": [
  {
   "metadata": {},
   "cell_type": "markdown",
   "source": [
    "# PyTorch Workflow\n",
    "\n",
    "Let's explore an example PyTorch end-to-end workflow\n",
    "\n",
    "Resources:\n",
    "* Ground truth notebook - https://github.com/mrdbourke/pytorch-deep-learning/blob/main/01_pytorch_workflow.ipynb\n",
    "* Book version of notebook - https://www.learnpytorch.io/01_pytorch_workflow/\n",
    "* Ask a question - https://github.com/mrdbourke/pytorch-deep-learning/discussions\n"
   ],
   "id": "b2945a7c5d332531"
  },
  {
   "cell_type": "code",
   "id": "initial_id",
   "metadata": {
    "collapsed": true,
    "ExecuteTime": {
     "end_time": "2025-07-15T02:18:06.545834Z",
     "start_time": "2025-07-15T02:18:06.530391Z"
    }
   },
   "source": [
    "what_were_covering = {\n",
    "    1: \"data (prepare and load)\",\n",
    "    2: \"build model\",\n",
    "    3: \"fitting the model to data (training)\",\n",
    "    4: \"making predictions and evaluating model (inference)\",\n",
    "    5: \"saving and loading a model\",\n",
    "    6: \"putting it all together\"\n",
    "}\n",
    "what_were_covering"
   ],
   "outputs": [
    {
     "data": {
      "text/plain": [
       "{1: 'data (prepare and load)',\n",
       " 2: 'build model',\n",
       " 3: 'fitting the model to data (training)',\n",
       " 4: 'making predictions and evaluating model (inference)',\n",
       " 5: 'saving and loading a model',\n",
       " 6: 'putting it all together'}"
      ]
     },
     "execution_count": 2,
     "metadata": {},
     "output_type": "execute_result"
    }
   ],
   "execution_count": 2
  },
  {
   "metadata": {
    "ExecuteTime": {
     "end_time": "2025-07-15T02:18:56.177760Z",
     "start_time": "2025-07-15T02:18:06.570668Z"
    }
   },
   "cell_type": "code",
   "source": [
    "import torch\n",
    "from torch import nn # nn contains all of PyTorch's building blocks for neural networks\n",
    "from sklearn.model_selection import train_test_split\n",
    "import matplotlib.pyplot as plt\n",
    "\n",
    "# Check PyTorch version\n",
    "torch.__version__"
   ],
   "id": "22ba9fa3ca7701a3",
   "outputs": [
    {
     "data": {
      "text/plain": [
       "'2.7.1'"
      ]
     },
     "execution_count": 3,
     "metadata": {},
     "output_type": "execute_result"
    }
   ],
   "execution_count": 3
  },
  {
   "metadata": {},
   "cell_type": "markdown",
   "source": [
    "## 1. Data (preparing and loading)\n",
    "\n",
    "Data can be almost anything... in machine learning.\n",
    "* Excel spreadsheet\n",
    "* Images of any kind\n",
    "* Videos (YouTube has lots of data)\n",
    "* Audio like songs or podcasts\n",
    "* DNA\n",
    "* Text\n",
    "\n",
    "Machine Learning is a game of two parts:\n",
    "1. Get data into numerical representation.\n",
    "2. Build a model to learn patterns in that numerical representation.\n",
    "\n",
    "To showcase this, let's create some *known* data using the linear regression formula.\n",
    "\n",
    "We'll use a linear regression formula to make a straight line with known **parameters**."
   ],
   "id": "7ec94810e97649db"
  },
  {
   "metadata": {
    "ExecuteTime": {
     "end_time": "2025-07-15T02:18:56.213587Z",
     "start_time": "2025-07-15T02:18:56.199235Z"
    }
   },
   "cell_type": "code",
   "source": [
    "# Create *known* parameters\n",
    "weight = 0.7\n",
    "bias = 0.3\n",
    "\n",
    "# Create\n",
    "start = 0\n",
    "end = 1\n",
    "step = 0.02\n",
    "X = torch.arange(start, end, step).unsqueeze(1)\n",
    "y = weight*X + bias\n",
    "\n",
    "X[:10], y[:10]"
   ],
   "id": "9b890d3a91b0bfc2",
   "outputs": [
    {
     "data": {
      "text/plain": [
       "(tensor([[0.0000],\n",
       "         [0.0200],\n",
       "         [0.0400],\n",
       "         [0.0600],\n",
       "         [0.0800],\n",
       "         [0.1000],\n",
       "         [0.1200],\n",
       "         [0.1400],\n",
       "         [0.1600],\n",
       "         [0.1800]]),\n",
       " tensor([[0.3000],\n",
       "         [0.3140],\n",
       "         [0.3280],\n",
       "         [0.3420],\n",
       "         [0.3560],\n",
       "         [0.3700],\n",
       "         [0.3840],\n",
       "         [0.3980],\n",
       "         [0.4120],\n",
       "         [0.4260]]))"
      ]
     },
     "execution_count": 4,
     "metadata": {},
     "output_type": "execute_result"
    }
   ],
   "execution_count": 4
  },
  {
   "metadata": {},
   "cell_type": "markdown",
   "source": [
    "### Splitting data into training and test sets\n",
    "**(one of the most important concepts in machine learning in general)**\n",
    "\n",
    "Let's create a training and test set with our data"
   ],
   "id": "fc0ed03d5ce931ca"
  },
  {
   "metadata": {
    "ExecuteTime": {
     "end_time": "2025-07-15T02:18:56.277081Z",
     "start_time": "2025-07-15T02:18:56.272060Z"
    }
   },
   "cell_type": "code",
   "source": [
    "# Create a train/test split\n",
    "X_train, X_test, y_train, y_test = train_test_split(X, y, train_size=0.8)\n",
    "len(X_train), len(y_train), len(X_test), len(y_test)"
   ],
   "id": "76cbd196dd4b176c",
   "outputs": [
    {
     "data": {
      "text/plain": [
       "(40, 40, 10, 10)"
      ]
     },
     "execution_count": 5,
     "metadata": {},
     "output_type": "execute_result"
    }
   ],
   "execution_count": 5
  },
  {
   "metadata": {},
   "cell_type": "markdown",
   "source": [
    "How might we better visualize our data?\n",
    "\n",
    "This is where the data explorer's motto comes in!\n",
    "\n",
    "\"Visualize, visualize, visualize!\""
   ],
   "id": "29b471b2f623ce85"
  },
  {
   "metadata": {
    "ExecuteTime": {
     "end_time": "2025-07-15T02:18:56.836798Z",
     "start_time": "2025-07-15T02:18:56.350272Z"
    }
   },
   "cell_type": "code",
   "source": [
    "def plot_predictions(train_data=X_train,\n",
    "                     train_labels=y_train,\n",
    "                     test_data=X_test,\n",
    "                     test_labels=y_test,\n",
    "                     predictions=None):\n",
    "    \"\"\"\n",
    "    Plots training data, test data, and compare predictions.\n",
    "    :param train_data:\n",
    "    :param train_labels:\n",
    "    :param test_data:\n",
    "    :param test_labels:\n",
    "    :param predictions:\n",
    "    :return:\n",
    "    \"\"\"\n",
    "    plt.figure(figsize=(12, 8))\n",
    "\n",
    "    # Plot training data in blue\n",
    "    plt.scatter(train_data, train_labels, c=\"c\", s=20, label=\"Training data\")\n",
    "\n",
    "    # Plot test data in green\n",
    "    plt.scatter(test_data, test_labels, c=\"g\", s=20, label=\"Testing data\")\n",
    "\n",
    "    # Are there predictions?\n",
    "    if predictions is not None:\n",
    "        # Plot the predictions if they exist\n",
    "        plt.scatter(test_data, predictions, c=\"r\", s=20, label=\"Predictions\")\n",
    "\n",
    "    # Show the legend\n",
    "    plt.legend(prop={'size': 8})\n",
    "plot_predictions()"
   ],
   "id": "143b1371c1b6a4ba",
   "outputs": [
    {
     "data": {
      "text/plain": [
       "<Figure size 1200x800 with 1 Axes>"
      ],
      "image/png": "[encoded data removed]"
     },
     "metadata": {},
     "output_type": "display_data"
    }
   ],
   "execution_count": 6
  },
  {
   "metadata": {},
   "cell_type": "markdown",
   "source": [
    "## 2. Build model\n",
    "\n",
    "Our first PyTorch model!!\n",
    "\n",
    "What our model does:\n",
    "* Starty with random values (weight and bias)\n",
    "* Look at training data and adjust the random values (the weight and bias values we used to create the data)\n",
    "\n",
    "How does it do so?\n",
    "\n",
    "Through two main algorithms:\n",
    "1. Gradient descent - https://youtu.be/lHZwWFHWa-w\n",
    "2. Backpropagation - https://youtu.be/llg3gGewQ5U"
   ],
   "id": "8964da189e52b861"
  },
  {
   "metadata": {
    "ExecuteTime": {
     "end_time": "2025-07-15T02:21:12.662706Z",
     "start_time": "2025-07-15T02:21:12.639862Z"
    }
   },
   "cell_type": "code",
   "source": [
    "# Create linear regression model class\n",
    "class LinearRegressionModel(nn.Module): # <- almost everything in\n",
    "    def __init__(self):\n",
    "        super().__init__()\n",
    "        self.weight = nn.Parameter(torch.randn(1, requires_grad=True, dtype=torch.float))\n",
    "        self.bias = nn.Parameter(torch.randn(1, requires_grad=True, dtype=torch.float))\n",
    "\n",
    "    # Forward method to define the computation in the model\n",
    "    def forward(self, x: torch.Tensor) -> torch.Tensor: # <- \"x\" is the input data\n",
    "        return x * self.weight + self.bias # this is the linear regression formula"
   ],
   "id": "7a5cb1f8a51737a1",
   "outputs": [],
   "execution_count": 12
  },
  {
   "metadata": {},
   "cell_type": "markdown",
   "source": [
    "### PyTorch model building essentials\n",
    "\n",
    "* torch.nn - contains all the buildings for computational graphs (a neural network can be considered a computational graph)\n",
    "* torch.nn.Parameter - what parameters should our model try and learn, often a PyTorch layer from torch.nn will set these for us\n",
    "* torch.nn.Module - The base class for all neural network modules, if you subclass it, you should overwrite forward()\n",
    "* torch.optim - this where the optimizers in PyTorch live, they will help with gradient descent\n",
    "* def forward() - All nn.Module subclasses require you to overwrite forward(), this method defines what happens in the forward computation\n",
    "\n",
    "See more of these essential modules via PyTorch cheatsheet - https://pytorch.org/tutorials/beginner/ptcheat.html"
   ],
   "id": "532bbad07b2373af"
  },
  {
   "metadata": {},
   "cell_type": "markdown",
   "source": [
    "### Checking the contents of our PyTorch model\n",
    "\n",
    "Now we've created a model, let's see what's inside...\n",
    "\n",
    "So we can check our model parameters or what's inside our model using `.parameters()`."
   ],
   "id": "ac14d8f227aa3cf5"
  },
  {
   "metadata": {
    "ExecuteTime": {
     "end_time": "2025-07-15T02:21:19.582381Z",
     "start_time": "2025-07-15T02:21:19.565732Z"
    }
   },
   "cell_type": "code",
   "source": [
    "# Create a random seed\n",
    "torch.manual_seed(42)\n",
    "\n",
    "# Create an instance of the model (this is a subclass of nn.Module)\n",
    "model_0 = LinearRegressionModel()\n",
    "\n",
    "# Check out the parameters\n",
    "list(model_0.parameters())"
   ],
   "id": "e81c50f9c00061b5",
   "outputs": [
    {
     "data": {
      "text/plain": [
       "[Parameter containing:\n",
       " tensor([0.3367], requires_grad=True),\n",
       " Parameter containing:\n",
       " tensor([0.1288], requires_grad=True)]"
      ]
     },
     "execution_count": 13,
     "metadata": {},
     "output_type": "execute_result"
    }
   ],
   "execution_count": 13
  },
  {
   "metadata": {
    "ExecuteTime": {
     "end_time": "2025-07-15T02:21:20.194994Z",
     "start_time": "2025-07-15T02:21:20.188892Z"
    }
   },
   "cell_type": "code",
   "source": [
    "# List named parameters\n",
    "model_0.state_dict()"
   ],
   "id": "7f31660f012e574d",
   "outputs": [
    {
     "data": {
      "text/plain": [
       "OrderedDict([('weights', tensor([0.3367])), ('bias', tensor([0.1288]))])"
      ]
     },
     "execution_count": 14,
     "metadata": {},
     "output_type": "execute_result"
    }
   ],
   "execution_count": 14
  },
  {
   "metadata": {},
   "cell_type": "markdown",
   "source": [
    "### Making prediction using `torch.inference_mode()`\n",
    "\n",
    "To check our model's predictive power, let's see how well it predicts `y_test` based on `X_test`.\n",
    "\n",
    "When we pass data through our model, it's going to run through the `forward()` method."
   ],
   "id": "285920672cb27203"
  },
  {
   "metadata": {
    "ExecuteTime": {
     "end_time": "2025-07-15T02:21:28.843379Z",
     "start_time": "2025-07-15T02:21:28.835269Z"
    }
   },
   "cell_type": "code",
   "source": "X_test, y_test",
   "id": "a85131111e7da061",
   "outputs": [
    {
     "data": {
      "text/plain": [
       "(tensor([[0.0800],\n",
       "         [0.0600],\n",
       "         [0.9200],\n",
       "         [0.9000],\n",
       "         [0.3800],\n",
       "         [0.1800],\n",
       "         [0.7200],\n",
       "         [0.3400],\n",
       "         [0.4400],\n",
       "         [0.7400]]),\n",
       " tensor([[0.3560],\n",
       "         [0.3420],\n",
       "         [0.9440],\n",
       "         [0.9300],\n",
       "         [0.5660],\n",
       "         [0.4260],\n",
       "         [0.8040],\n",
       "         [0.5380],\n",
       "         [0.6080],\n",
       "         [0.8180]]))"
      ]
     },
     "execution_count": 15,
     "metadata": {},
     "output_type": "execute_result"
    }
   ],
   "execution_count": 15
  },
  {
   "metadata": {
    "ExecuteTime": {
     "end_time": "2025-07-15T02:22:27.952411Z",
     "start_time": "2025-07-15T02:22:27.935825Z"
    }
   },
   "cell_type": "code",
   "source": [
    "# Make predictions with model\n",
    "with torch.inference_mode():\n",
    "    y_pred = model_0(X_test)\n",
    "y_pred"
   ],
   "id": "6d1a9dc3c08c7640",
   "outputs": [
    {
     "data": {
      "text/plain": [
       "tensor([[0.1557],\n",
       "        [0.1490],\n",
       "        [0.4386],\n",
       "        [0.4318],\n",
       "        [0.2568],\n",
       "        [0.1894],\n",
       "        [0.3712],\n",
       "        [0.2433],\n",
       "        [0.2770],\n",
       "        [0.3780]])"
      ]
     },
     "execution_count": 18,
     "metadata": {},
     "output_type": "execute_result"
    }
   ],
   "execution_count": 18
  },
  {
   "metadata": {
    "ExecuteTime": {
     "end_time": "2025-07-15T02:22:28.870824Z",
     "start_time": "2025-07-15T02:22:28.848122Z"
    }
   },
   "cell_type": "code",
   "source": "y_pred",
   "id": "c19289e747f6d69d",
   "outputs": [
    {
     "data": {
      "text/plain": [
       "tensor([[0.1557],\n",
       "        [0.1490],\n",
       "        [0.4386],\n",
       "        [0.4318],\n",
       "        [0.2568],\n",
       "        [0.1894],\n",
       "        [0.3712],\n",
       "        [0.2433],\n",
       "        [0.2770],\n",
       "        [0.3780]])"
      ]
     },
     "execution_count": 19,
     "metadata": {},
     "output_type": "execute_result"
    }
   ],
   "execution_count": 19
  },
  {
   "metadata": {
    "ExecuteTime": {
     "end_time": "2025-07-15T02:22:29.086985Z",
     "start_time": "2025-07-15T02:22:29.080084Z"
    }
   },
   "cell_type": "code",
   "source": "y_test",
   "id": "2aa3cf8dd5b0c744",
   "outputs": [
    {
     "data": {
      "text/plain": [
       "tensor([[0.3560],\n",
       "        [0.3420],\n",
       "        [0.9440],\n",
       "        [0.9300],\n",
       "        [0.5660],\n",
       "        [0.4260],\n",
       "        [0.8040],\n",
       "        [0.5380],\n",
       "        [0.6080],\n",
       "        [0.8180]])"
      ]
     },
     "execution_count": 20,
     "metadata": {},
     "output_type": "execute_result"
    }
   ],
   "execution_count": 20
  },
  {
   "metadata": {
    "ExecuteTime": {
     "end_time": "2025-07-15T02:22:30.075048Z",
     "start_time": "2025-07-15T02:22:29.928656Z"
    }
   },
   "cell_type": "code",
   "source": "plot_predictions(predictions=y_pred)",
   "id": "fd1dab55f158b391",
   "outputs": [
    {
     "data": {
      "text/plain": [
       "<Figure size 1200x800 with 1 Axes>"
      ],
      "image/png": "[encoded data removed]"
     },
     "metadata": {},
     "output_type": "display_data"
    }
   ],
   "execution_count": 21
  },
  {
   "metadata": {},
   "cell_type": "markdown",
   "source": "See more on inference mode here - https://twitter.com/PyTorch/status/1437838231505096708?s=20&t=cnKav09iTgwQ-rfri6u7PQ",
   "id": "42297ca76577d63b"
  },
  {
   "metadata": {},
   "cell_type": "markdown",
   "source": [
    "## 3. Train model\n",
    "\n",
    "The whole idea of training a model is for a model to move from some *unknown* parameters (these may be random) to some known parameters.\n",
    "\n",
    "Or in other words, from a poor representation of the data to a better representation of the data.\n",
    "\n",
    "One way to measure how poor or how wrong your model predictions are is to use a loss function.\n",
    "\n",
    "* Note: Loss function may also be called cost function or criterion in different areas. For our case, we're going to refer it as a loss function.\n",
    "* **Loss function:** A function to measure how wrong your model's predictions are to ideal outputs, lower is better.\n",
    "* **Optimizer:** Takes into account the loss of a model and adjusts the model's parameters (e.g., weight & bias)\n",
    "\n",
    "And specifically for PyTorch, we need:\n",
    "* A training loop\n",
    "* A testing loop"
   ],
   "id": "1ddd1fd83af1c363"
  },
  {
   "metadata": {
    "ExecuteTime": {
     "end_time": "2025-07-15T02:23:13.467746Z",
     "start_time": "2025-07-15T02:23:13.450013Z"
    }
   },
   "cell_type": "code",
   "source": "list(model_0.parameters())",
   "id": "f17385ebc9bca8f9",
   "outputs": [
    {
     "data": {
      "text/plain": [
       "[Parameter containing:\n",
       " tensor([0.3367], requires_grad=True),\n",
       " Parameter containing:\n",
       " tensor([0.1288], requires_grad=True)]"
      ]
     },
     "execution_count": 23,
     "metadata": {},
     "output_type": "execute_result"
    }
   ],
   "execution_count": 23
  },
  {
   "metadata": {
    "ExecuteTime": {
     "end_time": "2025-07-15T02:33:00.714707Z",
     "start_time": "2025-07-15T02:33:00.638456Z"
    }
   },
   "cell_type": "code",
   "source": [
    "# Check out our model's parameters (a parameter is a value that the model sets itself)\n",
    "model_0.state_dict()"
   ],
   "id": "7f755b53aa7e621e",
   "outputs": [
    {
     "data": {
      "text/plain": [
       "OrderedDict([('weights', tensor([0.3367])), ('bias', tensor([0.1288]))])"
      ]
     },
     "execution_count": 24,
     "metadata": {},
     "output_type": "execute_result"
    }
   ],
   "execution_count": 24
  },
  {
   "metadata": {
    "ExecuteTime": {
     "end_time": "2025-07-15T02:52:56.014627Z",
     "start_time": "2025-07-15T02:52:48.862337Z"
    }
   },
   "cell_type": "code",
   "source": [
    "# Setup a loss function\n",
    "loss_fn = nn.L1Loss()\n",
    "\n",
    "# Setup an optimizer\n",
    "optimizer = torch.optim.SGD(model_0.parameters(),\n",
    "                            lr=0.01) # lr = learning rate = possibly the most important hyperparameter you can set"
   ],
   "id": "ec480ec73d5ba10f",
   "outputs": [],
   "execution_count": 25
  },
  {
   "metadata": {},
   "cell_type": "markdown",
   "source": [
    "> **Q:** Which loss function and optimizer should I use?\n",
    "> **A:** This will be problem specific. But with experience, you'll get an idea of what works and what doesn't with your particular problem set.\n",
    ">\n",
    "> For example, for a regression problem (like ours), a loss function of `nn.L1Loss()` and an optimizer like `torch.optim.SGD()` will suffice.\n",
    ">\n",
    "> But for a classification problem like classifying whether a photo is of a dog or a cat, you'll likely want to use a loss function of `nn.BCELoss()` (binary cross entropy loss)."
   ],
   "id": "51a81746ad3c9ff6"
  },
  {
   "metadata": {},
   "cell_type": "markdown",
   "source": [
    "### Building a training loop (and a testing loop) in PyTorch\n",
    "\n",
    "A couple of things we need in a training loop:\n",
    "0. Loop through the data\n",
    "1. Forward pass (this involves data moving through our model's `forward()` functions) to make predictions on data - also called forward propagation\n",
    "2. Calculate the loss (compare forward pass prediction to ground truth labels)\n",
    "3. Optimizer zero grad\n",
    "4. Loss backward - move backwards through the network to calculate the gradients of each of the parameters of our model with respect to the loss (**Backpropagation**)\n",
    "5. Optimizer step - use the optimizer to adjust our model's parameters to try and improve the loss (**gradient decent**)"
   ],
   "id": "67f8012b505d1560"
  },
  {
   "metadata": {
    "ExecuteTime": {
     "end_time": "2025-07-15T03:21:05.974145Z",
     "start_time": "2025-07-15T03:21:05.964596Z"
    }
   },
   "cell_type": "code",
   "source": "list(model_0.parameters())",
   "id": "4bd2037907c82454",
   "outputs": [
    {
     "data": {
      "text/plain": [
       "<generator object Module.parameters at 0x17f2ca180>"
      ]
     },
     "execution_count": 27,
     "metadata": {},
     "output_type": "execute_result"
    }
   ],
   "execution_count": 27
  },
  {
   "metadata": {
    "ExecuteTime": {
     "end_time": "2025-07-15T03:24:26.890712Z",
     "start_time": "2025-07-15T03:24:26.881974Z"
    }
   },
   "cell_type": "code",
   "source": [
    "# An epoch is one loop through the data... (this is a hyperparameter because we've set it ourselves)\n",
    "epochs = 1\n",
    "\n",
    "### Training\n",
    "# 0. Loop through the data\n",
    "for epoch in range(epochs):\n",
    "    # Set the model to training mode\n",
    "    model_0.train() # train mode in PyTorch sets all parameters that require gradients to require gradients\n",
    "\n",
    "    # 1. Forward pass\n",
    "    y_pred = model_0(X_test)\n",
    "\n",
    "    # 2. Calculate the loss\n",
    "    loss = loss_fn(y_pred, y_test)\n",
    "\n",
    "    # 3. Optimizer zero grad\n",
    "    optimizer.zero_grad()\n",
    "\n",
    "    # 4. Perform backpropagation on the loss with respect to the parameters of the model\n",
    "    loss.backward()\n",
    "\n",
    "    # 5. Step the optimizer (perform gradient descent)\n",
    "    optimizer.step() # by default how the optimizer changes will accumulate through the loop so... we have to zero them above in step 3 for the next iteration of the loop\n",
    "\n",
    "\n",
    "    model_0.eval() # turns off gradient tracking"
   ],
   "id": "546b2b4faed010f1",
   "outputs": [],
   "execution_count": 28
  },
  {
   "metadata": {},
   "cell_type": "code",
   "outputs": [],
   "execution_count": null,
   "source": "",
   "id": "478e93c79154fc45"
  }
 ],
 "metadata": {
  "kernelspec": {
   "display_name": "Python 3",
   "language": "python",
   "name": "python3"
  },
  "language_info": {
   "codemirror_mode": {
    "name": "ipython",
    "version": 2
   },
   "file_extension": ".py",
   "mimetype": "text/x-python",
   "name": "python",
   "nbconvert_exporter": "python",
   "pygments_lexer": "ipython2",
   "version": "2.7.6"
  }
 },
 "nbformat": 4,
 "nbformat_minor": 5
}
