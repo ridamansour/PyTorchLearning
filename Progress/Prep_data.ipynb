{
 "cells": [
  {
   "cell_type": "code",
   "id": "initial_id",
   "metadata": {
    "collapsed": true,
    "ExecuteTime": {
     "end_time": "2025-10-02T12:02:50.047522Z",
     "start_time": "2025-10-02T12:02:49.204307Z"
    }
   },
   "source": [
    "import pandas as pd\n",
    "from datetime import timedelta\n",
    "df = pd.read_parquet(\"./progress.parquet\")\n",
    "df[\"duration\"]"
   ],
   "outputs": [
    {
     "data": {
      "text/plain": [
       "0     0 days 00:00:00\n",
       "1     0 days 00:04:00\n",
       "2     0 days 00:06:00\n",
       "3     0 days 00:04:00\n",
       "4     0 days 00:02:00\n",
       "            ...      \n",
       "367   0 days 00:00:00\n",
       "368   0 days 00:01:00\n",
       "369   0 days 00:01:00\n",
       "370   0 days 00:01:00\n",
       "371   0 days 00:01:00\n",
       "Name: duration, Length: 372, dtype: timedelta64[ns]"
      ]
     },
     "execution_count": 1,
     "metadata": {},
     "output_type": "execute_result"
    }
   ],
   "execution_count": 1
  },
  {
   "metadata": {
    "ExecuteTime": {
     "end_time": "2025-10-02T12:02:50.081671Z",
     "start_time": "2025-10-02T12:02:50.078085Z"
    }
   },
   "cell_type": "code",
   "source": "ti = df.loc[(df[\"section_num\"]==6) & (df[\"done\"] == False), \"duration\"].sum()",
   "id": "dd9be1e141e85700",
   "outputs": [],
   "execution_count": 2
  },
  {
   "metadata": {
    "ExecuteTime": {
     "end_time": "2025-10-02T12:36:33.697224Z",
     "start_time": "2025-10-02T12:36:33.655230Z"
    }
   },
   "cell_type": "code",
   "source": "df",
   "id": "f55feb815decd65a",
   "outputs": [
    {
     "data": {
      "text/plain": [
       "     section_num  Vid idx                                        title  \\\n",
       "0              1       -1                      Section 1: Introduction   \n",
       "1              1        1                    PyTorch for Deep Learning   \n",
       "2              1        2     Course Welcome and What Is Deep Learning   \n",
       "3              1        3                   Join Our Online Classroom!   \n",
       "4              1        4  Exercise: Meet Your Classmates + Instructor   \n",
       "..           ...      ...                                          ...   \n",
       "367           14       -1           Section 14: Where To Go From Here?   \n",
       "368           14      355                                   Thank You!   \n",
       "369           14      356                             Become An Alumni   \n",
       "370           14      357                     Endorsements on LinkedIn   \n",
       "371           14      358                           Learning Guideline   \n",
       "\n",
       "           duration   done  \n",
       "0   0 days 00:00:00   True  \n",
       "1   0 days 00:04:00   True  \n",
       "2   0 days 00:06:00   True  \n",
       "3   0 days 00:04:00   True  \n",
       "4   0 days 00:02:00   True  \n",
       "..              ...    ...  \n",
       "367 0 days 00:00:00   True  \n",
       "368 0 days 00:01:00  False  \n",
       "369 0 days 00:01:00  False  \n",
       "370 0 days 00:01:00  False  \n",
       "371 0 days 00:01:00  False  \n",
       "\n",
       "[372 rows x 5 columns]"
      ],
      "text/html": [
       "<div>\n",
       "<style scoped>\n",
       "    .dataframe tbody tr th:only-of-type {\n",
       "        vertical-align: middle;\n",
       "    }\n",
       "\n",
       "    .dataframe tbody tr th {\n",
       "        vertical-align: top;\n",
       "    }\n",
       "\n",
       "    .dataframe thead th {\n",
       "        text-align: right;\n",
       "    }\n",
       "</style>\n",
       "<table border=\"1\" class=\"dataframe\">\n",
       "  <thead>\n",
       "    <tr style=\"text-align: right;\">\n",
       "      <th></th>\n",
       "      <th>section_num</th>\n",
       "      <th>Vid idx</th>\n",
       "      <th>title</th>\n",
       "      <th>duration</th>\n",
       "      <th>done</th>\n",
       "    </tr>\n",
       "  </thead>\n",
       "  <tbody>\n",
       "    <tr>\n",
       "      <th>0</th>\n",
       "      <td>1</td>\n",
       "      <td>-1</td>\n",
       "      <td>Section 1: Introduction</td>\n",
       "      <td>0 days 00:00:00</td>\n",
       "      <td>True</td>\n",
       "    </tr>\n",
       "    <tr>\n",
       "      <th>1</th>\n",
       "      <td>1</td>\n",
       "      <td>1</td>\n",
       "      <td>PyTorch for Deep Learning</td>\n",
       "      <td>0 days 00:04:00</td>\n",
       "      <td>True</td>\n",
       "    </tr>\n",
       "    <tr>\n",
       "      <th>2</th>\n",
       "      <td>1</td>\n",
       "      <td>2</td>\n",
       "      <td>Course Welcome and What Is Deep Learning</td>\n",
       "      <td>0 days 00:06:00</td>\n",
       "      <td>True</td>\n",
       "    </tr>\n",
       "    <tr>\n",
       "      <th>3</th>\n",
       "      <td>1</td>\n",
       "      <td>3</td>\n",
       "      <td>Join Our Online Classroom!</td>\n",
       "      <td>0 days 00:04:00</td>\n",
       "      <td>True</td>\n",
       "    </tr>\n",
       "    <tr>\n",
       "      <th>4</th>\n",
       "      <td>1</td>\n",
       "      <td>4</td>\n",
       "      <td>Exercise: Meet Your Classmates + Instructor</td>\n",
       "      <td>0 days 00:02:00</td>\n",
       "      <td>True</td>\n",
       "    </tr>\n",
       "    <tr>\n",
       "      <th>...</th>\n",
       "      <td>...</td>\n",
       "      <td>...</td>\n",
       "      <td>...</td>\n",
       "      <td>...</td>\n",
       "      <td>...</td>\n",
       "    </tr>\n",
       "    <tr>\n",
       "      <th>367</th>\n",
       "      <td>14</td>\n",
       "      <td>-1</td>\n",
       "      <td>Section 14: Where To Go From Here?</td>\n",
       "      <td>0 days 00:00:00</td>\n",
       "      <td>True</td>\n",
       "    </tr>\n",
       "    <tr>\n",
       "      <th>368</th>\n",
       "      <td>14</td>\n",
       "      <td>355</td>\n",
       "      <td>Thank You!</td>\n",
       "      <td>0 days 00:01:00</td>\n",
       "      <td>False</td>\n",
       "    </tr>\n",
       "    <tr>\n",
       "      <th>369</th>\n",
       "      <td>14</td>\n",
       "      <td>356</td>\n",
       "      <td>Become An Alumni</td>\n",
       "      <td>0 days 00:01:00</td>\n",
       "      <td>False</td>\n",
       "    </tr>\n",
       "    <tr>\n",
       "      <th>370</th>\n",
       "      <td>14</td>\n",
       "      <td>357</td>\n",
       "      <td>Endorsements on LinkedIn</td>\n",
       "      <td>0 days 00:01:00</td>\n",
       "      <td>False</td>\n",
       "    </tr>\n",
       "    <tr>\n",
       "      <th>371</th>\n",
       "      <td>14</td>\n",
       "      <td>358</td>\n",
       "      <td>Learning Guideline</td>\n",
       "      <td>0 days 00:01:00</td>\n",
       "      <td>False</td>\n",
       "    </tr>\n",
       "  </tbody>\n",
       "</table>\n",
       "<p>372 rows × 5 columns</p>\n",
       "</div>"
      ]
     },
     "execution_count": 33,
     "metadata": {},
     "output_type": "execute_result"
    }
   ],
   "execution_count": 33
  },
  {
   "metadata": {
    "ExecuteTime": {
     "end_time": "2025-10-02T12:02:50.136366Z",
     "start_time": "2025-10-02T12:02:50.132806Z"
    }
   },
   "cell_type": "code",
   "source": "ti",
   "id": "1c163ee19a59d393",
   "outputs": [
    {
     "data": {
      "text/plain": [
       "Timedelta('0 days 01:22:00')"
      ]
     },
     "execution_count": 3,
     "metadata": {},
     "output_type": "execute_result"
    }
   ],
   "execution_count": 3
  },
  {
   "metadata": {
    "ExecuteTime": {
     "end_time": "2025-10-02T12:02:50.178740Z",
     "start_time": "2025-10-02T12:02:50.175522Z"
    }
   },
   "cell_type": "code",
   "source": [
    "from datetime import timedelta\n",
    "\n",
    "\n",
    "def format_duration(td: timedelta):\n",
    "    days = td.days\n",
    "    hours, remainder = divmod(td.seconds, 3600)\n",
    "    minutes, _ = divmod(remainder, 60)\n",
    "    return f\"{f\"{days}d \" if days!=0 else\"\"}{f\"{hours}h \" if hours!=0 else\"\"}{f\"{minutes}m\" if minutes!=0 else\"\"}\"\n",
    "\n",
    "print(\"Total:\", format_duration(ti))"
   ],
   "id": "bf78adcf33a4efe4",
   "outputs": [
    {
     "name": "stdout",
     "output_type": "stream",
     "text": [
      "Total: 1h 22m\n"
     ]
    }
   ],
   "execution_count": 4
  },
  {
   "metadata": {
    "ExecuteTime": {
     "end_time": "2025-10-02T12:27:23.594352Z",
     "start_time": "2025-10-02T12:27:23.572964Z"
    }
   },
   "cell_type": "code",
   "source": [
    "report = []\n",
    "\n",
    "for section in range(1, 15):\n",
    "    mask = (df[\"section_num\"] == section) & (df[\"done\"] == False)\n",
    "    # print(df.loc[mask])\n",
    "    total_duration = df.loc[mask, \"duration\"].sum()\n",
    "    amount_of_vids = mask.sum()\n",
    "    formatted = format_duration(total_duration)\n",
    "    if total_duration > timedelta():\n",
    "        report.append(f\"Section {section}: {formatted}\")\n",
    "    else:\n",
    "        report.append(f\"Section {section}: Done\")\n",
    "    if amount_of_vids > 0:\n",
    "        report[-1] += f\", {amount_of_vids} videos remaining\"\n",
    "\n",
    "# join with newlines\n",
    "report_text = \"\\n\".join(report)\n",
    "\n",
    "print(report_text)"
   ],
   "id": "46842a3d5bff2fb6",
   "outputs": [
    {
     "name": "stdout",
     "output_type": "stream",
     "text": [
      "Section 1: Done\n",
      "Section 2: Done\n",
      "Section 3: Done\n",
      "Section 4: Done\n",
      "Section 5: Done\n",
      "Section 6: 1h 22m, 10 videos remaining\n",
      "Section 7: 1h 33m, 10 videos remaining\n",
      "Section 8: 2h 44m, 19 videos remaining\n",
      "Section 9: 3h 11m, 22 videos remaining\n",
      "Section 10: 8h 7m, 50 videos remaining\n",
      "Section 11: 7h 45m, 57 videos remaining\n",
      "Section 12: 3h 3m, 25 videos remaining\n",
      "Section 13: 1m, 1 videos remaining\n",
      "Section 14: 4m, 4 videos remaining\n"
     ]
    }
   ],
   "execution_count": 27
  },
  {
   "metadata": {
    "ExecuteTime": {
     "end_time": "2025-10-02T12:16:05.584927Z",
     "start_time": "2025-10-02T12:16:05.571147Z"
    }
   },
   "cell_type": "code",
   "source": [
    "\n",
    "print(f\"\"\"\n",
    "Remaining time to finish sections:\n",
    "{report_text}\n",
    "\"\"\")"
   ],
   "id": "91533b59bac43da9",
   "outputs": [
    {
     "name": "stdout",
     "output_type": "stream",
     "text": [
      "\n",
      "Remaining time to finish sections\n",
      "Section 1:  \n",
      "Section 2:  \n",
      "Section 3:  \n",
      "Section 4:  \n",
      "Section 5:  \n",
      "Section 6: 1h 22m \n",
      "Section 7: 1h 33m \n",
      "Section 8: 2h 44m \n",
      "Section 9: 3h 11m \n",
      "Section 10: 8h 7m \n",
      "Section 11: 7h 45m \n",
      "Section 12: 3h 3m \n",
      "Section 13: 1m \n",
      "\n",
      "\n"
     ]
    }
   ],
   "execution_count": 12
  },
  {
   "metadata": {
    "ExecuteTime": {
     "end_time": "2025-10-02T13:18:07.987799Z",
     "start_time": "2025-10-02T13:18:07.982554Z"
    }
   },
   "cell_type": "code",
   "source": [
    "import pandas as pd\n",
    "def update_progess(video_index:int, done:bool):\n",
    "    df = pd.read_parquet(\"./progress.parquet\")\n",
    "    mask = (df[\"Vid idx\"] == video_index)\n",
    "    df.loc[mask, \"done\"] = done\n",
    "    df.to_parquet(\"./progress.parquet\")\n",
    "    status = \"done\" if df.loc[mask, \"done\"].values[0] else \"tasked\"\n",
    "    df.to_parquet(\"./progress.parquet\")\n",
    "    # df.loc[mask, \"finished_date\"] = pd.Timestamp.now()\n",
    "    print(f\"Updated progress report. \\n\"\n",
    "          f\"Section: {df.loc[mask].values[0][0]} \\n\"\n",
    "          f\"Video: {df.loc[mask].values[0][1]}. {df.loc[mask].values[0][2]} \\n\"\n",
    "          f\"Status: {status}\")"
   ],
   "id": "e7f394f5780ee04d",
   "outputs": [],
   "execution_count": 76
  },
  {
   "metadata": {
    "ExecuteTime": {
     "end_time": "2025-10-02T13:20:24.430220Z",
     "start_time": "2025-10-02T13:20:24.399262Z"
    }
   },
   "cell_type": "code",
   "source": [
    "df = pd.read_parquet(\"./progress.parquet\")\n",
    "mask = (df[\"Vid idx\"] == 159)\n",
    "df.loc[mask].values[0]"
   ],
   "id": "249bfbbd72436b40",
   "outputs": [
    {
     "data": {
      "text/plain": [
       "array([6, 159, 'Plotting the Loss Curves of Model 0',\n",
       "       Timedelta('0 days 00:09:00'), True], dtype=object)"
      ]
     },
     "execution_count": 79,
     "metadata": {},
     "output_type": "execute_result"
    }
   ],
   "execution_count": 79
  },
  {
   "metadata": {
    "ExecuteTime": {
     "end_time": "2025-10-02T13:18:11.643734Z",
     "start_time": "2025-10-02T13:18:11.632088Z"
    }
   },
   "cell_type": "code",
   "source": "update_progess(160, False)",
   "id": "af3c9abfb8856d0b",
   "outputs": [
    {
     "name": "stdout",
     "output_type": "stream",
     "text": [
      "Updated progress report. \n",
      "Section: 6 \n",
      "Video: 160. The Balance Between Overfitting and Underfitting and How to Deal With Each \n",
      "Status: tasked\n"
     ]
    }
   ],
   "execution_count": 78
  },
  {
   "metadata": {
    "ExecuteTime": {
     "end_time": "2025-10-02T13:24:16.494299Z",
     "start_time": "2025-10-02T13:24:16.448110Z"
    }
   },
   "cell_type": "code",
   "source": "df[\"finished_date\"] = pd.Timestamp.now()",
   "id": "ba32d4a01b804e47",
   "outputs": [],
   "execution_count": 80
  },
  {
   "metadata": {
    "ExecuteTime": {
     "end_time": "2025-10-02T13:56:57.715679Z",
     "start_time": "2025-10-02T13:56:57.612703Z"
    }
   },
   "cell_type": "code",
   "source": [
    "df[\"finished_date\"] = pd.NaT\n",
    "df"
   ],
   "id": "9ba2549c98e21805",
   "outputs": [
    {
     "data": {
      "text/plain": [
       "              section_num Vid idx  \\\n",
       "0                       1      -1   \n",
       "1                       1       1   \n",
       "2                       1       2   \n",
       "3                       1       3   \n",
       "4                       1       4   \n",
       "...                   ...     ...   \n",
       "368                    14     355   \n",
       "369                    14     356   \n",
       "370                    14     357   \n",
       "371                    14     358   \n",
       "finished_date         NaT     NaT   \n",
       "\n",
       "                                                     title         duration  \\\n",
       "0                                  Section 1: Introduction  0 days 00:00:00   \n",
       "1                                PyTorch for Deep Learning  0 days 00:04:00   \n",
       "2                 Course Welcome and What Is Deep Learning  0 days 00:06:00   \n",
       "3                               Join Our Online Classroom!  0 days 00:04:00   \n",
       "4              Exercise: Meet Your Classmates + Instructor  0 days 00:02:00   \n",
       "...                                                    ...              ...   \n",
       "368                                             Thank You!  0 days 00:01:00   \n",
       "369                                       Become An Alumni  0 days 00:01:00   \n",
       "370                               Endorsements on LinkedIn  0 days 00:01:00   \n",
       "371                                     Learning Guideline  0 days 00:01:00   \n",
       "finished_date                                          NaN              NaT   \n",
       "\n",
       "                done finished_date  \n",
       "0               True           NaT  \n",
       "1               True           NaT  \n",
       "2               True           NaT  \n",
       "3               True           NaT  \n",
       "4               True           NaT  \n",
       "...              ...           ...  \n",
       "368            False           NaT  \n",
       "369            False           NaT  \n",
       "370            False           NaT  \n",
       "371            False           NaT  \n",
       "finished_date    NaT           NaT  \n",
       "\n",
       "[373 rows x 6 columns]"
      ],
      "text/html": [
       "<div>\n",
       "<style scoped>\n",
       "    .dataframe tbody tr th:only-of-type {\n",
       "        vertical-align: middle;\n",
       "    }\n",
       "\n",
       "    .dataframe tbody tr th {\n",
       "        vertical-align: top;\n",
       "    }\n",
       "\n",
       "    .dataframe thead th {\n",
       "        text-align: right;\n",
       "    }\n",
       "</style>\n",
       "<table border=\"1\" class=\"dataframe\">\n",
       "  <thead>\n",
       "    <tr style=\"text-align: right;\">\n",
       "      <th></th>\n",
       "      <th>section_num</th>\n",
       "      <th>Vid idx</th>\n",
       "      <th>title</th>\n",
       "      <th>duration</th>\n",
       "      <th>done</th>\n",
       "      <th>finished_date</th>\n",
       "    </tr>\n",
       "  </thead>\n",
       "  <tbody>\n",
       "    <tr>\n",
       "      <th>0</th>\n",
       "      <td>1</td>\n",
       "      <td>-1</td>\n",
       "      <td>Section 1: Introduction</td>\n",
       "      <td>0 days 00:00:00</td>\n",
       "      <td>True</td>\n",
       "      <td>NaT</td>\n",
       "    </tr>\n",
       "    <tr>\n",
       "      <th>1</th>\n",
       "      <td>1</td>\n",
       "      <td>1</td>\n",
       "      <td>PyTorch for Deep Learning</td>\n",
       "      <td>0 days 00:04:00</td>\n",
       "      <td>True</td>\n",
       "      <td>NaT</td>\n",
       "    </tr>\n",
       "    <tr>\n",
       "      <th>2</th>\n",
       "      <td>1</td>\n",
       "      <td>2</td>\n",
       "      <td>Course Welcome and What Is Deep Learning</td>\n",
       "      <td>0 days 00:06:00</td>\n",
       "      <td>True</td>\n",
       "      <td>NaT</td>\n",
       "    </tr>\n",
       "    <tr>\n",
       "      <th>3</th>\n",
       "      <td>1</td>\n",
       "      <td>3</td>\n",
       "      <td>Join Our Online Classroom!</td>\n",
       "      <td>0 days 00:04:00</td>\n",
       "      <td>True</td>\n",
       "      <td>NaT</td>\n",
       "    </tr>\n",
       "    <tr>\n",
       "      <th>4</th>\n",
       "      <td>1</td>\n",
       "      <td>4</td>\n",
       "      <td>Exercise: Meet Your Classmates + Instructor</td>\n",
       "      <td>0 days 00:02:00</td>\n",
       "      <td>True</td>\n",
       "      <td>NaT</td>\n",
       "    </tr>\n",
       "    <tr>\n",
       "      <th>...</th>\n",
       "      <td>...</td>\n",
       "      <td>...</td>\n",
       "      <td>...</td>\n",
       "      <td>...</td>\n",
       "      <td>...</td>\n",
       "      <td>...</td>\n",
       "    </tr>\n",
       "    <tr>\n",
       "      <th>368</th>\n",
       "      <td>14</td>\n",
       "      <td>355</td>\n",
       "      <td>Thank You!</td>\n",
       "      <td>0 days 00:01:00</td>\n",
       "      <td>False</td>\n",
       "      <td>NaT</td>\n",
       "    </tr>\n",
       "    <tr>\n",
       "      <th>369</th>\n",
       "      <td>14</td>\n",
       "      <td>356</td>\n",
       "      <td>Become An Alumni</td>\n",
       "      <td>0 days 00:01:00</td>\n",
       "      <td>False</td>\n",
       "      <td>NaT</td>\n",
       "    </tr>\n",
       "    <tr>\n",
       "      <th>370</th>\n",
       "      <td>14</td>\n",
       "      <td>357</td>\n",
       "      <td>Endorsements on LinkedIn</td>\n",
       "      <td>0 days 00:01:00</td>\n",
       "      <td>False</td>\n",
       "      <td>NaT</td>\n",
       "    </tr>\n",
       "    <tr>\n",
       "      <th>371</th>\n",
       "      <td>14</td>\n",
       "      <td>358</td>\n",
       "      <td>Learning Guideline</td>\n",
       "      <td>0 days 00:01:00</td>\n",
       "      <td>False</td>\n",
       "      <td>NaT</td>\n",
       "    </tr>\n",
       "    <tr>\n",
       "      <th>finished_date</th>\n",
       "      <td>NaT</td>\n",
       "      <td>NaT</td>\n",
       "      <td>NaN</td>\n",
       "      <td>NaT</td>\n",
       "      <td>NaT</td>\n",
       "      <td>NaT</td>\n",
       "    </tr>\n",
       "  </tbody>\n",
       "</table>\n",
       "<p>373 rows × 6 columns</p>\n",
       "</div>"
      ]
     },
     "execution_count": 116,
     "metadata": {},
     "output_type": "execute_result"
    }
   ],
   "execution_count": 116
  },
  {
   "metadata": {
    "ExecuteTime": {
     "end_time": "2025-10-02T13:57:00.172386Z",
     "start_time": "2025-10-02T13:57:00.166116Z"
    }
   },
   "cell_type": "code",
   "source": "df.loc[df[\"section_num\"] <=2, \"finished_date\"] = pd.Timestamp(day=6, month=7, year=2025)",
   "id": "96135736040bd536",
   "outputs": [],
   "execution_count": 117
  },
  {
   "metadata": {
    "ExecuteTime": {
     "end_time": "2025-10-02T13:57:34.653702Z",
     "start_time": "2025-10-02T13:57:34.633618Z"
    }
   },
   "cell_type": "code",
   "source": "df.loc[(df[\"Vid idx\"] <= 47) & (df[\"Vid idx\"] >= 40), \"finished_date\"] = pd.Timestamp(day=6, month=7, year=2025)",
   "id": "4ec56d3091dbba9a",
   "outputs": [],
   "execution_count": 118
  },
  {
   "metadata": {
    "ExecuteTime": {
     "end_time": "2025-10-02T13:57:40.312574Z",
     "start_time": "2025-10-02T13:57:40.308088Z"
    }
   },
   "cell_type": "code",
   "source": "df.loc[(df[\"Vid idx\"] <= 49) & (df[\"Vid idx\"] >= 48), \"finished_date\"] = pd.Timestamp(day=7, month=7, year=2025)",
   "id": "78fc8eba1ced4ad7",
   "outputs": [],
   "execution_count": 119
  },
  {
   "metadata": {
    "ExecuteTime": {
     "end_time": "2025-10-02T13:57:43.564342Z",
     "start_time": "2025-10-02T13:57:43.562110Z"
    }
   },
   "cell_type": "code",
   "source": "df.loc[(df[\"Vid idx\"] <= 55) & (df[\"Vid idx\"] >= 50), \"finished_date\"] = pd.Timestamp(day=15, month=7, year=2025)",
   "id": "c8cecbeec406f39a",
   "outputs": [],
   "execution_count": 120
  },
  {
   "metadata": {
    "ExecuteTime": {
     "end_time": "2025-10-02T13:58:02.763470Z",
     "start_time": "2025-10-02T13:58:02.751375Z"
    }
   },
   "cell_type": "code",
   "source": "df.loc[(df[\"Vid idx\"] <= 67) & (df[\"Vid idx\"] >= 56), \"finished_date\"] = pd.Timestamp(day=16, month=7, year=2025)",
   "id": "6b2c131e364420fb",
   "outputs": [],
   "execution_count": 121
  },
  {
   "metadata": {
    "ExecuteTime": {
     "end_time": "2025-10-02T13:58:12.993290Z",
     "start_time": "2025-10-02T13:58:12.986287Z"
    }
   },
   "cell_type": "code",
   "source": "df.loc[(df[\"section_num\"]==3) & (df[\"Vid idx\"] ==-1), \"finished_date\"] = pd.Timestamp(day=16, month=7, year=2025)",
   "id": "6711762f469bf900",
   "outputs": [],
   "execution_count": 122
  },
  {
   "metadata": {
    "ExecuteTime": {
     "end_time": "2025-10-02T13:59:34.007108Z",
     "start_time": "2025-10-02T13:59:33.994947Z"
    }
   },
   "cell_type": "code",
   "source": "df.loc[(df[\"Vid idx\"] <= 74) & (df[\"Vid idx\"] >= 68), \"finished_date\"] = pd.Timestamp(day=19, month=7, year=2025)",
   "id": "5b2ad37b1fd92111",
   "outputs": [],
   "execution_count": 124
  },
  {
   "metadata": {
    "ExecuteTime": {
     "end_time": "2025-10-02T13:59:37.070107Z",
     "start_time": "2025-10-02T13:59:37.067359Z"
    }
   },
   "cell_type": "code",
   "source": "df.loc[(df[\"Vid idx\"] <= 79) & (df[\"Vid idx\"] >= 75), \"finished_date\"] = pd.Timestamp(day=27, month=7, year=2025)",
   "id": "4d1e341352c10572",
   "outputs": [],
   "execution_count": 125
  },
  {
   "metadata": {
    "ExecuteTime": {
     "end_time": "2025-10-02T13:59:56.278297Z",
     "start_time": "2025-10-02T13:59:56.266258Z"
    }
   },
   "cell_type": "code",
   "source": "df.loc[(df[\"Vid idx\"] <= 83) & (df[\"Vid idx\"] >= 80), \"finished_date\"] = pd.Timestamp(day=28, month=7, year=2025)",
   "id": "88cbff497e5d1cd9",
   "outputs": [],
   "execution_count": 126
  },
  {
   "metadata": {
    "ExecuteTime": {
     "end_time": "2025-10-02T14:03:03.072858Z",
     "start_time": "2025-10-02T14:03:03.056287Z"
    }
   },
   "cell_type": "code",
   "source": "df.loc[(df[\"Vid idx\"] <= 99) & (df[\"Vid idx\"] >= 84), \"finished_date\"] = pd.Timestamp(day=13, month=9, year=2025)",
   "id": "823c185faa57e1ba",
   "outputs": [],
   "execution_count": 127
  },
  {
   "metadata": {
    "ExecuteTime": {
     "end_time": "2025-10-02T14:44:00.103979Z",
     "start_time": "2025-10-02T14:44:00.068043Z"
    }
   },
   "cell_type": "code",
   "source": "df.loc[(df[\"section_num\"]==4) & (df[\"Vid idx\"] ==-1), \"finished_date\"] = pd.Timestamp(day=13, month=9, year=2025)",
   "id": "cd11fd53230e9c57",
   "outputs": [],
   "execution_count": 169
  },
  {
   "metadata": {
    "ExecuteTime": {
     "end_time": "2025-10-02T14:03:03.396151Z",
     "start_time": "2025-10-02T14:03:03.393074Z"
    }
   },
   "cell_type": "code",
   "source": "df.loc[(df[\"Vid idx\"] <= 103) & (df[\"Vid idx\"] >= 100), \"finished_date\"] = pd.Timestamp(day=15, month=9, year=2025)",
   "id": "cd7713e7d3714d30",
   "outputs": [],
   "execution_count": 128
  },
  {
   "metadata": {
    "ExecuteTime": {
     "end_time": "2025-10-02T14:03:04.060178Z",
     "start_time": "2025-10-02T14:03:04.057804Z"
    }
   },
   "cell_type": "code",
   "source": "df.loc[(df[\"Vid idx\"] <= 108) & (df[\"Vid idx\"] >= 104), \"finished_date\"] = pd.Timestamp(day=16, month=9, year=2025)",
   "id": "a6a92f703c21e874",
   "outputs": [],
   "execution_count": 129
  },
  {
   "metadata": {
    "ExecuteTime": {
     "end_time": "2025-10-02T14:03:04.600925Z",
     "start_time": "2025-10-02T14:03:04.597339Z"
    }
   },
   "cell_type": "code",
   "source": "df.loc[(df[\"Vid idx\"] <= 111) & (df[\"Vid idx\"] >= 109), \"finished_date\"] = pd.Timestamp(day=17, month=9, year=2025)",
   "id": "891fee560042302b",
   "outputs": [],
   "execution_count": 130
  },
  {
   "metadata": {
    "ExecuteTime": {
     "end_time": "2025-10-02T14:03:36.732849Z",
     "start_time": "2025-10-02T14:03:36.700993Z"
    }
   },
   "cell_type": "code",
   "source": "df.loc[(df[\"Vid idx\"] <= 112) & (df[\"Vid idx\"] >= 112), \"finished_date\"] = pd.Timestamp(day=20, month=9, year=2025)",
   "id": "4089553cb6937818",
   "outputs": [],
   "execution_count": 131
  },
  {
   "metadata": {
    "ExecuteTime": {
     "end_time": "2025-10-02T14:03:58.992503Z",
     "start_time": "2025-10-02T14:03:58.965638Z"
    }
   },
   "cell_type": "code",
   "source": "df.loc[(df[\"Vid idx\"] <= 114) & (df[\"Vid idx\"] >= 113), \"finished_date\"] = pd.Timestamp(day=21, month=9, year=2025)",
   "id": "582732796296beb2",
   "outputs": [],
   "execution_count": 132
  },
  {
   "metadata": {
    "ExecuteTime": {
     "end_time": "2025-10-02T14:04:25.185026Z",
     "start_time": "2025-10-02T14:04:25.163756Z"
    }
   },
   "cell_type": "code",
   "source": "df.loc[(df[\"Vid idx\"] <= 133) & (df[\"Vid idx\"] >= 115), \"finished_date\"] = pd.Timestamp(day=23, month=9, year=2025)",
   "id": "d3ea3b4620de4324",
   "outputs": [],
   "execution_count": 133
  },
  {
   "metadata": {
    "ExecuteTime": {
     "end_time": "2025-10-02T14:06:03.142606Z",
     "start_time": "2025-10-02T14:06:03.120033Z"
    }
   },
   "cell_type": "code",
   "source": "df.loc[(df[\"section_num\"]==5) & (df[\"Vid idx\"] ==-1), \"finished_date\"] = pd.Timestamp(day=23, month=9, year=2025)",
   "id": "6d120ec4732a9713",
   "outputs": [],
   "execution_count": 134
  },
  {
   "metadata": {
    "ExecuteTime": {
     "end_time": "2025-10-02T14:07:24.647013Z",
     "start_time": "2025-10-02T14:07:24.624502Z"
    }
   },
   "cell_type": "code",
   "source": "df.loc[(df[\"Vid idx\"] <= 139) & (df[\"Vid idx\"] >= 134), \"finished_date\"] = pd.Timestamp(day=26, month=9, year=2025)",
   "id": "36f695918b4a39f8",
   "outputs": [],
   "execution_count": 135
  },
  {
   "metadata": {
    "ExecuteTime": {
     "end_time": "2025-10-02T14:08:19.672807Z",
     "start_time": "2025-10-02T14:08:19.639232Z"
    }
   },
   "cell_type": "code",
   "source": "df.loc[(df[\"Vid idx\"] <= 146) & (df[\"Vid idx\"] >= 140), \"finished_date\"] = pd.Timestamp(day=27, month=9, year=2025)",
   "id": "98117afee70928a8",
   "outputs": [],
   "execution_count": 136
  },
  {
   "metadata": {
    "ExecuteTime": {
     "end_time": "2025-10-02T14:09:18.021847Z",
     "start_time": "2025-10-02T14:09:18.006162Z"
    }
   },
   "cell_type": "code",
   "source": "df.loc[(df[\"Vid idx\"] <= 149) & (df[\"Vid idx\"] >= 147), \"finished_date\"] = pd.Timestamp(day=29, month=9, year=2025)",
   "id": "83268143a0086dde",
   "outputs": [],
   "execution_count": 137
  },
  {
   "metadata": {
    "ExecuteTime": {
     "end_time": "2025-10-02T14:09:54.059636Z",
     "start_time": "2025-10-02T14:09:54.036528Z"
    }
   },
   "cell_type": "code",
   "source": "df.loc[(df[\"Vid idx\"] <= 156) & (df[\"Vid idx\"] >= 150), \"finished_date\"] = pd.Timestamp(day=30, month=9, year=2025)",
   "id": "546ddd872f5db84c",
   "outputs": [],
   "execution_count": 138
  },
  {
   "metadata": {
    "ExecuteTime": {
     "end_time": "2025-10-02T14:10:32.135203Z",
     "start_time": "2025-10-02T14:10:32.115843Z"
    }
   },
   "cell_type": "code",
   "source": "df.loc[(df[\"Vid idx\"] <= 159) & (df[\"Vid idx\"] >= 157), \"finished_date\"] = pd.Timestamp(day=1, month=10, year=2025)",
   "id": "547d7fa1c2c3df7a",
   "outputs": [],
   "execution_count": 139
  },
  {
   "metadata": {
    "ExecuteTime": {
     "end_time": "2025-10-02T14:10:34.760524Z",
     "start_time": "2025-10-02T14:10:34.744987Z"
    }
   },
   "cell_type": "code",
   "source": "df",
   "id": "4c913b409a606cf4",
   "outputs": [
    {
     "data": {
      "text/plain": [
       "              section_num Vid idx  \\\n",
       "0                       1      -1   \n",
       "1                       1       1   \n",
       "2                       1       2   \n",
       "3                       1       3   \n",
       "4                       1       4   \n",
       "...                   ...     ...   \n",
       "368                    14     355   \n",
       "369                    14     356   \n",
       "370                    14     357   \n",
       "371                    14     358   \n",
       "finished_date         NaT     NaT   \n",
       "\n",
       "                                                     title         duration  \\\n",
       "0                                  Section 1: Introduction  0 days 00:00:00   \n",
       "1                                PyTorch for Deep Learning  0 days 00:04:00   \n",
       "2                 Course Welcome and What Is Deep Learning  0 days 00:06:00   \n",
       "3                               Join Our Online Classroom!  0 days 00:04:00   \n",
       "4              Exercise: Meet Your Classmates + Instructor  0 days 00:02:00   \n",
       "...                                                    ...              ...   \n",
       "368                                             Thank You!  0 days 00:01:00   \n",
       "369                                       Become An Alumni  0 days 00:01:00   \n",
       "370                               Endorsements on LinkedIn  0 days 00:01:00   \n",
       "371                                     Learning Guideline  0 days 00:01:00   \n",
       "finished_date                                          NaN              NaT   \n",
       "\n",
       "                done finished_date  \n",
       "0               True    2025-07-06  \n",
       "1               True    2025-07-06  \n",
       "2               True    2025-07-06  \n",
       "3               True    2025-07-06  \n",
       "4               True    2025-07-06  \n",
       "...              ...           ...  \n",
       "368            False           NaT  \n",
       "369            False           NaT  \n",
       "370            False           NaT  \n",
       "371            False           NaT  \n",
       "finished_date    NaT           NaT  \n",
       "\n",
       "[373 rows x 6 columns]"
      ],
      "text/html": [
       "<div>\n",
       "<style scoped>\n",
       "    .dataframe tbody tr th:only-of-type {\n",
       "        vertical-align: middle;\n",
       "    }\n",
       "\n",
       "    .dataframe tbody tr th {\n",
       "        vertical-align: top;\n",
       "    }\n",
       "\n",
       "    .dataframe thead th {\n",
       "        text-align: right;\n",
       "    }\n",
       "</style>\n",
       "<table border=\"1\" class=\"dataframe\">\n",
       "  <thead>\n",
       "    <tr style=\"text-align: right;\">\n",
       "      <th></th>\n",
       "      <th>section_num</th>\n",
       "      <th>Vid idx</th>\n",
       "      <th>title</th>\n",
       "      <th>duration</th>\n",
       "      <th>done</th>\n",
       "      <th>finished_date</th>\n",
       "    </tr>\n",
       "  </thead>\n",
       "  <tbody>\n",
       "    <tr>\n",
       "      <th>0</th>\n",
       "      <td>1</td>\n",
       "      <td>-1</td>\n",
       "      <td>Section 1: Introduction</td>\n",
       "      <td>0 days 00:00:00</td>\n",
       "      <td>True</td>\n",
       "      <td>2025-07-06</td>\n",
       "    </tr>\n",
       "    <tr>\n",
       "      <th>1</th>\n",
       "      <td>1</td>\n",
       "      <td>1</td>\n",
       "      <td>PyTorch for Deep Learning</td>\n",
       "      <td>0 days 00:04:00</td>\n",
       "      <td>True</td>\n",
       "      <td>2025-07-06</td>\n",
       "    </tr>\n",
       "    <tr>\n",
       "      <th>2</th>\n",
       "      <td>1</td>\n",
       "      <td>2</td>\n",
       "      <td>Course Welcome and What Is Deep Learning</td>\n",
       "      <td>0 days 00:06:00</td>\n",
       "      <td>True</td>\n",
       "      <td>2025-07-06</td>\n",
       "    </tr>\n",
       "    <tr>\n",
       "      <th>3</th>\n",
       "      <td>1</td>\n",
       "      <td>3</td>\n",
       "      <td>Join Our Online Classroom!</td>\n",
       "      <td>0 days 00:04:00</td>\n",
       "      <td>True</td>\n",
       "      <td>2025-07-06</td>\n",
       "    </tr>\n",
       "    <tr>\n",
       "      <th>4</th>\n",
       "      <td>1</td>\n",
       "      <td>4</td>\n",
       "      <td>Exercise: Meet Your Classmates + Instructor</td>\n",
       "      <td>0 days 00:02:00</td>\n",
       "      <td>True</td>\n",
       "      <td>2025-07-06</td>\n",
       "    </tr>\n",
       "    <tr>\n",
       "      <th>...</th>\n",
       "      <td>...</td>\n",
       "      <td>...</td>\n",
       "      <td>...</td>\n",
       "      <td>...</td>\n",
       "      <td>...</td>\n",
       "      <td>...</td>\n",
       "    </tr>\n",
       "    <tr>\n",
       "      <th>368</th>\n",
       "      <td>14</td>\n",
       "      <td>355</td>\n",
       "      <td>Thank You!</td>\n",
       "      <td>0 days 00:01:00</td>\n",
       "      <td>False</td>\n",
       "      <td>NaT</td>\n",
       "    </tr>\n",
       "    <tr>\n",
       "      <th>369</th>\n",
       "      <td>14</td>\n",
       "      <td>356</td>\n",
       "      <td>Become An Alumni</td>\n",
       "      <td>0 days 00:01:00</td>\n",
       "      <td>False</td>\n",
       "      <td>NaT</td>\n",
       "    </tr>\n",
       "    <tr>\n",
       "      <th>370</th>\n",
       "      <td>14</td>\n",
       "      <td>357</td>\n",
       "      <td>Endorsements on LinkedIn</td>\n",
       "      <td>0 days 00:01:00</td>\n",
       "      <td>False</td>\n",
       "      <td>NaT</td>\n",
       "    </tr>\n",
       "    <tr>\n",
       "      <th>371</th>\n",
       "      <td>14</td>\n",
       "      <td>358</td>\n",
       "      <td>Learning Guideline</td>\n",
       "      <td>0 days 00:01:00</td>\n",
       "      <td>False</td>\n",
       "      <td>NaT</td>\n",
       "    </tr>\n",
       "    <tr>\n",
       "      <th>finished_date</th>\n",
       "      <td>NaT</td>\n",
       "      <td>NaT</td>\n",
       "      <td>NaN</td>\n",
       "      <td>NaT</td>\n",
       "      <td>NaT</td>\n",
       "      <td>NaT</td>\n",
       "    </tr>\n",
       "  </tbody>\n",
       "</table>\n",
       "<p>373 rows × 6 columns</p>\n",
       "</div>"
      ]
     },
     "execution_count": 140,
     "metadata": {},
     "output_type": "execute_result"
    }
   ],
   "execution_count": 140
  },
  {
   "metadata": {
    "ExecuteTime": {
     "end_time": "2025-10-02T14:22:27.773423Z",
     "start_time": "2025-10-02T14:22:27.743955Z"
    }
   },
   "cell_type": "code",
   "source": "df['duration'] = df['duration'].apply(pd.Timedelta)",
   "id": "a50d314d94566728",
   "outputs": [],
   "execution_count": 148
  },
  {
   "metadata": {
    "ExecuteTime": {
     "end_time": "2025-10-02T14:21:16.525127Z",
     "start_time": "2025-10-02T14:21:16.495934Z"
    }
   },
   "cell_type": "code",
   "source": "df.loc[(df[\"done\"]==True) & (df[\"finished_date\"] == pd.NaT)] # Nice",
   "id": "a4159a2774837742",
   "outputs": [
    {
     "data": {
      "text/plain": [
       "Empty DataFrame\n",
       "Columns: [section_num, Vid idx, title, duration, done, finished_date]\n",
       "Index: []"
      ],
      "text/html": [
       "<div>\n",
       "<style scoped>\n",
       "    .dataframe tbody tr th:only-of-type {\n",
       "        vertical-align: middle;\n",
       "    }\n",
       "\n",
       "    .dataframe tbody tr th {\n",
       "        vertical-align: top;\n",
       "    }\n",
       "\n",
       "    .dataframe thead th {\n",
       "        text-align: right;\n",
       "    }\n",
       "</style>\n",
       "<table border=\"1\" class=\"dataframe\">\n",
       "  <thead>\n",
       "    <tr style=\"text-align: right;\">\n",
       "      <th></th>\n",
       "      <th>section_num</th>\n",
       "      <th>Vid idx</th>\n",
       "      <th>title</th>\n",
       "      <th>duration</th>\n",
       "      <th>done</th>\n",
       "      <th>finished_date</th>\n",
       "    </tr>\n",
       "  </thead>\n",
       "  <tbody>\n",
       "  </tbody>\n",
       "</table>\n",
       "</div>"
      ]
     },
     "execution_count": 147,
     "metadata": {},
     "output_type": "execute_result"
    }
   ],
   "execution_count": 147
  },
  {
   "metadata": {
    "ExecuteTime": {
     "end_time": "2025-10-02T14:37:16.651436Z",
     "start_time": "2025-10-02T14:37:16.624832Z"
    }
   },
   "cell_type": "code",
   "source": [
    "df = df.copy()\n",
    "\n",
    "df[\"section_num\"] = df[\"section_num\"].astype(\"Int64\")\n",
    "df[\"Vid idx\"] = df[\"Vid idx\"].astype(\"Int64\")\n",
    "df[\"title\"] = df[\"title\"].astype(\"string\")\n",
    "df[\"duration\"] = pd.to_timedelta(df[\"duration\"])\n",
    "df[\"done\"] = df[\"done\"].astype(\"boolean\")\n",
    "df[\"finished_date\"] = pd.to_datetime(df[\"finished_date\"])\n",
    "df"
   ],
   "id": "839bb79768aa6e79",
   "outputs": [
    {
     "data": {
      "text/plain": [
       "     section_num  Vid idx                                        title  \\\n",
       "0              1       -1                      Section 1: Introduction   \n",
       "1              1        1                    PyTorch for Deep Learning   \n",
       "2              1        2     Course Welcome and What Is Deep Learning   \n",
       "3              1        3                   Join Our Online Classroom!   \n",
       "4              1        4  Exercise: Meet Your Classmates + Instructor   \n",
       "..           ...      ...                                          ...   \n",
       "367           14       -1           Section 14: Where To Go From Here?   \n",
       "368           14      355                                   Thank You!   \n",
       "369           14      356                             Become An Alumni   \n",
       "370           14      357                     Endorsements on LinkedIn   \n",
       "371           14      358                           Learning Guideline   \n",
       "\n",
       "           duration   done finished_date  \n",
       "0   0 days 00:00:00   True    2025-07-06  \n",
       "1   0 days 00:04:00   True    2025-07-06  \n",
       "2   0 days 00:06:00   True    2025-07-06  \n",
       "3   0 days 00:04:00   True    2025-07-06  \n",
       "4   0 days 00:02:00   True    2025-07-06  \n",
       "..              ...    ...           ...  \n",
       "367 0 days 00:00:00   True           NaT  \n",
       "368 0 days 00:01:00  False           NaT  \n",
       "369 0 days 00:01:00  False           NaT  \n",
       "370 0 days 00:01:00  False           NaT  \n",
       "371 0 days 00:01:00  False           NaT  \n",
       "\n",
       "[372 rows x 6 columns]"
      ],
      "text/html": [
       "<div>\n",
       "<style scoped>\n",
       "    .dataframe tbody tr th:only-of-type {\n",
       "        vertical-align: middle;\n",
       "    }\n",
       "\n",
       "    .dataframe tbody tr th {\n",
       "        vertical-align: top;\n",
       "    }\n",
       "\n",
       "    .dataframe thead th {\n",
       "        text-align: right;\n",
       "    }\n",
       "</style>\n",
       "<table border=\"1\" class=\"dataframe\">\n",
       "  <thead>\n",
       "    <tr style=\"text-align: right;\">\n",
       "      <th></th>\n",
       "      <th>section_num</th>\n",
       "      <th>Vid idx</th>\n",
       "      <th>title</th>\n",
       "      <th>duration</th>\n",
       "      <th>done</th>\n",
       "      <th>finished_date</th>\n",
       "    </tr>\n",
       "  </thead>\n",
       "  <tbody>\n",
       "    <tr>\n",
       "      <th>0</th>\n",
       "      <td>1</td>\n",
       "      <td>-1</td>\n",
       "      <td>Section 1: Introduction</td>\n",
       "      <td>0 days 00:00:00</td>\n",
       "      <td>True</td>\n",
       "      <td>2025-07-06</td>\n",
       "    </tr>\n",
       "    <tr>\n",
       "      <th>1</th>\n",
       "      <td>1</td>\n",
       "      <td>1</td>\n",
       "      <td>PyTorch for Deep Learning</td>\n",
       "      <td>0 days 00:04:00</td>\n",
       "      <td>True</td>\n",
       "      <td>2025-07-06</td>\n",
       "    </tr>\n",
       "    <tr>\n",
       "      <th>2</th>\n",
       "      <td>1</td>\n",
       "      <td>2</td>\n",
       "      <td>Course Welcome and What Is Deep Learning</td>\n",
       "      <td>0 days 00:06:00</td>\n",
       "      <td>True</td>\n",
       "      <td>2025-07-06</td>\n",
       "    </tr>\n",
       "    <tr>\n",
       "      <th>3</th>\n",
       "      <td>1</td>\n",
       "      <td>3</td>\n",
       "      <td>Join Our Online Classroom!</td>\n",
       "      <td>0 days 00:04:00</td>\n",
       "      <td>True</td>\n",
       "      <td>2025-07-06</td>\n",
       "    </tr>\n",
       "    <tr>\n",
       "      <th>4</th>\n",
       "      <td>1</td>\n",
       "      <td>4</td>\n",
       "      <td>Exercise: Meet Your Classmates + Instructor</td>\n",
       "      <td>0 days 00:02:00</td>\n",
       "      <td>True</td>\n",
       "      <td>2025-07-06</td>\n",
       "    </tr>\n",
       "    <tr>\n",
       "      <th>...</th>\n",
       "      <td>...</td>\n",
       "      <td>...</td>\n",
       "      <td>...</td>\n",
       "      <td>...</td>\n",
       "      <td>...</td>\n",
       "      <td>...</td>\n",
       "    </tr>\n",
       "    <tr>\n",
       "      <th>367</th>\n",
       "      <td>14</td>\n",
       "      <td>-1</td>\n",
       "      <td>Section 14: Where To Go From Here?</td>\n",
       "      <td>0 days 00:00:00</td>\n",
       "      <td>True</td>\n",
       "      <td>NaT</td>\n",
       "    </tr>\n",
       "    <tr>\n",
       "      <th>368</th>\n",
       "      <td>14</td>\n",
       "      <td>355</td>\n",
       "      <td>Thank You!</td>\n",
       "      <td>0 days 00:01:00</td>\n",
       "      <td>False</td>\n",
       "      <td>NaT</td>\n",
       "    </tr>\n",
       "    <tr>\n",
       "      <th>369</th>\n",
       "      <td>14</td>\n",
       "      <td>356</td>\n",
       "      <td>Become An Alumni</td>\n",
       "      <td>0 days 00:01:00</td>\n",
       "      <td>False</td>\n",
       "      <td>NaT</td>\n",
       "    </tr>\n",
       "    <tr>\n",
       "      <th>370</th>\n",
       "      <td>14</td>\n",
       "      <td>357</td>\n",
       "      <td>Endorsements on LinkedIn</td>\n",
       "      <td>0 days 00:01:00</td>\n",
       "      <td>False</td>\n",
       "      <td>NaT</td>\n",
       "    </tr>\n",
       "    <tr>\n",
       "      <th>371</th>\n",
       "      <td>14</td>\n",
       "      <td>358</td>\n",
       "      <td>Learning Guideline</td>\n",
       "      <td>0 days 00:01:00</td>\n",
       "      <td>False</td>\n",
       "      <td>NaT</td>\n",
       "    </tr>\n",
       "  </tbody>\n",
       "</table>\n",
       "<p>372 rows × 6 columns</p>\n",
       "</div>"
      ]
     },
     "execution_count": 164,
     "metadata": {},
     "output_type": "execute_result"
    }
   ],
   "execution_count": 164
  },
  {
   "metadata": {
    "ExecuteTime": {
     "end_time": "2025-10-02T14:29:41.120585Z",
     "start_time": "2025-10-02T14:29:41.102162Z"
    }
   },
   "cell_type": "code",
   "source": "df = df.dropna(subset=\"title\")",
   "id": "6bbbab957115e101",
   "outputs": [],
   "execution_count": 161
  },
  {
   "metadata": {
    "ExecuteTime": {
     "end_time": "2025-10-02T14:44:07.177151Z",
     "start_time": "2025-10-02T14:44:07.163785Z"
    }
   },
   "cell_type": "code",
   "source": "df.loc[(df[\"done\"]==True) & (df[\"finished_date\"].isna())]",
   "id": "d23fd134e7826b02",
   "outputs": [
    {
     "data": {
      "text/plain": [
       "     section_num  Vid idx                                              title  \\\n",
       "138            6       -1                 Section 6: PyTorch Custom Datasets   \n",
       "176            7       -1                   Section 7: PyTorch Going Modular   \n",
       "187            8       -1               Section 8: PyTorch Transfer Learning   \n",
       "207            9       -1             Section 9: PyTorch Experiment Tracking   \n",
       "230           10       -1              Section 10: PyTorch Paper Replicating   \n",
       "281           11       -1               Section 11: PyTorch Model Deployment   \n",
       "339           12       -1  Section 12: Introduction to PyTorch 2.0 and to...   \n",
       "365           13       -1                          Section 13: Bonus Section   \n",
       "367           14       -1                 Section 14: Where To Go From Here?   \n",
       "\n",
       "    duration  done finished_date  \n",
       "138   0 days  True           NaT  \n",
       "176   0 days  True           NaT  \n",
       "187   0 days  True           NaT  \n",
       "207   0 days  True           NaT  \n",
       "230   0 days  True           NaT  \n",
       "281   0 days  True           NaT  \n",
       "339   0 days  True           NaT  \n",
       "365   0 days  True           NaT  \n",
       "367   0 days  True           NaT  "
      ],
      "text/html": [
       "<div>\n",
       "<style scoped>\n",
       "    .dataframe tbody tr th:only-of-type {\n",
       "        vertical-align: middle;\n",
       "    }\n",
       "\n",
       "    .dataframe tbody tr th {\n",
       "        vertical-align: top;\n",
       "    }\n",
       "\n",
       "    .dataframe thead th {\n",
       "        text-align: right;\n",
       "    }\n",
       "</style>\n",
       "<table border=\"1\" class=\"dataframe\">\n",
       "  <thead>\n",
       "    <tr style=\"text-align: right;\">\n",
       "      <th></th>\n",
       "      <th>section_num</th>\n",
       "      <th>Vid idx</th>\n",
       "      <th>title</th>\n",
       "      <th>duration</th>\n",
       "      <th>done</th>\n",
       "      <th>finished_date</th>\n",
       "    </tr>\n",
       "  </thead>\n",
       "  <tbody>\n",
       "    <tr>\n",
       "      <th>138</th>\n",
       "      <td>6</td>\n",
       "      <td>-1</td>\n",
       "      <td>Section 6: PyTorch Custom Datasets</td>\n",
       "      <td>0 days</td>\n",
       "      <td>True</td>\n",
       "      <td>NaT</td>\n",
       "    </tr>\n",
       "    <tr>\n",
       "      <th>176</th>\n",
       "      <td>7</td>\n",
       "      <td>-1</td>\n",
       "      <td>Section 7: PyTorch Going Modular</td>\n",
       "      <td>0 days</td>\n",
       "      <td>True</td>\n",
       "      <td>NaT</td>\n",
       "    </tr>\n",
       "    <tr>\n",
       "      <th>187</th>\n",
       "      <td>8</td>\n",
       "      <td>-1</td>\n",
       "      <td>Section 8: PyTorch Transfer Learning</td>\n",
       "      <td>0 days</td>\n",
       "      <td>True</td>\n",
       "      <td>NaT</td>\n",
       "    </tr>\n",
       "    <tr>\n",
       "      <th>207</th>\n",
       "      <td>9</td>\n",
       "      <td>-1</td>\n",
       "      <td>Section 9: PyTorch Experiment Tracking</td>\n",
       "      <td>0 days</td>\n",
       "      <td>True</td>\n",
       "      <td>NaT</td>\n",
       "    </tr>\n",
       "    <tr>\n",
       "      <th>230</th>\n",
       "      <td>10</td>\n",
       "      <td>-1</td>\n",
       "      <td>Section 10: PyTorch Paper Replicating</td>\n",
       "      <td>0 days</td>\n",
       "      <td>True</td>\n",
       "      <td>NaT</td>\n",
       "    </tr>\n",
       "    <tr>\n",
       "      <th>281</th>\n",
       "      <td>11</td>\n",
       "      <td>-1</td>\n",
       "      <td>Section 11: PyTorch Model Deployment</td>\n",
       "      <td>0 days</td>\n",
       "      <td>True</td>\n",
       "      <td>NaT</td>\n",
       "    </tr>\n",
       "    <tr>\n",
       "      <th>339</th>\n",
       "      <td>12</td>\n",
       "      <td>-1</td>\n",
       "      <td>Section 12: Introduction to PyTorch 2.0 and to...</td>\n",
       "      <td>0 days</td>\n",
       "      <td>True</td>\n",
       "      <td>NaT</td>\n",
       "    </tr>\n",
       "    <tr>\n",
       "      <th>365</th>\n",
       "      <td>13</td>\n",
       "      <td>-1</td>\n",
       "      <td>Section 13: Bonus Section</td>\n",
       "      <td>0 days</td>\n",
       "      <td>True</td>\n",
       "      <td>NaT</td>\n",
       "    </tr>\n",
       "    <tr>\n",
       "      <th>367</th>\n",
       "      <td>14</td>\n",
       "      <td>-1</td>\n",
       "      <td>Section 14: Where To Go From Here?</td>\n",
       "      <td>0 days</td>\n",
       "      <td>True</td>\n",
       "      <td>NaT</td>\n",
       "    </tr>\n",
       "  </tbody>\n",
       "</table>\n",
       "</div>"
      ]
     },
     "execution_count": 170,
     "metadata": {},
     "output_type": "execute_result"
    }
   ],
   "execution_count": 170
  },
  {
   "metadata": {
    "ExecuteTime": {
     "end_time": "2025-10-02T14:45:09.612480Z",
     "start_time": "2025-10-02T14:45:09.585244Z"
    }
   },
   "cell_type": "code",
   "source": "df.loc[(df[\"done\"]==True) & (df[\"finished_date\"].isna()), \"done\"] = False",
   "id": "ef489666c374899",
   "outputs": [],
   "execution_count": 171
  },
  {
   "metadata": {
    "ExecuteTime": {
     "end_time": "2025-10-02T14:45:17.621862Z",
     "start_time": "2025-10-02T14:45:17.599655Z"
    }
   },
   "cell_type": "code",
   "source": "df",
   "id": "ad9e59302af7338f",
   "outputs": [
    {
     "data": {
      "text/plain": [
       "     section_num  Vid idx                                        title  \\\n",
       "0              1       -1                      Section 1: Introduction   \n",
       "1              1        1                    PyTorch for Deep Learning   \n",
       "2              1        2     Course Welcome and What Is Deep Learning   \n",
       "3              1        3                   Join Our Online Classroom!   \n",
       "4              1        4  Exercise: Meet Your Classmates + Instructor   \n",
       "..           ...      ...                                          ...   \n",
       "367           14       -1           Section 14: Where To Go From Here?   \n",
       "368           14      355                                   Thank You!   \n",
       "369           14      356                             Become An Alumni   \n",
       "370           14      357                     Endorsements on LinkedIn   \n",
       "371           14      358                           Learning Guideline   \n",
       "\n",
       "           duration   done finished_date  \n",
       "0   0 days 00:00:00   True    2025-07-06  \n",
       "1   0 days 00:04:00   True    2025-07-06  \n",
       "2   0 days 00:06:00   True    2025-07-06  \n",
       "3   0 days 00:04:00   True    2025-07-06  \n",
       "4   0 days 00:02:00   True    2025-07-06  \n",
       "..              ...    ...           ...  \n",
       "367 0 days 00:00:00  False           NaT  \n",
       "368 0 days 00:01:00  False           NaT  \n",
       "369 0 days 00:01:00  False           NaT  \n",
       "370 0 days 00:01:00  False           NaT  \n",
       "371 0 days 00:01:00  False           NaT  \n",
       "\n",
       "[372 rows x 6 columns]"
      ],
      "text/html": [
       "<div>\n",
       "<style scoped>\n",
       "    .dataframe tbody tr th:only-of-type {\n",
       "        vertical-align: middle;\n",
       "    }\n",
       "\n",
       "    .dataframe tbody tr th {\n",
       "        vertical-align: top;\n",
       "    }\n",
       "\n",
       "    .dataframe thead th {\n",
       "        text-align: right;\n",
       "    }\n",
       "</style>\n",
       "<table border=\"1\" class=\"dataframe\">\n",
       "  <thead>\n",
       "    <tr style=\"text-align: right;\">\n",
       "      <th></th>\n",
       "      <th>section_num</th>\n",
       "      <th>Vid idx</th>\n",
       "      <th>title</th>\n",
       "      <th>duration</th>\n",
       "      <th>done</th>\n",
       "      <th>finished_date</th>\n",
       "    </tr>\n",
       "  </thead>\n",
       "  <tbody>\n",
       "    <tr>\n",
       "      <th>0</th>\n",
       "      <td>1</td>\n",
       "      <td>-1</td>\n",
       "      <td>Section 1: Introduction</td>\n",
       "      <td>0 days 00:00:00</td>\n",
       "      <td>True</td>\n",
       "      <td>2025-07-06</td>\n",
       "    </tr>\n",
       "    <tr>\n",
       "      <th>1</th>\n",
       "      <td>1</td>\n",
       "      <td>1</td>\n",
       "      <td>PyTorch for Deep Learning</td>\n",
       "      <td>0 days 00:04:00</td>\n",
       "      <td>True</td>\n",
       "      <td>2025-07-06</td>\n",
       "    </tr>\n",
       "    <tr>\n",
       "      <th>2</th>\n",
       "      <td>1</td>\n",
       "      <td>2</td>\n",
       "      <td>Course Welcome and What Is Deep Learning</td>\n",
       "      <td>0 days 00:06:00</td>\n",
       "      <td>True</td>\n",
       "      <td>2025-07-06</td>\n",
       "    </tr>\n",
       "    <tr>\n",
       "      <th>3</th>\n",
       "      <td>1</td>\n",
       "      <td>3</td>\n",
       "      <td>Join Our Online Classroom!</td>\n",
       "      <td>0 days 00:04:00</td>\n",
       "      <td>True</td>\n",
       "      <td>2025-07-06</td>\n",
       "    </tr>\n",
       "    <tr>\n",
       "      <th>4</th>\n",
       "      <td>1</td>\n",
       "      <td>4</td>\n",
       "      <td>Exercise: Meet Your Classmates + Instructor</td>\n",
       "      <td>0 days 00:02:00</td>\n",
       "      <td>True</td>\n",
       "      <td>2025-07-06</td>\n",
       "    </tr>\n",
       "    <tr>\n",
       "      <th>...</th>\n",
       "      <td>...</td>\n",
       "      <td>...</td>\n",
       "      <td>...</td>\n",
       "      <td>...</td>\n",
       "      <td>...</td>\n",
       "      <td>...</td>\n",
       "    </tr>\n",
       "    <tr>\n",
       "      <th>367</th>\n",
       "      <td>14</td>\n",
       "      <td>-1</td>\n",
       "      <td>Section 14: Where To Go From Here?</td>\n",
       "      <td>0 days 00:00:00</td>\n",
       "      <td>False</td>\n",
       "      <td>NaT</td>\n",
       "    </tr>\n",
       "    <tr>\n",
       "      <th>368</th>\n",
       "      <td>14</td>\n",
       "      <td>355</td>\n",
       "      <td>Thank You!</td>\n",
       "      <td>0 days 00:01:00</td>\n",
       "      <td>False</td>\n",
       "      <td>NaT</td>\n",
       "    </tr>\n",
       "    <tr>\n",
       "      <th>369</th>\n",
       "      <td>14</td>\n",
       "      <td>356</td>\n",
       "      <td>Become An Alumni</td>\n",
       "      <td>0 days 00:01:00</td>\n",
       "      <td>False</td>\n",
       "      <td>NaT</td>\n",
       "    </tr>\n",
       "    <tr>\n",
       "      <th>370</th>\n",
       "      <td>14</td>\n",
       "      <td>357</td>\n",
       "      <td>Endorsements on LinkedIn</td>\n",
       "      <td>0 days 00:01:00</td>\n",
       "      <td>False</td>\n",
       "      <td>NaT</td>\n",
       "    </tr>\n",
       "    <tr>\n",
       "      <th>371</th>\n",
       "      <td>14</td>\n",
       "      <td>358</td>\n",
       "      <td>Learning Guideline</td>\n",
       "      <td>0 days 00:01:00</td>\n",
       "      <td>False</td>\n",
       "      <td>NaT</td>\n",
       "    </tr>\n",
       "  </tbody>\n",
       "</table>\n",
       "<p>372 rows × 6 columns</p>\n",
       "</div>"
      ]
     },
     "execution_count": 172,
     "metadata": {},
     "output_type": "execute_result"
    }
   ],
   "execution_count": 172
  },
  {
   "metadata": {
    "ExecuteTime": {
     "end_time": "2025-10-02T14:46:17.331600Z",
     "start_time": "2025-10-02T14:46:17.269202Z"
    }
   },
   "cell_type": "code",
   "source": "df.to_parquet(\"./progress.parquet\")",
   "id": "2f32c799749ffce",
   "outputs": [],
   "execution_count": 173
  },
  {
   "metadata": {
    "ExecuteTime": {
     "end_time": "2025-10-02T15:02:10.008380Z",
     "start_time": "2025-10-02T15:02:09.917075Z"
    }
   },
   "cell_type": "code",
   "source": [
    "from matplotlib.ticker import FuncFormatter\n",
    "import matplotlib.pyplot as plt\n",
    "\n",
    "# Create month column\n",
    "df[\"month\"] = df[\"finished_date\"].dt.to_period(\"M\")\n",
    "\n",
    "# Group by month and sum durations\n",
    "monthly_time = df.groupby(\"month\")[\"duration\"].sum()\n",
    "\n",
    "# Convert timedelta to hours\n",
    "monthly_time_hours = monthly_time.dt.total_seconds() / 3600\n",
    "\n",
    "# Plot\n",
    "plt.figure(figsize=(8,5))\n",
    "monthly_time_hours.plot(kind=\"bar\", color=\"skyblue\")\n",
    "plt.ylabel(\"Total Time (hours)\")\n",
    "plt.xlabel(\"Month\")\n",
    "plt.title(\"Time Spent Per Month\")\n",
    "plt.xticks(rotation=45)\n",
    "\n",
    "# Format y-axis labels nicely\n",
    "formatter = FuncFormatter(lambda x, pos: f\"{x:.1f}h\")\n",
    "plt.gca().yaxis.set_major_formatter(formatter)\n",
    "\n",
    "plt.tight_layout()\n",
    "\n",
    "plt.show()\n"
   ],
   "id": "53f5a1c0c4f73734",
   "outputs": [
    {
     "data": {
      "text/plain": [
       "<Figure size 800x500 with 1 Axes>"
      ],
      "image/png": "[encoded data removed]"
     },
     "metadata": {},
     "output_type": "display_data"
    }
   ],
   "execution_count": 193
  },
  {
   "metadata": {
    "ExecuteTime": {
     "end_time": "2025-10-02T14:53:28.199030Z",
     "start_time": "2025-10-02T14:53:28.150619Z"
    }
   },
   "cell_type": "code",
   "source": [
    "done_sum = df.loc[df[\"done\"] == True, \"duration\"].sum()\n",
    "not_done_sum = df.loc[df[\"done\"] == False, \"duration\"].sum()\n",
    "\n",
    "print(\"Total done time:\", done_sum)\n",
    "print(\"Total not done time:\", not_done_sum)\n"
   ],
   "id": "ce3f0f0028fe1f62",
   "outputs": [
    {
     "name": "stdout",
     "output_type": "stream",
     "text": [
      "Total done time: 1 days 00:11:00\n",
      "Total not done time: 1 days 04:04:00\n"
     ]
    }
   ],
   "execution_count": 178
  },
  {
   "metadata": {
    "ExecuteTime": {
     "end_time": "2025-10-02T15:04:23.244763Z",
     "start_time": "2025-10-02T15:04:23.113504Z"
    }
   },
   "cell_type": "code",
   "source": [
    "import matplotlib.pyplot as plt\n",
    "\n",
    "done_sum: pd.Timedelta = df.loc[df[\"done\"] == True, \"duration\"].sum()\n",
    "not_done_sum: pd.Timedelta = df.loc[df[\"done\"] == False, \"duration\"].sum()\n",
    "\n",
    "times = [done_sum.total_seconds() / 3600, not_done_sum.total_seconds() / 3600]\n",
    "labels = [\n",
    "    f\"Done ({times[0]:.1f}h)\",\n",
    "    f\"Not Done ({times[1]:.1f}h)\"\n",
    "]\n",
    "\n",
    "plt.figure(figsize=(6,6))\n",
    "plt.pie(\n",
    "    times,\n",
    "    labels=labels,\n",
    "    autopct=\"%1.1f%%\",\n",
    "    startangle=90,\n",
    "    colors=[\"#4CAF50\", \"#FF6F61\"]\n",
    ")\n",
    "plt.title(\"Proportion of Time: Done vs Not Done\")\n",
    "plt.show()\n",
    "\n"
   ],
   "id": "fe88d2575741cce2",
   "outputs": [
    {
     "data": {
      "text/plain": [
       "<Figure size 600x600 with 1 Axes>"
      ],
      "image/png": "[encoded data removed]"
     },
     "metadata": {},
     "output_type": "display_data"
    }
   ],
   "execution_count": 194
  },
  {
   "metadata": {},
   "cell_type": "code",
   "outputs": [],
   "execution_count": null,
   "source": "",
   "id": "262b478a4c275ecc"
  }
 ],
 "metadata": {
  "kernelspec": {
   "display_name": "Python 3",
   "language": "python",
   "name": "python3"
  },
  "language_info": {
   "codemirror_mode": {
    "name": "ipython",
    "version": 2
   },
   "file_extension": ".py",
   "mimetype": "text/x-python",
   "name": "python",
   "nbconvert_exporter": "python",
   "pygments_lexer": "ipython2",
   "version": "2.7.6"
  }
 },
 "nbformat": 4,
 "nbformat_minor": 5
}
