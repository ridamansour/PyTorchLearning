{
 "cells": [
  {
   "cell_type": "code",
   "id": "1549e4b0-330e-4f6b-9515-771380f92db4",
   "metadata": {
    "ExecuteTime": {
     "end_time": "2025-10-05T21:48:21.094668Z",
     "start_time": "2025-10-05T21:48:20.042632Z"
    }
   },
   "source": [
    "from Progress.course_progress_func import update_progress, progress_pie_chart, monthly_progress, progress_report_print\n",
    "progress_report_print()"
   ],
   "outputs": [
    {
     "name": "stdout",
     "output_type": "stream",
     "text": [
      "\u001B[1m\u001B[94m      ___         ___           ___           ___           ___           ___           ___           ___     \n",
      "     /  /\\       /  /\\         /  /\\         /  /\\         /  /\\         /  /\\         /  /\\         /  /\\    \n",
      "    /  /::\\     /  /::\\       /  /::\\       /  /:/_       /  /::\\       /  /:/_       /  /:/_       /  /:/_   \n",
      "   /  /:/\\:\\   /  /:/\\:\\     /  /:/\\:\\     /  /:/ /\\     /  /:/\\:\\     /  /:/ /\\     /  /:/ /\\     /  /:/ /\\  \n",
      "  /  /:/~/:/  /  /:/~/:/    /  /:/  \\:\\   /  /:/_/::\\   /  /:/~/:/    /  /:/ /:/_   /  /:/ /::\\   /  /:/ /::\\ \n",
      " /__/:/ /:/  /__/:/ /:/___ /__/:/ \\__\\:\\ /__/:/__\\/\\:\\ /__/:/ /:/___ /__/:/ /:/ /\\ /__/:/ /:/\\:\\ /__/:/ /:/\\:\\\n",
      " \\  \\:\\/:/   \\  \\:\\/:::::/ \\  \\:\\ /  /:/ \\  \\:\\ /~~/:/ \\  \\:\\/:::::/ \\  \\:\\/:/ /:/ \\  \\:\\/:/~/:/ \\  \\:\\/:/~/:/\n",
      "  \\  \\::/     \\  \\::/~~~~   \\  \\:\\  /:/   \\  \\:\\  /:/   \\  \\::/~~~~   \\  \\::/ /:/   \\  \\::/ /:/   \\  \\::/ /:/ \n",
      "   \\  \\:\\      \\  \\:\\        \\  \\:\\/:/     \\  \\:\\/:/     \\  \\:\\        \\  \\:\\/:/     \\__\\/ /:/     \\__\\/ /:/  \n",
      "    \\  \\:\\      \\  \\:\\        \\  \\::/       \\  \\::/       \\  \\:\\        \\  \\::/        /__/:/        /__/:/   \n",
      "     \\__\\/       \\__\\/         \\__\\/         \\__\\/         \\__\\/         \\__\\/         \\__\\/         \\__\\/    \n",
      "      ___           ___           ___         ___           ___                 \n",
      "     /  /\\         /  /\\         /  /\\       /  /\\         /  /\\          ___   \n",
      "    /  /::\\       /  /:/_       /  /::\\     /  /::\\       /  /::\\        /  /\\  \n",
      "   /  /:/\\:\\     /  /:/ /\\     /  /:/\\:\\   /  /:/\\:\\     /  /:/\\:\\      /  /:/  \n",
      "  /  /:/~/:/    /  /:/ /:/_   /  /:/~/:/  /  /:/  \\:\\   /  /:/~/:/     /  /:/   \n",
      " /__/:/ /:/___ /__/:/ /:/ /\\ /__/:/ /:/  /__/:/ \\__\\:\\ /__/:/ /:/___  /  /::\\   \n",
      " \\  \\:\\/:::::/ \\  \\:\\/:/ /:/ \\  \\:\\/:/   \\  \\:\\ /  /:/ \\  \\:\\/:::::/ /__/:/\\:\\  \n",
      "  \\  \\::/~~~~   \\  \\::/ /:/   \\  \\::/     \\  \\:\\  /:/   \\  \\::/~~~~  \\__\\/  \\:\\ \n",
      "   \\  \\:\\        \\  \\:\\/:/     \\  \\:\\      \\  \\:\\/:/     \\  \\:\\           \\  \\:\\\n",
      "    \\  \\:\\        \\  \\::/       \\  \\:\\      \\  \\::/       \\  \\:\\           \\__\\/\n",
      "     \\__\\/         \\__\\/         \\__\\/       \\__\\/         \\__\\/                \n",
      "\u001B[0m\n",
      "\u001B[1m\u001B[93mCourse:\u001B[0m  46%|\u001B[34m████████████▌              \u001B[0m 166/358\u001B[0m\n",
      "\u001B[1m\u001B[93mTotal time done:\u001B[0m 25h 10m out of 52h 15m watched (27h 5m remaining).\n",
      "\u001B[1m\u001B[93mTotal videos done:\u001B[0m 166 out of 358 finished (166 videos remaining).\n",
      "\n",
      "\u001B[1mSection :\u001B[0m 1.Introduction\n",
      "\u001B[1mStatus  :\u001B[0m \u001B[92mDone\u001B[0m\n",
      "\u001B[1mProgress: \u001B[0m100%|\u001B[34m███████████████████████████████\u001B[0m 7/7\u001B[0m\n",
      "\n",
      "\u001B[1mSection :\u001B[0m 2.PyTorch Fundamentals\n",
      "\u001B[1mStatus  :\u001B[0m \u001B[92mDone\u001B[0m\n",
      "\u001B[1mProgress: \u001B[0m100%|\u001B[34m█████████████████████████████\u001B[0m 32/32\u001B[0m\n",
      "\n",
      "\u001B[1mSection :\u001B[0m 3.PyTorch Workflow\n",
      "\u001B[1mStatus  :\u001B[0m \u001B[92mDone\u001B[0m\n",
      "\u001B[1mProgress: \u001B[0m100%|\u001B[34m█████████████████████████████\u001B[0m 28/28\u001B[0m\n",
      "\n",
      "\u001B[1mSection :\u001B[0m 4.PyTorch Neural Network Classification\n",
      "\u001B[1mStatus  :\u001B[0m \u001B[92mDone\u001B[0m\n",
      "\u001B[1mProgress: \u001B[0m100%|\u001B[34m█████████████████████████████\u001B[0m 32/32\u001B[0m\n",
      "\n",
      "\u001B[1mSection :\u001B[0m 5.PyTorch Computer Vision\n",
      "\u001B[1mStatus  :\u001B[0m \u001B[92mDone\u001B[0m\n",
      "\u001B[1mProgress: \u001B[0m100%|\u001B[34m█████████████████████████████\u001B[0m 34/34\u001B[0m\n",
      "\n",
      "\u001B[1mSection :\u001B[0m 6.PyTorch Custom Datasets\n",
      "\u001B[1mStatus  :\u001B[0m 4 videos remaining, 37m to finish the section\n",
      "\u001B[1mProgress: \u001B[0m 89%|\u001B[34m█████████████████████████▊   \u001B[0m 33/37\u001B[0m\n",
      "\n",
      "\u001B[1mSection :\u001B[0m 7.PyTorch Going Modular\n",
      "\u001B[1mStatus  :\u001B[0m 10 videos remaining, 1h 33m to finish the section\n",
      "\u001B[1mProgress: \u001B[0m  0%|\u001B[34m                              \u001B[0m 0/10\u001B[0m\n",
      "\n",
      "\u001B[1mSection :\u001B[0m 8.PyTorch Transfer Learning\n",
      "\u001B[1mStatus  :\u001B[0m 19 videos remaining, 2h 44m to finish the section\n",
      "\u001B[1mProgress: \u001B[0m  0%|\u001B[34m                              \u001B[0m 0/19\u001B[0m\n",
      "\n",
      "\u001B[1mSection :\u001B[0m 9.PyTorch Experiment Tracking\n",
      "\u001B[1mStatus  :\u001B[0m 22 videos remaining, 3h 11m to finish the section\n",
      "\u001B[1mProgress: \u001B[0m  0%|\u001B[34m                              \u001B[0m 0/22\u001B[0m\n",
      "\n",
      "\u001B[1mSection :\u001B[0m 10.PyTorch Paper Replicating\n",
      "\u001B[1mStatus  :\u001B[0m 50 videos remaining, 8h 7m to finish the section\n",
      "\u001B[1mProgress: \u001B[0m  0%|\u001B[34m                              \u001B[0m 0/50\u001B[0m\n",
      "\n",
      "\u001B[1mSection :\u001B[0m 11.PyTorch Model Deployment\n",
      "\u001B[1mStatus  :\u001B[0m 57 videos remaining, 7h 45m to finish the section\n",
      "\u001B[1mProgress: \u001B[0m  0%|\u001B[34m                              \u001B[0m 0/57\u001B[0m\n",
      "\n",
      "\u001B[1mSection :\u001B[0m 12.Introduction to PyTorch 2.0 and torch.compile\n",
      "\u001B[1mStatus  :\u001B[0m 25 videos remaining, 3h 3m to finish the section\n",
      "\u001B[1mProgress: \u001B[0m  0%|\u001B[34m                              \u001B[0m 0/25\u001B[0m\n",
      "\n",
      "\u001B[1mSection :\u001B[0m 13.Bonus Section\n",
      "\u001B[1mStatus  :\u001B[0m 1 videos remaining, 1m to finish the section\n",
      "\u001B[1mProgress: \u001B[0m  0%|\u001B[34m                               \u001B[0m 0/1\u001B[0m\n",
      "\n",
      "\u001B[1mSection :\u001B[0m 14.Where To Go From Here?\n",
      "\u001B[1mStatus  :\u001B[0m 4 videos remaining, 4m to finish the section\n",
      "\u001B[1mProgress: \u001B[0m  0%|\u001B[34m                               \u001B[0m 0/4\u001B[0m\n",
      "\n"
     ]
    }
   ],
   "execution_count": 1
  }
 ],
 "metadata": {
  "kernelspec": {
   "display_name": "Python 3 (ipykernel)",
   "language": "python",
   "name": "python3"
  },
  "language_info": {
   "codemirror_mode": {
    "name": "ipython",
    "version": 3
   },
   "file_extension": ".py",
   "mimetype": "text/x-python",
   "name": "python",
   "nbconvert_exporter": "python",
   "pygments_lexer": "ipython3",
   "version": "3.12.3"
  }
 },
 "nbformat": 4,
 "nbformat_minor": 5
}
