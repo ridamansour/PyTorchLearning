{
 "cells": [
  {
   "cell_type": "code",
   "id": "1549e4b0-330e-4f6b-9515-771380f92db4",
   "metadata": {
    "ExecuteTime": {
     "end_time": "2025-10-14T10:33:27.400673Z",
     "start_time": "2025-10-14T10:33:27.395345Z"
    }
   },
   "source": [
    "import Progress.course_progress_func\n",
    "from Progress.course_progress_func import update_progress, progress_pie_chart, monthly_progress, progress_report_print, get_progress_data\n",
    "# for i in range(222, 271):\n",
    "#     update_progress(video_index=i, done=True)\n"
   ],
   "outputs": [],
   "execution_count": 8
  },
  {
   "metadata": {
    "ExecuteTime": {
     "end_time": "2025-10-14T10:29:41.507034Z",
     "start_time": "2025-10-14T10:29:41.456440Z"
    }
   },
   "cell_type": "code",
   "source": "update_progress(video_index=271, done=True)",
   "id": "b9bc004232ba783d",
   "outputs": [
    {
     "name": "stdout",
     "output_type": "stream",
     "text": [
      "\u001B[1m\u001B[92mUpdated progress report.\u001B[0m \n",
      "\u001B[1mVideo:\u001B[0m 271. PyTorch Paper Replicating: Main Takeaways, Exercises and Extra-Curriculum \n",
      "\u001B[1mDuration:\u001B[0m 7m \n",
      "\u001B[1mStatus:\u001B[0m Done \n",
      "\u001B[1mDate:\u001B[0m 14 Oct 2025 01:29 PM \n",
      "\u001B[1mSection progress:\u001B[0m \n",
      "\u001B[1mSection :\u001B[0m 10.PyTorch Paper Replicating\n",
      "\u001B[1mStatus  :\u001B[0m \u001B[92mDone\u001B[0m\n",
      "\u001B[1mProgress: \u001B[0m100%|\u001B[34m█████████████████████████████\u001B[0m 50/50\u001B[0m\n"
     ]
    }
   ],
   "execution_count": 2
  },
  {
   "metadata": {
    "ExecuteTime": {
     "end_time": "2025-10-14T16:05:47.233524Z",
     "start_time": "2025-10-14T16:05:47.202647Z"
    }
   },
   "cell_type": "code",
   "source": [
    "df = get_progress_data()\n",
    "df.loc[(df[\"Vid idx\"]==-1) & (df[\"section_num\"] == 10), \"title\"] = \"Section 10: PyTorch Paper Replicating (Skipped for now)\""
   ],
   "id": "6a6ef7abb1d0ebfd",
   "outputs": [],
   "execution_count": 20
  },
  {
   "metadata": {
    "ExecuteTime": {
     "end_time": "2025-10-14T16:06:13.762072Z",
     "start_time": "2025-10-14T16:06:13.732237Z"
    }
   },
   "cell_type": "code",
   "source": [
    "from Progress.course_progress_func import PROGRESS_PARQUET_PATH\n",
    "\n",
    "df.to_parquet(PROGRESS_PARQUET_PATH)"
   ],
   "id": "79c295df7e062517",
   "outputs": [],
   "execution_count": 22
  },
  {
   "metadata": {},
   "cell_type": "code",
   "outputs": [],
   "execution_count": null,
   "source": "",
   "id": "a5b6fe1311451d63"
  }
 ],
 "metadata": {
  "kernelspec": {
   "display_name": "Python 3 (ipykernel)",
   "language": "python",
   "name": "python3"
  },
  "language_info": {
   "codemirror_mode": {
    "name": "ipython",
    "version": 3
   },
   "file_extension": ".py",
   "mimetype": "text/x-python",
   "name": "python",
   "nbconvert_exporter": "python",
   "pygments_lexer": "ipython3",
   "version": "3.12.3"
  }
 },
 "nbformat": 4,
 "nbformat_minor": 5
}
