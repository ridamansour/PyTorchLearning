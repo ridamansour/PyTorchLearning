{
 "cells": [
  {
   "metadata": {},
   "cell_type": "markdown",
   "source": [
    "# 05. Going Modular: Part 1 (cell mode)\n",
    "\n",
    "This notebook is part 1/2 of section [05. Going Modular](https://www.learnpytorch.io/05_pytorch_going_modular/).\n",
    "\n",
    "For reference, the two parts are:\n",
    "1. [**05. Going Modular: Part 1 (cell mode)**](https://github.com/mrdbourke/pytorch-deep-learning/blob/main/going_modular/05_pytorch_going_modular_cell_mode.ipynb) - this notebook is run as a traditional Jupyter Notebook/Google Colab notebook and is a condensed version of [notebook 04](https://www.learnpytorch.io/04_pytorch_custom_datasets/).\n",
    "2. [**05. Going Modular: Part 2 (script mode)**](https://github.com/mrdbourke/pytorch-deep-learning/blob/main/going_modular/05_pytorch_going_modular_script_mode.ipynb) - this notebook is the same as number 1 but with added functionality to turn each of the major sections into Python scripts, such as, `data_setup.py` and `train.py`.\n",
    "\n",
    "Why two parts?\n",
    "\n",
    "Because sometimes the best way to learn something is to see how it *differs* from something else.\n",
    "\n",
    "If you run each notebook side-by-side you'll see how they differ and that's where the key learnings are."
   ],
   "id": "e2505c5b6318683a"
  },
  {
   "metadata": {},
   "cell_type": "markdown",
   "source": [
    "## What is cell mode?\n",
    "\n",
    "A cell mode notebook is a regular notebook run exactly how we've been running them through the course.\n",
    "\n",
    "Some cells contain text and others contain code."
   ],
   "id": "bf9cf0ab2b0bdd5f"
  },
  {
   "metadata": {},
   "cell_type": "markdown",
   "source": [
    "## What's the difference between this notebook (Part 1) and the script mode notebook (Part 2)?\n",
    "\n",
    "This notebook, 05. PyTorch Going Modular: Part 1 (cell mode), runs a cleaned up version of the most useful code from section [04. PyTorch Custom Datasets](https://www.learnpytorch.io/04_pytorch_custom_datasets/).\n",
    "\n",
    "Running this notebook end-to-end will result in recreating the image classification model we built in notebook 04 (TinyVGG) trained on images of pizza, steak and sushi.\n",
    "\n",
    "The main difference between this notebook (Part 1) and Part 2 is that each section in Part 2 (script mode) has an extra subsection (e.g. 2.1, 3.1, 4.1) for turning cell code into script code."
   ],
   "id": "41cd12a766538ca9"
  },
  {
   "metadata": {},
   "cell_type": "markdown",
   "source": [
    "## Where can you get help?\n",
    "\n",
    "You can find the book version of this section [05. PyTorch Going Modular on learnpytorch.io](https://www.learnpytorch.io/05_pytorch_going_modular/).\n",
    "\n",
    "The rest of the materials for this course [are available on GitHub](https://github.com/mrdbourke/pytorch-deep-learning).\n",
    "\n",
    "If you run into trouble, you can ask a question on the course [GitHub Discussions page](https://github.com/mrdbourke/pytorch-deep-learning/discussions).\n",
    "\n",
    "And of course, there's the [PyTorch documentation](https://pytorch.org/docs/stable/index.html) and [PyTorch developer forums](https://discuss.pytorch.org/), a very helpful place for all things PyTorch."
   ],
   "id": "fbf91dfbcd50ec9f"
  },
  {
   "metadata": {},
   "cell_type": "markdown",
   "source": [
    "## 0. Running a notebook in cell mode\n",
    "\n",
    "As discussed, we're going to be running this notebook normally.\n",
    "\n",
    "One cell at a time.\n",
    "\n",
    "The code is from notebook 04, however, it has been condensed down to its core functionality."
   ],
   "id": "b1989927441bdb6c"
  },
  {
   "metadata": {
    "ExecuteTime": {
     "end_time": "2025-10-08T16:46:16.546768Z",
     "start_time": "2025-10-08T16:46:16.479855Z"
    }
   },
   "cell_type": "markdown",
   "source": [
    "## 1. Get data\n",
    "\n",
    "We're going to start by downloading the same data we used in [notebook 04](https://www.learnpytorch.io/04_pytorch_custom_datasets/#1-get-data), the `pizza_steak_sushi` dataset with images of pizza, steak and sushi."
   ],
   "id": "cff7534d02b85dc8"
  },
  {
   "metadata": {
    "ExecuteTime": {
     "end_time": "2025-10-08T16:46:32.403845Z",
     "start_time": "2025-10-08T16:46:29.475600Z"
    }
   },
   "cell_type": "code",
   "source": [
    "import os\n",
    "import zipfile\n",
    "\n",
    "from pathlib import Path\n",
    "\n",
    "import requests\n",
    "\n",
    "# Setup path to data folder\n",
    "data_path = Path(\"data/\")\n",
    "image_path = data_path / \"pizza_steak_sushi\"\n",
    "\n",
    "# If the image folder doesn't exist, download it and prepare it...\n",
    "if image_path.is_dir():\n",
    "    print(f\"{image_path} directory exists.\")\n",
    "else:\n",
    "    print(f\"Did not find {image_path} directory, creating one...\")\n",
    "    image_path.mkdir(parents=True, exist_ok=True)\n",
    "\n",
    "# Download pizza, steak, sushi data\n",
    "with open(data_path / \"pizza_steak_sushi.zip\", \"wb\") as f:\n",
    "    request = requests.get(\"https://github.com/mrdbourke/pytorch-deep-learning/raw/main/data/pizza_steak_sushi.zip\")\n",
    "    print(\"Downloading pizza, steak, sushi data...\")\n",
    "    f.write(request.content)\n",
    "\n",
    "# Unzip pizza, steak, sushi data\n",
    "with zipfile.ZipFile(data_path / \"pizza_steak_sushi.zip\", \"r\") as zip_ref:\n",
    "    print(\"Unzipping pizza, steak, sushi data...\")\n",
    "    zip_ref.extractall(image_path)\n",
    "\n",
    "# Remove zip file\n",
    "os.remove(data_path / \"pizza_steak_sushi.zip\")"
   ],
   "id": "9bc11fcd53e99b80",
   "outputs": [
    {
     "name": "stdout",
     "output_type": "stream",
     "text": [
      "data/pizza_steak_sushi directory exists.\n",
      "Downloading pizza, steak, sushi data...\n",
      "Unzipping pizza, steak, sushi data...\n"
     ]
    }
   ],
   "execution_count": 13
  },
  {
   "metadata": {
    "ExecuteTime": {
     "end_time": "2025-10-08T16:47:17.467068Z",
     "start_time": "2025-10-08T16:47:17.449179Z"
    }
   },
   "cell_type": "code",
   "source": [
    "# Setup train and testing paths\n",
    "train_dir = image_path / \"train\"\n",
    "test_dir = image_path / \"test\"\n",
    "\n",
    "train_dir, test_dir"
   ],
   "id": "6d125b29b8ed2c2",
   "outputs": [
    {
     "data": {
      "text/plain": [
       "(PosixPath('data/pizza_steak_sushi/train'),\n",
       " PosixPath('data/pizza_steak_sushi/test'))"
      ]
     },
     "execution_count": 15,
     "metadata": {},
     "output_type": "execute_result"
    }
   ],
   "execution_count": 15
  },
  {
   "metadata": {},
   "cell_type": "markdown",
   "source": [
    "## 2. Create Datasets and DataLoaders\n",
    "\n",
    "Now we'll turn the image dataset into PyTorch `Dataset`'s and `DataLoader`'s."
   ],
   "id": "65058f102bcaf7d7"
  },
  {
   "metadata": {
    "ExecuteTime": {
     "end_time": "2025-10-08T16:48:00.264993Z",
     "start_time": "2025-10-08T16:47:47.126210Z"
    }
   },
   "cell_type": "code",
   "source": [
    "from torchvision import datasets, transforms\n",
    "\n",
    "# Create simple transform\n",
    "data_transform = transforms.Compose([\n",
    "    transforms.Resize((64, 64)),\n",
    "    transforms.ToTensor(),\n",
    "])\n",
    "\n",
    "# Use ImageFolder to create dataset(s)\n",
    "train_data = datasets.ImageFolder(root=train_dir, # target folder of images\n",
    "                                  transform=data_transform, # transforms to perform on data (images)\n",
    "                                  target_transform=None) # transforms to perform on labels (if necessary)\n",
    "\n",
    "test_data = datasets.ImageFolder(root=test_dir,\n",
    "                                 transform=data_transform)\n",
    "\n",
    "print(f\"Train data:\\n{train_data}\\nTest data:\\n{test_data}\")"
   ],
   "id": "f9cb34822d3e65e8",
   "outputs": [
    {
     "name": "stdout",
     "output_type": "stream",
     "text": [
      "Train data:\n",
      "Dataset ImageFolder\n",
      "    Number of datapoints: 225\n",
      "    Root location: data/pizza_steak_sushi/train\n",
      "    StandardTransform\n",
      "Transform: Compose(\n",
      "               Resize(size=(64, 64), interpolation=bilinear, max_size=None, antialias=True)\n",
      "               ToTensor()\n",
      "           )\n",
      "Test data:\n",
      "Dataset ImageFolder\n",
      "    Number of datapoints: 75\n",
      "    Root location: data/pizza_steak_sushi/test\n",
      "    StandardTransform\n",
      "Transform: Compose(\n",
      "               Resize(size=(64, 64), interpolation=bilinear, max_size=None, antialias=True)\n",
      "               ToTensor()\n",
      "           )\n"
     ]
    }
   ],
   "execution_count": 16
  },
  {
   "metadata": {
    "ExecuteTime": {
     "end_time": "2025-10-08T16:48:00.299163Z",
     "start_time": "2025-10-08T16:48:00.295263Z"
    }
   },
   "cell_type": "code",
   "source": [
    "# Get class names as a list\n",
    "class_names = train_data.classes\n",
    "class_names"
   ],
   "id": "8fa38938988ab7c9",
   "outputs": [
    {
     "data": {
      "text/plain": [
       "['pizza', 'steak', 'sushi']"
      ]
     },
     "execution_count": 17,
     "metadata": {},
     "output_type": "execute_result"
    }
   ],
   "execution_count": 17
  },
  {
   "metadata": {
    "ExecuteTime": {
     "end_time": "2025-10-08T16:48:03.959725Z",
     "start_time": "2025-10-08T16:48:03.952226Z"
    }
   },
   "cell_type": "code",
   "source": [
    "# Can also get class names as a dict\n",
    "class_dict = train_data.class_to_idx\n",
    "class_dict"
   ],
   "id": "6822776c6c714619",
   "outputs": [
    {
     "data": {
      "text/plain": [
       "{'pizza': 0, 'steak': 1, 'sushi': 2}"
      ]
     },
     "execution_count": 18,
     "metadata": {},
     "output_type": "execute_result"
    }
   ],
   "execution_count": 18
  },
  {
   "metadata": {
    "ExecuteTime": {
     "end_time": "2025-10-08T16:48:11.857188Z",
     "start_time": "2025-10-08T16:48:11.847284Z"
    }
   },
   "cell_type": "code",
   "source": [
    "# Check the lengths\n",
    "len(train_data), len(test_data)"
   ],
   "id": "8f82fef5057e56dc",
   "outputs": [
    {
     "data": {
      "text/plain": [
       "(225, 75)"
      ]
     },
     "execution_count": 19,
     "metadata": {},
     "output_type": "execute_result"
    }
   ],
   "execution_count": 19
  },
  {
   "metadata": {
    "ExecuteTime": {
     "end_time": "2025-10-08T16:48:18.588630Z",
     "start_time": "2025-10-08T16:48:18.574612Z"
    }
   },
   "cell_type": "code",
   "source": [
    "# Turn train and test Datasets into DataLoaders\n",
    "from torch.utils.data import DataLoader\n",
    "train_dataloader = DataLoader(dataset=train_data,\n",
    "                              batch_size=1, # how many samples per batch?\n",
    "                              num_workers=1, # how many subprocesses to use for data loading? (higher = more)\n",
    "                              shuffle=True) # shuffle the data?\n",
    "\n",
    "test_dataloader = DataLoader(dataset=test_data,\n",
    "                             batch_size=1,\n",
    "                             num_workers=1,\n",
    "                             shuffle=False) # don't usually need to shuffle testing data\n",
    "\n",
    "train_dataloader, test_dataloader"
   ],
   "id": "5e04b74447c08600",
   "outputs": [
    {
     "data": {
      "text/plain": [
       "(<torch.utils.data.dataloader.DataLoader at 0x11aee9dc0>,\n",
       " <torch.utils.data.dataloader.DataLoader at 0x11b2c0230>)"
      ]
     },
     "execution_count": 20,
     "metadata": {},
     "output_type": "execute_result"
    }
   ],
   "execution_count": 20
  },
  {
   "metadata": {
    "ExecuteTime": {
     "end_time": "2025-10-08T16:48:37.993913Z",
     "start_time": "2025-10-08T16:48:26.876817Z"
    }
   },
   "cell_type": "code",
   "source": [
    "# Check out single image size/shape\n",
    "img, label = next(iter(train_dataloader))\n",
    "\n",
    "# Batch size will now be 1, try changing the batch_size parameter above and see what happens\n",
    "print(f\"Image shape: {img.shape} -> [batch_size, color_channels, height, width]\")\n",
    "print(f\"Label shape: {label.shape}\")"
   ],
   "id": "e0889815b5e6b90",
   "outputs": [
    {
     "name": "stdout",
     "output_type": "stream",
     "text": [
      "Image shape: torch.Size([1, 3, 64, 64]) -> [batch_size, color_channels, height, width]\n",
      "Label shape: torch.Size([1])\n"
     ]
    }
   ],
   "execution_count": 21
  },
  {
   "metadata": {},
   "cell_type": "markdown",
   "source": [
    "### 2.1 Create Datasets and Dataloaders (script mode)\n",
    "\n",
    "Let's use the Jupyter magic function to create a `.py` file for creating DataLoaders."
   ],
   "id": "a636654d62420870"
  },
  {
   "metadata": {
    "ExecuteTime": {
     "end_time": "2025-10-08T17:51:37.837901Z",
     "start_time": "2025-10-08T17:51:37.810223Z"
    }
   },
   "cell_type": "code",
   "source": [
    "%%writefile going_modular/data_setup.py\n",
    "\"\"\"\n",
    "Contains functionality for creating PyTorch DataLoaders for image classification data.\n",
    "\"\"\"\n",
    "import os\n",
    "\n",
    "from torchvision import datasets, transforms\n",
    "from torch.utils.data import DataLoader\n",
    "\n",
    "NUM_WORKERS = os.cpu_count()\n",
    "\n",
    "def create_dataloaders(\n",
    "        train_dir: str,\n",
    "        test_dir: str,\n",
    "        transform: transforms.Compose,\n",
    "        batch_size: int,\n",
    "        num_workers: int = NUM_WORKERS):\n",
    "    \"\"\"\n",
    "    Create training and testing DataLoaders.\n",
    "\n",
    "    Takes in a training directory and testing directory path and turns them into PyTorch Datasets and then into PyTorch DataLoaders.\n",
    "\n",
    "    Args:\n",
    "        train_dir: Path to training directory.\n",
    "        test_dir: Path to testing directory.\n",
    "        transform: torchvision transforms to perform on training and testing data.\n",
    "        batch_size: Number of samples per batch in each of the DataLoaders.\n",
    "        num_workers: An integer for number of workers per DataLoader.\n",
    "\n",
    "    Returns:\n",
    "        A tuple of (train_dataloader, test_dataloader, class_names).\n",
    "        Where class_names is a list of the target classes.\n",
    "\n",
    "    Example usage:\n",
    "        train_dataloader, test_dataloader, class_names = create_dataloaders(train_dir=path/to/train_dir,\n",
    "                             test_dir=path/to/test_dir,\n",
    "                             transform=some_transform,\n",
    "                             batch_size=32,\n",
    "                             num_workers=4)\n",
    "\n",
    "\n",
    "    \"\"\"\n",
    "\n",
    "    # Use ImageFolder to create dataset(s)\n",
    "    train_data = datasets.ImageFolder(root=train_dir, # target folder of images\n",
    "                                      transform=transform, # transforms to perform on data (images)\n",
    "                                      target_transform=None) # transforms to perform on labels (if necessary)\n",
    "\n",
    "    test_data = datasets.ImageFolder(root=test_dir,\n",
    "                                     transform=transform)\n",
    "\n",
    "    train_dataloader = DataLoader(dataset=train_data,\n",
    "                                  batch_size=batch_size, # how many samples per batch?\n",
    "                                  num_workers=num_workers, # how many subprocesses to use for data loading? (higher = more)\n",
    "                                  pin_memory=True,\n",
    "                                  shuffle=True) # shuffle the data?\n",
    "\n",
    "    test_dataloader = DataLoader(dataset=test_data,\n",
    "                                 batch_size=batch_size,\n",
    "                                 num_workers=num_workers,\n",
    "                                 pin_memory=True,\n",
    "                                 shuffle=False) # don't usually need to shuffle testing data\n",
    "    class_names = train_data.classes\n",
    "    return train_dataloader, test_dataloader, class_names\n"
   ],
   "id": "b3609f63ae57dd2",
   "outputs": [
    {
     "name": "stdout",
     "output_type": "stream",
     "text": [
      "Overwriting going_modular/data_setup.py\n"
     ]
    }
   ],
   "execution_count": 37
  },
  {
   "metadata": {},
   "cell_type": "markdown",
   "source": [
    "## 3. Making a model (TinyVGG)\n",
    "\n",
    "We're going to use the same model we used in notebook 04: TinyVGG from the CNN Explainer website.\n",
    "\n",
    "The only change here from notebook 04 is that a docstring has been added using [Google's Style Guide for Python](https://google.github.io/styleguide/pyguide.html#384-classes)."
   ],
   "id": "f465dbde58af9a29"
  },
  {
   "metadata": {
    "ExecuteTime": {
     "end_time": "2025-10-08T16:48:47.526059Z",
     "start_time": "2025-10-08T16:48:47.512731Z"
    }
   },
   "cell_type": "code",
   "source": [
    "import torch\n",
    "\n",
    "from torch import nn\n",
    "\n",
    "class TinyVGG(nn.Module):\n",
    "  \"\"\"Creates the TinyVGG architecture.\n",
    "\n",
    "  Replicates the TinyVGG architecture from the CNN explainer website in PyTorch.\n",
    "  See the original architecture here: https://poloclub.github.io/cnn-explainer/\n",
    "\n",
    "  Args:\n",
    "    input_shape: An integer indicating number of input channels.\n",
    "    hidden_units: An integer indicating number of hidden units between layers.\n",
    "    output_shape: An integer indicating number of output units.\n",
    "  \"\"\"\n",
    "  def __init__(self, input_shape: int, hidden_units: int, output_shape: int) -> None:\n",
    "      super().__init__()\n",
    "      self.conv_block_1 = nn.Sequential(\n",
    "          nn.Conv2d(in_channels=input_shape,\n",
    "                    out_channels=hidden_units,\n",
    "                    kernel_size=3, # how big is the square that's going over the image?\n",
    "                    stride=1, # default\n",
    "                    padding=0), # options = \"valid\" (no padding) or \"same\" (output has same shape as input) or int for specific number\n",
    "          nn.ReLU(),\n",
    "          nn.Conv2d(in_channels=hidden_units,\n",
    "                    out_channels=hidden_units,\n",
    "                    kernel_size=3,\n",
    "                    stride=1,\n",
    "                    padding=0),\n",
    "          nn.ReLU(),\n",
    "          nn.MaxPool2d(kernel_size=2,\n",
    "                        stride=2) # default stride value is same as kernel_size\n",
    "      )\n",
    "      self.conv_block_2 = nn.Sequential(\n",
    "          nn.Conv2d(hidden_units, hidden_units, kernel_size=3, padding=0),\n",
    "          nn.ReLU(),\n",
    "          nn.Conv2d(hidden_units, hidden_units, kernel_size=3, padding=0),\n",
    "          nn.ReLU(),\n",
    "          nn.MaxPool2d(2)\n",
    "      )\n",
    "      self.classifier = nn.Sequential(\n",
    "          nn.Flatten(),\n",
    "          # Where did this in_features shape come from?\n",
    "          # It's because each layer of our network compresses and changes the shape of our inputs data.\n",
    "          nn.Linear(in_features=hidden_units*13*13,\n",
    "                    out_features=output_shape)\n",
    "      )\n",
    "\n",
    "  def forward(self, x: torch.Tensor):\n",
    "      x = self.conv_block_1(x)\n",
    "      x = self.conv_block_2(x)\n",
    "      x = self.classifier(x)\n",
    "      return x\n",
    "      # return self.classifier(self.block_2(self.block_1(x))) # <- leverage the benefits of operator fusion"
   ],
   "id": "7329d6c4a934092e",
   "outputs": [],
   "execution_count": 22
  },
  {
   "metadata": {
    "ExecuteTime": {
     "end_time": "2025-10-08T16:48:57.183626Z",
     "start_time": "2025-10-08T16:48:57.154546Z"
    }
   },
   "cell_type": "code",
   "source": [
    "import torch\n",
    "\n",
    "device = \"cuda\" if torch.cuda.is_available() else \"cpu\"\n",
    "\n",
    "# Instantiate an instance of the model\n",
    "torch.manual_seed(42)\n",
    "model_0 = TinyVGG(input_shape=3, # number of color channels (3 for RGB)\n",
    "                  hidden_units=10,\n",
    "                  output_shape=len(train_data.classes)).to(device)\n",
    "model_0"
   ],
   "id": "a7e5a172d665391",
   "outputs": [
    {
     "data": {
      "text/plain": [
       "TinyVGG(\n",
       "  (conv_block_1): Sequential(\n",
       "    (0): Conv2d(3, 10, kernel_size=(3, 3), stride=(1, 1))\n",
       "    (1): ReLU()\n",
       "    (2): Conv2d(10, 10, kernel_size=(3, 3), stride=(1, 1))\n",
       "    (3): ReLU()\n",
       "    (4): MaxPool2d(kernel_size=2, stride=2, padding=0, dilation=1, ceil_mode=False)\n",
       "  )\n",
       "  (conv_block_2): Sequential(\n",
       "    (0): Conv2d(10, 10, kernel_size=(3, 3), stride=(1, 1))\n",
       "    (1): ReLU()\n",
       "    (2): Conv2d(10, 10, kernel_size=(3, 3), stride=(1, 1))\n",
       "    (3): ReLU()\n",
       "    (4): MaxPool2d(kernel_size=2, stride=2, padding=0, dilation=1, ceil_mode=False)\n",
       "  )\n",
       "  (classifier): Sequential(\n",
       "    (0): Flatten(start_dim=1, end_dim=-1)\n",
       "    (1): Linear(in_features=1690, out_features=3, bias=True)\n",
       "  )\n",
       ")"
      ]
     },
     "execution_count": 23,
     "metadata": {},
     "output_type": "execute_result"
    }
   ],
   "execution_count": 23
  },
  {
   "metadata": {
    "ExecuteTime": {
     "end_time": "2025-10-08T16:49:13.991072Z",
     "start_time": "2025-10-08T16:49:05.910847Z"
    }
   },
   "cell_type": "code",
   "source": [
    "# 1. Get a batch of images and labels from the DataLoader\n",
    "img_batch, label_batch = next(iter(train_dataloader))\n",
    "\n",
    "# 2. Get a single image from the batch and unsqueeze the image so its shape fits the model\n",
    "img_single, label_single = img_batch[0].unsqueeze(dim=0), label_batch[0]\n",
    "print(f\"Single image shape: {img_single.shape}\\n\")\n",
    "\n",
    "# 3. Perform a forward pass on a single image\n",
    "model_0.eval()\n",
    "with torch.inference_mode():\n",
    "    pred = model_0(img_single.to(device))\n",
    "\n",
    "# 4. Print out what's happening and convert model logits -> pred probs -> pred label\n",
    "print(f\"Output logits:\\n{pred}\\n\")\n",
    "print(f\"Output prediction probabilities:\\n{torch.softmax(pred, dim=1)}\\n\")\n",
    "print(f\"Output prediction label:\\n{torch.argmax(torch.softmax(pred, dim=1), dim=1)}\\n\")\n",
    "print(f\"Actual label:\\n{label_single}\")"
   ],
   "id": "f1f885b1fd91d855",
   "outputs": [
    {
     "name": "stdout",
     "output_type": "stream",
     "text": [
      "Single image shape: torch.Size([1, 3, 64, 64])\n",
      "\n",
      "Output logits:\n",
      "tensor([[ 0.0208, -0.0019,  0.0095]])\n",
      "\n",
      "Output prediction probabilities:\n",
      "tensor([[0.3371, 0.3295, 0.3333]])\n",
      "\n",
      "Output prediction label:\n",
      "tensor([0])\n",
      "\n",
      "Actual label:\n",
      "0\n"
     ]
    }
   ],
   "execution_count": 24
  },
  {
   "metadata": {},
   "cell_type": "markdown",
   "source": [
    "## 4. Creating `train_step()` and `test_step()` functions and `train()` to combine them\n",
    "\n",
    "Rather than writing them again, we can reuse the `train_step()` and `test_step()` functions from [notebook 04](https://www.learnpytorch.io/04_pytorch_custom_datasets/#75-create-train-test-loop-functions).\n",
    "\n",
    "The same goes for the `train()` function we created.\n",
    "\n",
    "The only difference here is that these functions have had docstrings added to them in [Google's Python Functions and Methods Style Guide](https://google.github.io/styleguide/pyguide.html#383-functions-and-methods).\n",
    "\n",
    "Let's start by making `train_step()`."
   ],
   "id": "5eeab415f8bc9577"
  },
  {
   "metadata": {
    "ExecuteTime": {
     "end_time": "2025-10-08T16:49:29.204696Z",
     "start_time": "2025-10-08T16:49:29.191153Z"
    }
   },
   "cell_type": "code",
   "source": [
    "from typing import Tuple\n",
    "\n",
    "def train_step(model: torch.nn.Module,\n",
    "               dataloader: torch.utils.data.DataLoader,\n",
    "               loss_fn: torch.nn.Module,\n",
    "               optimizer: torch.optim.Optimizer,\n",
    "               device: torch.device) -> Tuple[float, float]:\n",
    "  \"\"\"Trains a PyTorch model for a single epoch.\n",
    "\n",
    "  Turns a target PyTorch model to training mode and then\n",
    "  runs through all of the required training steps (forward\n",
    "  pass, loss calculation, optimizer step).\n",
    "\n",
    "  Args:\n",
    "    model: A PyTorch model to be trained.\n",
    "    dataloader: A DataLoader instance for the model to be trained on.\n",
    "    loss_fn: A PyTorch loss function to minimize.\n",
    "    optimizer: A PyTorch optimizer to help minimize the loss function.\n",
    "    device: A target device to compute on (e.g. \"cuda\" or \"cpu\").\n",
    "\n",
    "  Returns:\n",
    "    A tuple of training loss and training accuracy metrics.\n",
    "    In the form (train_loss, train_accuracy). For example:\n",
    "\n",
    "    (0.1112, 0.8743)\n",
    "  \"\"\"\n",
    "  # Put model in train mode\n",
    "  model.train()\n",
    "\n",
    "  # Setup train loss and train accuracy values\n",
    "  train_loss, train_acc = 0, 0\n",
    "\n",
    "  # Loop through data loader data batches\n",
    "  for batch, (X, y) in enumerate(dataloader):\n",
    "      # Send data to target device\n",
    "      X, y = X.to(device), y.to(device)\n",
    "\n",
    "      # 1. Forward pass\n",
    "      y_pred = model(X)\n",
    "\n",
    "      # 2. Calculate  and accumulate loss\n",
    "      loss = loss_fn(y_pred, y)\n",
    "      train_loss += loss.item()\n",
    "\n",
    "      # 3. Optimizer zero grad\n",
    "      optimizer.zero_grad()\n",
    "\n",
    "      # 4. Loss backward\n",
    "      loss.backward()\n",
    "\n",
    "      # 5. Optimizer step\n",
    "      optimizer.step()\n",
    "\n",
    "      # Calculate and accumulate accuracy metric across all batches\n",
    "      y_pred_class = torch.argmax(torch.softmax(y_pred, dim=1), dim=1)\n",
    "      train_acc += (y_pred_class == y).sum().item()/len(y_pred)\n",
    "\n",
    "  # Adjust metrics to get average loss and accuracy per batch\n",
    "  train_loss = train_loss / len(dataloader)\n",
    "  train_acc = train_acc / len(dataloader)\n",
    "  return train_loss, train_acc"
   ],
   "id": "45022b8f3bf945ae",
   "outputs": [],
   "execution_count": 25
  },
  {
   "metadata": {},
   "cell_type": "markdown",
   "source": "Now we'll do `test_step()`.",
   "id": "b873274be89e9968"
  },
  {
   "metadata": {
    "ExecuteTime": {
     "end_time": "2025-10-08T16:49:51.692403Z",
     "start_time": "2025-10-08T16:49:51.683709Z"
    }
   },
   "cell_type": "code",
   "source": [
    "def test_step(model: torch.nn.Module,\n",
    "              dataloader: torch.utils.data.DataLoader,\n",
    "              loss_fn: torch.nn.Module,\n",
    "              device: torch.device) -> Tuple[float, float]:\n",
    "  \"\"\"Tests a PyTorch model for a single epoch.\n",
    "\n",
    "  Turns a target PyTorch model to \"eval\" mode and then performs\n",
    "  a forward pass on a testing dataset.\n",
    "\n",
    "  Args:\n",
    "    model: A PyTorch model to be tested.\n",
    "    dataloader: A DataLoader instance for the model to be tested on.\n",
    "    loss_fn: A PyTorch loss function to calculate loss on the test data.\n",
    "    device: A target device to compute on (e.g. \"cuda\" or \"cpu\").\n",
    "\n",
    "  Returns:\n",
    "    A tuple of testing loss and testing accuracy metrics.\n",
    "    In the form (test_loss, test_accuracy). For example:\n",
    "\n",
    "    (0.0223, 0.8985)\n",
    "  \"\"\"\n",
    "  # Put model in eval mode\n",
    "  model.eval()\n",
    "\n",
    "  # Setup test loss and test accuracy values\n",
    "  test_loss, test_acc = 0, 0\n",
    "\n",
    "  # Turn on inference context manager\n",
    "  with torch.inference_mode():\n",
    "      # Loop through DataLoader batches\n",
    "      for batch, (X, y) in enumerate(dataloader):\n",
    "          # Send data to target device\n",
    "          X, y = X.to(device), y.to(device)\n",
    "\n",
    "          # 1. Forward pass\n",
    "          test_pred_logits = model(X)\n",
    "\n",
    "          # 2. Calculate and accumulate loss\n",
    "          loss = loss_fn(test_pred_logits, y)\n",
    "          test_loss += loss.item()\n",
    "\n",
    "          # Calculate and accumulate accuracy\n",
    "          test_pred_labels = test_pred_logits.argmax(dim=1)\n",
    "          test_acc += ((test_pred_labels == y).sum().item()/len(test_pred_labels))\n",
    "\n",
    "  # Adjust metrics to get average loss and accuracy per batch\n",
    "  test_loss = test_loss / len(dataloader)\n",
    "  test_acc = test_acc / len(dataloader)\n",
    "  return test_loss, test_acc"
   ],
   "id": "6be7d5b7293d7a69",
   "outputs": [],
   "execution_count": 26
  },
  {
   "metadata": {},
   "cell_type": "markdown",
   "source": "And we'll combine `train_step()` and `test_step()` into `train()`.",
   "id": "d68af700cbf482d6"
  },
  {
   "metadata": {
    "ExecuteTime": {
     "end_time": "2025-10-08T16:50:16.075497Z",
     "start_time": "2025-10-08T16:50:15.534116Z"
    }
   },
   "cell_type": "code",
   "source": [
    "from typing import Dict, List\n",
    "\n",
    "from tqdm.auto import tqdm\n",
    "\n",
    "def train(model: torch.nn.Module,\n",
    "          train_dataloader: torch.utils.data.DataLoader,\n",
    "          test_dataloader: torch.utils.data.DataLoader,\n",
    "          optimizer: torch.optim.Optimizer,\n",
    "          loss_fn: torch.nn.Module,\n",
    "          epochs: int,\n",
    "          device: torch.device) -> Dict[str, List[float]]:\n",
    "  \"\"\"Trains and tests a PyTorch model.\n",
    "\n",
    "  Passes a target PyTorch models through train_step() and test_step()\n",
    "  functions for a number of epochs, training and testing the model\n",
    "  in the same epoch loop.\n",
    "\n",
    "  Calculates, prints and stores evaluation metrics throughout.\n",
    "\n",
    "  Args:\n",
    "    model: A PyTorch model to be trained and tested.\n",
    "    train_dataloader: A DataLoader instance for the model to be trained on.\n",
    "    test_dataloader: A DataLoader instance for the model to be tested on.\n",
    "    optimizer: A PyTorch optimizer to help minimize the loss function.\n",
    "    loss_fn: A PyTorch loss function to calculate loss on both datasets.\n",
    "    epochs: An integer indicating how many epochs to train for.\n",
    "    device: A target device to compute on (e.g. \"cuda\" or \"cpu\").\n",
    "\n",
    "  Returns:\n",
    "    A dictionary of training and testing loss as well as training and\n",
    "    testing accuracy metrics. Each metric has a value in a list for\n",
    "    each epoch.\n",
    "    In the form: {train_loss: [...],\n",
    "                  train_acc: [...],\n",
    "                  test_loss: [...],\n",
    "                  test_acc: [...]}\n",
    "    For example if training for epochs=2:\n",
    "                 {train_loss: [2.0616, 1.0537],\n",
    "                  train_acc: [0.3945, 0.3945],\n",
    "                  test_loss: [1.2641, 1.5706],\n",
    "                  test_acc: [0.3400, 0.2973]}\n",
    "  \"\"\"\n",
    "  # Create empty results dictionary\n",
    "  results = {\"train_loss\": [],\n",
    "      \"train_acc\": [],\n",
    "      \"test_loss\": [],\n",
    "      \"test_acc\": []\n",
    "  }\n",
    "\n",
    "  # Loop through training and testing steps for a number of epochs\n",
    "  for epoch in tqdm(range(epochs)):\n",
    "      train_loss, train_acc = train_step(model=model,\n",
    "                                          dataloader=train_dataloader,\n",
    "                                          loss_fn=loss_fn,\n",
    "                                          optimizer=optimizer,\n",
    "                                          device=device)\n",
    "      test_loss, test_acc = test_step(model=model,\n",
    "          dataloader=test_dataloader,\n",
    "          loss_fn=loss_fn,\n",
    "          device=device)\n",
    "\n",
    "      # Print out what's happening\n",
    "      print(\n",
    "          f\"Epoch: {epoch+1} | \"\n",
    "          f\"train_loss: {train_loss:.4f} | \"\n",
    "          f\"train_acc: {train_acc:.4f} | \"\n",
    "          f\"test_loss: {test_loss:.4f} | \"\n",
    "          f\"test_acc: {test_acc:.4f}\"\n",
    "      )\n",
    "\n",
    "      # Update results dictionary\n",
    "      results[\"train_loss\"].append(train_loss)\n",
    "      results[\"train_acc\"].append(train_acc)\n",
    "      results[\"test_loss\"].append(test_loss)\n",
    "      results[\"test_acc\"].append(test_acc)\n",
    "\n",
    "  # Return the filled results at the end of the epochs\n",
    "  return results"
   ],
   "id": "4baf6ac3c3d0ab58",
   "outputs": [],
   "execution_count": 27
  },
  {
   "metadata": {},
   "cell_type": "markdown",
   "source": [
    "## 5. Creating a function to save the model\n",
    "\n",
    "Let's setup a function to save our model to a directory."
   ],
   "id": "e7f1e57caddf1d8e"
  },
  {
   "metadata": {
    "ExecuteTime": {
     "end_time": "2025-10-08T16:50:49.503937Z",
     "start_time": "2025-10-08T16:50:49.487917Z"
    }
   },
   "cell_type": "code",
   "source": [
    "from pathlib import Path\n",
    "\n",
    "def save_model(model: torch.nn.Module,\n",
    "               target_dir: str,\n",
    "               model_name: str):\n",
    "  \"\"\"Saves a PyTorch model to a target directory.\n",
    "\n",
    "  Args:\n",
    "    model: A target PyTorch model to save.\n",
    "    target_dir: A directory for saving the model to.\n",
    "    model_name: A filename for the saved model. Should include\n",
    "      either \".pth\" or \".pt\" as the file extension.\n",
    "\n",
    "  Example usage:\n",
    "    save_model(model=model_0,\n",
    "               target_dir=\"models\",\n",
    "               model_name=\"05_going_modular_tingvgg_model.pth\")\n",
    "  \"\"\"\n",
    "  # Create target directory\n",
    "  target_dir_path = Path(target_dir)\n",
    "  target_dir_path.mkdir(parents=True,\n",
    "                        exist_ok=True)\n",
    "\n",
    "  # Create model save path\n",
    "  assert model_name.endswith(\".pth\") or model_name.endswith(\".pt\"), \"model_name should end with '.pt' or '.pth'\"\n",
    "  model_save_path = target_dir_path / model_name\n",
    "\n",
    "  # Save the model state_dict()\n",
    "  print(f\"[INFO] Saving model to: {model_save_path}\")\n",
    "  torch.save(obj=model.state_dict(),\n",
    "             f=model_save_path)"
   ],
   "id": "c72bc5d2eab3eaba",
   "outputs": [],
   "execution_count": 28
  },
  {
   "metadata": {},
   "cell_type": "markdown",
   "source": [
    "## 6. Train, evaluate and save the model\n",
    "\n",
    "Let's leverage the functions we've got above to train, test and save a model to file.\n"
   ],
   "id": "af9e830602999fda"
  },
  {
   "metadata": {
    "ExecuteTime": {
     "end_time": "2025-10-08T16:55:12.944043Z",
     "start_time": "2025-10-08T16:53:28.446175Z"
    }
   },
   "cell_type": "code",
   "source": [
    "# Set random seeds\n",
    "torch.manual_seed(42)\n",
    "torch.cuda.manual_seed(42)\n",
    "\n",
    "# Set number of epochs\n",
    "NUM_EPOCHS = 5\n",
    "\n",
    "# Recreate an instance of TinyVGG\n",
    "model_0 = TinyVGG(input_shape=3, # number of color channels (3 for RGB)\n",
    "                  hidden_units=10,\n",
    "                  output_shape=len(train_data.classes)).to(device)\n",
    "\n",
    "# Setup loss function and optimizer\n",
    "loss_fn = nn.CrossEntropyLoss()\n",
    "optimizer = torch.optim.Adam(params=model_0.parameters(), lr=0.001)\n",
    "\n",
    "# Start the timer\n",
    "from timeit import default_timer as timer\n",
    "start_time = timer()\n",
    "\n",
    "# Train model_0\n",
    "model_0_results = train(model=model_0,\n",
    "                        train_dataloader=train_dataloader,\n",
    "                        test_dataloader=test_dataloader,\n",
    "                        optimizer=optimizer,\n",
    "                        loss_fn=loss_fn,\n",
    "                        epochs=NUM_EPOCHS,\n",
    "                        device=device)\n",
    "\n",
    "# End the timer and print out how long it took\n",
    "end_time = timer()\n",
    "print(f\"[INFO] Total training time: {end_time-start_time:.3f} seconds\")\n",
    "\n",
    "# Save the model\n",
    "save_model(model=model_0,\n",
    "           target_dir=\"models\",\n",
    "           model_name=\"05_going_modular_cell_mode_tinyvgg_model.pth\")"
   ],
   "id": "b1cc2546e4b3b9f",
   "outputs": [
    {
     "data": {
      "text/plain": [
       "  0%|          | 0/5 [00:00<?, ?it/s]"
      ],
      "application/vnd.jupyter.widget-view+json": {
       "version_major": 2,
       "version_minor": 0,
       "model_id": "42f2846e4d05421d9ab9a29137c22732"
      }
     },
     "metadata": {},
     "output_type": "display_data"
    },
    {
     "name": "stdout",
     "output_type": "stream",
     "text": [
      "Epoch: 1 | train_loss: 1.0956 | train_acc: 0.3867 | test_loss: 1.0629 | test_acc: 0.4133\n",
      "Epoch: 2 | train_loss: 1.0115 | train_acc: 0.5067 | test_loss: 1.0198 | test_acc: 0.4400\n",
      "Epoch: 3 | train_loss: 0.9548 | train_acc: 0.5644 | test_loss: 0.9995 | test_acc: 0.4533\n",
      "Epoch: 4 | train_loss: 0.8974 | train_acc: 0.5778 | test_loss: 1.0135 | test_acc: 0.4400\n",
      "Epoch: 5 | train_loss: 0.8636 | train_acc: 0.6222 | test_loss: 1.0503 | test_acc: 0.4667\n",
      "[INFO] Total training time: 104.468 seconds\n",
      "[INFO] Saving model to: models/05_going_modular_cell_mode_tinyvgg_model.pth\n"
     ]
    }
   ],
   "execution_count": 31
  },
  {
   "metadata": {},
   "cell_type": "markdown",
   "source": [
    "We finish with a saved image classification model at `models/05_going_modular_cell_mode_tinyvgg_model.pth`.\n",
    "\n",
    "The code continues in [05. Going Modular: Part 2 (script mode)](https://github.com/mrdbourke/pytorch-deep-learning/blob/main/going_modular/05_pytorch_going_modular_script_mode.ipynb)."
   ],
   "id": "41522d6ab70c2684"
  },
  {
   "metadata": {
    "ExecuteTime": {
     "end_time": "2025-10-08T17:47:11.349330Z",
     "start_time": "2025-10-08T17:47:11.226098Z"
    }
   },
   "cell_type": "code",
   "source": [
    "from Progress.course_progress_func import update_progress, progress_report_print\n",
    "update_progress(video_index=175, done=True)\n",
    "progress_report_print()"
   ],
   "id": "33e41b71f25a3007",
   "outputs": [
    {
     "name": "stdout",
     "output_type": "stream",
     "text": [
      "\u001B[1m\u001B[92mUpdated progress report.\u001B[0m \n",
      "\u001B[1mVideo:\u001B[0m 175. Creating a Python Script to Create Our PyTorch DataLoaders \n",
      "\u001B[1mDuration:\u001B[0m 11m \n",
      "\u001B[1mStatus:\u001B[0m Done \n",
      "\u001B[1mDate:\u001B[0m 08 Oct 2025 08:47 PM \n",
      "\u001B[1mSection progress:\u001B[0m \n",
      "\u001B[1mSection :\u001B[0m 7.PyTorch Going Modular\n",
      "\u001B[1mStatus  :\u001B[0m 5 videos remaining, 43m to finish the section\n",
      "\u001B[1mProgress: \u001B[0m 50%|\u001B[34m███████████████               \u001B[0m 5/10\u001B[0m\n",
      "\u001B[1m\u001B[94m      ___         ___           ___           ___           ___           ___           ___           ___     \n",
      "     /  /\\       /  /\\         /  /\\         /  /\\         /  /\\         /  /\\         /  /\\         /  /\\    \n",
      "    /  /::\\     /  /::\\       /  /::\\       /  /:/_       /  /::\\       /  /:/_       /  /:/_       /  /:/_   \n",
      "   /  /:/\\:\\   /  /:/\\:\\     /  /:/\\:\\     /  /:/ /\\     /  /:/\\:\\     /  /:/ /\\     /  /:/ /\\     /  /:/ /\\  \n",
      "  /  /:/~/:/  /  /:/~/:/    /  /:/  \\:\\   /  /:/_/::\\   /  /:/~/:/    /  /:/ /:/_   /  /:/ /::\\   /  /:/ /::\\ \n",
      " /__/:/ /:/  /__/:/ /:/___ /__/:/ \\__\\:\\ /__/:/__\\/\\:\\ /__/:/ /:/___ /__/:/ /:/ /\\ /__/:/ /:/\\:\\ /__/:/ /:/\\:\\\n",
      " \\  \\:\\/:/   \\  \\:\\/:::::/ \\  \\:\\ /  /:/ \\  \\:\\ /~~/:/ \\  \\:\\/:::::/ \\  \\:\\/:/ /:/ \\  \\:\\/:/~/:/ \\  \\:\\/:/~/:/\n",
      "  \\  \\::/     \\  \\::/~~~~   \\  \\:\\  /:/   \\  \\:\\  /:/   \\  \\::/~~~~   \\  \\::/ /:/   \\  \\::/ /:/   \\  \\::/ /:/ \n",
      "   \\  \\:\\      \\  \\:\\        \\  \\:\\/:/     \\  \\:\\/:/     \\  \\:\\        \\  \\:\\/:/     \\__\\/ /:/     \\__\\/ /:/  \n",
      "    \\  \\:\\      \\  \\:\\        \\  \\::/       \\  \\::/       \\  \\:\\        \\  \\::/        /__/:/        /__/:/   \n",
      "     \\__\\/       \\__\\/         \\__\\/         \\__\\/         \\__\\/         \\__\\/         \\__\\/         \\__\\/    \n",
      "      ___           ___           ___         ___           ___                 \n",
      "     /  /\\         /  /\\         /  /\\       /  /\\         /  /\\          ___   \n",
      "    /  /::\\       /  /:/_       /  /::\\     /  /::\\       /  /::\\        /  /\\  \n",
      "   /  /:/\\:\\     /  /:/ /\\     /  /:/\\:\\   /  /:/\\:\\     /  /:/\\:\\      /  /:/  \n",
      "  /  /:/~/:/    /  /:/ /:/_   /  /:/~/:/  /  /:/  \\:\\   /  /:/~/:/     /  /:/   \n",
      " /__/:/ /:/___ /__/:/ /:/ /\\ /__/:/ /:/  /__/:/ \\__\\:\\ /__/:/ /:/___  /  /::\\   \n",
      " \\  \\:\\/:::::/ \\  \\:\\/:/ /:/ \\  \\:\\/:/   \\  \\:\\ /  /:/ \\  \\:\\/:::::/ /__/:/\\:\\  \n",
      "  \\  \\::/~~~~   \\  \\::/ /:/   \\  \\::/     \\  \\:\\  /:/   \\  \\::/~~~~  \\__\\/  \\:\\ \n",
      "   \\  \\:\\        \\  \\:\\/:/     \\  \\:\\      \\  \\:\\/:/     \\  \\:\\           \\  \\:\\\n",
      "    \\  \\:\\        \\  \\::/       \\  \\:\\      \\  \\::/       \\  \\:\\           \\__\\/\n",
      "     \\__\\/         \\__\\/         \\__\\/       \\__\\/         \\__\\/                \n",
      "\u001B[0m\n",
      "\u001B[1m\u001B[93mCourse:\u001B[0m  49%|\u001B[34m█████████████▎             \u001B[0m 176/358\u001B[0m\n",
      "\u001B[1m\u001B[93mTotal time done:\u001B[0m 26h 38m out of 52h 15m watched (25h 37m remaining).\n",
      "\u001B[1m\u001B[93mTotal videos done:\u001B[0m 176 out of 358 finished (176 videos remaining).\n",
      "\n",
      "\u001B[1mSection :\u001B[0m 1.Introduction\n",
      "\u001B[1mStatus  :\u001B[0m \u001B[92mDone\u001B[0m\n",
      "\u001B[1mProgress: \u001B[0m100%|\u001B[34m███████████████████████████████\u001B[0m 7/7\u001B[0m\n",
      "\n",
      "\u001B[1mSection :\u001B[0m 2.PyTorch Fundamentals\n",
      "\u001B[1mStatus  :\u001B[0m \u001B[92mDone\u001B[0m\n",
      "\u001B[1mProgress: \u001B[0m100%|\u001B[34m█████████████████████████████\u001B[0m 32/32\u001B[0m\n",
      "\n",
      "\u001B[1mSection :\u001B[0m 3.PyTorch Workflow\n",
      "\u001B[1mStatus  :\u001B[0m \u001B[92mDone\u001B[0m\n",
      "\u001B[1mProgress: \u001B[0m100%|\u001B[34m█████████████████████████████\u001B[0m 28/28\u001B[0m\n",
      "\n",
      "\u001B[1mSection :\u001B[0m 4.PyTorch Neural Network Classification\n",
      "\u001B[1mStatus  :\u001B[0m \u001B[92mDone\u001B[0m\n",
      "\u001B[1mProgress: \u001B[0m100%|\u001B[34m█████████████████████████████\u001B[0m 32/32\u001B[0m\n",
      "\n",
      "\u001B[1mSection :\u001B[0m 5.PyTorch Computer Vision\n",
      "\u001B[1mStatus  :\u001B[0m \u001B[92mDone\u001B[0m\n",
      "\u001B[1mProgress: \u001B[0m100%|\u001B[34m█████████████████████████████\u001B[0m 34/34\u001B[0m\n",
      "\n",
      "\u001B[1mSection :\u001B[0m 6.PyTorch Custom Datasets\n",
      "\u001B[1mStatus  :\u001B[0m \u001B[92mDone\u001B[0m\n",
      "\u001B[1mProgress: \u001B[0m100%|\u001B[34m█████████████████████████████\u001B[0m 37/37\u001B[0m\n",
      "\n",
      "\u001B[1mSection :\u001B[0m 7.PyTorch Going Modular\n",
      "\u001B[1mStatus  :\u001B[0m 5 videos remaining, 43m to finish the section\n",
      "\u001B[1mProgress: \u001B[0m 50%|\u001B[34m███████████████               \u001B[0m 5/10\u001B[0m\n",
      "\n",
      "\u001B[1mSection :\u001B[0m 8.PyTorch Transfer Learning\n",
      "\u001B[1mStatus  :\u001B[0m 19 videos remaining, 2h 44m to finish the section\n",
      "\u001B[1mProgress: \u001B[0m  0%|\u001B[34m                              \u001B[0m 0/19\u001B[0m\n",
      "\n",
      "\u001B[1mSection :\u001B[0m 9.PyTorch Experiment Tracking\n",
      "\u001B[1mStatus  :\u001B[0m 22 videos remaining, 3h 11m to finish the section\n",
      "\u001B[1mProgress: \u001B[0m  0%|\u001B[34m                              \u001B[0m 0/22\u001B[0m\n",
      "\n",
      "\u001B[1mSection :\u001B[0m 10.PyTorch Paper Replicating\n",
      "\u001B[1mStatus  :\u001B[0m 50 videos remaining, 8h 7m to finish the section\n",
      "\u001B[1mProgress: \u001B[0m  0%|\u001B[34m                              \u001B[0m 0/50\u001B[0m\n",
      "\n",
      "\u001B[1mSection :\u001B[0m 11.PyTorch Model Deployment\n",
      "\u001B[1mStatus  :\u001B[0m 57 videos remaining, 7h 45m to finish the section\n",
      "\u001B[1mProgress: \u001B[0m  0%|\u001B[34m                              \u001B[0m 0/57\u001B[0m\n",
      "\n",
      "\u001B[1mSection :\u001B[0m 12.Introduction to PyTorch 2.0 and torch.compile\n",
      "\u001B[1mStatus  :\u001B[0m 25 videos remaining, 3h 3m to finish the section\n",
      "\u001B[1mProgress: \u001B[0m  0%|\u001B[34m                              \u001B[0m 0/25\u001B[0m\n",
      "\n",
      "\u001B[1mSection :\u001B[0m 13.Bonus Section\n",
      "\u001B[1mStatus  :\u001B[0m \u001B[92mDone\u001B[0m\n",
      "\u001B[1mProgress: \u001B[0m100%|\u001B[34m███████████████████████████████\u001B[0m 1/1\u001B[0m\n",
      "\n",
      "\u001B[1mSection :\u001B[0m 14.Where To Go From Here?\n",
      "\u001B[1mStatus  :\u001B[0m 4 videos remaining, 4m to finish the section\n",
      "\u001B[1mProgress: \u001B[0m  0%|\u001B[34m                               \u001B[0m 0/4\u001B[0m\n",
      "\n"
     ]
    }
   ],
   "execution_count": 36
  },
  {
   "metadata": {},
   "cell_type": "code",
   "outputs": [],
   "execution_count": null,
   "source": "",
   "id": "503b1742b7b330c1"
  }
 ],
 "metadata": {
  "kernelspec": {
   "display_name": "Python 3",
   "language": "python",
   "name": "python3"
  },
  "language_info": {
   "codemirror_mode": {
    "name": "ipython",
    "version": 2
   },
   "file_extension": ".py",
   "mimetype": "text/x-python",
   "name": "python",
   "nbconvert_exporter": "python",
   "pygments_lexer": "ipython2",
   "version": "2.7.6"
  }
 },
 "nbformat": 4,
 "nbformat_minor": 5
}
