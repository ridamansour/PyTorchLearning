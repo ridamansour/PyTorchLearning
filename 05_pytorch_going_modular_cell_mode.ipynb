{
 "cells": [
  {
   "cell_type": "code",
   "id": "initial_id",
   "metadata": {
    "collapsed": true,
    "ExecuteTime": {
     "end_time": "2025-10-08T10:54:16.896447Z",
     "start_time": "2025-10-08T10:54:16.893296Z"
    }
   },
   "source": "from Progress.course_progress_func import update_progress, progress_report_print",
   "outputs": [],
   "execution_count": 3
  },
  {
   "metadata": {
    "ExecuteTime": {
     "end_time": "2025-10-08T10:55:07.581727Z",
     "start_time": "2025-10-08T10:55:07.564635Z"
    }
   },
   "cell_type": "code",
   "source": "update_progress(video_index=172, done=False)",
   "id": "33e41b71f25a3007",
   "outputs": [
    {
     "name": "stdout",
     "output_type": "stream",
     "text": [
      "\u001B[1m\u001B[92mUpdated progress report.\u001B[0m \n",
      "\u001B[1mVideo:\u001B[0m 172. Going Modular Notebook (Part 1): Running It End to End \n",
      "\u001B[1mDuration:\u001B[0m 8m \n",
      "\u001B[1mStatus:\u001B[0m Not done \n",
      "\u001B[1mDate:\u001B[0m N/A \n",
      "\u001B[1mSection progress:\u001B[0m \n",
      "\u001B[1mSection :\u001B[0m 7.PyTorch Going Modular\n",
      "\u001B[1mStatus  :\u001B[0m 9 videos remaining, 1h 21m to finish the section\n",
      "\u001B[1mProgress: \u001B[0m 10%|\u001B[34m███                           \u001B[0m 1/10\u001B[0m\n"
     ]
    }
   ],
   "execution_count": 10
  },
  {
   "metadata": {
    "ExecuteTime": {
     "end_time": "2025-10-08T10:54:06.810679Z",
     "start_time": "2025-10-08T10:54:06.735628Z"
    }
   },
   "cell_type": "code",
   "source": "progress_report_print()",
   "id": "93200557bc759594",
   "outputs": [
    {
     "name": "stdout",
     "output_type": "stream",
     "text": [
      "\u001B[1m\u001B[94m      ___         ___           ___           ___           ___           ___           ___           ___     \n",
      "     /  /\\       /  /\\         /  /\\         /  /\\         /  /\\         /  /\\         /  /\\         /  /\\    \n",
      "    /  /::\\     /  /::\\       /  /::\\       /  /:/_       /  /::\\       /  /:/_       /  /:/_       /  /:/_   \n",
      "   /  /:/\\:\\   /  /:/\\:\\     /  /:/\\:\\     /  /:/ /\\     /  /:/\\:\\     /  /:/ /\\     /  /:/ /\\     /  /:/ /\\  \n",
      "  /  /:/~/:/  /  /:/~/:/    /  /:/  \\:\\   /  /:/_/::\\   /  /:/~/:/    /  /:/ /:/_   /  /:/ /::\\   /  /:/ /::\\ \n",
      " /__/:/ /:/  /__/:/ /:/___ /__/:/ \\__\\:\\ /__/:/__\\/\\:\\ /__/:/ /:/___ /__/:/ /:/ /\\ /__/:/ /:/\\:\\ /__/:/ /:/\\:\\\n",
      " \\  \\:\\/:/   \\  \\:\\/:::::/ \\  \\:\\ /  /:/ \\  \\:\\ /~~/:/ \\  \\:\\/:::::/ \\  \\:\\/:/ /:/ \\  \\:\\/:/~/:/ \\  \\:\\/:/~/:/\n",
      "  \\  \\::/     \\  \\::/~~~~   \\  \\:\\  /:/   \\  \\:\\  /:/   \\  \\::/~~~~   \\  \\::/ /:/   \\  \\::/ /:/   \\  \\::/ /:/ \n",
      "   \\  \\:\\      \\  \\:\\        \\  \\:\\/:/     \\  \\:\\/:/     \\  \\:\\        \\  \\:\\/:/     \\__\\/ /:/     \\__\\/ /:/  \n",
      "    \\  \\:\\      \\  \\:\\        \\  \\::/       \\  \\::/       \\  \\:\\        \\  \\::/        /__/:/        /__/:/   \n",
      "     \\__\\/       \\__\\/         \\__\\/         \\__\\/         \\__\\/         \\__\\/         \\__\\/         \\__\\/    \n",
      "      ___           ___           ___         ___           ___                 \n",
      "     /  /\\         /  /\\         /  /\\       /  /\\         /  /\\          ___   \n",
      "    /  /::\\       /  /:/_       /  /::\\     /  /::\\       /  /::\\        /  /\\  \n",
      "   /  /:/\\:\\     /  /:/ /\\     /  /:/\\:\\   /  /:/\\:\\     /  /:/\\:\\      /  /:/  \n",
      "  /  /:/~/:/    /  /:/ /:/_   /  /:/~/:/  /  /:/  \\:\\   /  /:/~/:/     /  /:/   \n",
      " /__/:/ /:/___ /__/:/ /:/ /\\ /__/:/ /:/  /__/:/ \\__\\:\\ /__/:/ /:/___  /  /::\\   \n",
      " \\  \\:\\/:::::/ \\  \\:\\/:/ /:/ \\  \\:\\/:/   \\  \\:\\ /  /:/ \\  \\:\\/:::::/ /__/:/\\:\\  \n",
      "  \\  \\::/~~~~   \\  \\::/ /:/   \\  \\::/     \\  \\:\\  /:/   \\  \\::/~~~~  \\__\\/  \\:\\ \n",
      "   \\  \\:\\        \\  \\:\\/:/     \\  \\:\\      \\  \\:\\/:/     \\  \\:\\           \\  \\:\\\n",
      "    \\  \\:\\        \\  \\::/       \\  \\:\\      \\  \\::/       \\  \\:\\           \\__\\/\n",
      "     \\__\\/         \\__\\/         \\__\\/       \\__\\/         \\__\\/                \n",
      "\u001B[0m\n",
      "\u001B[1m\u001B[93mCourse:\u001B[0m  48%|\u001B[34m████████████▉              \u001B[0m 171/358\u001B[0m\n",
      "\u001B[1m\u001B[93mTotal time done:\u001B[0m 25h 48m out of 52h 15m watched (26h 27m remaining).\n",
      "\u001B[1m\u001B[93mTotal videos done:\u001B[0m 171 out of 358 finished (171 videos remaining).\n",
      "\n",
      "\u001B[1mSection :\u001B[0m 1.Introduction\n",
      "\u001B[1mStatus  :\u001B[0m \u001B[92mDone\u001B[0m\n",
      "\u001B[1mProgress: \u001B[0m100%|\u001B[34m███████████████████████████████\u001B[0m 7/7\u001B[0m\n",
      "\n",
      "\u001B[1mSection :\u001B[0m 2.PyTorch Fundamentals\n",
      "\u001B[1mStatus  :\u001B[0m \u001B[92mDone\u001B[0m\n",
      "\u001B[1mProgress: \u001B[0m100%|\u001B[34m█████████████████████████████\u001B[0m 32/32\u001B[0m\n",
      "\n",
      "\u001B[1mSection :\u001B[0m 3.PyTorch Workflow\n",
      "\u001B[1mStatus  :\u001B[0m \u001B[92mDone\u001B[0m\n",
      "\u001B[1mProgress: \u001B[0m100%|\u001B[34m█████████████████████████████\u001B[0m 28/28\u001B[0m\n",
      "\n",
      "\u001B[1mSection :\u001B[0m 4.PyTorch Neural Network Classification\n",
      "\u001B[1mStatus  :\u001B[0m \u001B[92mDone\u001B[0m\n",
      "\u001B[1mProgress: \u001B[0m100%|\u001B[34m█████████████████████████████\u001B[0m 32/32\u001B[0m\n",
      "\n",
      "\u001B[1mSection :\u001B[0m 5.PyTorch Computer Vision\n",
      "\u001B[1mStatus  :\u001B[0m \u001B[92mDone\u001B[0m\n",
      "\u001B[1mProgress: \u001B[0m100%|\u001B[34m█████████████████████████████\u001B[0m 34/34\u001B[0m\n",
      "\n",
      "\u001B[1mSection :\u001B[0m 6.PyTorch Custom Datasets\n",
      "\u001B[1mStatus  :\u001B[0m \u001B[92mDone\u001B[0m\n",
      "\u001B[1mProgress: \u001B[0m100%|\u001B[34m█████████████████████████████\u001B[0m 37/37\u001B[0m\n",
      "\n",
      "\u001B[1mSection :\u001B[0m 7.PyTorch Going Modular\n",
      "\u001B[1mStatus  :\u001B[0m 10 videos remaining, 1h 33m to finish the section\n",
      "\u001B[1mProgress: \u001B[0m  0%|\u001B[34m                              \u001B[0m 0/10\u001B[0m\n",
      "\n",
      "\u001B[1mSection :\u001B[0m 8.PyTorch Transfer Learning\n",
      "\u001B[1mStatus  :\u001B[0m 19 videos remaining, 2h 44m to finish the section\n",
      "\u001B[1mProgress: \u001B[0m  0%|\u001B[34m                              \u001B[0m 0/19\u001B[0m\n",
      "\n",
      "\u001B[1mSection :\u001B[0m 9.PyTorch Experiment Tracking\n",
      "\u001B[1mStatus  :\u001B[0m 22 videos remaining, 3h 11m to finish the section\n",
      "\u001B[1mProgress: \u001B[0m  0%|\u001B[34m                              \u001B[0m 0/22\u001B[0m\n",
      "\n",
      "\u001B[1mSection :\u001B[0m 10.PyTorch Paper Replicating\n",
      "\u001B[1mStatus  :\u001B[0m 50 videos remaining, 8h 7m to finish the section\n",
      "\u001B[1mProgress: \u001B[0m  0%|\u001B[34m                              \u001B[0m 0/50\u001B[0m\n",
      "\n",
      "\u001B[1mSection :\u001B[0m 11.PyTorch Model Deployment\n",
      "\u001B[1mStatus  :\u001B[0m 57 videos remaining, 7h 45m to finish the section\n",
      "\u001B[1mProgress: \u001B[0m  0%|\u001B[34m                              \u001B[0m 0/57\u001B[0m\n",
      "\n",
      "\u001B[1mSection :\u001B[0m 12.Introduction to PyTorch 2.0 and torch.compile\n",
      "\u001B[1mStatus  :\u001B[0m 25 videos remaining, 3h 3m to finish the section\n",
      "\u001B[1mProgress: \u001B[0m  0%|\u001B[34m                              \u001B[0m 0/25\u001B[0m\n",
      "\n",
      "\u001B[1mSection :\u001B[0m 13.Bonus Section\n",
      "\u001B[1mStatus  :\u001B[0m \u001B[92mDone\u001B[0m\n",
      "\u001B[1mProgress: \u001B[0m100%|\u001B[34m███████████████████████████████\u001B[0m 1/1\u001B[0m\n",
      "\n",
      "\u001B[1mSection :\u001B[0m 14.Where To Go From Here?\n",
      "\u001B[1mStatus  :\u001B[0m 4 videos remaining, 4m to finish the section\n",
      "\u001B[1mProgress: \u001B[0m  0%|\u001B[34m                               \u001B[0m 0/4\u001B[0m\n",
      "\n"
     ]
    }
   ],
   "execution_count": 2
  },
  {
   "metadata": {},
   "cell_type": "code",
   "outputs": [],
   "execution_count": null,
   "source": "",
   "id": "123695635079e36c"
  }
 ],
 "metadata": {
  "kernelspec": {
   "display_name": "Python 3",
   "language": "python",
   "name": "python3"
  },
  "language_info": {
   "codemirror_mode": {
    "name": "ipython",
    "version": 2
   },
   "file_extension": ".py",
   "mimetype": "text/x-python",
   "name": "python",
   "nbconvert_exporter": "python",
   "pygments_lexer": "ipython2",
   "version": "2.7.6"
  }
 },
 "nbformat": 4,
 "nbformat_minor": 5
}
