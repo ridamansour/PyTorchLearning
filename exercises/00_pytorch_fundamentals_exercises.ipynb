{
 "nbformat": 4,
 "nbformat_minor": 0,
 "metadata": {
  "colab": {
   "name": "00_pytorch_fundamentals_exercises.ipynb",
   "provenance": [],
   "collapsed_sections": []
  },
  "kernelspec": {
   "name": "python3",
   "display_name": "Python 3"
  },
  "language_info": {
   "name": "python"
  },
  "accelerator": "GPU"
 },
 "cells": [
  {
   "cell_type": "markdown",
   "source": [
    "# 00. PyTorch Fundamentals Exercises\n",
    "\n",
    "### 1. Documentation reading \n",
    "\n",
    "A big part of deep learning (and learning to code in general) is getting familiar with the documentation of a certain framework you're using. We'll be using the PyTorch documentation a lot throughout the rest of this course. So I'd recommend spending 10-minutes reading the following (it's okay if you don't get some things for now, the focus is not yet full understanding, it's awareness):\n",
    "  * The documentation on [`torch.Tensor`](https://pytorch.org/docs/stable/tensors.html#torch-tensor).\n",
    "  * The documentation on [`torch.cuda`](https://pytorch.org/docs/master/notes/cuda.html#cuda-semantics).\n",
    "\n"
   ],
   "metadata": {
    "id": "AzDBM_v4iMe7"
   }
  },
  {
   "cell_type": "code",
   "source": [
    "# No code solution (reading)"
   ],
   "metadata": {
    "id": "bGD0oD8Kizak"
   },
   "execution_count": 1,
   "outputs": []
  },
  {
   "cell_type": "markdown",
   "source": [
    "### 2. Create a random tensor with shape `(7, 7)`.\n"
   ],
   "metadata": {
    "id": "__iXqqz-ioUJ"
   }
  },
  {
   "cell_type": "code",
   "source": [
    "# Import torch\n",
    "import torch\n",
    "\n",
    "# Create random tensor\n",
    "rand_tensor_A = torch.rand(7, 7)\n",
    "rand_tensor_A"
   ],
   "metadata": {
    "id": "6pUq9Dc8i2L7",
    "ExecuteTime": {
     "end_time": "2025-06-29T19:20:35.721345Z",
     "start_time": "2025-06-29T19:20:35.649240Z"
    }
   },
   "outputs": [
    {
     "data": {
      "text/plain": [
       "tensor([[0.7491, 0.5218, 0.8239, 0.6525, 0.1800, 0.4939, 0.9511],\n",
       "        [0.2803, 0.8889, 0.7128, 0.7261, 0.4972, 0.2378, 0.9839],\n",
       "        [0.0909, 0.1641, 0.3401, 0.8388, 0.8284, 0.4514, 0.4865],\n",
       "        [0.8630, 0.9727, 0.9034, 0.0571, 0.0539, 0.3339, 0.8294],\n",
       "        [0.7173, 0.7992, 0.9685, 0.5197, 0.2116, 0.1391, 0.3481],\n",
       "        [0.3373, 0.3984, 0.2481, 0.0514, 0.0682, 0.4820, 0.3473],\n",
       "        [0.0203, 0.8599, 0.9043, 0.4265, 0.1576, 0.6589, 0.8557]])"
      ]
     },
     "execution_count": 4,
     "metadata": {},
     "output_type": "execute_result"
    }
   ],
   "execution_count": 4
  },
  {
   "cell_type": "markdown",
   "source": [
    "### 3. Perform a matrix multiplication on the tensor from 2 with another random tensor with shape `(1, 7)` (hint: you may have to transpose the second tensor)."
   ],
   "metadata": {
    "id": "9-XxvRLfiqkR"
   }
  },
  {
   "cell_type": "code",
   "source": [
    "# Create another random tensor\n",
    "rand_tensor_B = torch.rand(1, 7)\n",
    "\n",
    "# Perform matrix multiplication \n",
    "torch.matmul(rand_tensor_A, rand_tensor_B.T)"
   ],
   "metadata": {
    "id": "NcLqR0Sbi_vT",
    "ExecuteTime": {
     "end_time": "2025-06-29T19:21:36.577583Z",
     "start_time": "2025-06-29T19:21:36.548766Z"
    }
   },
   "outputs": [
    {
     "data": {
      "text/plain": [
       "tensor([[2.4016],\n",
       "        [2.1409],\n",
       "        [1.4979],\n",
       "        [2.2091],\n",
       "        [1.5809],\n",
       "        [1.2216],\n",
       "        [2.0866]])"
      ]
     },
     "execution_count": 6,
     "metadata": {},
     "output_type": "execute_result"
    }
   ],
   "execution_count": 6
  },
  {
   "cell_type": "markdown",
   "source": [
    "### 4. Set the random seed to `0` and do 2 & 3 over again.\n",
    "\n",
    "The output should be:\n",
    "```\n",
    "(tensor([[1.8542],\n",
    "         [1.9611],\n",
    "         [2.2884],\n",
    "         [3.0481],\n",
    "         [1.7067],\n",
    "         [2.5290],\n",
    "         [1.7989]]), torch.Size([7, 1]))\n",
    "```"
   ],
   "metadata": {
    "id": "eiutdKUFiryU"
   }
  },
  {
   "cell_type": "code",
   "source": [
    "# Set manual seed\n",
    "torch.manual_seed(0)\n",
    "\n",
    "# Create two random tensors\n",
    "rand_tensor_A = torch.rand(7, 7)\n",
    "rand_tensor_B = torch.rand(1, 7)\n",
    "\n",
    "# Matrix multiply tensors\n",
    "torch.matmul(rand_tensor_A, rand_tensor_B.T)"
   ],
   "metadata": {
    "id": "D-lOWI_1jRMm",
    "ExecuteTime": {
     "end_time": "2025-06-29T19:22:27.863293Z",
     "start_time": "2025-06-29T19:22:27.749388Z"
    }
   },
   "outputs": [
    {
     "data": {
      "text/plain": [
       "tensor([[1.8542],\n",
       "        [1.9611],\n",
       "        [2.2884],\n",
       "        [3.0481],\n",
       "        [1.7067],\n",
       "        [2.5290],\n",
       "        [1.7989]])"
      ]
     },
     "execution_count": 7,
     "metadata": {},
     "output_type": "execute_result"
    }
   ],
   "execution_count": 7
  },
  {
   "cell_type": "markdown",
   "source": [
    "### 5. Speaking of random seeds, we saw how to set it with `torch.manual_seed()` but is there a GPU equivalent? (hint: you'll need to look into the documentation for `torch.cuda` for this one)\n",
    "  * If there is, set the GPU random seed to `1234`."
   ],
   "metadata": {
    "id": "ezY6ks9Cis37"
   }
  },
  {
   "cell_type": "code",
   "source": [
    "# Set random seed on the GPU\n",
    "torch.cuda.manual_seed(1234)"
   ],
   "metadata": {
    "id": "_LKWcfSTjp00",
    "ExecuteTime": {
     "end_time": "2025-06-29T19:26:09.761337Z",
     "start_time": "2025-06-29T19:26:09.719930Z"
    }
   },
   "outputs": [],
   "execution_count": 8
  },
  {
   "cell_type": "markdown",
   "source": [
    "\n",
    "### 6. Create two random tensors of shape `(2, 3)` and send them both to the GPU (you'll need access to a GPU for this). Set `torch.manual_seed(1234)` when creating the tensors (this doesn't have to be the GPU random seed). The output should be something like:\n",
    "\n",
    "```\n",
    "Device: cuda\n",
    "(tensor([[0.0290, 0.4019, 0.2598],\n",
    "         [0.3666, 0.0583, 0.7006]], device='cuda:0'),\n",
    " tensor([[0.0518, 0.4681, 0.6738],\n",
    "         [0.3315, 0.7837, 0.5631]], device='cuda:0'))\n",
    "```"
   ],
   "metadata": {
    "id": "Ir9qSaj6it4n"
   }
  },
  {
   "cell_type": "code",
   "source": [
    "# Set random seed\n",
    "torch.manual_seed(1234)\n",
    "\n",
    "# Check for access to GPU\n",
    "device = \"cuda\" if torch.cuda.is_available() else \"cpu\"\n",
    "print(f\"Device: {device}\")\n",
    "\n",
    "# Create two random tensors on GPU\n",
    "tensor_A = torch.rand(size=(2,3)).to(device)\n",
    "tensor_B = torch.rand(size=(2,3)).to(device)\n",
    "tensor_A, tensor_B"
   ],
   "metadata": {
    "id": "azXExiFZj5nm",
    "ExecuteTime": {
     "end_time": "2025-06-29T19:27:11.833230Z",
     "start_time": "2025-06-29T19:27:11.742232Z"
    }
   },
   "outputs": [
    {
     "name": "stdout",
     "output_type": "stream",
     "text": [
      "Device: cpu\n"
     ]
    },
    {
     "data": {
      "text/plain": [
       "(tensor([[0.0290, 0.4019, 0.2598],\n",
       "         [0.3666, 0.0583, 0.7006]]),\n",
       " tensor([[0.0518, 0.4681, 0.6738],\n",
       "         [0.3315, 0.7837, 0.5631]]))"
      ]
     },
     "execution_count": 9,
     "metadata": {},
     "output_type": "execute_result"
    }
   ],
   "execution_count": 9
  },
  {
   "cell_type": "markdown",
   "source": [
    "\n",
    "### 7. Perform a matrix multiplication on the tensors you created in 6 (again, you may have to adjust the shapes of one of the tensors).\n",
    "\n",
    "The output should look like:\n",
    "```\n",
    "(tensor([[0.3647, 0.4709],\n",
    "         [0.5184, 0.5617]], device='cuda:0'), torch.Size([2, 2]))\n",
    "```"
   ],
   "metadata": {
    "id": "5TlAxeiSiu1y"
   }
  },
  {
   "cell_type": "code",
   "source": [
    "# Perform matmul on tensor_A and tensor_B\n",
    "tensor_C = torch.matmul(tensor_A, tensor_B.T)\n",
    "tensor_C, tensor_C.shape"
   ],
   "metadata": {
    "id": "fAeG7ox0lHEO",
    "ExecuteTime": {
     "end_time": "2025-06-29T19:27:27.670834Z",
     "start_time": "2025-06-29T19:27:27.652597Z"
    }
   },
   "outputs": [
    {
     "data": {
      "text/plain": [
       "(tensor([[0.3647, 0.4709],\n",
       "         [0.5184, 0.5617]]),\n",
       " torch.Size([2, 2]))"
      ]
     },
     "execution_count": 10,
     "metadata": {},
     "output_type": "execute_result"
    }
   ],
   "execution_count": 10
  },
  {
   "cell_type": "markdown",
   "source": [
    "### 8. Find the maximum and minimum values of the output of 7."
   ],
   "metadata": {
    "id": "G7qfa5CSivwg"
   }
  },
  {
   "cell_type": "code",
   "source": [
    "# Find max\n",
    "print(tensor_C.max())\n",
    "# Find min\n",
    "print(tensor_C.min())"
   ],
   "metadata": {
    "id": "Fu8_3mZpllOd",
    "ExecuteTime": {
     "end_time": "2025-06-29T19:28:14.955073Z",
     "start_time": "2025-06-29T19:28:14.887349Z"
    }
   },
   "outputs": [
    {
     "name": "stdout",
     "output_type": "stream",
     "text": [
      "tensor(0.5617)\n",
      "tensor(0.3647)\n"
     ]
    }
   ],
   "execution_count": 11
  },
  {
   "cell_type": "markdown",
   "source": [
    "### 9. Find the maximum and minimum index values of the output of 7."
   ],
   "metadata": {
    "id": "wrTj5FgNiw47"
   }
  },
  {
   "cell_type": "code",
   "source": [
    "# Find arg max\n",
    "print(tensor_C.argmax())\n",
    "\n",
    "# Find arg min\n",
    "print(tensor_C.argmin())"
   ],
   "metadata": {
    "id": "CCEKt4K2lsfQ",
    "ExecuteTime": {
     "end_time": "2025-06-29T19:28:50.698001Z",
     "start_time": "2025-06-29T19:28:50.670540Z"
    }
   },
   "outputs": [
    {
     "name": "stdout",
     "output_type": "stream",
     "text": [
      "tensor(3)\n",
      "tensor(0)\n"
     ]
    }
   ],
   "execution_count": 12
  },
  {
   "cell_type": "markdown",
   "source": [
    "\n",
    "### 10. Make a random tensor with shape `(1, 1, 1, 10)` and then create a new tensor with all the `1` dimensions removed to be left with a tensor of shape `(10)`. Set the seed to `7` when you create it and print out the first tensor and it's shape as well as the second tensor and it's shape.\n",
    "\n",
    "The output should look like:\n",
    "\n",
    "```\n",
    "tensor([[[[0.5349, 0.1988, 0.6592, 0.6569, 0.2328, 0.4251, 0.2071, 0.6297,\n",
    "           0.3653, 0.8513]]]]) torch.Size([1, 1, 1, 10])\n",
    "tensor([0.5349, 0.1988, 0.6592, 0.6569, 0.2328, 0.4251, 0.2071, 0.6297, 0.3653,\n",
    "        0.8513]) torch.Size([10])\n",
    "```"
   ],
   "metadata": {
    "id": "hmeybz4uixy7"
   }
  },
  {
   "cell_type": "code",
   "source": [
    "# Set seed\n",
    "torch.manual_seed(7)\n",
    "\n",
    "# Create random tensor\n",
    "tensor_D = torch.rand(size=(1, 1, 1, 10))\n",
    "\n",
    "# Remove single dimensions\n",
    "tensor_E = tensor_D.squeeze()\n",
    "\n",
    "# Print out tensors\n",
    "print(tensor_D, tensor_D.shape)\n",
    "print(tensor_E, tensor_E.shape)"
   ],
   "metadata": {
    "id": "TQ9zbRzVl1jV",
    "ExecuteTime": {
     "end_time": "2025-06-29T19:29:21.445602Z",
     "start_time": "2025-06-29T19:29:21.360679Z"
    }
   },
   "outputs": [
    {
     "name": "stdout",
     "output_type": "stream",
     "text": [
      "tensor([[[[0.5349, 0.1988, 0.6592, 0.6569, 0.2328, 0.4251, 0.2071, 0.6297,\n",
      "           0.3653, 0.8513]]]]) torch.Size([1, 1, 1, 10])\n",
      "tensor([0.5349, 0.1988, 0.6592, 0.6569, 0.2328, 0.4251, 0.2071, 0.6297, 0.3653,\n",
      "        0.8513]) torch.Size([10])\n"
     ]
    }
   ],
   "execution_count": 13
  },
  {
   "metadata": {},
   "cell_type": "code",
   "outputs": [],
   "execution_count": null,
   "source": ""
  }
 ]
}
