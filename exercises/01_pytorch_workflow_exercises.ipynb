{
 "nbformat": 4,
 "nbformat_minor": 0,
 "metadata": {
  "colab": {
   "name": "01_pytorch_workflow_exercises.ipynb",
   "provenance": [],
   "collapsed_sections": [],
   "authorship_tag": "ABX9TyNYzatJtFkfUqqdiR6rYwVL",
   "include_colab_link": true
  },
  "kernelspec": {
   "name": "python3",
   "display_name": "Python 3"
  },
  "language_info": {
   "name": "python"
  },
  "accelerator": "GPU"
 },
 "cells": [
  {
   "cell_type": "markdown",
   "metadata": {
    "id": "view-in-github",
    "colab_type": "text"
   },
   "source": [
    "<a href=\"https://colab.research.google.com/github/mrdbourke/pytorch-deep-learning/blob/main/extras/exercises/01_pytorch_workflow_exercises.ipynb\" target=\"_parent\"><img src=\"https://colab.research.google.com/assets/colab-badge.svg\" alt=\"Open In Colab\"/></a>"
   ]
  },
  {
   "cell_type": "markdown",
   "source": [
    "# 01. PyTorch Workflow Exercise Template\n",
    "\n",
    "The following is a template for the PyTorch workflow exercises.\n",
    "\n",
    "It's only starter code and it's your job to fill in the blanks.\n",
    "\n",
    "Because of the flexibility of PyTorch, there may be more than one way to answer the question.\n",
    "\n",
    "Don't worry about trying to be *right* just try writing code that suffices the question.\n",
    "\n",
    "You can see one form of [solutions on GitHub](https://github.com/mrdbourke/pytorch-deep-learning/tree/main/extras/solutions) (but try the exercises below yourself first!)."
   ],
   "metadata": {
    "id": "N8LsPXZti9Sw"
   }
  },
  {
   "cell_type": "code",
   "source": [
    "# Import necessary libraries\n",
    "import torch\n",
    "from torch import nn\n",
    "import pandas as pd\n",
    "import matplotlib.pyplot as plt\n",
    "from sklearn.model_selection import train_test_split\n",
    "\n",
    "# PyTorch version\n",
    "torch.__version__"
   ],
   "metadata": {
    "id": "Glu2fM4dkNlx",
    "ExecuteTime": {
     "end_time": "2025-07-17T14:08:27.513858Z",
     "start_time": "2025-07-17T14:08:27.497266Z"
    }
   },
   "outputs": [
    {
     "data": {
      "text/plain": [
       "'2.7.1'"
      ]
     },
     "execution_count": 27,
     "metadata": {},
     "output_type": "execute_result"
    }
   ],
   "execution_count": 27
  },
  {
   "cell_type": "code",
   "source": [
    "# Setup device-agnostic code\n",
    "device = torch.device(\"cuda:0\" if torch.cuda.is_available() else \"cpu\")\n",
    "device"
   ],
   "metadata": {
    "id": "LqKhXY26m31s",
    "ExecuteTime": {
     "end_time": "2025-07-17T14:08:28.002511Z",
     "start_time": "2025-07-17T14:08:27.996601Z"
    }
   },
   "outputs": [
    {
     "data": {
      "text/plain": [
       "device(type='cpu')"
      ]
     },
     "execution_count": 28,
     "metadata": {},
     "output_type": "execute_result"
    }
   ],
   "execution_count": 28
  },
  {
   "cell_type": "markdown",
   "source": [
    "## 1. Create a straight line dataset using the linear regression formula (`weight * X + bias`).\n",
    "  * Set `weight=0.3` and `bias=0.9` there should be at least 100 datapoints total. \n",
    "  * Split the data into 80% training, 20% testing.\n",
    "  * Plot the training and testing data so it becomes visual.\n",
    "\n",
    "Your output of the below cell should look something like:\n",
    "```\n",
    "Number of X samples: 100\n",
    "Number of y samples: 100\n",
    "First 10 X & y samples:\n",
    "X: tensor([0.0000, 0.0100, 0.0200, 0.0300, 0.0400, 0.0500, 0.0600, 0.0700, 0.0800,\n",
    "        0.0900])\n",
    "y: tensor([0.9000, 0.9030, 0.9060, 0.9090, 0.9120, 0.9150, 0.9180, 0.9210, 0.9240,\n",
    "        0.9270])\n",
    "```\n",
    "\n",
    "Of course the numbers in `X` and `y` may be different but ideally they're created using the linear regression formula."
   ],
   "metadata": {
    "id": "g7HUhxCxjeBx"
   }
  },
  {
   "cell_type": "code",
   "source": [
    "# Create the data parameters\n",
    "WEIGHT = 0.3\n",
    "BIAS = 0.9\n",
    "\n",
    "# data params\n",
    "START = 0\n",
    "END = 1\n",
    "STEP = 0.02\n",
    "\n",
    "# Make X and y using linear regression feature\n",
    "X = torch.arange(START, END, STEP).unsqueeze(1)\n",
    "y = X * WEIGHT + BIAS\n",
    "\n",
    "print(f\"Number of X samples: {len(X)}\")\n",
    "print(f\"Number of y samples: {len(y)}\")\n",
    "print(f\"First 10 X & y samples:\\nX: {X[:10]}\\ny: {y[:10]}\")"
   ],
   "metadata": {
    "id": "KbDG5MV7jhvE",
    "ExecuteTime": {
     "end_time": "2025-07-17T14:10:31.315699Z",
     "start_time": "2025-07-17T14:10:31.285093Z"
    }
   },
   "outputs": [
    {
     "name": "stdout",
     "output_type": "stream",
     "text": [
      "Number of X samples: 50\n",
      "Number of y samples: 50\n",
      "First 10 X & y samples:\n",
      "X: tensor([[0.0000],\n",
      "        [0.0200],\n",
      "        [0.0400],\n",
      "        [0.0600],\n",
      "        [0.0800],\n",
      "        [0.1000],\n",
      "        [0.1200],\n",
      "        [0.1400],\n",
      "        [0.1600],\n",
      "        [0.1800]])\n",
      "y: tensor([[0.9000],\n",
      "        [0.9060],\n",
      "        [0.9120],\n",
      "        [0.9180],\n",
      "        [0.9240],\n",
      "        [0.9300],\n",
      "        [0.9360],\n",
      "        [0.9420],\n",
      "        [0.9480],\n",
      "        [0.9540]])\n"
     ]
    }
   ],
   "execution_count": 37
  },
  {
   "cell_type": "code",
   "source": [
    "# Split the data into training and testing\n",
    "X_train, X_test, y_train, y_test = train_test_split(X, y, test_size=0.2)\n",
    "len(X_train), len(X_test), len(y_train), len(y_test)"
   ],
   "metadata": {
    "id": "GlwtT1djkmLw",
    "ExecuteTime": {
     "end_time": "2025-07-17T14:10:31.979840Z",
     "start_time": "2025-07-17T14:10:31.961892Z"
    }
   },
   "outputs": [
    {
     "data": {
      "text/plain": [
       "(40, 10, 40, 10)"
      ]
     },
     "execution_count": 38,
     "metadata": {},
     "output_type": "execute_result"
    }
   ],
   "execution_count": 38
  },
  {
   "cell_type": "code",
   "source": [
    "# Plot the training and testing data\n",
    "def plot_predictions(train_params= X_train,\n",
    "                     train_labels= y_train,\n",
    "                     test_params= X_test,\n",
    "                     test_labels= y_test,\n",
    "                     predictions= None):\n",
    "    plt.figure(figsize=(12, 8))\n",
    "\n",
    "    # Plot training data in blue\n",
    "    plt.scatter(train_params, train_labels, c=\"c\", s=20, label=\"Training data\")\n",
    "\n",
    "    # Plot test data in green\n",
    "    plt.scatter(test_params, test_labels, c=\"g\", s=20, label=\"Testing data\")\n",
    "\n",
    "    # Are there predictions?\n",
    "    if predictions is not None:\n",
    "        # Plot the predictions if they exist\n",
    "        plt.scatter(test_params, predictions, c=\"r\", s=20, label=\"Predictions\")\n",
    "\n",
    "    # Show the legend\n",
    "    plt.legend(prop={'size': 8})\n",
    "plot_predictions()"
   ],
   "metadata": {
    "id": "29iQZFNhlYJ-",
    "ExecuteTime": {
     "end_time": "2025-07-17T14:10:32.596383Z",
     "start_time": "2025-07-17T14:10:32.407407Z"
    }
   },
   "outputs": [
    {
     "data": {
      "text/plain": [
       "<Figure size 1200x800 with 1 Axes>"
      ],
      "image/png": "[encoded data removed]"
     },
     "metadata": {},
     "output_type": "display_data"
    }
   ],
   "execution_count": 39
  },
  {
   "cell_type": "markdown",
   "source": [
    "## 2. Build a PyTorch model by subclassing `nn.Module`. \n",
    "  * Inside should be a randomly initialized `nn.Parameter()` with `requires_grad=True`, one for `weights` and one for `bias`. \n",
    "  * Implement the `forward()` method to compute the linear regression function you used to create the dataset in 1. \n",
    "  * Once you've constructed the model, make an instance of it and check its `state_dict()`.\n",
    "  * **Note:** If you'd like to use `nn.Linear()` instead of `nn.Parameter()` you can."
   ],
   "metadata": {
    "id": "ImZoe3v8jif8"
   }
  },
  {
   "cell_type": "code",
   "source": [
    "# Create PyTorch linear regression model by subclassing nn.Module\n",
    "class LinearRegression(nn.Module):\n",
    "    def __init__(self):\n",
    "        super().__init__()\n",
    "        self.linear_layer = nn.Linear(in_features=1, out_features=1)\n",
    "    def forward(self, x: torch.Tensor) -> torch.Tensor:\n",
    "        return self.linear_layer(x)"
   ],
   "metadata": {
    "id": "qzd__Y5rjtB8",
    "ExecuteTime": {
     "end_time": "2025-07-17T14:16:01.722479Z",
     "start_time": "2025-07-17T14:16:01.706091Z"
    }
   },
   "outputs": [],
   "execution_count": 52
  },
  {
   "cell_type": "code",
   "source": [
    "# Instantiate the model and put it to the target device\n",
    "model = LinearRegression()\n",
    "model, model.state_dict(), model.to(device)"
   ],
   "metadata": {
    "id": "5LdcDnmOmyQ2",
    "ExecuteTime": {
     "end_time": "2025-07-17T14:16:46.805605Z",
     "start_time": "2025-07-17T14:16:46.782125Z"
    }
   },
   "outputs": [
    {
     "data": {
      "text/plain": [
       "(LinearRegression(\n",
       "   (linear_layer): Linear(in_features=1, out_features=1, bias=True)\n",
       " ),\n",
       " OrderedDict([('linear_layer.weight', tensor([[0.7645]])),\n",
       "              ('linear_layer.bias', tensor([0.8300]))]),\n",
       " LinearRegression(\n",
       "   (linear_layer): Linear(in_features=1, out_features=1, bias=True)\n",
       " ))"
      ]
     },
     "execution_count": 56,
     "metadata": {},
     "output_type": "execute_result"
    }
   ],
   "execution_count": 56
  },
  {
   "cell_type": "markdown",
   "source": [
    "## 3. Create a loss function and optimizer using `nn.L1Loss()` and `torch.optim.SGD(params, lr)` respectively. \n",
    "  * Set the learning rate of the optimizer to be 0.01 and the parameters to optimize should be the model parameters from the model you created in 2.\n",
    "  * Write a training loop to perform the appropriate training steps for 300 epochs.\n",
    "  * The training loop should test the model on the test dataset every 20 epochs."
   ],
   "metadata": {
    "id": "G6nYOrJhjtfu"
   }
  },
  {
   "cell_type": "code",
   "source": [
    "# Create the loss function and optimizer\n",
    "loss_fn = nn.L1Loss()\n",
    "optimizer = torch.optim.SGD(model.parameters(), lr=0.001)"
   ],
   "metadata": {
    "id": "ltvoZ-FWjv1j",
    "ExecuteTime": {
     "end_time": "2025-07-17T14:16:47.336624Z",
     "start_time": "2025-07-17T14:16:47.327408Z"
    }
   },
   "outputs": [],
   "execution_count": 57
  },
  {
   "cell_type": "code",
   "source": [
    "# Training loop\n",
    "torch.manual_seed(42)\n",
    "\n",
    "# Train model for 300 epochs (let it be 1_000)\n",
    "epochs = 1_000\n",
    "\n",
    "# Send data to target device\n",
    "map(lambda x: x.to(device), [X_train, X_test, y_train, y_test])\n",
    "\n",
    "for epoch in range(epochs):\n",
    "    ### Training\n",
    "\n",
    "    # Put model in train mode\n",
    "    model.train()\n",
    "\n",
    "    # 1. Forward pass\n",
    "    y_pred = model(X_train)\n",
    "\n",
    "    # 2. Calculate loss\n",
    "    loss = loss_fn(y_pred, y_train)\n",
    "\n",
    "    # 3. Zero gradients\n",
    "    model.zero_grad()\n",
    "\n",
    "    # 4. Backpropagation\n",
    "    loss.backward()\n",
    "\n",
    "    # 5. Step the optimizer\n",
    "    optimizer.step()\n",
    "\n",
    "    ### Perform testing every 20 epochs\n",
    "    if epoch % 20 == 0:\n",
    "        # Put model in evaluation mode and setup inference context\n",
    "        # model.eval()\n",
    "        with torch.inference_mode():\n",
    "            # 1. Forward pass\n",
    "            test_pred = model(X_test)\n",
    "            # 2. Calculate test loss\n",
    "            test_loss = loss_fn(test_pred, y_test)\n",
    "\n",
    "        # Print out what's happening\n",
    "        print(f\"Epoch: {epoch} | Train loss: {loss:.3f} | Test loss: {test_loss:.3f}\")"
   ],
   "metadata": {
    "id": "xpE83NvNnkdV",
    "ExecuteTime": {
     "end_time": "2025-07-17T14:16:47.952447Z",
     "start_time": "2025-07-17T14:16:47.832295Z"
    }
   },
   "outputs": [
    {
     "name": "stdout",
     "output_type": "stream",
     "text": [
      "Epoch: 0 | Train loss: 0.161 | Test loss: 0.205\n",
      "Epoch: 20 | Train loss: 0.149 | Test loss: 0.191\n",
      "Epoch: 40 | Train loss: 0.140 | Test loss: 0.177\n",
      "Epoch: 60 | Train loss: 0.132 | Test loss: 0.165\n",
      "Epoch: 80 | Train loss: 0.125 | Test loss: 0.154\n",
      "Epoch: 100 | Train loss: 0.120 | Test loss: 0.144\n",
      "Epoch: 120 | Train loss: 0.115 | Test loss: 0.135\n",
      "Epoch: 140 | Train loss: 0.111 | Test loss: 0.127\n",
      "Epoch: 160 | Train loss: 0.108 | Test loss: 0.120\n",
      "Epoch: 180 | Train loss: 0.104 | Test loss: 0.114\n",
      "Epoch: 200 | Train loss: 0.102 | Test loss: 0.109\n",
      "Epoch: 220 | Train loss: 0.099 | Test loss: 0.104\n",
      "Epoch: 240 | Train loss: 0.097 | Test loss: 0.100\n",
      "Epoch: 260 | Train loss: 0.095 | Test loss: 0.096\n",
      "Epoch: 280 | Train loss: 0.093 | Test loss: 0.093\n",
      "Epoch: 300 | Train loss: 0.091 | Test loss: 0.090\n",
      "Epoch: 320 | Train loss: 0.089 | Test loss: 0.088\n",
      "Epoch: 340 | Train loss: 0.088 | Test loss: 0.085\n",
      "Epoch: 360 | Train loss: 0.087 | Test loss: 0.083\n",
      "Epoch: 380 | Train loss: 0.086 | Test loss: 0.081\n",
      "Epoch: 400 | Train loss: 0.084 | Test loss: 0.079\n",
      "Epoch: 420 | Train loss: 0.083 | Test loss: 0.078\n",
      "Epoch: 440 | Train loss: 0.082 | Test loss: 0.076\n",
      "Epoch: 460 | Train loss: 0.081 | Test loss: 0.075\n",
      "Epoch: 480 | Train loss: 0.080 | Test loss: 0.073\n",
      "Epoch: 500 | Train loss: 0.079 | Test loss: 0.072\n",
      "Epoch: 520 | Train loss: 0.078 | Test loss: 0.071\n",
      "Epoch: 540 | Train loss: 0.077 | Test loss: 0.070\n",
      "Epoch: 560 | Train loss: 0.076 | Test loss: 0.069\n",
      "Epoch: 580 | Train loss: 0.075 | Test loss: 0.068\n",
      "Epoch: 600 | Train loss: 0.074 | Test loss: 0.067\n",
      "Epoch: 620 | Train loss: 0.073 | Test loss: 0.066\n",
      "Epoch: 640 | Train loss: 0.072 | Test loss: 0.065\n",
      "Epoch: 660 | Train loss: 0.070 | Test loss: 0.064\n",
      "Epoch: 680 | Train loss: 0.069 | Test loss: 0.063\n",
      "Epoch: 700 | Train loss: 0.068 | Test loss: 0.062\n",
      "Epoch: 720 | Train loss: 0.067 | Test loss: 0.061\n",
      "Epoch: 740 | Train loss: 0.066 | Test loss: 0.060\n",
      "Epoch: 760 | Train loss: 0.065 | Test loss: 0.059\n",
      "Epoch: 780 | Train loss: 0.064 | Test loss: 0.058\n",
      "Epoch: 800 | Train loss: 0.063 | Test loss: 0.057\n",
      "Epoch: 820 | Train loss: 0.062 | Test loss: 0.056\n",
      "Epoch: 840 | Train loss: 0.061 | Test loss: 0.056\n",
      "Epoch: 860 | Train loss: 0.060 | Test loss: 0.055\n",
      "Epoch: 880 | Train loss: 0.059 | Test loss: 0.054\n",
      "Epoch: 900 | Train loss: 0.058 | Test loss: 0.053\n",
      "Epoch: 920 | Train loss: 0.057 | Test loss: 0.052\n",
      "Epoch: 940 | Train loss: 0.056 | Test loss: 0.051\n",
      "Epoch: 960 | Train loss: 0.055 | Test loss: 0.050\n",
      "Epoch: 980 | Train loss: 0.054 | Test loss: 0.049\n"
     ]
    }
   ],
   "execution_count": 58
  },
  {
   "cell_type": "markdown",
   "source": [
    "## 4. Make predictions with the trained model on the test data.\n",
    "  * Visualize these predictions against the original training and testing data (**note:** you may need to make sure the predictions are *not* on the GPU if you want to use non-CUDA-enabled libraries such as matplotlib to plot)."
   ],
   "metadata": {
    "id": "x4j4TM18jwa7"
   }
  },
  {
   "cell_type": "code",
   "source": [
    "# Make predictions with the model\n",
    "model.eval()\n",
    "y_preds = model(X_test)\n",
    "y_preds = y_preds.cpu().detach().numpy()"
   ],
   "metadata": {
    "id": "bbMPK5Qjjyx_",
    "ExecuteTime": {
     "end_time": "2025-07-17T14:16:53.570722Z",
     "start_time": "2025-07-17T14:16:53.565496Z"
    }
   },
   "outputs": [],
   "execution_count": 59
  },
  {
   "cell_type": "code",
   "source": [
    "# Plot the predictions (these may need to be on a specific device)\n",
    "plot_predictions(predictions = y_preds)"
   ],
   "metadata": {
    "id": "K3BdmQaDpFo8",
    "ExecuteTime": {
     "end_time": "2025-07-17T14:16:54.300689Z",
     "start_time": "2025-07-17T14:16:54.179524Z"
    }
   },
   "outputs": [
    {
     "data": {
      "text/plain": [
       "<Figure size 1200x800 with 1 Axes>"
      ],
      "image/png": "[encoded data removed]"
     },
     "metadata": {},
     "output_type": "display_data"
    }
   ],
   "execution_count": 60
  },
  {
   "cell_type": "markdown",
   "source": [
    "## 5. Save your trained model's `state_dict()` to file.\n",
    "  * Create a new instance of your model class you made in 2. and load in the `state_dict()` you just saved to it.\n",
    "  * Perform predictions on your test data with the loaded model and confirm they match the original model predictions from 4."
   ],
   "metadata": {
    "id": "s2OnlMWKjzX8"
   }
  },
  {
   "cell_type": "code",
   "source": [
    "from pathlib import Path\n",
    "\n",
    "# 1. Create models directory \n",
    "Model_PATH = Path(\"models\")\n",
    "Model_PATH.mkdir(parents=True, exist_ok=True)\n",
    "\n",
    "# 2. Create model save path \n",
    "MODEL_NAME = \"01_exercise_model.pth\"\n",
    "MODEL_SAVE_PATH = Model_PATH / MODEL_NAME\n",
    "\n",
    "# 3. Save the model state dict\n",
    "torch.save(model.state_dict(), MODEL_SAVE_PATH)"
   ],
   "metadata": {
    "id": "hgxhgD14qr-i",
    "ExecuteTime": {
     "end_time": "2025-07-17T14:17:00.513577Z",
     "start_time": "2025-07-17T14:17:00.495967Z"
    }
   },
   "outputs": [],
   "execution_count": 61
  },
  {
   "cell_type": "code",
   "source": [
    "# Create new instance of model and load saved state dict (make sure to put it on the target device)\n",
    "model2 = LinearRegression()\n",
    "model2.load_state_dict(torch.load(MODEL_SAVE_PATH))"
   ],
   "metadata": {
    "id": "P9vTgiLRrJ7T",
    "ExecuteTime": {
     "end_time": "2025-07-17T14:17:01.100893Z",
     "start_time": "2025-07-17T14:17:01.083902Z"
    }
   },
   "outputs": [
    {
     "data": {
      "text/plain": [
       "<All keys matched successfully>"
      ]
     },
     "execution_count": 62,
     "metadata": {},
     "output_type": "execute_result"
    }
   ],
   "execution_count": 62
  },
  {
   "cell_type": "code",
   "source": [
    "# Make predictions with loaded model and compare them to the previous\n",
    "model2.eval()\n",
    "y_preds = model2(X_test)\n",
    "y_preds = y_preds.cpu().detach().numpy()\n",
    "plot_predictions(predictions = y_preds)"
   ],
   "metadata": {
    "id": "8UGX3VebrVtI",
    "ExecuteTime": {
     "end_time": "2025-07-17T14:17:01.789090Z",
     "start_time": "2025-07-17T14:17:01.667545Z"
    }
   },
   "outputs": [
    {
     "data": {
      "text/plain": [
       "<Figure size 1200x800 with 1 Axes>"
      ],
      "image/png": "[encoded data removed]"
     },
     "metadata": {},
     "output_type": "display_data"
    }
   ],
   "execution_count": 63
  },
  {
   "metadata": {},
   "cell_type": "code",
   "outputs": [],
   "execution_count": null,
   "source": ""
  }
 ]
}
