{
 "cells": [
  {
   "metadata": {},
   "cell_type": "markdown",
   "source": [
    "# 06. PyTorch Transfer Learning\n",
    "What is transfer learning?\n",
    "\n",
    "Transfer learning involves taking the parameters of what one model has learned on another dataset and applying to our own problem.\n",
    "* Pretrained model = foundation models"
   ],
   "id": "67d12fc5c2cd362e"
  },
  {
   "metadata": {
    "ExecuteTime": {
     "end_time": "2025-10-14T08:47:13.204385Z",
     "start_time": "2025-10-14T08:47:02.301967Z"
    }
   },
   "cell_type": "code",
   "source": [
    "import torch\n",
    "import torchvision\n",
    "\n",
    "from going_modular.train import train_dir, train_dataloader, test_dataloader\n",
    "\n",
    "print(torch.__version__)\n",
    "print(torchvision.__version__)\n",
    "\n",
    "from going_modular import data_setup, engine"
   ],
   "id": "971c8bb4a7e069f5",
   "outputs": [
    {
     "name": "stdout",
     "output_type": "stream",
     "text": [
      "2.5.1\n",
      "0.20.1\n"
     ]
    }
   ],
   "execution_count": 1
  },
  {
   "metadata": {
    "ExecuteTime": {
     "end_time": "2025-10-14T08:47:13.369365Z",
     "start_time": "2025-10-14T08:47:13.255805Z"
    }
   },
   "cell_type": "code",
   "source": [
    "device = torch.device(\"cuda\" if torch.cuda.is_available() else (\"mps\" if torch.mps.is_available() else \"cpu\"))\n",
    "device"
   ],
   "id": "8e341517de85425f",
   "outputs": [
    {
     "data": {
      "text/plain": [
       "device(type='mps')"
      ]
     },
     "execution_count": 2,
     "metadata": {},
     "output_type": "execute_result"
    }
   ],
   "execution_count": 2
  },
  {
   "metadata": {},
   "cell_type": "markdown",
   "source": [
    "## 1. Get data\n",
    "We need our pizza, steak, sushi data to build a transfer learning model on"
   ],
   "id": "9e8a892615b5885f"
  },
  {
   "metadata": {
    "ExecuteTime": {
     "end_time": "2025-10-14T08:53:03.817435Z",
     "start_time": "2025-10-14T08:52:59.902764Z"
    }
   },
   "cell_type": "code",
   "source": [
    "import os\n",
    "import zipfile\n",
    "\n",
    "from pathlib import Path\n",
    "\n",
    "import requests\n",
    "\n",
    "# Setup data path\n",
    "data_path = Path(\"data/\")\n",
    "image_path = data_path / \"pizza_steak_sushi\" # images from a subset of classes from the Food101 dataset\n",
    "\n",
    "# If the image folder doesn't exist, download and prepare it...\n",
    "if image_path.is_dir():\n",
    "    print(f\"{image_path} exists\")\n",
    "else:\n",
    "    print(f\"{image_path} does not exist, downloading it\")\n",
    "    image_path.mkdir(parents=True, exist_ok=True)\n",
    "    \n",
    "    # Download pizza, steak, sushi data\n",
    "    with open(data_path / \"pizza_steak_sushi.zip\", \"wb\") as f:\n",
    "        request = requests.get(\"https://github.com/mrdbourke/pytorch-deep-learning/raw/main/data/pizza_steak_sushi.zip\")\n",
    "        f.write(request.content)\n",
    "\n",
    "    # unzip pizza, steak, sushi data\n",
    "    with zipfile.ZipFile(data_path / \"pizza_steak_sushi.zip\", \"r\") as zip_ref:\n",
    "        print(\"Extracting pizza_steak_sushi.zip\")\n",
    "        zip_ref.extractall(image_path)\n",
    "\n",
    "    # Remove .zip file\n",
    "    os.remove(data_path / \"pizza_steak_sushi.zip\")"
   ],
   "id": "5c741845bcad1e94",
   "outputs": [
    {
     "name": "stdout",
     "output_type": "stream",
     "text": [
      "data/pizza_steak_sushi does not exist, downloading it\n",
      "Extracting pizza_steak_sushi.zip\n"
     ]
    }
   ],
   "execution_count": 9
  },
  {
   "metadata": {
    "ExecuteTime": {
     "end_time": "2025-10-14T08:58:58.447268Z",
     "start_time": "2025-10-14T08:58:58.429401Z"
    }
   },
   "cell_type": "code",
   "source": [
    "# Setup directory path\n",
    "train_dir = image_path / \"train\"\n",
    "test_dir = image_path / \"test\"\n",
    "\n",
    "train_dir, test_dir"
   ],
   "id": "41d60ad158e68a27",
   "outputs": [
    {
     "data": {
      "text/plain": [
       "(PosixPath('data/pizza_steak_sushi/train'),\n",
       " PosixPath('data/pizza_steak_sushi/test'))"
      ]
     },
     "execution_count": 10,
     "metadata": {},
     "output_type": "execute_result"
    }
   ],
   "execution_count": 10
  },
  {
   "metadata": {},
   "cell_type": "markdown",
   "source": [
    "## 2. Create Datasets and DataLoaders\n",
    "\n",
    "Now we've got the data, we want to turn it into PyTorch DataLoaders.\n",
    "\n",
    "To do so, we can use `data_setup.py` and the `create_dataloaders()` function we made in 05. PyTorch Going Modular"
   ],
   "id": "3f2541e2a39ae064"
  },
  {
   "metadata": {},
   "cell_type": "code",
   "outputs": [],
   "execution_count": null,
   "source": [
    "from going_modular import data_setup\n",
    "train_dataloader, test_dataloader, class_names = data_setup.create_dataloaders(train_dir, test_dir)"
   ],
   "id": "ba16f5fc401b81e8"
  },
  {
   "metadata": {},
   "cell_type": "markdown",
   "source": [
    "## 2.1 Creating a transform for torchvision. models (manual creation)\n",
    "`torchvision.models` contains pretrained models (models ready for transfer learning) right within `torchvision`."
   ],
   "id": "f513cd1fac8882c1"
  },
  {
   "metadata": {},
   "cell_type": "code",
   "outputs": [],
   "execution_count": null,
   "source": "",
   "id": "3e3a65106345a176"
  },
  {
   "cell_type": "code",
   "id": "initial_id",
   "metadata": {
    "collapsed": true,
    "ExecuteTime": {
     "end_time": "2025-10-14T08:59:55.002300Z",
     "start_time": "2025-10-14T08:59:47.175914Z"
    }
   },
   "source": [
    "from Progress.course_progress_func import update_progress, progress_pie_chart, monthly_progress, progress_report_print\n",
    "update_progress(video_index=187, done=False)"
   ],
   "outputs": [
    {
     "name": "stdout",
     "output_type": "stream",
     "text": [
      "\u001B[1m\u001B[92mUpdated progress report.\u001B[0m \n",
      "\u001B[1mVideo:\u001B[0m 186. Turning Our Data into DataLoaders with Manually Created Transforms \n",
      "\u001B[1mDuration:\u001B[0m 15m \n",
      "\u001B[1mStatus:\u001B[0m Done \n",
      "\u001B[1mDate:\u001B[0m 14 Oct 2025 11:59 AM \n",
      "\u001B[1mSection progress:\u001B[0m \n",
      "\u001B[1mSection :\u001B[0m 8.PyTorch Transfer Learning\n",
      "\u001B[1mStatus  :\u001B[0m 14 videos remaining, 1h 56m to finish the section\n",
      "\u001B[1mProgress: \u001B[0m 26%|\u001B[34m███████▉                      \u001B[0m 5/19\u001B[0m\n"
     ]
    }
   ],
   "execution_count": 11
  },
  {
   "metadata": {
    "ExecuteTime": {
     "end_time": "2025-10-14T09:00:00.750637Z",
     "start_time": "2025-10-14T09:00:00.322208Z"
    }
   },
   "cell_type": "code",
   "source": "",
   "id": "9374f3201adcaaa1",
   "outputs": [
    {
     "data": {
      "text/plain": [
       "<Figure size 800x500 with 1 Axes>"
      ],
      "image/png": "[encoded data removed]"
     },
     "metadata": {},
     "output_type": "display_data"
    }
   ],
   "execution_count": 12
  },
  {
   "metadata": {},
   "cell_type": "code",
   "outputs": [],
   "execution_count": null,
   "source": "",
   "id": "3fddf46f58a73c4d"
  }
 ],
 "metadata": {
  "kernelspec": {
   "display_name": "Python 3",
   "language": "python",
   "name": "python3"
  },
  "language_info": {
   "codemirror_mode": {
    "name": "ipython",
    "version": 2
   },
   "file_extension": ".py",
   "mimetype": "text/x-python",
   "name": "python",
   "nbconvert_exporter": "python",
   "pygments_lexer": "ipython2",
   "version": "2.7.6"
  }
 },
 "nbformat": 4,
 "nbformat_minor": 5
}
