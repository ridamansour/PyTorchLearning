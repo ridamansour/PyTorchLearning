{
 "cells": [
  {
   "metadata": {},
   "cell_type": "markdown",
   "source": [
    "# 06. PyTorch Transfer Learning\n",
    "What is transfer learning?\n",
    "\n",
    "Transfer learning involves taking the parameters of what one model has learned on another dataset and applying to our own problem.\n",
    "* Pretrained model = foundation models"
   ],
   "id": "67d12fc5c2cd362e"
  },
  {
   "metadata": {
    "ExecuteTime": {
     "end_time": "2025-10-08T19:21:07.805782Z",
     "start_time": "2025-10-08T19:21:07.796081Z"
    }
   },
   "cell_type": "code",
   "source": [
    "import torch\n",
    "import torchvision\n",
    "\n",
    "print(torch.__version__)\n",
    "print(torchvision.__version__)"
   ],
   "id": "971c8bb4a7e069f5",
   "outputs": [
    {
     "name": "stdout",
     "output_type": "stream",
     "text": [
      "2.5.1\n",
      "0.20.1\n"
     ]
    }
   ],
   "execution_count": 4
  },
  {
   "cell_type": "code",
   "id": "initial_id",
   "metadata": {
    "collapsed": true,
    "ExecuteTime": {
     "end_time": "2025-10-08T19:29:51.428844Z",
     "start_time": "2025-10-08T19:29:51.212579Z"
    }
   },
   "source": [
    "from Progress.course_progress_func import update_progress, progress_pie_chart, monthly_progress, progress_report_print, progress_report_to_README\n",
    "update_progress(video_index=182, done=False)\n",
    "progress_report_print(), progress_report_to_README()"
   ],
   "outputs": [
    {
     "name": "stdout",
     "output_type": "stream",
     "text": [
      "\u001B[1m\u001B[92mUpdated progress report.\u001B[0m \n",
      "\u001B[1mVideo:\u001B[0m 182. Where Can You Find Pretrained Models and What We Are Going to Cover \n",
      "\u001B[1mDuration:\u001B[0m 5m \n",
      "\u001B[1mStatus:\u001B[0m Not done \n",
      "\u001B[1mDate:\u001B[0m N/A \n",
      "\u001B[1mSection progress:\u001B[0m \n",
      "\u001B[1mSection :\u001B[0m 8.PyTorch Transfer Learning\n",
      "\u001B[1mStatus  :\u001B[0m 17 videos remaining, 2h 26m to finish the section\n",
      "\u001B[1mProgress: \u001B[0m 11%|\u001B[34m███▏                          \u001B[0m 2/19\u001B[0m\n",
      "\u001B[1m\u001B[94m      ___         ___           ___           ___           ___           ___           ___           ___     \n",
      "     /  /\\       /  /\\         /  /\\         /  /\\         /  /\\         /  /\\         /  /\\         /  /\\    \n",
      "    /  /::\\     /  /::\\       /  /::\\       /  /:/_       /  /::\\       /  /:/_       /  /:/_       /  /:/_   \n",
      "   /  /:/\\:\\   /  /:/\\:\\     /  /:/\\:\\     /  /:/ /\\     /  /:/\\:\\     /  /:/ /\\     /  /:/ /\\     /  /:/ /\\  \n",
      "  /  /:/~/:/  /  /:/~/:/    /  /:/  \\:\\   /  /:/_/::\\   /  /:/~/:/    /  /:/ /:/_   /  /:/ /::\\   /  /:/ /::\\ \n",
      " /__/:/ /:/  /__/:/ /:/___ /__/:/ \\__\\:\\ /__/:/__\\/\\:\\ /__/:/ /:/___ /__/:/ /:/ /\\ /__/:/ /:/\\:\\ /__/:/ /:/\\:\\\n",
      " \\  \\:\\/:/   \\  \\:\\/:::::/ \\  \\:\\ /  /:/ \\  \\:\\ /~~/:/ \\  \\:\\/:::::/ \\  \\:\\/:/ /:/ \\  \\:\\/:/~/:/ \\  \\:\\/:/~/:/\n",
      "  \\  \\::/     \\  \\::/~~~~   \\  \\:\\  /:/   \\  \\:\\  /:/   \\  \\::/~~~~   \\  \\::/ /:/   \\  \\::/ /:/   \\  \\::/ /:/ \n",
      "   \\  \\:\\      \\  \\:\\        \\  \\:\\/:/     \\  \\:\\/:/     \\  \\:\\        \\  \\:\\/:/     \\__\\/ /:/     \\__\\/ /:/  \n",
      "    \\  \\:\\      \\  \\:\\        \\  \\::/       \\  \\::/       \\  \\:\\        \\  \\::/        /__/:/        /__/:/   \n",
      "     \\__\\/       \\__\\/         \\__\\/         \\__\\/         \\__\\/         \\__\\/         \\__\\/         \\__\\/    \n",
      "      ___           ___           ___         ___           ___                 \n",
      "     /  /\\         /  /\\         /  /\\       /  /\\         /  /\\          ___   \n",
      "    /  /::\\       /  /:/_       /  /::\\     /  /::\\       /  /::\\        /  /\\  \n",
      "   /  /:/\\:\\     /  /:/ /\\     /  /:/\\:\\   /  /:/\\:\\     /  /:/\\:\\      /  /:/  \n",
      "  /  /:/~/:/    /  /:/ /:/_   /  /:/~/:/  /  /:/  \\:\\   /  /:/~/:/     /  /:/   \n",
      " /__/:/ /:/___ /__/:/ /:/ /\\ /__/:/ /:/  /__/:/ \\__\\:\\ /__/:/ /:/___  /  /::\\   \n",
      " \\  \\:\\/:::::/ \\  \\:\\/:/ /:/ \\  \\:\\/:/   \\  \\:\\ /  /:/ \\  \\:\\/:::::/ /__/:/\\:\\  \n",
      "  \\  \\::/~~~~   \\  \\::/ /:/   \\  \\::/     \\  \\:\\  /:/   \\  \\::/~~~~  \\__\\/  \\:\\ \n",
      "   \\  \\:\\        \\  \\:\\/:/     \\  \\:\\      \\  \\:\\/:/     \\  \\:\\           \\  \\:\\\n",
      "    \\  \\:\\        \\  \\::/       \\  \\:\\      \\  \\::/       \\  \\:\\           \\__\\/\n",
      "     \\__\\/         \\__\\/         \\__\\/       \\__\\/         \\__\\/                \n",
      "\u001B[0m\n",
      "\u001B[1m\u001B[93mCourse:\u001B[0m  51%|\u001B[34m█████████████▊             \u001B[0m 183/358\u001B[0m\n",
      "\u001B[1m\u001B[93mTotal time done:\u001B[0m 27h 39m out of 52h 15m watched (24h 36m remaining).\n",
      "\u001B[1m\u001B[93mTotal videos done:\u001B[0m 183 out of 358 finished (183 videos remaining).\n",
      "\n",
      "\u001B[1mSection :\u001B[0m 1.Introduction\n",
      "\u001B[1mStatus  :\u001B[0m \u001B[92mDone\u001B[0m\n",
      "\u001B[1mProgress: \u001B[0m100%|\u001B[34m███████████████████████████████\u001B[0m 7/7\u001B[0m\n",
      "\n",
      "\u001B[1mSection :\u001B[0m 2.PyTorch Fundamentals\n",
      "\u001B[1mStatus  :\u001B[0m \u001B[92mDone\u001B[0m\n",
      "\u001B[1mProgress: \u001B[0m100%|\u001B[34m█████████████████████████████\u001B[0m 32/32\u001B[0m\n",
      "\n",
      "\u001B[1mSection :\u001B[0m 3.PyTorch Workflow\n",
      "\u001B[1mStatus  :\u001B[0m \u001B[92mDone\u001B[0m\n",
      "\u001B[1mProgress: \u001B[0m100%|\u001B[34m█████████████████████████████\u001B[0m 28/28\u001B[0m\n",
      "\n",
      "\u001B[1mSection :\u001B[0m 4.PyTorch Neural Network Classification\n",
      "\u001B[1mStatus  :\u001B[0m \u001B[92mDone\u001B[0m\n",
      "\u001B[1mProgress: \u001B[0m100%|\u001B[34m█████████████████████████████\u001B[0m 32/32\u001B[0m\n",
      "\n",
      "\u001B[1mSection :\u001B[0m 5.PyTorch Computer Vision\n",
      "\u001B[1mStatus  :\u001B[0m \u001B[92mDone\u001B[0m\n",
      "\u001B[1mProgress: \u001B[0m100%|\u001B[34m█████████████████████████████\u001B[0m 34/34\u001B[0m\n",
      "\n",
      "\u001B[1mSection :\u001B[0m 6.PyTorch Custom Datasets\n",
      "\u001B[1mStatus  :\u001B[0m \u001B[92mDone\u001B[0m\n",
      "\u001B[1mProgress: \u001B[0m100%|\u001B[34m█████████████████████████████\u001B[0m 37/37\u001B[0m\n",
      "\n",
      "\u001B[1mSection :\u001B[0m 7.PyTorch Going Modular\n",
      "\u001B[1mStatus  :\u001B[0m \u001B[92mDone\u001B[0m\n",
      "\u001B[1mProgress: \u001B[0m100%|\u001B[34m█████████████████████████████\u001B[0m 10/10\u001B[0m\n",
      "\n",
      "\u001B[1mSection :\u001B[0m 8.PyTorch Transfer Learning\n",
      "\u001B[1mStatus  :\u001B[0m 17 videos remaining, 2h 26m to finish the section\n",
      "\u001B[1mProgress: \u001B[0m 11%|\u001B[34m███▏                          \u001B[0m 2/19\u001B[0m\n",
      "\n",
      "\u001B[1mSection :\u001B[0m 9.PyTorch Experiment Tracking\n",
      "\u001B[1mStatus  :\u001B[0m 22 videos remaining, 3h 11m to finish the section\n",
      "\u001B[1mProgress: \u001B[0m  0%|\u001B[34m                              \u001B[0m 0/22\u001B[0m\n",
      "\n",
      "\u001B[1mSection :\u001B[0m 10.PyTorch Paper Replicating\n",
      "\u001B[1mStatus  :\u001B[0m 50 videos remaining, 8h 7m to finish the section\n",
      "\u001B[1mProgress: \u001B[0m  0%|\u001B[34m                              \u001B[0m 0/50\u001B[0m\n",
      "\n",
      "\u001B[1mSection :\u001B[0m 11.PyTorch Model Deployment\n",
      "\u001B[1mStatus  :\u001B[0m 57 videos remaining, 7h 45m to finish the section\n",
      "\u001B[1mProgress: \u001B[0m  0%|\u001B[34m                              \u001B[0m 0/57\u001B[0m\n",
      "\n",
      "\u001B[1mSection :\u001B[0m 12.Introduction to PyTorch 2.0 and torch.compile\n",
      "\u001B[1mStatus  :\u001B[0m 25 videos remaining, 3h 3m to finish the section\n",
      "\u001B[1mProgress: \u001B[0m  0%|\u001B[34m                              \u001B[0m 0/25\u001B[0m\n",
      "\n",
      "\u001B[1mSection :\u001B[0m 13.Bonus Section\n",
      "\u001B[1mStatus  :\u001B[0m \u001B[92mDone\u001B[0m\n",
      "\u001B[1mProgress: \u001B[0m100%|\u001B[34m███████████████████████████████\u001B[0m 1/1\u001B[0m\n",
      "\n",
      "\u001B[1mSection :\u001B[0m 14.Where To Go From Here?\n",
      "\u001B[1mStatus  :\u001B[0m 4 videos remaining, 4m to finish the section\n",
      "\u001B[1mProgress: \u001B[0m  0%|\u001B[34m                               \u001B[0m 0/4\u001B[0m\n",
      "\n"
     ]
    },
    {
     "data": {
      "text/plain": [
       "(None, None)"
      ]
     },
     "execution_count": 6,
     "metadata": {},
     "output_type": "execute_result"
    }
   ],
   "execution_count": 6
  },
  {
   "metadata": {},
   "cell_type": "code",
   "outputs": [],
   "execution_count": null,
   "source": "",
   "id": "1a59bf047eb688e"
  }
 ],
 "metadata": {
  "kernelspec": {
   "display_name": "Python 3",
   "language": "python",
   "name": "python3"
  },
  "language_info": {
   "codemirror_mode": {
    "name": "ipython",
    "version": 2
   },
   "file_extension": ".py",
   "mimetype": "text/x-python",
   "name": "python",
   "nbconvert_exporter": "python",
   "pygments_lexer": "ipython2",
   "version": "2.7.6"
  }
 },
 "nbformat": 4,
 "nbformat_minor": 5
}
