{
 "cells": [
  {
   "cell_type": "markdown",
   "id": "c701cff4b54fd7ec",
   "metadata": {},
   "source": [
    "# PyTorch Computer Vision\n",
    "* Reference notebook - https://www.learnpytorch.io/03_pytorch_computer_vision/"
   ]
  },
  {
   "cell_type": "markdown",
   "id": "2101e8fd62857210",
   "metadata": {},
   "source": [
    "## 0. Computer vision libaries in PyTorch\n",
    "\n",
    "* [`torchvision`](https://www.learnpytorch.io/03_pytorch_computer_vision/) - base domain library for PyTorch computer vision\n",
    "* `torchvision.datasets` - get datasets and data loading functions for computer vision here\n",
    "* `torchvision.models` - get pretrained computer vision models that you can leverage for your own problems\n",
    "* `torchvision.transforms` - functions for manipulating your vision data (images) to be suitable for use with an ML model\n",
    "* `torch.utils.data.Dataset` - Base dataset class for PyTorch.\n",
    "* `torch.utils.data.DataLoader` - Creates a Python iterable over a dataset"
   ]
  },
  {
   "cell_type": "code",
   "id": "9da2eb8a9ba01e67",
   "metadata": {
    "ExecuteTime": {
     "end_time": "2025-09-23T15:03:02.599956Z",
     "start_time": "2025-09-23T15:01:39.610175Z"
    }
   },
   "source": [
    "import math\n",
    "from pyexpat import model\n",
    "\n",
    "# Import PyTorch\n",
    "import torch\n",
    "from functorch.dim import Tensor\n",
    "from libmambapy.bindings.utils import TextRGBColor\n",
    "from torch import nn\n",
    "\n",
    "# Import torchvision\n",
    "import torchvision\n",
    "from torchvision import datasets\n",
    "from torchvision.transforms import v2\n",
    "\n",
    "# Import torchmetrics\n",
    "import torchmetrics\n",
    "\n",
    "# Import matplotlib for visualization\n",
    "import matplotlib.pyplot as plt\n",
    "\n",
    "RANDOM_SEED = 42\n",
    "\n",
    "# Check versions\n",
    "print(torch.__version__)\n",
    "print(torchvision.__version__)"
   ],
   "outputs": [
    {
     "name": "stdout",
     "output_type": "stream",
     "text": [
      "2.5.1\n",
      "0.20.1\n"
     ]
    }
   ],
   "execution_count": 1
  },
  {
   "cell_type": "markdown",
   "id": "77b00ac157350e61",
   "metadata": {},
   "source": [
    "## 1. Getting a dataset\n",
    "\n",
    "The dataset we'll be using is FashionMNIST from torchvision.datasets - https://pytorch.org/vision/stable/generated/torchvision.datasets.FashionMNIST.html#torchvision.datasets.FashionMNIST"
   ]
  },
  {
   "cell_type": "code",
   "id": "beae32ae2aaed697",
   "metadata": {
    "ExecuteTime": {
     "end_time": "2025-09-23T15:03:04.239645Z",
     "start_time": "2025-09-23T15:03:02.922983Z"
    }
   },
   "source": [
    "# Define transforms (v2 API) without deprecated (`toTensor()`)\n",
    "transform = v2.Compose([\n",
    "    # v2.ToImage(),                               # ensures input is a tensor image\n",
    "    v2.ToImage(),\n",
    "    v2.ToDtype(torch.float32, scale=True),      # converts to float32 + scales [0,1]\n",
    "    v2.Normalize((0.5,), (0.5,))                # normalize to [-1,1]\n",
    "])\n",
    "# Side note: Default = NCHW (channels-first) in torchvision\n",
    "\n",
    "# Setup training data\n",
    "train_data = datasets.FashionMNIST(\n",
    "    root=\"./data\", # where to download to\n",
    "    train=True, # do we want the training dataset?\n",
    "    download=True, # do we want to download it\n",
    "    transform=transform, # do we want to transform the data?\n",
    "    target_transform=None # dow do we want to transform labels/targets?\n",
    ")\n",
    "test_data = datasets.FashionMNIST(\n",
    "    root=\"./data\",\n",
    "    train=False,\n",
    "    download=True,\n",
    "    transform=transform,\n",
    "    target_transform=None\n",
    ")"
   ],
   "outputs": [],
   "execution_count": 2
  },
  {
   "cell_type": "code",
   "id": "689fda7fcab727e8",
   "metadata": {
    "ExecuteTime": {
     "end_time": "2025-09-23T15:03:06.445646Z",
     "start_time": "2025-09-23T15:03:06.398961Z"
    }
   },
   "source": [
    "len(train_data), len(test_data)"
   ],
   "outputs": [
    {
     "data": {
      "text/plain": [
       "(60000, 10000)"
      ]
     },
     "execution_count": 3,
     "metadata": {},
     "output_type": "execute_result"
    }
   ],
   "execution_count": 3
  },
  {
   "cell_type": "code",
   "id": "c545c3a468751d19",
   "metadata": {
    "ExecuteTime": {
     "end_time": "2025-09-23T17:10:50.660516Z",
     "start_time": "2025-09-23T17:10:50.629975Z"
    }
   },
   "source": [
    "# See the first training example\n",
    "image, label = train_data[0]\n",
    "image, label"
   ],
   "outputs": [
    {
     "data": {
      "text/plain": [
       "(Image([[[-1.0000, -1.0000, -1.0000, -1.0000, -1.0000, -1.0000, -1.0000, -1.0000,\n",
       "          -1.0000, -1.0000, -1.0000, -1.0000, -1.0000, -1.0000, -1.0000, -1.0000,\n",
       "          -1.0000, -1.0000, -1.0000, -1.0000, -1.0000, -1.0000, -1.0000, -1.0000,\n",
       "          -1.0000, -1.0000, -1.0000, -1.0000],\n",
       "         [-1.0000, -1.0000, -1.0000, -1.0000, -1.0000, -1.0000, -1.0000, -1.0000,\n",
       "          -1.0000, -1.0000, -1.0000, -1.0000, -1.0000, -1.0000, -1.0000, -1.0000,\n",
       "          -1.0000, -1.0000, -1.0000, -1.0000, -1.0000, -1.0000, -1.0000, -1.0000,\n",
       "          -1.0000, -1.0000, -1.0000, -1.0000],\n",
       "         [-1.0000, -1.0000, -1.0000, -1.0000, -1.0000, -1.0000, -1.0000, -1.0000,\n",
       "          -1.0000, -1.0000, -1.0000, -1.0000, -1.0000, -1.0000, -1.0000, -1.0000,\n",
       "          -1.0000, -1.0000, -1.0000, -1.0000, -1.0000, -1.0000, -1.0000, -1.0000,\n",
       "          -1.0000, -1.0000, -1.0000, -1.0000],\n",
       "         [-1.0000, -1.0000, -1.0000, -1.0000, -1.0000, -1.0000, -1.0000, -1.0000,\n",
       "          -1.0000, -1.0000, -1.0000, -1.0000, -0.9922, -1.0000, -1.0000, -0.8980,\n",
       "          -0.4275, -1.0000, -1.0000, -0.9922, -0.9686, -1.0000, -1.0000, -1.0000,\n",
       "          -1.0000, -0.9922, -0.9922, -1.0000],\n",
       "         [-1.0000, -1.0000, -1.0000, -1.0000, -1.0000, -1.0000, -1.0000, -1.0000,\n",
       "          -1.0000, -1.0000, -1.0000, -1.0000, -0.9765, -1.0000, -0.7176,  0.0667,\n",
       "          -0.0039, -0.5137, -0.5765, -1.0000, -1.0000, -1.0000, -0.9922, -0.9765,\n",
       "          -0.9686, -1.0000, -1.0000, -0.9765],\n",
       "         [-1.0000, -1.0000, -1.0000, -1.0000, -1.0000, -1.0000, -1.0000, -1.0000,\n",
       "          -1.0000, -1.0000, -1.0000, -1.0000, -0.9529, -1.0000, -0.2000,  0.6000,\n",
       "           0.3804,  0.0510,  0.1294, -0.0353, -0.8196, -1.0000, -1.0000, -1.0000,\n",
       "          -1.0000, -0.9059, -0.9216, -1.0000],\n",
       "         [-1.0000, -1.0000, -1.0000, -1.0000, -1.0000, -1.0000, -1.0000, -1.0000,\n",
       "          -1.0000, -1.0000, -1.0000, -1.0000, -1.0000, -1.0000,  0.2157,  0.8510,\n",
       "           0.6235,  0.3961, -0.1608,  0.2235,  0.2627, -0.1451, -0.4980, -0.8196,\n",
       "          -0.3961,  0.0196, -0.4353, -0.8824],\n",
       "         [-1.0000, -1.0000, -1.0000, -1.0000, -1.0000, -1.0000, -1.0000, -1.0000,\n",
       "          -1.0000, -1.0000, -1.0000, -0.9922, -1.0000, -0.4588,  0.6235,  0.7490,\n",
       "           0.7098,  0.6941,  0.6941,  0.2784, -0.0039, -0.0510, -0.0431,  0.1451,\n",
       "           0.1059, -0.3098,  0.3490, -0.4824],\n",
       "         [-1.0000, -1.0000, -1.0000, -1.0000, -1.0000, -1.0000, -1.0000, -1.0000,\n",
       "          -1.0000, -0.9922, -0.9922, -0.9922, -1.0000,  0.5686,  0.8196,  0.8196,\n",
       "           0.8275,  0.7961,  0.7490,  0.7490,  0.6863,  0.6706,  0.2863, -0.0039,\n",
       "          -0.0353,  0.5373,  0.7961, -1.0000],\n",
       "         [-1.0000, -1.0000, -1.0000, -1.0000, -1.0000, -1.0000, -1.0000, -1.0000,\n",
       "          -1.0000, -1.0000, -1.0000, -1.0000, -1.0000,  0.4353,  0.7647,  0.6941,\n",
       "           0.7490,  0.7882,  0.8431,  0.7804,  0.7569,  0.7412,  0.7569,  0.7333,\n",
       "           0.7490,  0.9216,  0.3569, -1.0000],\n",
       "         [-1.0000, -1.0000, -1.0000, -1.0000, -1.0000, -1.0000, -1.0000, -1.0000,\n",
       "          -1.0000, -1.0000, -1.0000, -1.0000, -1.0000,  0.5137,  0.7882,  0.7098,\n",
       "           0.6706,  0.5529,  0.4118,  0.6627,  0.6471,  0.6549,  0.6706,  0.7490,\n",
       "           0.7255,  0.9059,  0.5843, -1.0000],\n",
       "         [-1.0000, -1.0000, -1.0000, -1.0000, -1.0000, -1.0000, -1.0000, -1.0000,\n",
       "          -1.0000, -0.9922, -0.9765, -1.0000, -0.9059,  0.7176,  0.7255,  0.6627,\n",
       "           0.7098,  0.5059,  0.3255,  0.7804,  0.6314,  0.7098,  0.7569,  0.6627,\n",
       "           0.7725,  0.5451,  0.6392, -0.5922],\n",
       "         [-1.0000, -1.0000, -1.0000, -1.0000, -1.0000, -1.0000, -1.0000, -1.0000,\n",
       "          -1.0000, -1.0000, -0.9529, -1.0000, -0.2235,  0.9137,  0.7412,  0.7255,\n",
       "           0.7098,  0.5922,  0.5529,  0.7333,  0.6863,  0.6706,  0.7412,  0.7255,\n",
       "           0.9216, -0.0667,  0.3098, -0.5608],\n",
       "         [-1.0000, -1.0000, -1.0000, -1.0000, -1.0000, -1.0000, -1.0000, -1.0000,\n",
       "          -1.0000, -0.9686, -1.0000, -1.0000, -0.5686,  0.8510,  0.7882,  0.8039,\n",
       "           0.7882,  0.8824,  0.8196,  0.6706,  0.7098,  0.7490,  0.8353,  0.7020,\n",
       "           0.7020,  0.6392, -0.2784, -1.0000],\n",
       "         [-1.0000, -1.0000, -0.9922, -0.9686, -0.9529, -0.9451, -0.9843, -1.0000,\n",
       "          -1.0000, -1.0000, -1.0000, -1.0000,  0.8588,  0.7725,  0.7020,  0.7490,\n",
       "           0.7412,  0.7176,  0.7412,  0.7333,  0.6941,  0.7490,  0.7961,  0.6863,\n",
       "           0.7098,  1.0000, -0.3961, -1.0000],\n",
       "         [-1.0000, -0.9765, -1.0000, -1.0000, -1.0000, -1.0000, -1.0000, -1.0000,\n",
       "          -1.0000, -0.5137,  0.1373,  0.6000,  0.7882,  0.6235,  0.6706,  0.7333,\n",
       "           0.7098,  0.6314,  0.6549,  0.7098,  0.7569,  0.7490,  0.7176,  0.6863,\n",
       "           0.7569,  0.9137,  0.2471, -1.0000],\n",
       "         [-1.0000, -1.0000, -1.0000, -1.0000, -0.8588, -0.6549, -0.3569, -0.1608,\n",
       "           0.4824,  0.7882,  0.7255,  0.7412,  0.7020,  0.7725,  0.5686,  0.6078,\n",
       "           0.6549,  0.8039,  0.7569,  0.8353,  0.3804,  0.4745,  0.9608,  0.9451,\n",
       "           0.8275,  0.8667,  0.6863, -1.0000],\n",
       "         [-1.0000, -0.5529,  0.4667,  0.6314,  0.7569,  0.7333,  0.7569,  0.6314,\n",
       "           0.6000,  0.6784,  0.6314,  0.6392,  0.5686,  0.2471,  0.9216,  0.5137,\n",
       "           0.6157,  0.7490,  1.0000,  1.0000,  0.7333,  0.8353,  0.7333,  0.6549,\n",
       "           0.7255,  0.8196,  0.9294, -1.0000],\n",
       "         [-0.9765,  0.5843,  0.7882,  0.7569,  0.7333,  0.6549,  0.6549,  0.6784,\n",
       "           0.6078,  0.6078,  0.6078,  0.7255,  0.8824, -0.3725,  0.1765,  1.0000,\n",
       "           0.7961,  0.7333,  0.4745,  0.2078,  0.4980,  0.6471,  0.6000,  0.6392,\n",
       "           0.7412,  0.7882,  0.7647, -1.0000],\n",
       "         [-0.2314,  0.8275,  0.5529,  0.6471,  0.7412,  0.7961,  0.7961,  0.8353,\n",
       "           0.9529,  0.7255,  0.5216,  0.6863,  0.7020,  0.8902, -0.4902, -0.4275,\n",
       "          -0.1686, -0.0824,  0.3176,  0.7176,  0.7333,  0.6863,  0.7020,  0.7490,\n",
       "           0.7490,  0.7569,  0.7961, -0.7725],\n",
       "         [-0.4118,  0.6000,  0.6627,  0.6000,  0.5137,  0.6078,  0.6549,  0.7647,\n",
       "           0.6941,  0.4510,  0.5451,  0.6157,  0.5529,  0.6706,  0.8824,  0.5294,\n",
       "           0.7804,  0.9216,  0.8745,  0.7490,  0.7098,  0.6627,  0.6392,  0.7412,\n",
       "           0.7255,  0.7333,  0.8039, -0.4745],\n",
       "         [-0.6235,  0.5922,  0.4353,  0.5216,  0.6706,  0.5451,  0.4510,  0.4902,\n",
       "           0.5216,  0.5059,  0.5843,  0.6784,  0.7176,  0.7333,  0.7255,  0.8510,\n",
       "           0.7647,  0.6941,  0.5608,  0.6157,  0.4588,  0.4196,  0.3882,  0.3490,\n",
       "           0.4196,  0.6078,  0.6157, -0.0980],\n",
       "         [-1.0000, -0.0431,  0.7176,  0.5137,  0.4039,  0.3412,  0.4353,  0.5373,\n",
       "           0.6000,  0.6471,  0.6706,  0.6235,  0.6549,  0.6471,  0.5686,  0.5373,\n",
       "           0.5216,  0.4980,  0.5294,  0.4980,  0.5529,  0.5059,  0.3804,  0.2235,\n",
       "           0.3098,  0.3882,  0.6471, -0.2784],\n",
       "         [-1.0000, -1.0000, -0.4196,  0.4824,  0.6627,  0.4980,  0.3725,  0.3490,\n",
       "           0.3725,  0.4196,  0.4510,  0.4745,  0.4824,  0.4745,  0.5137,  0.5529,\n",
       "           0.6000,  0.6392,  0.6471,  0.6471,  0.6549,  0.4745,  0.4745,  0.5216,\n",
       "           0.5059,  0.6941,  0.3333, -1.0000],\n",
       "         [-0.9843, -1.0000, -1.0000, -1.0000, -0.4824,  0.5686,  0.7412,  0.8588,\n",
       "           0.8745,  0.8980,  0.9294,  0.9059,  0.9137,  0.7333,  0.7255,  0.5137,\n",
       "           0.4980,  0.4039,  0.4275,  0.4275,  0.4196,  0.3804,  0.3020,  0.3176,\n",
       "          -0.2235, -0.5451, -1.0000, -1.0000],\n",
       "         [-1.0000, -1.0000, -1.0000, -1.0000, -1.0000, -1.0000, -1.0000, -0.6863,\n",
       "          -0.5216, -0.6549, -0.4353, -0.6784, -0.7255, -1.0000, -1.0000, -1.0000,\n",
       "          -1.0000, -1.0000, -1.0000, -1.0000, -1.0000, -1.0000, -1.0000, -1.0000,\n",
       "          -1.0000, -1.0000, -1.0000, -1.0000],\n",
       "         [-1.0000, -1.0000, -1.0000, -1.0000, -1.0000, -1.0000, -1.0000, -1.0000,\n",
       "          -1.0000, -1.0000, -1.0000, -1.0000, -1.0000, -1.0000, -1.0000, -1.0000,\n",
       "          -1.0000, -1.0000, -1.0000, -1.0000, -1.0000, -1.0000, -1.0000, -1.0000,\n",
       "          -1.0000, -1.0000, -1.0000, -1.0000],\n",
       "         [-1.0000, -1.0000, -1.0000, -1.0000, -1.0000, -1.0000, -1.0000, -1.0000,\n",
       "          -1.0000, -1.0000, -1.0000, -1.0000, -1.0000, -1.0000, -1.0000, -1.0000,\n",
       "          -1.0000, -1.0000, -1.0000, -1.0000, -1.0000, -1.0000, -1.0000, -1.0000,\n",
       "          -1.0000, -1.0000, -1.0000, -1.0000]]], ),\n",
       " 9)"
      ]
     },
     "execution_count": 82,
     "metadata": {},
     "output_type": "execute_result"
    }
   ],
   "execution_count": 82
  },
  {
   "cell_type": "code",
   "id": "4248b0ff0a9a5b01",
   "metadata": {
    "ExecuteTime": {
     "end_time": "2025-09-23T17:10:51.162278Z",
     "start_time": "2025-09-23T17:10:51.157722Z"
    }
   },
   "source": [
    "class_names = train_data.classes\n",
    "class_names"
   ],
   "outputs": [
    {
     "data": {
      "text/plain": [
       "['T-shirt/top',\n",
       " 'Trouser',\n",
       " 'Pullover',\n",
       " 'Dress',\n",
       " 'Coat',\n",
       " 'Sandal',\n",
       " 'Shirt',\n",
       " 'Sneaker',\n",
       " 'Bag',\n",
       " 'Ankle boot']"
      ]
     },
     "execution_count": 83,
     "metadata": {},
     "output_type": "execute_result"
    }
   ],
   "execution_count": 83
  },
  {
   "cell_type": "code",
   "id": "e67fd05c2456b8a1",
   "metadata": {
    "ExecuteTime": {
     "end_time": "2025-09-23T17:10:51.808616Z",
     "start_time": "2025-09-23T17:10:51.800310Z"
    }
   },
   "source": [
    "train_data.targets"
   ],
   "outputs": [
    {
     "data": {
      "text/plain": [
       "tensor([9, 0, 0,  ..., 3, 0, 5])"
      ]
     },
     "execution_count": 84,
     "metadata": {},
     "output_type": "execute_result"
    }
   ],
   "execution_count": 84
  },
  {
   "cell_type": "code",
   "id": "e7a41df82257a228",
   "metadata": {
    "ExecuteTime": {
     "end_time": "2025-09-23T17:10:52.403562Z",
     "start_time": "2025-09-23T17:10:52.399784Z"
    }
   },
   "source": [
    "class_to_idx = train_data.class_to_idx\n",
    "class_to_idx"
   ],
   "outputs": [
    {
     "data": {
      "text/plain": [
       "{'T-shirt/top': 0,\n",
       " 'Trouser': 1,\n",
       " 'Pullover': 2,\n",
       " 'Dress': 3,\n",
       " 'Coat': 4,\n",
       " 'Sandal': 5,\n",
       " 'Shirt': 6,\n",
       " 'Sneaker': 7,\n",
       " 'Bag': 8,\n",
       " 'Ankle boot': 9}"
      ]
     },
     "execution_count": 85,
     "metadata": {},
     "output_type": "execute_result"
    }
   ],
   "execution_count": 85
  },
  {
   "cell_type": "code",
   "id": "e4eff10782ea85c4",
   "metadata": {
    "ExecuteTime": {
     "end_time": "2025-09-23T17:10:53.081580Z",
     "start_time": "2025-09-23T17:10:53.076905Z"
    }
   },
   "source": [
    "train_data.targets"
   ],
   "outputs": [
    {
     "data": {
      "text/plain": [
       "tensor([9, 0, 0,  ..., 3, 0, 5])"
      ]
     },
     "execution_count": 86,
     "metadata": {},
     "output_type": "execute_result"
    }
   ],
   "execution_count": 86
  },
  {
   "cell_type": "markdown",
   "id": "f137a719898a0330",
   "metadata": {},
   "source": [
    "### 1.1 check teh input and output shapes of data"
   ]
  },
  {
   "cell_type": "code",
   "id": "cc0642239fbc92f2",
   "metadata": {
    "ExecuteTime": {
     "end_time": "2025-09-23T17:10:56.546417Z",
     "start_time": "2025-09-23T17:10:56.543055Z"
    }
   },
   "source": [
    "# Check teh shape of our image\n",
    "print (f\"Image shape: {image.shape} - [color_channels, height, width]\")\n",
    "print(f\"Image label: {class_names[label]}\")"
   ],
   "outputs": [
    {
     "name": "stdout",
     "output_type": "stream",
     "text": [
      "Image shape: torch.Size([1, 28, 28]) - [color_channels, height, width]\n",
      "Image label: Ankle boot\n"
     ]
    }
   ],
   "execution_count": 87
  },
  {
   "cell_type": "markdown",
   "id": "39d43f6d12c191d4",
   "metadata": {},
   "source": [
    "### 1.2 Visualizing our data"
   ]
  },
  {
   "cell_type": "code",
   "id": "1013be510be59b84",
   "metadata": {
    "ExecuteTime": {
     "end_time": "2025-09-23T17:10:58.081513Z",
     "start_time": "2025-09-23T17:10:58.020464Z"
    }
   },
   "source": [
    "import matplotlib.pyplot as plt\n",
    "image, label = train_data[0]\n",
    "print(f\"Image shape: {image.shape} - [color_channels, height, width]\")\n",
    "plt.imshow(image.squeeze())\n",
    "plt.title(f\"{class_names[label]}\");\n",
    "plt.axis(False);"
   ],
   "outputs": [
    {
     "name": "stdout",
     "output_type": "stream",
     "text": [
      "Image shape: torch.Size([1, 28, 28]) - [color_channels, height, width]\n"
     ]
    },
    {
     "data": {
      "text/plain": [
       "<Figure size 640x480 with 1 Axes>"
      ],
      "image/png": "[encoded data removed]"
     },
     "metadata": {},
     "output_type": "display_data"
    }
   ],
   "execution_count": 88
  },
  {
   "cell_type": "code",
   "id": "a0b72033f17b9ff0",
   "metadata": {
    "ExecuteTime": {
     "end_time": "2025-09-23T17:10:59.663003Z",
     "start_time": "2025-09-23T17:10:59.607819Z"
    }
   },
   "source": [
    "# In grayscale\n",
    "plt.imshow(image.squeeze(), cmap=\"gray\")\n",
    "plt.title(f\"{class_names[label]}\");\n",
    "plt.axis(False);"
   ],
   "outputs": [
    {
     "data": {
      "text/plain": [
       "<Figure size 640x480 with 1 Axes>"
      ],
      "image/png": "[encoded data removed]"
     },
     "metadata": {},
     "output_type": "display_data"
    }
   ],
   "execution_count": 89
  },
  {
   "cell_type": "code",
   "id": "9e97e77e6ced33a7",
   "metadata": {
    "ExecuteTime": {
     "end_time": "2025-09-23T15:03:10.708802Z",
     "start_time": "2025-09-23T15:03:09.563129Z"
    }
   },
   "source": [
    "# Plot more images\n",
    "torch.manual_seed(RANDOM_SEED)\n",
    "fig = plt.figure(figsize=(10,10))\n",
    "rows, cols = 4, 4\n",
    "for i in range(1, rows*cols+1):\n",
    "    random_idx = torch.randint(0, len (train_data), size=[1]).item ()\n",
    "    image, label = train_data[random_idx]\n",
    "    fig.add_subplot(rows, cols, i)\n",
    "    plt.title(f\"{i}- {class_names[label]}\")\n",
    "    plt.axis(False);\n",
    "    plt.imshow(image.squeeze(), cmap=\"gray\")\n",
    "fig;"
   ],
   "outputs": [
    {
     "data": {
      "text/plain": [
       "<Figure size 1000x1000 with 16 Axes>"
      ],
      "image/png": "[encoded data removed]"
     },
     "metadata": {},
     "output_type": "display_data"
    }
   ],
   "execution_count": 12
  },
  {
   "cell_type": "code",
   "id": "927fcb85aac05042",
   "metadata": {
    "ExecuteTime": {
     "end_time": "2025-09-23T17:11:24.815274Z",
     "start_time": "2025-09-23T17:11:24.806994Z"
    }
   },
   "source": [
    "# Since were here, let's functionize this for best practices...\n",
    "from math import sqrt\n",
    "def imshow(img, label=\"\"):\n",
    "    \"\"\"\n",
    "    This function shows the image and its label\n",
    "\n",
    "    :param img: Image\n",
    "    :param label: Label of the image as a title\n",
    "    :return:\n",
    "    \"\"\"\n",
    "    img = img.squeeze()\n",
    "    plt.imshow(img, cmap=\"gray\")\n",
    "    plt.title(label if label is not None else f\"{class_names[label]}\")\n",
    "    plt.axis(False);\n",
    "\n",
    "def display_batch(features_batch, labels_batch):\n",
    "    \"\"\"\n",
    "    This function displays the batch of images and their labels\n",
    "    :param features_batch: the batch of images as a tensor\n",
    "    :param labels_batch: the batch of labels as a tensor\n",
    "    :return:\n",
    "    \"\"\"\n",
    "    len_batch = len(features_batch)\n",
    "    cols = 7\n",
    "    rows = len_batch-cols\n",
    "    fig = plt.figure(figsize=(10,rows*2))\n",
    "\n",
    "    for i in range(1, len_batch):\n",
    "        image, label = features_batch[i], labels_batch[i]\n",
    "        fig.add_subplot(rows, cols, i)\n",
    "        imshow(image, label=f\"{i}- {class_names[label]}\")\n",
    "    fig.show();"
   ],
   "outputs": [],
   "execution_count": 91
  },
  {
   "cell_type": "markdown",
   "id": "f8b5c3754f2ad905",
   "metadata": {},
   "source": [
    "Do you think these items of clothing (images) could be modelled with pure linear lines? Or do you think we'll need non-linearities?"
   ]
  },
  {
   "cell_type": "code",
   "id": "67b7676c3d0a274f",
   "metadata": {
    "ExecuteTime": {
     "end_time": "2025-09-23T15:03:10.891822Z",
     "start_time": "2025-09-23T15:03:10.883074Z"
    }
   },
   "source": [
    "train_data, test_data"
   ],
   "outputs": [
    {
     "data": {
      "text/plain": [
       "(Dataset FashionMNIST\n",
       "     Number of datapoints: 60000\n",
       "     Root location: ./data\n",
       "     Split: Train\n",
       "     StandardTransform\n",
       " Transform: Compose(\n",
       "                  ToImage()\n",
       "                  ToDtype(scale=True)\n",
       "                  Normalize(mean=[0.5], std=[0.5], inplace=False)\n",
       "            ),\n",
       " Dataset FashionMNIST\n",
       "     Number of datapoints: 10000\n",
       "     Root location: ./data\n",
       "     Split: Test\n",
       "     StandardTransform\n",
       " Transform: Compose(\n",
       "                  ToImage()\n",
       "                  ToDtype(scale=True)\n",
       "                  Normalize(mean=[0.5], std=[0.5], inplace=False)\n",
       "            ))"
      ]
     },
     "execution_count": 14,
     "metadata": {},
     "output_type": "execute_result"
    }
   ],
   "execution_count": 14
  },
  {
   "cell_type": "markdown",
   "id": "a2ac2a613dfdb7bc",
   "metadata": {},
   "source": [
    "## 2. Prepare the DataLoader\n",
    "Right now, our data is in the form of PyTorch Datasets.\n",
    "DataLoader turns our dataset into a Python iterable.\n",
    "More specifically, we want to turn our data into batches (or mini-batches)\n",
    "\n",
    "Why would we do this?\n",
    "1. It is more computationally efficient, as in, your computing hardware may not be able to look (store in memory) at 60000 images in one hit. Sowe break it down to 32 images at a time (batch size of 32) (the batch size can be changed).\n",
    "> for more info on the batch size effect on the model this shows experiments in that field: [The effect of batch size on the generalizability of the convolutional neural networks on a histopathology dataset](https://www.sciencedirect.com/science/article/pii/S2405959519303455)\n",
    "\n",
    "2. It gives our neural network more chances to update its gradients per epoch.\n",
    "> [Are there any rules for choosing the size of a mini-batch?](https://datascience.stackexchange.com/questions/18414/are-there-any-rules-for-choosing-the-size-of-a-mini-batch)"
   ]
  },
  {
   "cell_type": "code",
   "id": "444d283e056e0120",
   "metadata": {
    "ExecuteTime": {
     "end_time": "2025-09-23T15:03:11.006713Z",
     "start_time": "2025-09-23T15:03:10.963512Z"
    }
   },
   "source": [
    "from torch.utils.data import DataLoader\n",
    "\n",
    "# Set up the batch size\n",
    "BATCH_SIZE = 64\n",
    "\n",
    "train_dataloader = DataLoader(train_data, batch_size=BATCH_SIZE, shuffle=True)\n",
    "test_dataloader = DataLoader(test_data, batch_size=BATCH_SIZE, shuffle=False)\n",
    "\n",
    "train_dataloader, test_dataloader"
   ],
   "outputs": [
    {
     "data": {
      "text/plain": [
       "(<torch.utils.data.dataloader.DataLoader at 0x30621c7a0>,\n",
       " <torch.utils.data.dataloader.DataLoader at 0x30621ed20>)"
      ]
     },
     "execution_count": 15,
     "metadata": {},
     "output_type": "execute_result"
    }
   ],
   "execution_count": 15
  },
  {
   "cell_type": "code",
   "id": "1b99c4e18738b0f0",
   "metadata": {
    "ExecuteTime": {
     "end_time": "2025-09-23T15:03:11.079235Z",
     "start_time": "2025-09-23T15:03:11.070801Z"
    }
   },
   "source": [
    "# Let's check out what we've created\n",
    "print(f\"DataLoaders {train_dataloader}, {test_dataloader}\")\n",
    "print(f\"DataLoaders {len(train_dataloader)}, {len(test_dataloader)}, batch_size={BATCH_SIZE}\")"
   ],
   "outputs": [
    {
     "name": "stdout",
     "output_type": "stream",
     "text": [
      "DataLoaders <torch.utils.data.dataloader.DataLoader object at 0x30621c7a0>, <torch.utils.data.dataloader.DataLoader object at 0x30621ed20>\n",
      "DataLoaders 938, 157, batch_size=64\n"
     ]
    }
   ],
   "execution_count": 16
  },
  {
   "cell_type": "code",
   "id": "69ee3118533e3450",
   "metadata": {
    "ExecuteTime": {
     "end_time": "2025-09-23T15:03:11.248267Z",
     "start_time": "2025-09-23T15:03:11.165626Z"
    }
   },
   "source": [
    "# Check out what's inside the training dataloader\n",
    "train_features_batch, train_labels_batch = next(iter(train_dataloader))\n",
    "train_features_batch.shape, train_labels_batch.shape"
   ],
   "outputs": [
    {
     "data": {
      "text/plain": [
       "(torch.Size([64, 1, 28, 28]), torch.Size([64]))"
      ]
     },
     "execution_count": 17,
     "metadata": {},
     "output_type": "execute_result"
    }
   ],
   "execution_count": 17
  },
  {
   "cell_type": "code",
   "id": "33ff3b4c80ffebcd",
   "metadata": {
    "ExecuteTime": {
     "end_time": "2025-09-23T15:03:15.008256Z",
     "start_time": "2025-09-23T15:03:11.315346Z"
    }
   },
   "source": [
    "# Show a sample\n",
    "torch.manual_seed(RANDOM_SEED)\n",
    "random_idx = torch.randint(0, len(train_features_batch), size=[1]).item()\n",
    "image, label = train_features_batch[random_idx], train_labels_batch[random_idx]\n",
    "display_batch(train_features_batch, train_labels_batch) # Utilized the created functoin here"
   ],
   "outputs": [
    {
     "name": "stderr",
     "output_type": "stream",
     "text": [
      "/var/folders/23/d0f0651j24d9y8lqrqd6k1dw0000gn/T/ipykernel_3300/2775965080.py:32: UserWarning: FigureCanvasAgg is non-interactive, and thus cannot be shown\n",
      "  fig.show();\n"
     ]
    },
    {
     "data": {
      "text/plain": [
       "<Figure size 1000x11400 with 63 Axes>"
      ],
      "image/png": "[encoded data removed]"
     },
     "metadata": {},
     "output_type": "display_data"
    }
   ],
   "execution_count": 18
  },
  {
   "cell_type": "markdown",
   "id": "b03b22b4f7223283",
   "metadata": {
    "ExecuteTime": {
     "end_time": "2025-09-16T10:33:43.406805Z",
     "start_time": "2025-09-16T10:33:43.405322Z"
    }
   },
   "source": [
    "## 3. Model 0: Build a baseline model\n",
    "\n",
    "When starting to build a series of machine learning modelling experiments, it's best practice to start with a baseline model.\n",
    "\n",
    "A baseline model is a simple model you will try and improve upon with subsequent models/experiments.\n",
    "In other words: start simply and add complexity when necessary (experimentation :))"
   ]
  },
  {
   "cell_type": "code",
   "id": "3f848c2402a852ee",
   "metadata": {
    "ExecuteTime": {
     "end_time": "2025-09-23T15:03:15.332941Z",
     "start_time": "2025-09-23T15:03:15.245255Z"
    }
   },
   "source": [
    "# Create a flatten layer\n",
    "flatten_model = nn.Flatten()\n",
    "\n",
    "# Get a single sample\n",
    "x = train_features_batch[0]\n",
    "\n",
    "# Flatten teh sample\n",
    "output = flatten_model(x)\n",
    "\n",
    "# Print out what happened\n",
    "print(f\"Shape of before flattening: {x.shape}\")\n",
    "print(f\"Shape of after flattening: {output.shape}\")"
   ],
   "outputs": [
    {
     "name": "stdout",
     "output_type": "stream",
     "text": [
      "Shape of before flattening: torch.Size([1, 28, 28])\n",
      "Shape of after flattening: torch.Size([1, 784])\n"
     ]
    }
   ],
   "execution_count": 19
  },
  {
   "cell_type": "code",
   "id": "badac866e6a9e1e7",
   "metadata": {
    "ExecuteTime": {
     "end_time": "2025-09-23T15:03:15.600155Z",
     "start_time": "2025-09-23T15:03:15.396749Z"
    }
   },
   "source": [
    "from torch import nn\n",
    "\n",
    "device = torch.device(\"cuda\" if torch.cuda.is_available() else (\"mps\" if torch.mps.is_available() else \"cpu\"))\n",
    "\n",
    "class FashionMNISTModelV0(nn.Module):\n",
    "    def __init__(self, in_features, hidden1, out_features):\n",
    "        super().__init__()\n",
    "        self.layer_stack = nn.Sequential(\n",
    "            nn.Flatten(), # to change the input shape from (1, 28, 28) to (1, 786)\n",
    "            nn.Linear(in_features, hidden1),\n",
    "            # nn.ReLU(),\n",
    "            # nn.Dropout(0.3),          # regularization (randomly drop neurons during training, rescale survivors, disable dropout at inference.) to prevent overfitting or high reliance on a neuron\n",
    "            # nn.Linear(hidden1, hidden2),\n",
    "            # nn.ReLU(),\n",
    "            # nn.Dropout(0.3), # regularization\n",
    "            nn.Linear(hidden1, out_features),\n",
    "        )\n",
    "\n",
    "    def forward(self, x):\n",
    "        return self.layer_stack(x)"
   ],
   "outputs": [],
   "execution_count": 20
  },
  {
   "cell_type": "code",
   "id": "8ea0b63ce98941f5",
   "metadata": {
    "ExecuteTime": {
     "end_time": "2025-09-23T15:03:17.347641Z",
     "start_time": "2025-09-23T15:03:15.647064Z"
    }
   },
   "source": [
    "torch.manual_seed(RANDOM_SEED)\n",
    "model_0 = FashionMNISTModelV0(\n",
    "    in_features=28*28, # this is 28*28\n",
    "    hidden1=256, # how mnay units in the hidden layer\n",
    "    out_features=len(class_names), # one for every class\n",
    ").to(device)\n",
    "\n",
    "model_0"
   ],
   "outputs": [
    {
     "data": {
      "text/plain": [
       "FashionMNISTModelV0(\n",
       "  (layer_stack): Sequential(\n",
       "    (0): Flatten(start_dim=1, end_dim=-1)\n",
       "    (1): Linear(in_features=784, out_features=256, bias=True)\n",
       "    (2): Linear(in_features=256, out_features=10, bias=True)\n",
       "  )\n",
       ")"
      ]
     },
     "execution_count": 21,
     "metadata": {},
     "output_type": "execute_result"
    }
   ],
   "execution_count": 21
  },
  {
   "cell_type": "code",
   "id": "51ad23a5e5862f8a",
   "metadata": {
    "ExecuteTime": {
     "end_time": "2025-09-23T15:03:17.488957Z",
     "start_time": "2025-09-23T15:03:17.467875Z"
    }
   },
   "source": [
    "# dummy_x = torch.rand([1, 1, 28, 28]).to(device)\n",
    "# model_0(dummy_x)"
   ],
   "outputs": [],
   "execution_count": 22
  },
  {
   "cell_type": "code",
   "id": "5e653afe0cd97efb",
   "metadata": {
    "ExecuteTime": {
     "end_time": "2025-09-23T15:03:26.251790Z",
     "start_time": "2025-09-23T15:03:17.586766Z"
    }
   },
   "source": [
    "model_0.state_dict()"
   ],
   "outputs": [
    {
     "data": {
      "text/plain": [
       "OrderedDict([('layer_stack.1.weight',\n",
       "              tensor([[ 0.0273,  0.0296, -0.0084,  ..., -0.0142,  0.0093,  0.0135],\n",
       "                      [-0.0188, -0.0354,  0.0187,  ..., -0.0106, -0.0001,  0.0115],\n",
       "                      [-0.0008,  0.0017,  0.0045,  ..., -0.0127, -0.0188,  0.0059],\n",
       "                      ...,\n",
       "                      [ 0.0307,  0.0202,  0.0212,  ...,  0.0272,  0.0314,  0.0152],\n",
       "                      [-0.0355,  0.0334, -0.0232,  ...,  0.0185, -0.0292, -0.0017],\n",
       "                      [-0.0068, -0.0321,  0.0248,  ..., -0.0255, -0.0138, -0.0288]],\n",
       "                     device='mps:0')),\n",
       "             ('layer_stack.1.bias',\n",
       "              tensor([ 0.0214, -0.0092,  0.0252,  0.0054, -0.0258, -0.0166, -0.0220, -0.0342,\n",
       "                      -0.0085,  0.0256, -0.0313, -0.0035,  0.0126,  0.0164,  0.0323, -0.0243,\n",
       "                       0.0015,  0.0066,  0.0342, -0.0187,  0.0285,  0.0317,  0.0150,  0.0209,\n",
       "                      -0.0146,  0.0140,  0.0086,  0.0305, -0.0045,  0.0026,  0.0236, -0.0042,\n",
       "                      -0.0229,  0.0194, -0.0331,  0.0304, -0.0212,  0.0333, -0.0287,  0.0210,\n",
       "                       0.0166,  0.0281,  0.0161,  0.0301,  0.0113, -0.0220,  0.0346,  0.0303,\n",
       "                      -0.0307,  0.0046, -0.0006,  0.0303,  0.0257,  0.0259, -0.0135,  0.0305,\n",
       "                      -0.0002,  0.0227,  0.0155, -0.0320,  0.0140,  0.0089, -0.0101, -0.0295,\n",
       "                      -0.0044,  0.0036, -0.0183,  0.0012,  0.0055, -0.0030,  0.0078, -0.0228,\n",
       "                       0.0309,  0.0275, -0.0249,  0.0034,  0.0067, -0.0108, -0.0239, -0.0230,\n",
       "                      -0.0296,  0.0070,  0.0075,  0.0286, -0.0290,  0.0152, -0.0192, -0.0340,\n",
       "                       0.0138,  0.0192,  0.0256, -0.0190,  0.0138, -0.0186,  0.0160, -0.0218,\n",
       "                      -0.0356,  0.0350, -0.0205,  0.0027,  0.0296, -0.0229, -0.0248,  0.0190,\n",
       "                      -0.0102, -0.0203, -0.0118, -0.0298, -0.0080, -0.0045, -0.0301, -0.0131,\n",
       "                       0.0216, -0.0231, -0.0166,  0.0142, -0.0174, -0.0335, -0.0166, -0.0023,\n",
       "                       0.0219,  0.0150,  0.0357, -0.0165, -0.0098,  0.0300, -0.0166,  0.0223,\n",
       "                       0.0241, -0.0349, -0.0024,  0.0292,  0.0319, -0.0270,  0.0338,  0.0269,\n",
       "                       0.0256,  0.0057,  0.0025, -0.0031, -0.0185,  0.0355, -0.0114, -0.0292,\n",
       "                      -0.0169, -0.0193,  0.0251, -0.0351, -0.0145, -0.0044, -0.0158,  0.0029,\n",
       "                       0.0128,  0.0125, -0.0279,  0.0070,  0.0090,  0.0115,  0.0020, -0.0023,\n",
       "                      -0.0178, -0.0123, -0.0031, -0.0146,  0.0244, -0.0333, -0.0025,  0.0186,\n",
       "                      -0.0186,  0.0029, -0.0137, -0.0225, -0.0338,  0.0124,  0.0305,  0.0085,\n",
       "                      -0.0336, -0.0202,  0.0297, -0.0185, -0.0033,  0.0206, -0.0086,  0.0113,\n",
       "                      -0.0130, -0.0299,  0.0179, -0.0173,  0.0329,  0.0296,  0.0275, -0.0334,\n",
       "                       0.0327, -0.0030, -0.0039, -0.0343, -0.0267,  0.0160,  0.0348, -0.0156,\n",
       "                       0.0164, -0.0296, -0.0266,  0.0295, -0.0166,  0.0321,  0.0249,  0.0082,\n",
       "                      -0.0096,  0.0340, -0.0279,  0.0353, -0.0010,  0.0054, -0.0005, -0.0099,\n",
       "                       0.0047,  0.0106, -0.0141,  0.0302, -0.0143,  0.0004,  0.0236, -0.0152,\n",
       "                      -0.0306, -0.0117,  0.0209,  0.0307, -0.0289,  0.0137, -0.0033,  0.0296,\n",
       "                       0.0292, -0.0014,  0.0348,  0.0150,  0.0040, -0.0179, -0.0353, -0.0163,\n",
       "                      -0.0160,  0.0108, -0.0261,  0.0201, -0.0202, -0.0156, -0.0196, -0.0046,\n",
       "                      -0.0242,  0.0263, -0.0147,  0.0245,  0.0276,  0.0352,  0.0175, -0.0024],\n",
       "                     device='mps:0')),\n",
       "             ('layer_stack.2.weight',\n",
       "              tensor([[-3.6616e-03, -1.1677e-02, -3.3071e-02,  ..., -5.9729e-02,\n",
       "                       -3.8072e-02, -4.4816e-02],\n",
       "                      [ 4.0268e-03, -2.8274e-02,  3.3403e-02,  ...,  2.1485e-02,\n",
       "                        5.3204e-02, -2.5810e-02],\n",
       "                      [ 1.4107e-03,  2.2229e-02, -4.1241e-02,  ..., -5.5513e-02,\n",
       "                       -5.8852e-02, -5.5883e-02],\n",
       "                      ...,\n",
       "                      [ 2.1601e-02, -6.1022e-02, -4.0514e-02,  ...,  2.3108e-02,\n",
       "                       -5.1559e-03, -1.6034e-02],\n",
       "                      [ 5.3908e-02,  1.3699e-02, -3.1612e-02,  ..., -4.4322e-02,\n",
       "                       -4.8109e-03,  3.7705e-02],\n",
       "                      [-1.9170e-05, -1.9746e-03, -1.6838e-02,  ..., -4.4691e-02,\n",
       "                       -1.9483e-02,  2.3676e-02]], device='mps:0')),\n",
       "             ('layer_stack.2.bias',\n",
       "              tensor([-0.0091,  0.0061,  0.0428,  0.0236,  0.0555,  0.0016, -0.0426, -0.0128,\n",
       "                      -0.0497,  0.0495], device='mps:0'))])"
      ]
     },
     "execution_count": 23,
     "metadata": {},
     "output_type": "execute_result"
    }
   ],
   "execution_count": 23
  },
  {
   "cell_type": "markdown",
   "id": "1248173ab75426c0",
   "metadata": {},
   "source": [
    "### 3.1 Setup loss, optimizer and evaluation metrics\n",
    "\n",
    "* Loss function - since we're working with multi-class data, our loss function will be `nn.CrossEntropyLoss()`\n",
    "* Optimizer - our optimizer `torch.optim.SGD()` (stochastic gradient descent)\n",
    "* Evaluation metric - since we're working on a classification problem, let's use accuracy as our evaluation metric"
   ]
  },
  {
   "cell_type": "code",
   "id": "1a3d4a68c04dd4fa",
   "metadata": {
    "ExecuteTime": {
     "end_time": "2025-09-23T15:03:26.432026Z",
     "start_time": "2025-09-23T15:03:26.387786Z"
    }
   },
   "source": [
    "loss_fn = nn.CrossEntropyLoss()\n",
    "optimizer = torch.optim.SGD(params=model_0.parameters(), lr=0.001)\n",
    "acc_fn = torchmetrics.Accuracy(task=\"multiclass\", num_classes=len(class_names))\n",
    "# acc = acc_fn(y_pred, y_true)  # returns a tensor between 0 and 1"
   ],
   "outputs": [],
   "execution_count": 24
  },
  {
   "cell_type": "markdown",
   "id": "be6fb923e1089ed5",
   "metadata": {},
   "source": [
    "### 3.2 Creating a function to time our experiments\n",
    "Machine learning is very experimental.\n",
    "\n",
    "Two main things you'll often want to track are:\n",
    "1. Model's performance (loss and accuracy values, etc.)\n",
    "2. How fast it runs"
   ]
  },
  {
   "cell_type": "code",
   "id": "56a155fc4f69de17",
   "metadata": {
    "ExecuteTime": {
     "end_time": "2025-09-23T15:03:26.464578Z",
     "start_time": "2025-09-23T15:03:26.459478Z"
    }
   },
   "source": [
    "from timeit import default_timer as timer\n",
    "def print_train_time(start_time, end_time, device):\n",
    "    time_elapsed = end_time - start_time\n",
    "    print(f\"Train time on device {device}: {time_elapsed}.\")"
   ],
   "outputs": [],
   "execution_count": 25
  },
  {
   "cell_type": "code",
   "id": "cd681f7a867a2052",
   "metadata": {
    "ExecuteTime": {
     "end_time": "2025-09-23T15:03:27.781476Z",
     "start_time": "2025-09-23T15:03:27.747915Z"
    }
   },
   "source": [
    "start_time = timer()\n",
    "\n",
    "end_time = timer()\n",
    "print_train_time(start_time, end_time, device)"
   ],
   "outputs": [
    {
     "name": "stdout",
     "output_type": "stream",
     "text": [
      "Train time on device mps: 4.708399990249745e-05.\n"
     ]
    }
   ],
   "execution_count": 26
  },
  {
   "cell_type": "code",
   "id": "247d7f5d1cef9be",
   "metadata": {
    "ExecuteTime": {
     "end_time": "2025-09-23T15:03:28.205325Z",
     "start_time": "2025-09-23T15:03:28.167170Z"
    }
   },
   "source": [
    "# UPTOHERE: 3.3 Creating a training loop and training a model on batches of data...\n",
    "# Highlight that the optimizer will update a model's parameters once per batch rather than once per epoch..."
   ],
   "outputs": [],
   "execution_count": 27
  },
  {
   "cell_type": "markdown",
   "id": "e8331a39a5eebc6c",
   "metadata": {},
   "source": [
    "### 3.3 Creating a training loop and a model on batches of data\n",
    "\n",
    "1. Loop through epochs.\n",
    "2. Loop through training batches, perform training steps, calculate the train loss *per batch*.\n",
    "3. Loop through testing batches, perform testing steps, calculate the test loss per batch.\n",
    "4. Print out what's happening.\n",
    "5. Time it all."
   ]
  },
  {
   "cell_type": "code",
   "id": "15ce93ae9f79fb1b",
   "metadata": {
    "ExecuteTime": {
     "end_time": "2025-09-23T15:03:28.261502Z",
     "start_time": "2025-09-23T15:03:28.245846Z"
    }
   },
   "source": [
    "# Device-agnostic code\n",
    "available_devices = list(filter(\n",
    "    lambda device: device[1],\n",
    "    [\n",
    "        (\"cuda\", torch.cuda.is_available()),\n",
    "        (\"mps\", torch.backends.mps.is_available()),\n",
    "        (\"cpu\", True)\n",
    "    ]\n",
    "))\n",
    "available_devices = list(map(lambda d: torch.device(d[0]), available_devices))\n",
    "\n",
    "device = available_devices[0]\n",
    "available_devices, device"
   ],
   "outputs": [
    {
     "data": {
      "text/plain": [
       "([device(type='mps'), device(type='cpu')], device(type='mps'))"
      ]
     },
     "execution_count": 28,
     "metadata": {},
     "output_type": "execute_result"
    }
   ],
   "execution_count": 28
  },
  {
   "metadata": {
    "ExecuteTime": {
     "end_time": "2025-09-23T15:03:29.517110Z",
     "start_time": "2025-09-23T15:03:28.416044Z"
    }
   },
   "cell_type": "code",
   "source": [
    "# Import tqdm for a progress bar\n",
    "# def training_loop(device):\n",
    "from tqdm.auto import tqdm\n",
    "# Set the seed and start the timer\n",
    "\n",
    "torch.manual_seed(RANDOM_SEED)\n",
    "train_time_start_on_cpu = timer()\n",
    "\n",
    "def training_loop(model, device, EPOCHS=3):\n",
    "    # Device-agnostic code\n",
    "    model.to(device)\n",
    "\n",
    "    # Set the number of epochs (we'll keep this small for faster training time)\n",
    "    # EPOCHS = 100\n",
    "\n",
    "    # Create training and testing loop\n",
    "    for epoch in tqdm(range(EPOCHS), desc=\"Training epochs\"):\n",
    "        print(f\"Epoch {epoch + 1}/{EPOCHS}\")\n",
    "        ### Training\n",
    "        train_loss = 0\n",
    "        # Add a loop to loop through the training batches\n",
    "        for batch_idx, (data, target) in enumerate(train_dataloader):\n",
    "            data, target = data.to(device), target.to(device)\n",
    "            model.train()\n",
    "            # 1. Forward pass\n",
    "            y_pred = model(data)\n",
    "\n",
    "            # 2. Calculate the loss (per batch)\n",
    "            loss = loss_fn(y_pred, target)\n",
    "            train_loss += loss.item()\n",
    "\n",
    "            # 3. Optimizer zero grad\n",
    "            optimizer.zero_grad()\n",
    "\n",
    "            # 4. Loss backward\n",
    "            loss.backward()\n",
    "\n",
    "            # 5. Optimizer step\n",
    "            optimizer.step()\n",
    "\n",
    "            # Print out what's happening\n",
    "            if batch_idx % 500 == 0:\n",
    "                print(f\"\"\"Batch {batch_idx + 1}/{len(train_dataloader)}.\n",
    "    {batch_idx*len(data)}/{len(train_dataloader.dataset)} Images processed\"\"\")\n",
    "        # Divide total loss by length of train dataloader\n",
    "        train_loss /= len(train_dataloader)\n",
    "\n",
    "        ### Testing\n",
    "        test_loss, test_acc = 0, 0\n",
    "        model.eval()\n",
    "        with torch.inference_mode():\n",
    "            for X_test, y_test in test_dataloader:\n",
    "                X_test, y_test = X_test.to(device), y_test.to(device)\n",
    "                # 1. Forward pass\n",
    "                test_pred = model(X_test)\n",
    "\n",
    "                # 2. Calculate the test loss (accumulatively)\n",
    "                test_loss += loss_fn(test_pred, y_test).item()\n",
    "\n",
    "                #  3. Calculate the accuracy\n",
    "                test_acc += acc_fn.to(device)(test_pred, y_test).item()\n",
    "            # Calculate the test loss average per batch\n",
    "            test_loss /= len(test_dataloader)\n",
    "\n",
    "            # Calculate the test accuracy average per batch\n",
    "            test_acc /= len(test_dataloader)\n",
    "        # Print out what's happening\n",
    "        print(f'Train loss: {train_loss:4f}, test loss: {test_loss:.4f}, test accuracy: {test_acc:.4f}')\n",
    "\n",
    "    # Calculate the training time\n",
    "    end_time = timer()\n",
    "    print_train_time(start_time, end_time, str(next(model.parameters()).device))\n",
    "    return model"
   ],
   "id": "9899e6f0-6e51-40c9-ac00-266d4938fbef",
   "outputs": [],
   "execution_count": 29
  },
  {
   "cell_type": "code",
   "id": "9ae35406b58ce310",
   "metadata": {
    "ExecuteTime": {
     "end_time": "2025-09-23T15:04:42.227442Z",
     "start_time": "2025-09-23T15:03:29.597995Z"
    }
   },
   "source": "model_0 = training_loop(model_0, available_devices[0])",
   "outputs": [
    {
     "data": {
      "text/plain": [
       "Training epochs:   0%|          | 0/3 [00:00<?, ?it/s]"
      ],
      "application/vnd.jupyter.widget-view+json": {
       "version_major": 2,
       "version_minor": 0,
       "model_id": "f0616383a9c64b6f9542eda7f31fc3b5"
      }
     },
     "metadata": {},
     "output_type": "display_data"
    },
    {
     "name": "stdout",
     "output_type": "stream",
     "text": [
      "Epoch 1/3\n",
      "Batch 1/938.\n",
      "    0/60000 Images processed\n",
      "Batch 501/938.\n",
      "    32000/60000 Images processed\n",
      "Train loss: 1.404351, test loss: 1.0076, test accuracy: 0.7095\n",
      "Epoch 2/3\n",
      "Batch 1/938.\n",
      "    0/60000 Images processed\n",
      "Batch 501/938.\n",
      "    32000/60000 Images processed\n",
      "Train loss: 0.876130, test loss: 0.8044, test accuracy: 0.7392\n",
      "Epoch 3/3\n",
      "Batch 1/938.\n",
      "    0/60000 Images processed\n",
      "Batch 501/938.\n",
      "    32000/60000 Images processed\n",
      "Train loss: 0.746330, test loss: 0.7231, test accuracy: 0.7538\n",
      "Train time on device mps:0: 74.37015929199993.\n"
     ]
    }
   ],
   "execution_count": 30
  },
  {
   "cell_type": "code",
   "id": "a4a1dc350a8b50e1",
   "metadata": {
    "ExecuteTime": {
     "end_time": "2025-09-23T15:05:37.725651Z",
     "start_time": "2025-09-23T15:04:42.323806Z"
    }
   },
   "source": "training_loop(model_0, available_devices[1])",
   "outputs": [
    {
     "data": {
      "text/plain": [
       "Training epochs:   0%|          | 0/3 [00:00<?, ?it/s]"
      ],
      "application/vnd.jupyter.widget-view+json": {
       "version_major": 2,
       "version_minor": 0,
       "model_id": "329b3cd1eea34ad4bd5a4a9c7928c492"
      }
     },
     "metadata": {},
     "output_type": "display_data"
    },
    {
     "name": "stdout",
     "output_type": "stream",
     "text": [
      "Epoch 1/3\n",
      "Batch 1/938.\n",
      "    0/60000 Images processed\n",
      "Batch 501/938.\n",
      "    32000/60000 Images processed\n",
      "Train loss: 0.683999, test loss: 0.6773, test accuracy: 0.7657\n",
      "Epoch 2/3\n",
      "Batch 1/938.\n",
      "    0/60000 Images processed\n",
      "Batch 501/938.\n",
      "    32000/60000 Images processed\n",
      "Train loss: 0.644583, test loss: 0.6458, test accuracy: 0.7734\n",
      "Epoch 3/3\n",
      "Batch 1/938.\n",
      "    0/60000 Images processed\n",
      "Batch 501/938.\n",
      "    32000/60000 Images processed\n",
      "Train loss: 0.616352, test loss: 0.6222, test accuracy: 0.7827\n",
      "Train time on device cpu: 129.87938566699995.\n"
     ]
    },
    {
     "data": {
      "text/plain": [
       "FashionMNISTModelV0(\n",
       "  (layer_stack): Sequential(\n",
       "    (0): Flatten(start_dim=1, end_dim=-1)\n",
       "    (1): Linear(in_features=784, out_features=256, bias=True)\n",
       "    (2): Linear(in_features=256, out_features=10, bias=True)\n",
       "  )\n",
       ")"
      ]
     },
     "execution_count": 31,
     "metadata": {},
     "output_type": "execute_result"
    }
   ],
   "execution_count": 31
  },
  {
   "metadata": {},
   "cell_type": "markdown",
   "source": "## 4. Make predictions and get Model 0 results",
   "id": "81a51725ba5d8df5"
  },
  {
   "metadata": {
    "ExecuteTime": {
     "end_time": "2025-09-23T15:05:40.119782Z",
     "start_time": "2025-09-23T15:05:37.962612Z"
    }
   },
   "cell_type": "code",
   "source": [
    "torch.manual_seed(42)\n",
    "def eval_model(model:torch.nn.Module,\n",
    "               data_loader: torch.utils.data.DataLoader,\n",
    "               loss_fn: torch.nn.Module,\n",
    "               acc_fn: torch.nn.Module,\n",
    "               device = device):\n",
    "    loss, acc = 0, 0\n",
    "    model.eval()\n",
    "    model.to(device)\n",
    "    loss_fn.to(device)\n",
    "    acc_fn.to(device)\n",
    "    with torch.inference_mode():\n",
    "        for X_test, y_test in data_loader:\n",
    "            X_test, y_test = X_test.to(device), y_test.to(device)\n",
    "            test_pred = model(X_test)\n",
    "            loss += loss_fn(test_pred, y_test).item()\n",
    "            acc += acc_fn.to(device)(test_pred, y_test).item()\n",
    "\n",
    "        # Scale loss and acc to find the average loss/acc per batch\n",
    "        loss /= len(data_loader)\n",
    "        acc /= len(data_loader)\n",
    "\n",
    "    return {\n",
    "        \"model_name\": model.__class__.__name__,\n",
    "        \"model\": model,\n",
    "        \"loss\": loss,\n",
    "        \"accuracy\": acc\n",
    "    }\n",
    "model_0_results = eval_model(model_0,\n",
    "                             test_dataloader,\n",
    "                             loss_fn,\n",
    "                             acc_fn,\n",
    "                             str(next(model_0.parameters()).device))"
   ],
   "id": "2dc8ee77dd6f0ab0",
   "outputs": [],
   "execution_count": 32
  },
  {
   "metadata": {
    "ExecuteTime": {
     "end_time": "2025-09-23T15:05:40.165335Z",
     "start_time": "2025-09-23T15:05:40.158956Z"
    }
   },
   "cell_type": "code",
   "source": "model_0_results",
   "id": "8e33946a719f869d",
   "outputs": [
    {
     "data": {
      "text/plain": [
       "{'model_name': 'FashionMNISTModelV0',\n",
       " 'model': FashionMNISTModelV0(\n",
       "   (layer_stack): Sequential(\n",
       "     (0): Flatten(start_dim=1, end_dim=-1)\n",
       "     (1): Linear(in_features=784, out_features=256, bias=True)\n",
       "     (2): Linear(in_features=256, out_features=10, bias=True)\n",
       "   )\n",
       " ),\n",
       " 'loss': 0.6222410380460655,\n",
       " 'accuracy': 0.7827428343949044}"
      ]
     },
     "execution_count": 33,
     "metadata": {},
     "output_type": "execute_result"
    }
   ],
   "execution_count": 33
  },
  {
   "metadata": {},
   "cell_type": "markdown",
   "source": "## 5. System device agnostic-code (for using a GPU if there is one)",
   "id": "dd8954f15e6193"
  },
  {
   "metadata": {
    "ExecuteTime": {
     "end_time": "2025-09-23T15:05:40.302812Z",
     "start_time": "2025-09-23T15:05:40.298771Z"
    }
   },
   "cell_type": "code",
   "source": "# Already done but",
   "id": "993e1c33b37670fb",
   "outputs": [],
   "execution_count": 34
  },
  {
   "metadata": {
    "ExecuteTime": {
     "end_time": "2025-09-23T15:05:40.347537Z",
     "start_time": "2025-09-23T15:05:40.342253Z"
    }
   },
   "cell_type": "code",
   "source": [
    "# torch.cuda.is_available()\n",
    "torch.mps.is_available()"
   ],
   "id": "38fe9d918809998a",
   "outputs": [
    {
     "data": {
      "text/plain": [
       "True"
      ]
     },
     "execution_count": 35,
     "metadata": {},
     "output_type": "execute_result"
    }
   ],
   "execution_count": 35
  },
  {
   "metadata": {
    "ExecuteTime": {
     "end_time": "2025-09-23T15:05:40.428329Z",
     "start_time": "2025-09-23T15:05:40.423357Z"
    }
   },
   "cell_type": "code",
   "source": [
    "import torch\n",
    "device = torch.device(\"cuda\" if torch.cuda.is_available() else (\"mps\" if torch.mps.is_available() else \"cpu\"))\n",
    "device"
   ],
   "id": "ed20d64e511532c1",
   "outputs": [
    {
     "data": {
      "text/plain": [
       "device(type='mps')"
      ]
     },
     "execution_count": 36,
     "metadata": {},
     "output_type": "execute_result"
    }
   ],
   "execution_count": 36
  },
  {
   "metadata": {},
   "cell_type": "markdown",
   "source": "## Trying to bulid a model with non-linearity",
   "id": "2586fa00549a64f8"
  },
  {
   "metadata": {
    "ExecuteTime": {
     "end_time": "2025-09-23T15:05:40.506557Z",
     "start_time": "2025-09-23T15:05:40.499424Z"
    }
   },
   "cell_type": "code",
   "source": [
    "class FashionMNISTModelV1(nn.Module):\n",
    "    def __init__(self, in_features, hidden1, hidden2,  out_features):\n",
    "        super().__init__()\n",
    "        self.layer_stack = nn.Sequential(\n",
    "            nn.Conv2d(in_channels=1, # the colour channels\n",
    "                      out_channels=hidden1, # output filter channels\n",
    "                      kernel_size=3,\n",
    "                      padding=1),\n",
    "        )\n",
    "\n",
    "    def forward(self, x):\n",
    "        return self.layer_stack(x)"
   ],
   "id": "eb4995fb85f3a74d",
   "outputs": [],
   "execution_count": 37
  },
  {
   "metadata": {},
   "cell_type": "markdown",
   "source": "### Understanding `nn.Conv2d`",
   "id": "d4ae4f3178a32bd3"
  },
  {
   "metadata": {
    "ExecuteTime": {
     "end_time": "2025-09-23T15:05:40.681837Z",
     "start_time": "2025-09-23T15:05:40.536119Z"
    }
   },
   "cell_type": "code",
   "source": [
    "plt.axis(False);\n",
    "# In grayscale\n",
    "plt.imshow(image.squeeze(), cmap=\"gray\")\n",
    "plt.title(f\"{class_names[label]}\");\n",
    "plt.axis(False);"
   ],
   "id": "e2c94c2fa6cd99cb",
   "outputs": [
    {
     "data": {
      "text/plain": [
       "<Figure size 640x480 with 1 Axes>"
      ],
      "image/png": "[encoded data removed]"
     },
     "metadata": {},
     "output_type": "display_data"
    }
   ],
   "execution_count": 38
  },
  {
   "metadata": {
    "ExecuteTime": {
     "end_time": "2025-09-23T15:05:40.725480Z",
     "start_time": "2025-09-23T15:05:40.722425Z"
    }
   },
   "cell_type": "code",
   "source": "image.shape",
   "id": "9e932694368dfe27",
   "outputs": [
    {
     "data": {
      "text/plain": [
       "torch.Size([1, 28, 28])"
      ]
     },
     "execution_count": 39,
     "metadata": {},
     "output_type": "execute_result"
    }
   ],
   "execution_count": 39
  },
  {
   "metadata": {
    "ExecuteTime": {
     "end_time": "2025-09-23T15:05:40.836923Z",
     "start_time": "2025-09-23T15:05:40.809821Z"
    }
   },
   "cell_type": "code",
   "source": [
    "testy = nn.Conv2d(in_channels=1, out_channels=1, kernel_size=3, padding=1, bias=0)(image)\n",
    "testy.shape"
   ],
   "id": "944bd1d45163287f",
   "outputs": [
    {
     "data": {
      "text/plain": [
       "torch.Size([1, 28, 28])"
      ]
     },
     "execution_count": 40,
     "metadata": {},
     "output_type": "execute_result"
    }
   ],
   "execution_count": 40
  },
  {
   "metadata": {
    "ExecuteTime": {
     "end_time": "2025-09-23T15:05:40.915785Z",
     "start_time": "2025-09-23T15:05:40.877066Z"
    }
   },
   "cell_type": "code",
   "source": [
    "# In grayscale\n",
    "plt.imshow(testy.detach().numpy().squeeze(), cmap=\"gray\")\n",
    "plt.title(f\"{class_names[label]}\")\n",
    "plt.axis(False);"
   ],
   "id": "2b76d6fa356ad26",
   "outputs": [
    {
     "data": {
      "text/plain": [
       "<Figure size 640x480 with 1 Axes>"
      ],
      "image/png": "[encoded data removed]"
     },
     "metadata": {},
     "output_type": "display_data"
    }
   ],
   "execution_count": 41
  },
  {
   "metadata": {
    "ExecuteTime": {
     "end_time": "2025-09-23T15:05:41.023277Z",
     "start_time": "2025-09-23T15:05:40.934105Z"
    }
   },
   "cell_type": "code",
   "source": [
    "# Input: (1, 28, 28) -> add batch dim: (1, 1, 28, 28)\n",
    "x = image.unsqueeze(0)\n",
    "\n",
    "# Conv layer: 1 input channel, 4 output channels (so 4 filters)\n",
    "conv = nn.Conv2d(in_channels=1, out_channels=4, kernel_size=3, padding=1, bias=False)\n",
    "\n",
    "# Forward pass\n",
    "y = conv(x)  # (1, 4, 28, 28)\n",
    "\n",
    "print(\"Output shape:\", y.shape)\n",
    "\n",
    "# Plot the 4 feature maps\n",
    "fig, axes = plt.subplots(1, 4, figsize=(12, 3))\n",
    "for i in range(4):\n",
    "    axes[i].imshow(y[0, i].detach().numpy(), cmap=\"gray\")\n",
    "    axes[i].set_title(f\"Filter {i+1}\")\n",
    "    axes[i].axis(\"off\")\n",
    "plt.show()"
   ],
   "id": "ca9970dce35a6b48",
   "outputs": [
    {
     "name": "stdout",
     "output_type": "stream",
     "text": [
      "Output shape: torch.Size([1, 4, 28, 28])\n"
     ]
    },
    {
     "data": {
      "text/plain": [
       "<Figure size 1200x300 with 4 Axes>"
      ],
      "image/png": "[encoded data removed]"
     },
     "metadata": {},
     "output_type": "display_data"
    }
   ],
   "execution_count": 42
  },
  {
   "metadata": {
    "ExecuteTime": {
     "end_time": "2025-09-23T15:05:41.097344Z",
     "start_time": "2025-09-23T15:05:41.094415Z"
    }
   },
   "cell_type": "code",
   "source": [
    "class FashionMNISTModelV1(nn.Module):\n",
    "    def __init__(self, in_features, hidden1, hidden2, out_features):\n",
    "        super().__init__()\n",
    "        self.layer_stack = nn.Sequential(\n",
    "            nn.Conv2d(in_channels=1,  # the colour channels\n",
    "                      out_channels=hidden1,  # output filter channels\n",
    "                      kernel_size=3,\n",
    "                      padding=1),\n",
    "            nn.ReLU(),\n",
    "            nn.MaxPool2d(kernel_size=2),   # 28x28 -> 14x14\n",
    "\n",
    "            nn.Conv2d(in_channels=hidden1, out_channels=hidden2, kernel_size=3,\n",
    "                      padding=1),\n",
    "            nn.ReLU(),\n",
    "            nn.MaxPool2d(kernel_size=2),   # 14x14 -> 7x7\n",
    "\n",
    "            nn.Flatten(),\n",
    "            nn.Linear(hidden2 * 7 * 7, 128),\n",
    "            nn.ReLU(),\n",
    "            nn.Linear(128, out_features)   # 10 classes\n",
    "\n",
    "        )\n",
    "\n",
    "    def forward(self, x):\n",
    "        return self.layer_stack(x)"
   ],
   "id": "b44ccf6751b6b488",
   "outputs": [],
   "execution_count": 43
  },
  {
   "metadata": {
    "ExecuteTime": {
     "end_time": "2025-09-23T15:05:41.255042Z",
     "start_time": "2025-09-23T15:05:41.122472Z"
    }
   },
   "cell_type": "code",
   "source": [
    "# CNN pass visualization\n",
    "\n",
    "# Suppose 'image' is your FashionMNIST single image tensor: (1, 28, 28)\n",
    "x = image.unsqueeze(0)  # add batch dim: (1, 1, 28, 28)\n",
    "\n",
    "# Define the CNN layers step by step (like in your model)\n",
    "conv1 = nn.Conv2d(1, 4, kernel_size=3, padding=1)  # 4 filters for visualization\n",
    "relu = nn.ReLU()\n",
    "pool = nn.MaxPool2d(2)\n",
    "\n",
    "# 1 Conv layer\n",
    "conv_out = conv1(x)\n",
    "\n",
    "# 2 ReLU\n",
    "relu_out = relu(conv_out)\n",
    "\n",
    "# 3 MaxPool\n",
    "pool_out = pool(relu_out)\n",
    "\n",
    "# Function to plot feature maps\n",
    "def plot_feature_maps(tensor, title):\n",
    "    num_filters = tensor.shape[1]\n",
    "    fig, axes = plt.subplots(1, num_filters, figsize=(3*num_filters, 3))\n",
    "    for i in range(num_filters):\n",
    "        axes[i].imshow(tensor[0, i].detach().numpy(), cmap='gray')\n",
    "        axes[i].axis('off')\n",
    "    plt.suptitle(title)\n",
    "    plt.show()\n",
    "\n",
    "# Visualize\n",
    "plot_feature_maps(conv_out, \"After Conv Layer\")\n",
    "plot_feature_maps(relu_out, \"After ReLU\")\n",
    "plot_feature_maps(pool_out, \"After MaxPool2D\")\n"
   ],
   "id": "cc0a7e1e482b5ce",
   "outputs": [
    {
     "data": {
      "text/plain": [
       "<Figure size 1200x300 with 4 Axes>"
      ],
      "image/png": "[encoded data removed]"
     },
     "metadata": {},
     "output_type": "display_data"
    },
    {
     "data": {
      "text/plain": [
       "<Figure size 1200x300 with 4 Axes>"
      ],
      "image/png": "[encoded data removed]"
     },
     "metadata": {},
     "output_type": "display_data"
    },
    {
     "data": {
      "text/plain": [
       "<Figure size 1200x300 with 4 Axes>"
      ],
      "image/png": "[encoded data removed]"
     },
     "metadata": {},
     "output_type": "display_data"
    }
   ],
   "execution_count": 44
  },
  {
   "metadata": {
    "ExecuteTime": {
     "end_time": "2025-09-23T15:05:41.404382Z",
     "start_time": "2025-09-23T15:05:41.401067Z"
    }
   },
   "cell_type": "code",
   "source": [
    "def visualize_cnn_pass(model, x):\n",
    "    \"\"\"\n",
    "    Visualize feature maps at each Conv / ReLU / Pool layer\n",
    "    model: nn.Sequential or any nn.Module with layers\n",
    "    x: input image tensor (1, 1, H, W)\n",
    "    \"\"\"\n",
    "    out = x.unsqueeze(0)  # add batch dimension\n",
    "    for name, layer in model.named_children():\n",
    "        out = layer(out)\n",
    "        if (isinstance(layer, nn.Conv2d) or isinstance(layer, nn.ReLU) or isinstance(layer, nn.MaxPool2d)) and out.dim() == 4:\n",
    "            num_filters = out.shape[1]\n",
    "            fig, axes = plt.subplots(1, min(num_filters, 6), figsize=(3*min(num_filters,6), 3))\n",
    "            for i in range(min(num_filters, 6)):\n",
    "                axes[i].imshow(out[0, i].detach().numpy(), cmap='gray')\n",
    "                axes[i].axis('off')\n",
    "            plt.suptitle(f\"{name} ({layer.__class__.__name__})\")\n",
    "            plt.show()\n",
    "        else:\n",
    "            print(f\"{name}: {layer.__class__.__name__}, output shape: {out.shape}\")\n",
    "            print(out)"
   ],
   "id": "1cd82e342b104531",
   "outputs": [],
   "execution_count": 45
  },
  {
   "metadata": {
    "ExecuteTime": {
     "end_time": "2025-09-23T15:05:41.433559Z",
     "start_time": "2025-09-23T15:05:41.429492Z"
    }
   },
   "cell_type": "code",
   "source": "testy_model = FashionMNISTModelV1(image.shape[1], 5, 5, 10)",
   "id": "f4990de1c5329e41",
   "outputs": [],
   "execution_count": 46
  },
  {
   "metadata": {
    "ExecuteTime": {
     "end_time": "2025-09-23T15:05:42.346831Z",
     "start_time": "2025-09-23T15:05:41.522263Z"
    }
   },
   "cell_type": "code",
   "source": "visualize_cnn_pass(testy_model.layer_stack, image)",
   "id": "2add84135bc215e5",
   "outputs": [
    {
     "data": {
      "text/plain": [
       "<Figure size 1500x300 with 5 Axes>"
      ],
      "image/png": "[encoded data removed]"
     },
     "metadata": {},
     "output_type": "display_data"
    },
    {
     "data": {
      "text/plain": [
       "<Figure size 1500x300 with 5 Axes>"
      ],
      "image/png": "[encoded data removed]"
     },
     "metadata": {},
     "output_type": "display_data"
    },
    {
     "data": {
      "text/plain": [
       "<Figure size 1500x300 with 5 Axes>"
      ],
      "image/png": "[encoded data removed]"
     },
     "metadata": {},
     "output_type": "display_data"
    },
    {
     "data": {
      "text/plain": [
       "<Figure size 1500x300 with 5 Axes>"
      ],
      "image/png": "[encoded data removed]"
     },
     "metadata": {},
     "output_type": "display_data"
    },
    {
     "data": {
      "text/plain": [
       "<Figure size 1500x300 with 5 Axes>"
      ],
      "image/png": "[encoded data removed]"
     },
     "metadata": {},
     "output_type": "display_data"
    },
    {
     "data": {
      "text/plain": [
       "<Figure size 1500x300 with 5 Axes>"
      ],
      "image/png": "[encoded data removed]"
     },
     "metadata": {},
     "output_type": "display_data"
    },
    {
     "name": "stdout",
     "output_type": "stream",
     "text": [
      "6: Flatten, output shape: torch.Size([1, 245])\n",
      "tensor([[0.1304, 0.1838, 0.1182, 0.0438, 0.0871, 0.1246, 0.1717, 0.1113, 0.1496,\n",
      "         0.0045, 0.0188, 0.1567, 0.1106, 0.1345, 0.1113, 0.1417, 0.0000, 0.0000,\n",
      "         0.0946, 0.1206, 0.1345, 0.1113, 0.1525, 0.0000, 0.0000, 0.0961, 0.1045,\n",
      "         0.1345, 0.1113, 0.1274, 0.0000, 0.0000, 0.1253, 0.0872, 0.1345, 0.1113,\n",
      "         0.1292, 0.0000, 0.0000, 0.1017, 0.0925, 0.1345, 0.1847, 0.1953, 0.0137,\n",
      "         0.0000, 0.1095, 0.1758, 0.1984, 0.0935, 0.0000, 0.0000, 0.1318, 0.1108,\n",
      "         0.0000, 0.0000, 0.0769, 0.0000, 0.0000, 0.0993, 0.1598, 0.0000, 0.0000,\n",
      "         0.0769, 0.0000, 0.0000, 0.0616, 0.1518, 0.0000, 0.0000, 0.0769, 0.0000,\n",
      "         0.0000, 0.0511, 0.1791, 0.0000, 0.0000, 0.0769, 0.0000, 0.0000, 0.0575,\n",
      "         0.1757, 0.0000, 0.0000, 0.0769, 0.0000, 0.0000, 0.0650, 0.1629, 0.0000,\n",
      "         0.0000, 0.1459, 0.0000, 0.0511, 0.0710, 0.2135, 0.1078, 0.0000, 0.0399,\n",
      "         0.0000, 0.0000, 0.0000, 0.0000, 0.0000, 0.0000, 0.0000, 0.0000, 0.0000,\n",
      "         0.0000, 0.0000, 0.0000, 0.0000, 0.0000, 0.0000, 0.0000, 0.0000, 0.0000,\n",
      "         0.0000, 0.0000, 0.0000, 0.0000, 0.0000, 0.0000, 0.0000, 0.0000, 0.0000,\n",
      "         0.0000, 0.0000, 0.0000, 0.0000, 0.0000, 0.0000, 0.0000, 0.0000, 0.0000,\n",
      "         0.0000, 0.0000, 0.0000, 0.0000, 0.0000, 0.0000, 0.0000, 0.0000, 0.0000,\n",
      "         0.0000, 0.0000, 0.0000, 0.0000, 0.0000, 0.0000, 0.0000, 0.0000, 0.0000,\n",
      "         0.0000, 0.0000, 0.0000, 0.0000, 0.0000, 0.0000, 0.0000, 0.0000, 0.0000,\n",
      "         0.0000, 0.0000, 0.0000, 0.0000, 0.0000, 0.0000, 0.0000, 0.0000, 0.0000,\n",
      "         0.0000, 0.0000, 0.0000, 0.0000, 0.0000, 0.0000, 0.0000, 0.0000, 0.0000,\n",
      "         0.0000, 0.0000, 0.0000, 0.0000, 0.0000, 0.0086, 0.0000, 0.0000, 0.0000,\n",
      "         0.0000, 0.0000, 0.0000, 0.0207, 0.0000, 0.0000, 0.0000, 0.0000, 0.0000,\n",
      "         0.0000, 0.0000, 0.0000, 0.0000, 0.0000, 0.0000, 0.0000, 0.0000, 0.0000,\n",
      "         0.0404, 0.0000, 0.0000, 0.0000, 0.0000, 0.0000, 0.0000, 0.0871, 0.0000,\n",
      "         0.0000, 0.0000, 0.0000, 0.0000, 0.0000, 0.0762, 0.0000, 0.0000, 0.0000,\n",
      "         0.0000, 0.0000, 0.0000, 0.0406, 0.0000, 0.0000, 0.0000, 0.0000, 0.0000,\n",
      "         0.0000, 0.0000, 0.0000, 0.0000, 0.0000, 0.0000, 0.0000, 0.0000, 0.0134,\n",
      "         0.0000, 0.0000]], grad_fn=<ViewBackward0>)\n",
      "7: Linear, output shape: torch.Size([1, 128])\n",
      "tensor([[ 3.0637e-02, -2.1977e-02,  7.9117e-02,  1.6445e-02, -7.8927e-02,\n",
      "         -9.6487e-03,  3.1046e-02,  1.3778e-01, -6.5316e-02,  1.0041e-02,\n",
      "         -6.0222e-02,  4.2228e-03, -6.1707e-02, -6.4839e-02,  2.8673e-02,\n",
      "          8.1148e-02, -3.8152e-02,  2.3568e-02,  6.7025e-02,  6.3169e-02,\n",
      "          3.6284e-02,  1.1217e-01, -4.8186e-02, -5.1422e-02, -1.9462e-02,\n",
      "          1.2350e-01,  3.2813e-02, -2.9145e-02,  5.0117e-05,  4.1431e-02,\n",
      "         -1.6431e-02, -6.9496e-02, -4.5879e-04, -3.5013e-02, -7.9922e-02,\n",
      "          5.1701e-02,  5.9914e-02,  3.2307e-03,  2.7871e-03, -7.6885e-02,\n",
      "         -9.0494e-02, -8.2426e-02, -1.2571e-02, -1.7605e-02, -4.9065e-02,\n",
      "         -4.4133e-02,  1.7171e-02, -1.6678e-02, -1.0554e-01, -6.9416e-02,\n",
      "          3.6481e-02,  2.4132e-02,  1.2828e-01, -3.1654e-02,  6.9360e-02,\n",
      "         -7.0460e-02,  7.1023e-02,  3.1468e-02, -4.6436e-02, -7.3383e-03,\n",
      "         -5.3314e-02,  3.0294e-02,  3.3677e-02,  9.0404e-02,  4.2063e-02,\n",
      "         -4.2244e-02,  4.6170e-02, -8.9370e-02,  7.8017e-02, -1.9885e-02,\n",
      "          3.6836e-02, -7.9300e-03, -5.9622e-02, -4.6744e-02, -4.5896e-02,\n",
      "         -5.9156e-02,  9.1997e-02,  5.1500e-02, -2.3250e-04,  3.4857e-03,\n",
      "         -9.6577e-03, -3.8597e-02,  1.9110e-03, -1.3996e-02,  1.6771e-02,\n",
      "         -1.1601e-01, -6.6305e-02,  6.6033e-02, -4.1666e-02, -2.9719e-02,\n",
      "          8.7505e-03, -5.3571e-02,  8.9540e-02,  4.2782e-02, -4.1407e-02,\n",
      "         -9.4310e-02, -8.6868e-03, -3.6797e-02,  7.5998e-02,  7.5566e-03,\n",
      "          2.7255e-02, -8.1763e-02,  5.2261e-02, -4.9277e-02,  9.0288e-02,\n",
      "         -6.3971e-03,  2.3596e-02,  4.3420e-04,  3.1876e-02,  2.3025e-02,\n",
      "          2.5264e-02,  3.5981e-02,  2.7624e-03, -2.3475e-03, -3.3102e-02,\n",
      "         -5.6948e-02, -1.6655e-02,  2.5392e-02,  8.5771e-02, -2.2377e-02,\n",
      "          6.0980e-02,  4.1172e-02, -5.7425e-02, -6.4731e-02, -1.9052e-02,\n",
      "          1.0633e-01,  8.0912e-02,  3.3173e-02]], grad_fn=<AddmmBackward0>)\n",
      "8: ReLU, output shape: torch.Size([1, 128])\n",
      "tensor([[3.0637e-02, 0.0000e+00, 7.9117e-02, 1.6445e-02, 0.0000e+00, 0.0000e+00,\n",
      "         3.1046e-02, 1.3778e-01, 0.0000e+00, 1.0041e-02, 0.0000e+00, 4.2228e-03,\n",
      "         0.0000e+00, 0.0000e+00, 2.8673e-02, 8.1148e-02, 0.0000e+00, 2.3568e-02,\n",
      "         6.7025e-02, 6.3169e-02, 3.6284e-02, 1.1217e-01, 0.0000e+00, 0.0000e+00,\n",
      "         0.0000e+00, 1.2350e-01, 3.2813e-02, 0.0000e+00, 5.0117e-05, 4.1431e-02,\n",
      "         0.0000e+00, 0.0000e+00, 0.0000e+00, 0.0000e+00, 0.0000e+00, 5.1701e-02,\n",
      "         5.9914e-02, 3.2307e-03, 2.7871e-03, 0.0000e+00, 0.0000e+00, 0.0000e+00,\n",
      "         0.0000e+00, 0.0000e+00, 0.0000e+00, 0.0000e+00, 1.7171e-02, 0.0000e+00,\n",
      "         0.0000e+00, 0.0000e+00, 3.6481e-02, 2.4132e-02, 1.2828e-01, 0.0000e+00,\n",
      "         6.9360e-02, 0.0000e+00, 7.1023e-02, 3.1468e-02, 0.0000e+00, 0.0000e+00,\n",
      "         0.0000e+00, 3.0294e-02, 3.3677e-02, 9.0404e-02, 4.2063e-02, 0.0000e+00,\n",
      "         4.6170e-02, 0.0000e+00, 7.8017e-02, 0.0000e+00, 3.6836e-02, 0.0000e+00,\n",
      "         0.0000e+00, 0.0000e+00, 0.0000e+00, 0.0000e+00, 9.1997e-02, 5.1500e-02,\n",
      "         0.0000e+00, 3.4857e-03, 0.0000e+00, 0.0000e+00, 1.9110e-03, 0.0000e+00,\n",
      "         1.6771e-02, 0.0000e+00, 0.0000e+00, 6.6033e-02, 0.0000e+00, 0.0000e+00,\n",
      "         8.7505e-03, 0.0000e+00, 8.9540e-02, 4.2782e-02, 0.0000e+00, 0.0000e+00,\n",
      "         0.0000e+00, 0.0000e+00, 7.5998e-02, 7.5566e-03, 2.7255e-02, 0.0000e+00,\n",
      "         5.2261e-02, 0.0000e+00, 9.0288e-02, 0.0000e+00, 2.3596e-02, 4.3420e-04,\n",
      "         3.1876e-02, 2.3025e-02, 2.5264e-02, 3.5981e-02, 2.7624e-03, 0.0000e+00,\n",
      "         0.0000e+00, 0.0000e+00, 0.0000e+00, 2.5392e-02, 8.5771e-02, 0.0000e+00,\n",
      "         6.0980e-02, 4.1172e-02, 0.0000e+00, 0.0000e+00, 0.0000e+00, 1.0633e-01,\n",
      "         8.0912e-02, 3.3173e-02]], grad_fn=<ReluBackward0>)\n",
      "9: Linear, output shape: torch.Size([1, 10])\n",
      "tensor([[ 0.0459, -0.0691, -0.0305,  0.0038, -0.0543, -0.1125,  0.0492,  0.0299,\n",
      "         -0.0768, -0.0316]], grad_fn=<AddmmBackward0>)\n"
     ]
    }
   ],
   "execution_count": 47
  },
  {
   "metadata": {},
   "cell_type": "markdown",
   "source": "## Trying out `FashionMNISTModelV1`",
   "id": "aead63116ddfe559"
  },
  {
   "metadata": {
    "ExecuteTime": {
     "end_time": "2025-09-23T15:05:42.570253Z",
     "start_time": "2025-09-23T15:05:42.565953Z"
    }
   },
   "cell_type": "code",
   "source": "model_1 = FashionMNISTModelV1(in_features=28, hidden1=32, hidden2=64, out_features=len(class_names))",
   "id": "9dfec4f61a1f0fcb",
   "outputs": [],
   "execution_count": 48
  },
  {
   "metadata": {
    "ExecuteTime": {
     "end_time": "2025-09-23T15:05:42.642581Z",
     "start_time": "2025-09-23T15:05:42.637007Z"
    }
   },
   "cell_type": "code",
   "source": [
    "loss_fn = nn.CrossEntropyLoss()\n",
    "optimizer = torch.optim.Adam(model_1.parameters(), lr=0.001)\n",
    "acc_fn = torchmetrics.Accuracy(task=\"multiclass\", num_classes=len(class_names))"
   ],
   "id": "53e23c2de1ae68c9",
   "outputs": [],
   "execution_count": 49
  },
  {
   "metadata": {
    "ExecuteTime": {
     "end_time": "2025-09-23T18:08:49.025693Z",
     "start_time": "2025-09-23T18:05:23.387313Z"
    }
   },
   "cell_type": "code",
   "source": [
    "training_loop(model=model_1,\n",
    "              device=device,\n",
    "              EPOCHS=20)"
   ],
   "id": "90922ca76316849f",
   "outputs": [
    {
     "data": {
      "text/plain": [
       "Training epochs:   0%|          | 0/20 [00:00<?, ?it/s]"
      ],
      "application/vnd.jupyter.widget-view+json": {
       "version_major": 2,
       "version_minor": 0,
       "model_id": "ceb21746e9e1456489a6f7ad2c836f52"
      }
     },
     "metadata": {},
     "output_type": "display_data"
    },
    {
     "name": "stdout",
     "output_type": "stream",
     "text": [
      "Epoch 1/20\n",
      "Batch 1/938.\n",
      "    0/60000 Images processed\n",
      "Batch 501/938.\n",
      "    32000/60000 Images processed\n",
      "Train loss: 0.075493, test loss: 0.2878, test accuracy: 0.9190\n",
      "Epoch 2/20\n",
      "Batch 1/938.\n",
      "    0/60000 Images processed\n",
      "Batch 501/938.\n",
      "    32000/60000 Images processed\n",
      "Train loss: 0.075505, test loss: 0.2878, test accuracy: 0.9190\n",
      "Epoch 3/20\n",
      "Batch 1/938.\n",
      "    0/60000 Images processed\n",
      "Batch 501/938.\n",
      "    32000/60000 Images processed\n",
      "Train loss: 0.075437, test loss: 0.2878, test accuracy: 0.9190\n",
      "Epoch 4/20\n",
      "Batch 1/938.\n",
      "    0/60000 Images processed\n",
      "Batch 501/938.\n",
      "    32000/60000 Images processed\n",
      "Train loss: 0.075476, test loss: 0.2878, test accuracy: 0.9190\n",
      "Epoch 5/20\n",
      "Batch 1/938.\n",
      "    0/60000 Images processed\n",
      "Batch 501/938.\n",
      "    32000/60000 Images processed\n",
      "Train loss: 0.075500, test loss: 0.2878, test accuracy: 0.9190\n",
      "Epoch 6/20\n",
      "Batch 1/938.\n",
      "    0/60000 Images processed\n",
      "Batch 501/938.\n",
      "    32000/60000 Images processed\n",
      "Train loss: 0.075532, test loss: 0.2878, test accuracy: 0.9190\n",
      "Epoch 7/20\n",
      "Batch 1/938.\n",
      "    0/60000 Images processed\n",
      "Batch 501/938.\n",
      "    32000/60000 Images processed\n",
      "Train loss: 0.075481, test loss: 0.2878, test accuracy: 0.9190\n",
      "Epoch 8/20\n",
      "Batch 1/938.\n",
      "    0/60000 Images processed\n",
      "Batch 501/938.\n",
      "    32000/60000 Images processed\n",
      "Train loss: 0.075438, test loss: 0.2878, test accuracy: 0.9190\n",
      "Epoch 9/20\n",
      "Batch 1/938.\n",
      "    0/60000 Images processed\n",
      "Batch 501/938.\n",
      "    32000/60000 Images processed\n",
      "Train loss: 0.075481, test loss: 0.2878, test accuracy: 0.9190\n",
      "Epoch 10/20\n",
      "Batch 1/938.\n",
      "    0/60000 Images processed\n",
      "Batch 501/938.\n",
      "    32000/60000 Images processed\n",
      "Train loss: 0.075481, test loss: 0.2878, test accuracy: 0.9190\n",
      "Epoch 11/20\n",
      "Batch 1/938.\n",
      "    0/60000 Images processed\n",
      "Batch 501/938.\n",
      "    32000/60000 Images processed\n",
      "Train loss: 0.075455, test loss: 0.2878, test accuracy: 0.9190\n",
      "Epoch 12/20\n",
      "Batch 1/938.\n",
      "    0/60000 Images processed\n",
      "Batch 501/938.\n",
      "    32000/60000 Images processed\n",
      "Train loss: 0.075490, test loss: 0.2878, test accuracy: 0.9190\n",
      "Epoch 13/20\n",
      "Batch 1/938.\n",
      "    0/60000 Images processed\n",
      "Batch 501/938.\n",
      "    32000/60000 Images processed\n",
      "Train loss: 0.075438, test loss: 0.2878, test accuracy: 0.9190\n",
      "Epoch 14/20\n",
      "Batch 1/938.\n",
      "    0/60000 Images processed\n",
      "Batch 501/938.\n",
      "    32000/60000 Images processed\n",
      "Train loss: 0.075500, test loss: 0.2878, test accuracy: 0.9190\n",
      "Epoch 15/20\n",
      "Batch 1/938.\n",
      "    0/60000 Images processed\n",
      "Batch 501/938.\n",
      "    32000/60000 Images processed\n",
      "Train loss: 0.075493, test loss: 0.2878, test accuracy: 0.9190\n",
      "Epoch 16/20\n",
      "Batch 1/938.\n",
      "    0/60000 Images processed\n",
      "Batch 501/938.\n",
      "    32000/60000 Images processed\n",
      "Train loss: 0.075460, test loss: 0.2878, test accuracy: 0.9190\n",
      "Epoch 17/20\n",
      "Batch 1/938.\n",
      "    0/60000 Images processed\n",
      "Batch 501/938.\n",
      "    32000/60000 Images processed\n",
      "Train loss: 0.075473, test loss: 0.2878, test accuracy: 0.9190\n",
      "Epoch 18/20\n",
      "Batch 1/938.\n",
      "    0/60000 Images processed\n",
      "Batch 501/938.\n",
      "    32000/60000 Images processed\n",
      "Train loss: 0.075468, test loss: 0.2878, test accuracy: 0.9190\n",
      "Epoch 19/20\n",
      "Batch 1/938.\n",
      "    0/60000 Images processed\n",
      "Batch 501/938.\n",
      "    32000/60000 Images processed\n",
      "Train loss: 0.075451, test loss: 0.2878, test accuracy: 0.9190\n",
      "Epoch 20/20\n",
      "Batch 1/938.\n",
      "    0/60000 Images processed\n",
      "Batch 501/938.\n",
      "    32000/60000 Images processed\n",
      "Train loss: 0.075493, test loss: 0.2878, test accuracy: 0.9190\n",
      "Train time on device mps:0: 11121.082844249999.\n"
     ]
    },
    {
     "data": {
      "text/plain": [
       "FashionMNISTModelV1(\n",
       "  (layer_stack): Sequential(\n",
       "    (0): Conv2d(1, 32, kernel_size=(3, 3), stride=(1, 1), padding=(1, 1))\n",
       "    (1): ReLU()\n",
       "    (2): MaxPool2d(kernel_size=2, stride=2, padding=0, dilation=1, ceil_mode=False)\n",
       "    (3): Conv2d(32, 64, kernel_size=(3, 3), stride=(1, 1), padding=(1, 1))\n",
       "    (4): ReLU()\n",
       "    (5): MaxPool2d(kernel_size=2, stride=2, padding=0, dilation=1, ceil_mode=False)\n",
       "    (6): Flatten(start_dim=1, end_dim=-1)\n",
       "    (7): Linear(in_features=3136, out_features=128, bias=True)\n",
       "    (8): ReLU()\n",
       "    (9): Linear(in_features=128, out_features=10, bias=True)\n",
       "  )\n",
       ")"
      ]
     },
     "execution_count": 115,
     "metadata": {},
     "output_type": "execute_result"
    }
   ],
   "execution_count": 115
  },
  {
   "metadata": {
    "ExecuteTime": {
     "end_time": "2025-09-23T18:11:37.577670Z",
     "start_time": "2025-09-23T18:11:35.682934Z"
    }
   },
   "cell_type": "code",
   "source": [
    "model_1_results = eval_model(model_1,\n",
    "                             test_dataloader,\n",
    "                             loss_fn,\n",
    "                             acc_fn,\n",
    "                             str(next(model_1.parameters()).device))\n",
    "model_1_results"
   ],
   "id": "a8d8a3fcedb114a4",
   "outputs": [
    {
     "data": {
      "text/plain": [
       "{'model_name': 'FashionMNISTModelV1',\n",
       " 'model': FashionMNISTModelV1(\n",
       "   (layer_stack): Sequential(\n",
       "     (0): Conv2d(1, 32, kernel_size=(3, 3), stride=(1, 1), padding=(1, 1))\n",
       "     (1): ReLU()\n",
       "     (2): MaxPool2d(kernel_size=2, stride=2, padding=0, dilation=1, ceil_mode=False)\n",
       "     (3): Conv2d(32, 64, kernel_size=(3, 3), stride=(1, 1), padding=(1, 1))\n",
       "     (4): ReLU()\n",
       "     (5): MaxPool2d(kernel_size=2, stride=2, padding=0, dilation=1, ceil_mode=False)\n",
       "     (6): Flatten(start_dim=1, end_dim=-1)\n",
       "     (7): Linear(in_features=3136, out_features=128, bias=True)\n",
       "     (8): ReLU()\n",
       "     (9): Linear(in_features=128, out_features=10, bias=True)\n",
       "   )\n",
       " ),\n",
       " 'loss': 0.28775882630781,\n",
       " 'accuracy': 0.9189888535031847}"
      ]
     },
     "execution_count": 116,
     "metadata": {},
     "output_type": "execute_result"
    }
   ],
   "execution_count": 116
  },
  {
   "metadata": {},
   "cell_type": "markdown",
   "source": [
    "(Back to the course)\n",
    "## 6. Model 1: Building a better model with non-linearity\n",
    "We learned the power of non-linearity in notebook 02"
   ],
   "id": "e99b86a41664c1bf"
  },
  {
   "metadata": {
    "ExecuteTime": {
     "end_time": "2025-09-23T15:08:53.363104Z",
     "start_time": "2025-09-23T15:08:53.353175Z"
    }
   },
   "cell_type": "code",
   "source": [
    "# Create a model with non-linear and linear layers\n",
    "class FashionMNISTModelV2(nn.Module):\n",
    "    def __init__(self, in_features, hidden1, hidden2, out_features):\n",
    "        super().__init__()\n",
    "        self.layer_stack = nn.Sequential(\n",
    "            nn.Flatten(),\n",
    "            nn.Linear(in_features=in_features, out_features=hidden1),\n",
    "            nn.ReLU(),\n",
    "            nn.Linear(in_features=hidden1, out_features=hidden2),\n",
    "            nn.ReLU(),\n",
    "            nn.Linear(in_features=hidden2, out_features=out_features),\n",
    "            nn.ReLU()\n",
    "        )\n",
    "    def forward(self, x):\n",
    "        return self.layer_stack(x)"
   ],
   "id": "89f42984ee6aa4d3",
   "outputs": [],
   "execution_count": 52
  },
  {
   "metadata": {
    "ExecuteTime": {
     "end_time": "2025-09-23T15:08:53.403944Z",
     "start_time": "2025-09-23T15:08:53.376509Z"
    }
   },
   "cell_type": "code",
   "source": [
    "# Creating an instance of model_2\n",
    "torch.manual_seed(42)\n",
    "model_2 = FashionMNISTModelV2(in_features=28*28,\n",
    "                              hidden1=64,\n",
    "                              hidden2=32,\n",
    "                              out_features=len(class_names)\n",
    "                              ).to(device)\n",
    "model_2"
   ],
   "id": "ecd52c3d05f7580a",
   "outputs": [
    {
     "data": {
      "text/plain": [
       "FashionMNISTModelV2(\n",
       "  (layer_stack): Sequential(\n",
       "    (0): Flatten(start_dim=1, end_dim=-1)\n",
       "    (1): Linear(in_features=784, out_features=64, bias=True)\n",
       "    (2): ReLU()\n",
       "    (3): Linear(in_features=64, out_features=32, bias=True)\n",
       "    (4): ReLU()\n",
       "    (5): Linear(in_features=32, out_features=10, bias=True)\n",
       "    (6): ReLU()\n",
       "  )\n",
       ")"
      ]
     },
     "execution_count": 53,
     "metadata": {},
     "output_type": "execute_result"
    }
   ],
   "execution_count": 53
  },
  {
   "metadata": {},
   "cell_type": "markdown",
   "source": "### 6.1 Setup loss, optimizer and evaluation metrics",
   "id": "b14de40bf14e4300"
  },
  {
   "metadata": {
    "ExecuteTime": {
     "end_time": "2025-09-23T15:08:53.445945Z",
     "start_time": "2025-09-23T15:08:53.435178Z"
    }
   },
   "cell_type": "code",
   "source": [
    "loss_fn = nn.CrossEntropyLoss() # measure how wrong the model is\n",
    "optimizer = torch.optim.Adam(model_2.parameters(), lr=0.001) # tries to update our model's parameters to reduce the loss\n",
    "acc_fn = torchmetrics.Accuracy(task=\"multiclass\", num_classes=len(class_names))"
   ],
   "id": "4d232f2ba9482efc",
   "outputs": [],
   "execution_count": 54
  },
  {
   "metadata": {},
   "cell_type": "markdown",
   "source": [
    "### 6.2 Functionizing training and evaluation/testing loops\n",
    "\n",
    "Let's create a function for:\n",
    "* training loop - `train_step()`\n",
    "* testing loop - `test_step()`"
   ],
   "id": "1297a006059e8660"
  },
  {
   "metadata": {
    "ExecuteTime": {
     "end_time": "2025-09-23T15:08:53.463918Z",
     "start_time": "2025-09-23T15:08:53.457326Z"
    }
   },
   "cell_type": "code",
   "source": [
    "# Import tqdm for a progress bar\n",
    "from tqdm.auto import tqdm\n",
    "def training_step(model: torch.nn.Module,\n",
    "                  dataloader: torch.utils.data.DataLoader,\n",
    "                  loss_fn: torch.nn.Module,\n",
    "                  optimizer: torch.optim.Optimizer,\n",
    "                  acc_fn: torch.nn.Module,\n",
    "                  device: torch.device = device):\n",
    "    \"\"\"\n",
    "    Performs a training with a model trying to learn on `dataloader`\n",
    "\n",
    "    :param model: The model to train\n",
    "    :param dataloader: The dataloader to train on\n",
    "    :param loss_fn: The loss function\n",
    "    :param optimizer: The optimizer\n",
    "    :param acc_fn: The accuracy function\n",
    "    :param device: The device to train on\n",
    "    :return: The trained model\n",
    "    \"\"\"\n",
    "\n",
    "    train_loss, train_accuracy = 0, 0\n",
    "    # Device-agnostic code\n",
    "    model.to(device)\n",
    "    acc_fn.to(device)\n",
    "    loss_fn.to(device)\n",
    "\n",
    "    # Put model into training mode\n",
    "    model.train()\n",
    "\n",
    "    # Add a loop to loop through the training batches\n",
    "    for batch_idx, (data, target) in enumerate(dataloader):\n",
    "\n",
    "        # Put data on target device\n",
    "        data, target = data.to(device), target.to(device)\n",
    "\n",
    "        # 1. Forward pass\n",
    "        y_pred = model(data)\n",
    "\n",
    "        # 2. Calculate the loss (per batch)\n",
    "        loss = loss_fn(y_pred, target)\n",
    "        train_loss += loss.item()\n",
    "        train_accuracy += acc_fn(y_pred, target)\n",
    "\n",
    "        # 3. Optimizer zero grad\n",
    "        optimizer.zero_grad()\n",
    "\n",
    "        # 4. Loss backward\n",
    "        loss.backward()\n",
    "\n",
    "        # 5. Optimizer step\n",
    "        optimizer.step()\n",
    "\n",
    "    # Divide total loss by length of train dataloader\n",
    "    train_loss /= len(dataloader)\n",
    "    train_accuracy /= len(dataloader)\n",
    "\n",
    "    # Print out what's happening\n",
    "    print(f\"Train loss: {train_loss:5f}, Train accuracy: {train_accuracy*100:.2f}%\")\n",
    "\n",
    "    return model"
   ],
   "id": "257987fff8698b5e",
   "outputs": [],
   "execution_count": 55
  },
  {
   "metadata": {
    "ExecuteTime": {
     "end_time": "2025-09-23T15:08:53.487992Z",
     "start_time": "2025-09-23T15:08:53.481075Z"
    }
   },
   "cell_type": "code",
   "source": [
    "def test_step(model: torch.nn.Module,\n",
    "              dataloader: torch.utils.data.DataLoader,\n",
    "              loss_fn: torch.nn.Module,\n",
    "              acc_fn: torch.nn.Module,\n",
    "              device: torch.device = device):\n",
    "    \"\"\"\n",
    "    Performs a testing with a model trying to learn on `dataloader`\n",
    "    :param model: The model to test\n",
    "    :param dataloader: The dataloader to test on\n",
    "    :param loss_fn: The loss function\n",
    "    :param acc_fn: The accuracy function\n",
    "    :param device: The device to train on\n",
    "    :return: The trained model\n",
    "    \"\"\"\n",
    "    acc_fn.to(device)\n",
    "    model.to(device)\n",
    "\n",
    "    ### Testing\n",
    "    test_loss, test_accuracy = 0, 0\n",
    "    loss_fn.to(device)\n",
    "    acc_fn.to(device)\n",
    "\n",
    "    model.eval()\n",
    "    with torch.inference_mode():\n",
    "        for X_test, y_test in dataloader:\n",
    "            X_test, y_test = X_test.to(device), y_test.to(device)\n",
    "            # 1. Forward pass\n",
    "            test_pred = model(X_test)\n",
    "\n",
    "            # 2. Calculate the test loss (accumulatively)\n",
    "            test_loss += loss_fn(test_pred, y_test).item()\n",
    "\n",
    "            #  3. Calculate the accuracy\n",
    "            test_accuracy += acc_fn.to(device)(test_pred, y_test).item()\n",
    "        # Calculate the test loss average per batch\n",
    "        test_loss /= len(dataloader)\n",
    "\n",
    "        # Calculate the test accuracy average per batch\n",
    "        test_accuracy /= len(dataloader)\n",
    "    # Print out what's happening\n",
    "    print(f'Test loss: {test_loss:.4f}, test accuracy: {test_accuracy*100:.2f}%')\n",
    "    return model"
   ],
   "id": "73bd845492fe84a9",
   "outputs": [],
   "execution_count": 56
  },
  {
   "metadata": {
    "ExecuteTime": {
     "end_time": "2025-09-23T18:15:27.216441Z",
     "start_time": "2025-09-23T18:15:27.150549Z"
    }
   },
   "cell_type": "code",
   "source": [
    "model_2 = FashionMNISTModelV2(in_features=28*28,\n",
    "                              hidden1=64,\n",
    "                              hidden2=32,\n",
    "                              out_features=len(class_names)\n",
    "                              ).to(device)\n",
    "loss_fn = nn.CrossEntropyLoss() # measure how wrong the model is\n",
    "optimizer = torch.optim.Adam(model_2.parameters(), lr=0.001) # tries to update our model's parameters to reduce the loss\n",
    "acc_fn = torchmetrics.Accuracy(task=\"multiclass\", num_classes=len(class_names))\n",
    "model_2, device"
   ],
   "id": "3e8f75f0c01fd08b",
   "outputs": [
    {
     "data": {
      "text/plain": [
       "(FashionMNISTModelV2(\n",
       "   (layer_stack): Sequential(\n",
       "     (0): Flatten(start_dim=1, end_dim=-1)\n",
       "     (1): Linear(in_features=784, out_features=64, bias=True)\n",
       "     (2): ReLU()\n",
       "     (3): Linear(in_features=64, out_features=32, bias=True)\n",
       "     (4): ReLU()\n",
       "     (5): Linear(in_features=32, out_features=10, bias=True)\n",
       "     (6): ReLU()\n",
       "   )\n",
       " ),\n",
       " device(type='mps'))"
      ]
     },
     "execution_count": 117,
     "metadata": {},
     "output_type": "execute_result"
    }
   ],
   "execution_count": 117
  },
  {
   "metadata": {
    "ExecuteTime": {
     "end_time": "2025-09-23T18:19:27.719622Z",
     "start_time": "2025-09-23T18:15:34.223004Z"
    }
   },
   "cell_type": "code",
   "source": [
    "torch.manual_seed(RANDOM_SEED)\n",
    "train_time_start = timer()\n",
    "\n",
    "# Set the number of epochs (we'll keep this small for faster training time)\n",
    "EPOCHS = 20\n",
    "\n",
    "# Create training and testing loop\n",
    "for epoch in tqdm(range(EPOCHS), desc=\"Training epochs\"):\n",
    "    print(f\"Epoch {epoch + 1}/{EPOCHS}\")\n",
    "    training_step(model=model_2,\n",
    "                  dataloader=train_dataloader,\n",
    "                  loss_fn=loss_fn,\n",
    "                  optimizer=optimizer,\n",
    "                  acc_fn=acc_fn,\n",
    "                  device=device)\n",
    "    test_step(model=model_2,\n",
    "              dataloader=test_dataloader,\n",
    "              loss_fn=loss_fn,\n",
    "              acc_fn=acc_fn,\n",
    "              device=device)\n",
    "# Calculate the training time\n",
    "end_time = timer()\n",
    "print_train_time(start_time, end_time, str(next(model_2.parameters()).device))\n"
   ],
   "id": "9917bcb2de90da4a",
   "outputs": [
    {
     "data": {
      "text/plain": [
       "Training epochs:   0%|          | 0/20 [00:00<?, ?it/s]"
      ],
      "application/vnd.jupyter.widget-view+json": {
       "version_major": 2,
       "version_minor": 0,
       "model_id": "800b0a39ab0443eb8022d81dab908e23"
      }
     },
     "metadata": {},
     "output_type": "display_data"
    },
    {
     "name": "stdout",
     "output_type": "stream",
     "text": [
      "Epoch 1/20\n",
      "Train loss: 0.768021, Train accuracy: 72.73%\n",
      "Test loss: 0.6868, test accuracy: 74.64%\n",
      "Epoch 2/20\n",
      "Train loss: 0.626964, Train accuracy: 76.74%\n",
      "Test loss: 0.6639, test accuracy: 74.88%\n",
      "Epoch 3/20\n",
      "Train loss: 0.593661, Train accuracy: 77.63%\n",
      "Test loss: 0.6358, test accuracy: 75.94%\n",
      "Epoch 4/20\n",
      "Train loss: 0.569064, Train accuracy: 78.40%\n",
      "Test loss: 0.5962, test accuracy: 77.93%\n",
      "Epoch 5/20\n",
      "Train loss: 0.552621, Train accuracy: 78.91%\n",
      "Test loss: 0.5971, test accuracy: 77.69%\n",
      "Epoch 6/20\n",
      "Train loss: 0.537202, Train accuracy: 79.34%\n",
      "Test loss: 0.5943, test accuracy: 77.38%\n",
      "Epoch 7/20\n",
      "Train loss: 0.526165, Train accuracy: 79.65%\n",
      "Test loss: 0.5809, test accuracy: 77.90%\n",
      "Epoch 8/20\n",
      "Train loss: 0.515324, Train accuracy: 80.16%\n",
      "Test loss: 0.5900, test accuracy: 77.95%\n",
      "Epoch 9/20\n",
      "Train loss: 0.505998, Train accuracy: 80.32%\n",
      "Test loss: 0.5964, test accuracy: 77.83%\n",
      "Epoch 10/20\n",
      "Train loss: 0.496892, Train accuracy: 80.68%\n",
      "Test loss: 0.5906, test accuracy: 77.89%\n",
      "Epoch 11/20\n",
      "Train loss: 0.490288, Train accuracy: 80.85%\n",
      "Test loss: 0.5744, test accuracy: 78.39%\n",
      "Epoch 12/20\n",
      "Train loss: 0.482753, Train accuracy: 81.07%\n",
      "Test loss: 0.5805, test accuracy: 78.41%\n",
      "Epoch 13/20\n",
      "Train loss: 0.477034, Train accuracy: 81.32%\n",
      "Test loss: 0.5796, test accuracy: 78.00%\n",
      "Epoch 14/20\n",
      "Train loss: 0.468143, Train accuracy: 81.52%\n",
      "Test loss: 0.5785, test accuracy: 78.33%\n",
      "Epoch 15/20\n",
      "Train loss: 0.464247, Train accuracy: 81.72%\n",
      "Test loss: 0.5950, test accuracy: 77.84%\n",
      "Epoch 16/20\n",
      "Train loss: 0.459143, Train accuracy: 81.85%\n",
      "Test loss: 0.5740, test accuracy: 79.23%\n",
      "Epoch 17/20\n",
      "Train loss: 0.454161, Train accuracy: 82.07%\n",
      "Test loss: 0.5774, test accuracy: 79.19%\n",
      "Epoch 18/20\n",
      "Train loss: 0.450609, Train accuracy: 82.20%\n",
      "Test loss: 0.5813, test accuracy: 78.63%\n",
      "Epoch 19/20\n",
      "Train loss: 0.444736, Train accuracy: 82.31%\n",
      "Test loss: 0.5710, test accuracy: 79.04%\n",
      "Epoch 20/20\n",
      "Train loss: 0.438851, Train accuracy: 82.62%\n",
      "Test loss: 0.5923, test accuracy: 78.60%\n",
      "Train time on device mps:0: 11759.744755083999.\n"
     ]
    }
   ],
   "execution_count": 118
  },
  {
   "metadata": {},
   "cell_type": "markdown",
   "source": [
    "> **Note:** Sometimes, depending on your data/hardware you might find that your nodel trains faster on CPU than GPU.\n",
    ">\n",
    "> Why is this?\n",
    ">\n",
    "> 1. It could be that the overhead for copying data/model to and from the GPU outweighs the compute benefits offered by the GPU.\n",
    "> 2. The hardware you're using has a better CPU in terms compute capability than the GPU.\n",
    ">\n",
    "> For more on how to make your models compute faster, see here: https://horace.io/brrr_intro.html"
   ],
   "id": "b92f4d9cb05f5024"
  },
  {
   "metadata": {
    "ExecuteTime": {
     "end_time": "2025-09-23T18:19:29.076872Z",
     "start_time": "2025-09-23T18:19:27.788160Z"
    }
   },
   "cell_type": "code",
   "source": [
    "model_2_results = eval_model(\n",
    "    model_2,\n",
    "    test_dataloader,\n",
    "    loss_fn,\n",
    "    acc_fn,\n",
    "    str(next(model_2.parameters()).device)\n",
    ")\n",
    "model_2_results"
   ],
   "id": "90815deef236bc15",
   "outputs": [
    {
     "data": {
      "text/plain": [
       "{'model_name': 'FashionMNISTModelV2',\n",
       " 'model': FashionMNISTModelV2(\n",
       "   (layer_stack): Sequential(\n",
       "     (0): Flatten(start_dim=1, end_dim=-1)\n",
       "     (1): Linear(in_features=784, out_features=64, bias=True)\n",
       "     (2): ReLU()\n",
       "     (3): Linear(in_features=64, out_features=32, bias=True)\n",
       "     (4): ReLU()\n",
       "     (5): Linear(in_features=32, out_features=10, bias=True)\n",
       "     (6): ReLU()\n",
       "   )\n",
       " ),\n",
       " 'loss': 0.5923054770679231,\n",
       " 'accuracy': 0.7860270700636943}"
      ]
     },
     "execution_count": 119,
     "metadata": {},
     "output_type": "execute_result"
    }
   ],
   "execution_count": 119
  },
  {
   "metadata": {
    "ExecuteTime": {
     "end_time": "2025-09-23T11:53:22.982271Z",
     "start_time": "2025-09-23T11:53:22.979859Z"
    }
   },
   "cell_type": "markdown",
   "source": [
    "## 7. Model 2/3: Building a Convolutional Neural Network (CNN)\n",
    "\n",
    "CNN's are also known ConvNets.\n",
    "\n",
    "CNN's are known for their capabilities to find patterns in visual data.\n",
    "\n",
    "To find out what's happening inside a CNN, see this website: https://poloclub.github.io/cnn-explainer/"
   ],
   "id": "804449f5c57c2e91"
  },
  {
   "metadata": {
    "ExecuteTime": {
     "end_time": "2025-09-23T17:47:48.353522Z",
     "start_time": "2025-09-23T17:47:48.346658Z"
    }
   },
   "cell_type": "code",
   "source": [
    "# Create a convolutional neural network\n",
    "class FashionMNISTModelV3(nn.Module):\n",
    "    \"\"\"\n",
    "    Model architecture tht replicates the TinyVGG model from CNN explainer website\n",
    "    \"\"\"\n",
    "    def __init__(self, in_features, hidden_units, out_features):\n",
    "        super().__init__()\n",
    "        self.conv_block_1 = nn.Sequential(\n",
    "            nn.Conv2d(in_channels=in_features,  # the colour channels\n",
    "                      out_channels=hidden_units,  # output filter channels\n",
    "                      kernel_size=3,\n",
    "                      stride=1,\n",
    "                      padding=1), # values we can set ourselves in our NN's are called hyperparameters\n",
    "            nn.ReLU(),\n",
    "\n",
    "            nn.Conv2d(in_channels=hidden_units,\n",
    "                      out_channels=hidden_units,\n",
    "                      kernel_size=3,\n",
    "                      stride=1,\n",
    "                      padding=1),\n",
    "            nn.ReLU(),\n",
    "            nn.MaxPool2d(kernel_size=2)\n",
    "        )\n",
    "\n",
    "        self.conv_block_2 = nn.Sequential(\n",
    "            nn.Conv2d(in_channels=hidden_units,  # the colour channels\n",
    "                      out_channels=hidden_units,  # output filter channels\n",
    "                      kernel_size=3,\n",
    "                      stride=1,\n",
    "                      padding=1),\n",
    "            nn.ReLU(),\n",
    "            nn.Conv2d(in_channels=hidden_units,\n",
    "                      out_channels=hidden_units,\n",
    "                      kernel_size=3,\n",
    "                      stride=1,\n",
    "                      padding=1),\n",
    "            nn.ReLU(),\n",
    "            nn.Conv2d(in_channels=hidden_units,\n",
    "                      out_channels=hidden_units,\n",
    "                      kernel_size=3,\n",
    "                      stride=1,\n",
    "                      padding=1),\n",
    "            nn.ReLU(),\n",
    "            nn.MaxPool2d(kernel_size=2)\n",
    "        )\n",
    "\n",
    "        self.classifier = nn.Sequential(\n",
    "            nn.Flatten(),\n",
    "            nn.Linear(hidden_units * 7 * 7, out_features)\n",
    "        )\n",
    "\n",
    "    def forward(self, x):\n",
    "        x = self.conv_block_1(x)\n",
    "        x = self.conv_block_2(x)\n",
    "        return self.classifier(x)"
   ],
   "id": "d76da58cfd7ae0a9",
   "outputs": [],
   "execution_count": 108
  },
  {
   "metadata": {
    "ExecuteTime": {
     "end_time": "2025-09-23T17:47:48.800807Z",
     "start_time": "2025-09-23T17:47:48.754243Z"
    }
   },
   "cell_type": "code",
   "source": [
    "model_3 = FashionMNISTModelV3(in_features=1,\n",
    "                              hidden_units=64,\n",
    "                              out_features=len(class_names)\n",
    "                              ).to(device)\n",
    "loss_fn = nn.CrossEntropyLoss() # measure how wrong the model is\n",
    "optimizer = torch.optim.Adam(model_3.parameters(), lr=0.001) # tries to update our model's parameters to reduce the loss\n",
    "acc_fn = torchmetrics.Accuracy(task=\"multiclass\", num_classes=len(class_names))\n",
    "model_3, device"
   ],
   "id": "358bbbee8f23ad9a",
   "outputs": [
    {
     "data": {
      "text/plain": [
       "(FashionMNISTModelV3(\n",
       "   (conv_block_1): Sequential(\n",
       "     (0): Conv2d(1, 64, kernel_size=(3, 3), stride=(1, 1), padding=(1, 1))\n",
       "     (1): ReLU()\n",
       "     (2): Conv2d(64, 64, kernel_size=(3, 3), stride=(1, 1), padding=(1, 1))\n",
       "     (3): ReLU()\n",
       "     (4): MaxPool2d(kernel_size=2, stride=2, padding=0, dilation=1, ceil_mode=False)\n",
       "   )\n",
       "   (conv_block_2): Sequential(\n",
       "     (0): Conv2d(64, 64, kernel_size=(3, 3), stride=(1, 1), padding=(1, 1))\n",
       "     (1): ReLU()\n",
       "     (2): Conv2d(64, 64, kernel_size=(3, 3), stride=(1, 1), padding=(1, 1))\n",
       "     (3): ReLU()\n",
       "     (4): Conv2d(64, 64, kernel_size=(3, 3), stride=(1, 1), padding=(1, 1))\n",
       "     (5): ReLU()\n",
       "     (6): MaxPool2d(kernel_size=2, stride=2, padding=0, dilation=1, ceil_mode=False)\n",
       "   )\n",
       "   (classifier): Sequential(\n",
       "     (0): Flatten(start_dim=1, end_dim=-1)\n",
       "     (1): Linear(in_features=3136, out_features=10, bias=True)\n",
       "   )\n",
       " ),\n",
       " device(type='mps'))"
      ]
     },
     "execution_count": 109,
     "metadata": {},
     "output_type": "execute_result"
    }
   ],
   "execution_count": 109
  },
  {
   "metadata": {
    "ExecuteTime": {
     "end_time": "2025-09-23T17:13:57.295155Z",
     "start_time": "2025-09-23T17:13:31.298436Z"
    }
   },
   "cell_type": "code",
   "source": [
    "training_step(\n",
    "    model=model_3,\n",
    "    dataloader=train_dataloader,\n",
    "    loss_fn=loss_fn,\n",
    "    optimizer=optimizer,\n",
    "    acc_fn=acc_fn,\n",
    "    device=device\n",
    ")"
   ],
   "id": "310a50562d2a5a44",
   "outputs": [
    {
     "name": "stdout",
     "output_type": "stream",
     "text": [
      "Train loss: 0.264053, Train accuracy: 90.54%\n"
     ]
    },
    {
     "data": {
      "text/plain": [
       "FashionMNISTModelV3(\n",
       "  (conv_block_1): Sequential(\n",
       "    (0): Conv2d(1, 64, kernel_size=(3, 3), stride=(1, 1), padding=(1, 1))\n",
       "    (1): ReLU()\n",
       "    (2): Conv2d(64, 64, kernel_size=(3, 3), stride=(1, 1), padding=(1, 1))\n",
       "    (3): ReLU()\n",
       "    (4): MaxPool2d(kernel_size=2, stride=2, padding=0, dilation=1, ceil_mode=False)\n",
       "  )\n",
       "  (conv_block_2): Sequential(\n",
       "    (0): Conv2d(64, 64, kernel_size=(3, 3), stride=(1, 1), padding=(1, 1))\n",
       "    (1): ReLU()\n",
       "    (2): Conv2d(64, 64, kernel_size=(3, 3), stride=(1, 1), padding=(1, 1))\n",
       "    (3): ReLU()\n",
       "    (4): Conv2d(64, 64, kernel_size=(3, 3), stride=(1, 1), padding=(1, 1))\n",
       "    (5): ReLU()\n",
       "    (6): MaxPool2d(kernel_size=2, stride=2, padding=0, dilation=1, ceil_mode=False)\n",
       "  )\n",
       "  (classifier): Sequential(\n",
       "    (0): Flatten(start_dim=1, end_dim=-1)\n",
       "    (1): Linear(in_features=3136, out_features=10, bias=True)\n",
       "  )\n",
       ")"
      ]
     },
     "execution_count": 100,
     "metadata": {},
     "output_type": "execute_result"
    }
   ],
   "execution_count": 100
  },
  {
   "metadata": {
    "ExecuteTime": {
     "end_time": "2025-09-23T15:10:48.305272Z",
     "start_time": "2025-09-23T15:10:44.717989Z"
    }
   },
   "cell_type": "code",
   "source": [
    "test_step(\n",
    "    model=model_3,\n",
    "    dataloader=test_dataloader,\n",
    "    loss_fn=loss_fn,\n",
    "    acc_fn=acc_fn,\n",
    ")"
   ],
   "id": "7ae4723f115a89bd",
   "outputs": [
    {
     "name": "stdout",
     "output_type": "stream",
     "text": [
      "Test loss: 0.3124, test accuracy: 88.76%\n"
     ]
    },
    {
     "data": {
      "text/plain": [
       "FashionMNISTModelV3(\n",
       "  (conv_block_1): Sequential(\n",
       "    (0): Conv2d(1, 64, kernel_size=(3, 3), stride=(1, 1), padding=(1, 1))\n",
       "    (1): ReLU()\n",
       "    (2): Conv2d(64, 64, kernel_size=(3, 3), stride=(1, 1), padding=(1, 1))\n",
       "    (3): ReLU()\n",
       "    (4): MaxPool2d(kernel_size=2, stride=2, padding=0, dilation=1, ceil_mode=False)\n",
       "  )\n",
       "  (conv_block_2): Sequential(\n",
       "    (0): Conv2d(64, 64, kernel_size=(3, 3), stride=(1, 1), padding=(1, 1))\n",
       "    (1): ReLU()\n",
       "    (2): Conv2d(64, 64, kernel_size=(3, 3), stride=(1, 1), padding=(1, 1))\n",
       "    (3): ReLU()\n",
       "    (4): Conv2d(64, 64, kernel_size=(3, 3), stride=(1, 1), padding=(1, 1))\n",
       "    (5): ReLU()\n",
       "    (6): MaxPool2d(kernel_size=2, stride=2, padding=0, dilation=1, ceil_mode=False)\n",
       "  )\n",
       "  (classifier): Sequential(\n",
       "    (0): Flatten(start_dim=1, end_dim=-1)\n",
       "    (1): Linear(in_features=3136, out_features=10, bias=True)\n",
       "  )\n",
       ")"
      ]
     },
     "execution_count": 63,
     "metadata": {},
     "output_type": "execute_result"
    }
   ],
   "execution_count": 63
  },
  {
   "metadata": {
    "ExecuteTime": {
     "end_time": "2025-09-23T15:19:41.959717Z",
     "start_time": "2025-09-23T15:19:39.988495Z"
    }
   },
   "cell_type": "code",
   "source": "model_3.state_dict()",
   "id": "39e85e852d9340f5",
   "outputs": [
    {
     "data": {
      "text/plain": [
       "OrderedDict([('conv_block_1.0.weight',\n",
       "              tensor([[[[-0.0963, -0.0055, -0.1008],\n",
       "                        [ 0.2720, -0.2426, -0.1266],\n",
       "                        [-0.0485, -0.1661,  0.0736]]],\n",
       "              \n",
       "              \n",
       "                      [[[-0.3770,  0.2738, -0.3805],\n",
       "                        [ 0.2602,  0.0292, -0.2053],\n",
       "                        [ 0.1931,  0.0413,  0.2207]]],\n",
       "              \n",
       "              \n",
       "                      [[[-0.0430, -0.1513,  0.0880],\n",
       "                        [-0.1724,  0.0512,  0.2794],\n",
       "                        [ 0.1130, -0.2375,  0.1591]]],\n",
       "              \n",
       "              \n",
       "                      [[[ 0.1020,  0.1932, -0.1968],\n",
       "                        [-0.2965, -0.1169, -0.2674],\n",
       "                        [ 0.3162,  0.1232,  0.1460]]],\n",
       "              \n",
       "              \n",
       "                      [[[ 0.0689, -0.0766,  0.2572],\n",
       "                        [-0.2609, -0.0302, -0.2333],\n",
       "                        [ 0.0856, -0.1588,  0.0933]]],\n",
       "              \n",
       "              \n",
       "                      [[[-0.0843,  0.2830, -0.2010],\n",
       "                        [-0.2125, -0.1779,  0.2967],\n",
       "                        [ 0.0860,  0.3202, -0.2863]]],\n",
       "              \n",
       "              \n",
       "                      [[[-0.3410, -0.2805, -0.2290],\n",
       "                        [ 0.1289,  0.1065,  0.2678],\n",
       "                        [-0.1523, -0.2127,  0.1893]]],\n",
       "              \n",
       "              \n",
       "                      [[[-0.1286,  0.1975, -0.0939],\n",
       "                        [ 0.1841, -0.2760, -0.2023],\n",
       "                        [ 0.1008,  0.0609, -0.1048]]],\n",
       "              \n",
       "              \n",
       "                      [[[ 0.2397,  0.2628, -0.2303],\n",
       "                        [-0.1412,  0.3267, -0.1113],\n",
       "                        [-0.0892, -0.3120, -0.1921]]],\n",
       "              \n",
       "              \n",
       "                      [[[ 0.1331, -0.0125, -0.2066],\n",
       "                        [ 0.0539, -0.2061, -0.2566],\n",
       "                        [-0.1372, -0.2631, -0.1769]]],\n",
       "              \n",
       "              \n",
       "                      [[[ 0.3468,  0.0680,  0.1083],\n",
       "                        [-0.3014, -0.2280, -0.1168],\n",
       "                        [ 0.0679, -0.2984, -0.1394]]],\n",
       "              \n",
       "              \n",
       "                      [[[-0.1553,  0.0338, -0.0813],\n",
       "                        [ 0.0159, -0.2014, -0.1956],\n",
       "                        [-0.1486, -0.0668, -0.2119]]],\n",
       "              \n",
       "              \n",
       "                      [[[ 0.2870, -0.1061,  0.3046],\n",
       "                        [ 0.1286, -0.3464,  0.2423],\n",
       "                        [-0.0861, -0.1922, -0.2749]]],\n",
       "              \n",
       "              \n",
       "                      [[[-0.3207,  0.1169, -0.0429],\n",
       "                        [ 0.1387, -0.2580,  0.2843],\n",
       "                        [-0.2350, -0.0399,  0.0993]]],\n",
       "              \n",
       "              \n",
       "                      [[[ 0.1089,  0.2491,  0.2656],\n",
       "                        [-0.3190,  0.0781, -0.1515],\n",
       "                        [-0.0771, -0.2845,  0.2864]]],\n",
       "              \n",
       "              \n",
       "                      [[[-0.3239,  0.1469,  0.1064],\n",
       "                        [ 0.0803, -0.2291,  0.2623],\n",
       "                        [ 0.0959,  0.0421, -0.3840]]],\n",
       "              \n",
       "              \n",
       "                      [[[ 0.1329, -0.1153, -0.1931],\n",
       "                        [ 0.2766,  0.0686, -0.2265],\n",
       "                        [-0.2321,  0.0171,  0.2024]]],\n",
       "              \n",
       "              \n",
       "                      [[[-0.0903, -0.1640, -0.0978],\n",
       "                        [-0.2661,  0.1356,  0.2724],\n",
       "                        [-0.3296,  0.0941,  0.1798]]],\n",
       "              \n",
       "              \n",
       "                      [[[ 0.0226, -0.1481,  0.1634],\n",
       "                        [ 0.1443,  0.1049, -0.0825],\n",
       "                        [-0.1192,  0.0244, -0.0823]]],\n",
       "              \n",
       "              \n",
       "                      [[[-0.1488,  0.2278,  0.2797],\n",
       "                        [-0.0854, -0.0688,  0.0172],\n",
       "                        [-0.0652,  0.0575,  0.0821]]],\n",
       "              \n",
       "              \n",
       "                      [[[-0.2478, -0.0649,  0.3334],\n",
       "                        [ 0.1810,  0.0332, -0.1522],\n",
       "                        [-0.1518, -0.2614, -0.0715]]],\n",
       "              \n",
       "              \n",
       "                      [[[ 0.1503,  0.2055,  0.0890],\n",
       "                        [-0.2538, -0.2409, -0.1475],\n",
       "                        [ 0.4192,  0.0671, -0.1066]]],\n",
       "              \n",
       "              \n",
       "                      [[[ 0.1408, -0.1367, -0.2459],\n",
       "                        [ 0.2399, -0.1657, -0.0968],\n",
       "                        [-0.3594,  0.2167,  0.2275]]],\n",
       "              \n",
       "              \n",
       "                      [[[ 0.1061, -0.2415, -0.3381],\n",
       "                        [-0.2822,  0.2403,  0.1599],\n",
       "                        [ 0.2625,  0.1602,  0.0790]]],\n",
       "              \n",
       "              \n",
       "                      [[[ 0.0406, -0.2019, -0.2252],\n",
       "                        [-0.2770,  0.1834, -0.1175],\n",
       "                        [-0.0173, -0.1255, -0.0017]]],\n",
       "              \n",
       "              \n",
       "                      [[[-0.1972, -0.1842,  0.1352],\n",
       "                        [-0.0717,  0.2380, -0.0773],\n",
       "                        [-0.1994, -0.0209, -0.1389]]],\n",
       "              \n",
       "              \n",
       "                      [[[-0.0947, -0.3590,  0.2652],\n",
       "                        [-0.2302,  0.1072,  0.1931],\n",
       "                        [ 0.2380, -0.2945,  0.2516]]],\n",
       "              \n",
       "              \n",
       "                      [[[-0.1599,  0.1310,  0.3165],\n",
       "                        [-0.0464,  0.0046, -0.0725],\n",
       "                        [-0.2734,  0.1636, -0.3353]]],\n",
       "              \n",
       "              \n",
       "                      [[[ 0.2131,  0.2033,  0.3068],\n",
       "                        [-0.0801, -0.3489,  0.0614],\n",
       "                        [ 0.1633, -0.4048, -0.0991]]],\n",
       "              \n",
       "              \n",
       "                      [[[-0.1738, -0.0218, -0.1685],\n",
       "                        [-0.1147, -0.1039, -0.3290],\n",
       "                        [ 0.2937,  0.2887, -0.0521]]],\n",
       "              \n",
       "              \n",
       "                      [[[ 0.0221, -0.0902, -0.2399],\n",
       "                        [-0.2951,  0.1521, -0.1384],\n",
       "                        [-0.1626,  0.0268, -0.0550]]],\n",
       "              \n",
       "              \n",
       "                      [[[-0.0471,  0.0483, -0.0345],\n",
       "                        [-0.0396, -0.1288, -0.2365],\n",
       "                        [ 0.3475, -0.0940,  0.1492]]],\n",
       "              \n",
       "              \n",
       "                      [[[-0.1114,  0.0300,  0.3266],\n",
       "                        [ 0.1644, -0.2895,  0.1700],\n",
       "                        [ 0.3215,  0.0785,  0.2238]]],\n",
       "              \n",
       "              \n",
       "                      [[[ 0.3486, -0.0842,  0.1116],\n",
       "                        [-0.1913, -0.1465,  0.2828],\n",
       "                        [ 0.2012, -0.2752, -0.2322]]],\n",
       "              \n",
       "              \n",
       "                      [[[-0.1952, -0.2851, -0.2110],\n",
       "                        [-0.0449,  0.2678,  0.1003],\n",
       "                        [-0.1923, -0.2053,  0.2240]]],\n",
       "              \n",
       "              \n",
       "                      [[[-0.2172, -0.0021,  0.2022],\n",
       "                        [-0.1426, -0.0137,  0.0044],\n",
       "                        [-0.0504, -0.1333, -0.2617]]],\n",
       "              \n",
       "              \n",
       "                      [[[-0.2880, -0.1674,  0.3413],\n",
       "                        [-0.1914, -0.2257,  0.0956],\n",
       "                        [ 0.0564,  0.1645,  0.2417]]],\n",
       "              \n",
       "              \n",
       "                      [[[ 0.2409, -0.3539,  0.0294],\n",
       "                        [ 0.2746, -0.0604, -0.1894],\n",
       "                        [ 0.3780, -0.1495, -0.1814]]],\n",
       "              \n",
       "              \n",
       "                      [[[-0.3206,  0.0350,  0.1653],\n",
       "                        [ 0.0623,  0.0860, -0.2288],\n",
       "                        [-0.3181,  0.0139,  0.3229]]],\n",
       "              \n",
       "              \n",
       "                      [[[ 0.1993, -0.1970, -0.0521],\n",
       "                        [-0.2459, -0.1697,  0.0478],\n",
       "                        [ 0.1874,  0.2773, -0.3097]]],\n",
       "              \n",
       "              \n",
       "                      [[[ 0.3173, -0.2316,  0.1550],\n",
       "                        [ 0.3637, -0.0266,  0.2979],\n",
       "                        [-0.2056, -0.1576,  0.2111]]],\n",
       "              \n",
       "              \n",
       "                      [[[-0.0662, -0.0745, -0.1377],\n",
       "                        [ 0.2284,  0.1546,  0.0986],\n",
       "                        [-0.1965, -0.2875,  0.0298]]],\n",
       "              \n",
       "              \n",
       "                      [[[ 0.1215, -0.1382, -0.0875],\n",
       "                        [ 0.2343,  0.0223,  0.0049],\n",
       "                        [-0.0670, -0.3005, -0.3207]]],\n",
       "              \n",
       "              \n",
       "                      [[[-0.1804, -0.1960,  0.1150],\n",
       "                        [-0.1342, -0.1759,  0.3055],\n",
       "                        [ 0.0895,  0.2150, -0.2017]]],\n",
       "              \n",
       "              \n",
       "                      [[[-0.1119,  0.1825, -0.1813],\n",
       "                        [-0.2061,  0.0359, -0.0809],\n",
       "                        [-0.2353,  0.2433,  0.3013]]],\n",
       "              \n",
       "              \n",
       "                      [[[ 0.0348, -0.0901, -0.3495],\n",
       "                        [-0.1451,  0.0452,  0.1067],\n",
       "                        [-0.0580, -0.1606,  0.1771]]],\n",
       "              \n",
       "              \n",
       "                      [[[-0.2817,  0.2199, -0.1247],\n",
       "                        [-0.0052, -0.0462,  0.0566],\n",
       "                        [-0.1107,  0.2496, -0.0087]]],\n",
       "              \n",
       "              \n",
       "                      [[[ 0.2347,  0.3209, -0.1912],\n",
       "                        [-0.2810,  0.2733,  0.2434],\n",
       "                        [-0.2854, -0.0179, -0.3418]]],\n",
       "              \n",
       "              \n",
       "                      [[[-0.3038, -0.0151,  0.1857],\n",
       "                        [ 0.0272, -0.1570,  0.4103],\n",
       "                        [ 0.0161, -0.2244,  0.1124]]],\n",
       "              \n",
       "              \n",
       "                      [[[ 0.0525,  0.0687, -0.2837],\n",
       "                        [ 0.0973, -0.2240, -0.3338],\n",
       "                        [-0.1896,  0.3082,  0.2584]]],\n",
       "              \n",
       "              \n",
       "                      [[[ 0.2895,  0.1629,  0.2396],\n",
       "                        [-0.0552, -0.2249,  0.1590],\n",
       "                        [-0.2034, -0.2730, -0.1234]]],\n",
       "              \n",
       "              \n",
       "                      [[[ 0.1012,  0.2059, -0.1214],\n",
       "                        [-0.1805,  0.0761, -0.1651],\n",
       "                        [-0.2085,  0.2072, -0.0163]]],\n",
       "              \n",
       "              \n",
       "                      [[[ 0.2669,  0.3093,  0.0448],\n",
       "                        [ 0.0653,  0.0706, -0.0546],\n",
       "                        [-0.0745, -0.0081,  0.0688]]],\n",
       "              \n",
       "              \n",
       "                      [[[ 0.2980, -0.1363, -0.1785],\n",
       "                        [-0.0870, -0.2121,  0.0156],\n",
       "                        [ 0.2412,  0.2391,  0.1427]]],\n",
       "              \n",
       "              \n",
       "                      [[[-0.1750, -0.1259, -0.0223],\n",
       "                        [-0.0050,  0.0607, -0.2519],\n",
       "                        [ 0.1615, -0.1998, -0.1240]]],\n",
       "              \n",
       "              \n",
       "                      [[[-0.3453,  0.2209, -0.3843],\n",
       "                        [ 0.1926, -0.0966, -0.1292],\n",
       "                        [ 0.1716, -0.0738,  0.1676]]],\n",
       "              \n",
       "              \n",
       "                      [[[ 0.2354, -0.3231,  0.1388],\n",
       "                        [ 0.0620,  0.0363,  0.0578],\n",
       "                        [ 0.0817, -0.1998, -0.0415]]],\n",
       "              \n",
       "              \n",
       "                      [[[ 0.3280,  0.2216, -0.0208],\n",
       "                        [-0.2954, -0.0122, -0.2522],\n",
       "                        [ 0.2703, -0.2397, -0.0378]]],\n",
       "              \n",
       "              \n",
       "                      [[[-0.1163,  0.0571,  0.3016],\n",
       "                        [-0.0092,  0.1862,  0.2479],\n",
       "                        [ 0.2446, -0.1317, -0.0982]]],\n",
       "              \n",
       "              \n",
       "                      [[[ 0.1123, -0.1362,  0.1602],\n",
       "                        [-0.1260, -0.2917,  0.1102],\n",
       "                        [-0.0335,  0.0715,  0.2580]]],\n",
       "              \n",
       "              \n",
       "                      [[[ 0.2672,  0.3490,  0.0480],\n",
       "                        [-0.2569, -0.2208, -0.1930],\n",
       "                        [-0.2592, -0.1495, -0.2806]]],\n",
       "              \n",
       "              \n",
       "                      [[[-0.2998, -0.1939, -0.3132],\n",
       "                        [-0.1889,  0.1368,  0.2929],\n",
       "                        [-0.0702, -0.0748,  0.1826]]],\n",
       "              \n",
       "              \n",
       "                      [[[-0.1639, -0.1315,  0.2508],\n",
       "                        [-0.3269,  0.0472,  0.3123],\n",
       "                        [ 0.0493,  0.1151, -0.1776]]],\n",
       "              \n",
       "              \n",
       "                      [[[ 0.0081,  0.0454,  0.0811],\n",
       "                        [ 0.1536,  0.3136, -0.2746],\n",
       "                        [ 0.0425, -0.1449, -0.2922]]]], device='mps:0')),\n",
       "             ('conv_block_1.0.bias',\n",
       "              tensor([-0.1032, -0.2458,  0.1889,  0.0587, -0.1889,  0.1806, -0.3473, -0.1513,\n",
       "                      -0.1138, -0.3607, -0.2476, -0.1266,  0.1886,  0.3133,  0.2113, -0.1526,\n",
       "                      -0.1843,  0.2977,  0.1095, -0.0214, -0.0287, -0.2397, -0.1216,  0.3332,\n",
       "                      -0.1637, -0.0786, -0.2308, -0.2050,  0.0835, -0.2507, -0.1197,  0.0741,\n",
       "                      -0.3388,  0.0874, -0.3069, -0.2319,  0.1400,  0.2600, -0.0644, -0.1692,\n",
       "                      -0.2751, -0.1873, -0.3450, -0.0709,  0.0964, -0.3218,  0.2916,  0.1927,\n",
       "                      -0.2628, -0.1530,  0.1112, -0.0637, -0.0981, -0.1759,  0.1901, -0.1807,\n",
       "                       0.2426,  0.0555,  0.0129,  0.2357, -0.1089, -0.2554,  0.0161,  0.1875],\n",
       "                     device='mps:0')),\n",
       "             ('conv_block_1.2.weight',\n",
       "              tensor([[[[-0.0424, -0.0110, -0.0495],\n",
       "                        [ 0.0135,  0.0117, -0.0010],\n",
       "                        [ 0.0230,  0.0079,  0.0279]],\n",
       "              \n",
       "                       [[-0.0425, -0.0109,  0.0561],\n",
       "                        [ 0.0206, -0.0188, -0.0396],\n",
       "                        [ 0.0309,  0.0243, -0.0146]],\n",
       "              \n",
       "                       [[-0.0318,  0.0133,  0.0444],\n",
       "                        [ 0.0070, -0.0265,  0.0243],\n",
       "                        [-0.0140,  0.0342, -0.0092]],\n",
       "              \n",
       "                       ...,\n",
       "              \n",
       "                       [[ 0.0207,  0.0251, -0.0501],\n",
       "                        [ 0.0194,  0.0096, -0.0362],\n",
       "                        [ 0.0266,  0.0217, -0.0033]],\n",
       "              \n",
       "                       [[ 0.0369,  0.0349, -0.0131],\n",
       "                        [ 0.0233,  0.0233, -0.0008],\n",
       "                        [ 0.0032, -0.0371,  0.0942]],\n",
       "              \n",
       "                       [[ 0.0426,  0.0217, -0.0135],\n",
       "                        [ 0.0368,  0.0199,  0.0038],\n",
       "                        [ 0.0283,  0.0348, -0.0379]]],\n",
       "              \n",
       "              \n",
       "                      [[[-0.0122,  0.0353, -0.0013],\n",
       "                        [ 0.0266, -0.0101, -0.0208],\n",
       "                        [-0.0014, -0.0038,  0.0023]],\n",
       "              \n",
       "                       [[ 0.0510, -0.0095, -0.0820],\n",
       "                        [-0.0412, -0.0689, -0.0514],\n",
       "                        [-0.0621, -0.0696, -0.0014]],\n",
       "              \n",
       "                       [[-0.0361,  0.0846, -0.0156],\n",
       "                        [-0.0114,  0.0394, -0.0402],\n",
       "                        [-0.0121,  0.0476, -0.0334]],\n",
       "              \n",
       "                       ...,\n",
       "              \n",
       "                       [[-0.0097,  0.0097,  0.0291],\n",
       "                        [-0.0490, -0.0457,  0.0177],\n",
       "                        [-0.0422, -0.0637,  0.0581]],\n",
       "              \n",
       "                       [[ 0.0379,  0.0121,  0.0693],\n",
       "                        [-0.0446,  0.0874,  0.0602],\n",
       "                        [-0.0162,  0.0066,  0.0881]],\n",
       "              \n",
       "                       [[ 0.0383, -0.0468,  0.0008],\n",
       "                        [ 0.0130, -0.0486,  0.0430],\n",
       "                        [-0.0029, -0.0279, -0.0183]]],\n",
       "              \n",
       "              \n",
       "                      [[[-0.0020,  0.0533, -0.0076],\n",
       "                        [ 0.0517, -0.0027, -0.0495],\n",
       "                        [-0.0328,  0.0237, -0.0499]],\n",
       "              \n",
       "                       [[ 0.0376, -0.0097, -0.0840],\n",
       "                        [ 0.0473, -0.0424, -0.0343],\n",
       "                        [-0.0286, -0.0122,  0.0421]],\n",
       "              \n",
       "                       [[-0.0120,  0.0341,  0.0107],\n",
       "                        [-0.0513,  0.0530,  0.0008],\n",
       "                        [-0.0232,  0.0059,  0.0209]],\n",
       "              \n",
       "                       ...,\n",
       "              \n",
       "                       [[-0.0309,  0.0262,  0.0386],\n",
       "                        [ 0.0728,  0.0537,  0.0174],\n",
       "                        [ 0.0524, -0.0318,  0.0481]],\n",
       "              \n",
       "                       [[ 0.0469,  0.0392,  0.0936],\n",
       "                        [ 0.0148,  0.0818,  0.1038],\n",
       "                        [-0.0415,  0.0563,  0.0432]],\n",
       "              \n",
       "                       [[ 0.0112, -0.0934, -0.0262],\n",
       "                        [-0.0227, -0.1001,  0.0115],\n",
       "                        [ 0.0314, -0.0049, -0.0234]]],\n",
       "              \n",
       "              \n",
       "                      ...,\n",
       "              \n",
       "              \n",
       "                      [[[-0.0155,  0.0171,  0.0010],\n",
       "                        [ 0.0084,  0.0010, -0.0045],\n",
       "                        [ 0.0025, -0.0062, -0.0172]],\n",
       "              \n",
       "                       [[ 0.0323, -0.0181, -0.0040],\n",
       "                        [ 0.0105, -0.0130, -0.0220],\n",
       "                        [ 0.0200, -0.0995, -0.0126]],\n",
       "              \n",
       "                       [[ 0.0189,  0.0140, -0.0521],\n",
       "                        [ 0.0254,  0.0107, -0.0157],\n",
       "                        [-0.0351, -0.0168,  0.0123]],\n",
       "              \n",
       "                       ...,\n",
       "              \n",
       "                       [[-0.0054, -0.0403, -0.0447],\n",
       "                        [ 0.0030,  0.0493, -0.0328],\n",
       "                        [-0.0230,  0.0087, -0.0118]],\n",
       "              \n",
       "                       [[ 0.0203, -0.0083, -0.0499],\n",
       "                        [ 0.0477,  0.0169,  0.0219],\n",
       "                        [ 0.0160,  0.0141,  0.0093]],\n",
       "              \n",
       "                       [[-0.0480,  0.0188,  0.0565],\n",
       "                        [-0.0322, -0.0316,  0.0078],\n",
       "                        [-0.0089,  0.0357,  0.0123]]],\n",
       "              \n",
       "              \n",
       "                      [[[ 0.0227, -0.0074, -0.0033],\n",
       "                        [ 0.0288, -0.0248,  0.0061],\n",
       "                        [ 0.0460,  0.0229, -0.0066]],\n",
       "              \n",
       "                       [[ 0.0289,  0.0046,  0.0089],\n",
       "                        [ 0.0304, -0.0340,  0.0079],\n",
       "                        [ 0.0141, -0.0126,  0.0016]],\n",
       "              \n",
       "                       [[-0.0090,  0.0209,  0.0259],\n",
       "                        [-0.0360, -0.0745,  0.0018],\n",
       "                        [-0.0062, -0.0267,  0.0457]],\n",
       "              \n",
       "                       ...,\n",
       "              \n",
       "                       [[-0.0551, -0.0415, -0.0296],\n",
       "                        [ 0.0295, -0.0420,  0.0190],\n",
       "                        [ 0.0188,  0.0277,  0.0522]],\n",
       "              \n",
       "                       [[-0.0194, -0.0092, -0.0089],\n",
       "                        [-0.0689, -0.0174, -0.0603],\n",
       "                        [-0.0585, -0.0078, -0.0385]],\n",
       "              \n",
       "                       [[-0.0157, -0.0025,  0.0318],\n",
       "                        [ 0.0389,  0.0254,  0.0004],\n",
       "                        [-0.0129,  0.0326, -0.0422]]],\n",
       "              \n",
       "              \n",
       "                      [[[ 0.0385, -0.0280,  0.0099],\n",
       "                        [-0.0244,  0.0259, -0.0058],\n",
       "                        [-0.0488,  0.0249,  0.0150]],\n",
       "              \n",
       "                       [[ 0.0411, -0.0713,  0.0022],\n",
       "                        [-0.0273,  0.0088, -0.0298],\n",
       "                        [ 0.0051,  0.0122, -0.0135]],\n",
       "              \n",
       "                       [[ 0.0288, -0.0467, -0.0047],\n",
       "                        [-0.0326, -0.0388, -0.0080],\n",
       "                        [-0.0121,  0.0180, -0.0351]],\n",
       "              \n",
       "                       ...,\n",
       "              \n",
       "                       [[-0.0102,  0.0285, -0.0526],\n",
       "                        [ 0.0584, -0.0381, -0.0182],\n",
       "                        [ 0.0380,  0.0003, -0.0139]],\n",
       "              \n",
       "                       [[-0.0069,  0.0167, -0.0229],\n",
       "                        [ 0.0362,  0.0134,  0.0049],\n",
       "                        [ 0.0407,  0.0422, -0.0264]],\n",
       "              \n",
       "                       [[-0.0344, -0.0143, -0.0122],\n",
       "                        [-0.0047, -0.0063,  0.0092],\n",
       "                        [ 0.0328,  0.0630, -0.0195]]]], device='mps:0')),\n",
       "             ('conv_block_1.2.bias',\n",
       "              tensor([-0.0232,  0.0325,  0.0430,  0.0095,  0.0033, -0.0177,  0.0399,  0.0017,\n",
       "                      -0.0453, -0.0459, -0.0167,  0.0480, -0.0050, -0.0106,  0.0478,  0.0053,\n",
       "                       0.0013, -0.0167,  0.0534, -0.0263,  0.0430,  0.0218, -0.0088, -0.0068,\n",
       "                       0.0384,  0.0042,  0.0191,  0.0055,  0.0084,  0.0134,  0.0220,  0.0335,\n",
       "                       0.0209,  0.0147, -0.0201,  0.0238, -0.0565,  0.0479, -0.0152, -0.0289,\n",
       "                      -0.0157, -0.0249, -0.0405, -0.0117,  0.0467, -0.0563,  0.0274,  0.0159,\n",
       "                       0.0334, -0.0489, -0.0005, -0.0287, -0.0083,  0.0241,  0.0590,  0.0388,\n",
       "                       0.0024, -0.0577,  0.0171,  0.0255,  0.0160,  0.0554, -0.0040,  0.0396],\n",
       "                     device='mps:0')),\n",
       "             ('conv_block_2.0.weight',\n",
       "              tensor([[[[-1.0366e-02, -3.8818e-03,  1.1040e-03],\n",
       "                        [ 2.9192e-03, -2.2974e-02,  5.9338e-03],\n",
       "                        [ 2.8006e-02,  1.8323e-02,  2.3277e-02]],\n",
       "              \n",
       "                       [[-1.1791e-01, -1.4264e-02,  1.1834e-02],\n",
       "                        [-1.2526e-01,  1.6435e-03,  9.3936e-03],\n",
       "                        [-7.6310e-02, -1.3128e-02, -3.0149e-02]],\n",
       "              \n",
       "                       [[-1.0010e-01,  8.4657e-03,  5.9694e-02],\n",
       "                        [-7.4643e-02,  5.5870e-02,  6.2183e-02],\n",
       "                        [-3.4196e-02,  6.1024e-02, -1.8174e-02]],\n",
       "              \n",
       "                       ...,\n",
       "              \n",
       "                       [[-7.2004e-03, -2.7584e-02, -2.5640e-03],\n",
       "                        [ 2.9028e-03,  2.8709e-02,  2.0062e-02],\n",
       "                        [ 1.0573e-02, -3.9861e-02,  5.1740e-02]],\n",
       "              \n",
       "                       [[ 1.2176e-02,  3.1744e-02,  1.3389e-02],\n",
       "                        [ 2.2460e-02,  4.3327e-02, -1.4584e-02],\n",
       "                        [ 3.2296e-02, -6.2279e-03, -5.7620e-03]],\n",
       "              \n",
       "                       [[-1.5946e-02, -3.7044e-02,  2.6176e-02],\n",
       "                        [-3.1475e-02, -1.3865e-02,  7.1041e-02],\n",
       "                        [-3.1877e-02, -5.7610e-02,  6.9775e-02]]],\n",
       "              \n",
       "              \n",
       "                      [[[-4.3824e-02,  3.8540e-02, -4.0196e-02],\n",
       "                        [-4.7155e-02,  3.2586e-03, -1.5748e-02],\n",
       "                        [-1.2232e-02, -2.7199e-02, -4.4947e-02]],\n",
       "              \n",
       "                       [[-2.0316e-03, -2.8657e-02,  3.2965e-03],\n",
       "                        [-2.1566e-02, -3.3500e-02, -8.0891e-03],\n",
       "                        [-2.3460e-02, -4.3832e-03,  7.4764e-03]],\n",
       "              \n",
       "                       [[-2.5256e-02, -8.8241e-03, -2.7476e-02],\n",
       "                        [-7.3870e-02,  3.5197e-02,  5.3980e-02],\n",
       "                        [-1.3196e-02, -2.2401e-02,  4.2432e-02]],\n",
       "              \n",
       "                       ...,\n",
       "              \n",
       "                       [[-1.2003e-02,  2.7733e-02, -2.1353e-02],\n",
       "                        [-3.8249e-02, -3.2279e-02,  1.5359e-02],\n",
       "                        [-2.1667e-02,  2.6875e-02, -3.7652e-02]],\n",
       "              \n",
       "                       [[-3.0924e-02,  4.5234e-02,  3.7252e-02],\n",
       "                        [ 1.6709e-02,  4.9937e-02, -8.2538e-03],\n",
       "                        [ 3.8620e-02, -1.9316e-02, -2.2968e-02]],\n",
       "              \n",
       "                       [[ 1.4747e-02,  8.1017e-04,  3.9030e-02],\n",
       "                        [-3.7028e-02, -3.2349e-03, -2.8171e-02],\n",
       "                        [-4.2040e-02, -5.0579e-02,  1.5753e-02]]],\n",
       "              \n",
       "              \n",
       "                      [[[ 2.2229e-02,  3.4462e-02, -2.3319e-02],\n",
       "                        [-3.1792e-02,  3.0239e-02,  2.1981e-02],\n",
       "                        [ 3.7049e-02, -4.9206e-02, -5.7848e-02]],\n",
       "              \n",
       "                       [[ 5.3864e-02,  4.0157e-02, -2.2412e-02],\n",
       "                        [-5.6711e-02,  1.4373e-02, -5.3088e-03],\n",
       "                        [-1.5745e-02,  5.0321e-03, -6.0182e-04]],\n",
       "              \n",
       "                       [[ 4.8555e-02, -5.9450e-03, -7.8106e-03],\n",
       "                        [-6.4708e-04, -4.3896e-02, -4.0540e-02],\n",
       "                        [ 2.8872e-02, -9.4047e-03,  2.2660e-02]],\n",
       "              \n",
       "                       ...,\n",
       "              \n",
       "                       [[-2.2400e-03, -1.3073e-02, -1.7492e-02],\n",
       "                        [ 5.3994e-03, -4.2593e-02, -4.2341e-02],\n",
       "                        [ 6.6537e-03, -8.5574e-03, -5.8492e-02]],\n",
       "              \n",
       "                       [[-8.4326e-03,  7.9860e-03, -2.4774e-02],\n",
       "                        [ 4.0527e-03,  2.2495e-02,  1.8608e-02],\n",
       "                        [ 3.8628e-02,  5.1668e-03, -4.0816e-02]],\n",
       "              \n",
       "                       [[ 5.8904e-02,  3.5123e-02, -4.0443e-02],\n",
       "                        [ 7.8307e-03, -8.7215e-02, -1.1062e-02],\n",
       "                        [ 5.5103e-03,  1.6009e-02,  6.2231e-03]]],\n",
       "              \n",
       "              \n",
       "                      ...,\n",
       "              \n",
       "              \n",
       "                      [[[-1.3348e-02,  4.5741e-02,  1.8972e-02],\n",
       "                        [-3.0105e-02, -2.3231e-02, -7.7110e-03],\n",
       "                        [ 6.8951e-03, -1.5449e-02,  1.8487e-02]],\n",
       "              \n",
       "                       [[-1.9577e-02, -8.5217e-02, -2.9673e-02],\n",
       "                        [-1.3983e-01, -8.7889e-02,  2.4938e-02],\n",
       "                        [-1.0779e-01, -3.7256e-02,  3.5164e-02]],\n",
       "              \n",
       "                       [[-3.1279e-02, -1.0205e-01, -3.7327e-02],\n",
       "                        [-1.1361e-01, -2.8324e-02,  7.2092e-02],\n",
       "                        [-8.6289e-02, -3.1406e-02,  1.0286e-02]],\n",
       "              \n",
       "                       ...,\n",
       "              \n",
       "                       [[ 3.9650e-02, -8.5309e-03, -8.1480e-04],\n",
       "                        [ 2.8579e-02, -1.6856e-02,  2.1306e-02],\n",
       "                        [-1.3910e-02,  4.2680e-02,  6.5137e-02]],\n",
       "              \n",
       "                       [[-1.5727e-02, -2.4084e-02,  3.0417e-02],\n",
       "                        [-1.6292e-02,  4.1211e-02, -3.4632e-02],\n",
       "                        [ 1.7302e-02,  3.3922e-02, -4.5637e-02]],\n",
       "              \n",
       "                       [[ 7.1432e-02, -9.6908e-03,  3.7767e-02],\n",
       "                        [ 2.1883e-02, -6.1409e-02,  1.1065e-04],\n",
       "                        [-3.1584e-02, -6.6869e-02,  2.4718e-02]]],\n",
       "              \n",
       "              \n",
       "                      [[[ 3.3011e-02,  4.2828e-02, -3.5090e-02],\n",
       "                        [-3.4918e-02,  1.3983e-02,  1.6023e-02],\n",
       "                        [ 1.4698e-02,  4.0820e-04, -5.1539e-02]],\n",
       "              \n",
       "                       [[-6.2578e-02,  1.7069e-02,  1.5722e-02],\n",
       "                        [-2.9391e-02, -1.3404e-02,  1.2566e-03],\n",
       "                        [ 3.7814e-02,  4.0289e-02, -5.9158e-03]],\n",
       "              \n",
       "                       [[-7.9372e-02,  1.5888e-03,  3.3169e-02],\n",
       "                        [-3.1655e-03,  2.3587e-02,  5.0353e-02],\n",
       "                        [ 4.0174e-02,  3.5809e-02,  2.1120e-02]],\n",
       "              \n",
       "                       ...,\n",
       "              \n",
       "                       [[-5.7926e-02, -3.2937e-02, -1.8527e-02],\n",
       "                        [-1.6333e-02,  1.1685e-02, -1.2952e-02],\n",
       "                        [ 3.2894e-02, -2.3561e-02, -1.1800e-02]],\n",
       "              \n",
       "                       [[ 5.1917e-02,  2.5675e-02, -2.3414e-02],\n",
       "                        [ 5.6397e-02,  1.6441e-02, -2.9803e-02],\n",
       "                        [-1.8981e-02,  3.2711e-02, -1.3500e-02]],\n",
       "              \n",
       "                       [[ 3.7220e-02, -6.6998e-02,  1.9019e-02],\n",
       "                        [-2.2409e-03, -2.1284e-02, -3.6983e-02],\n",
       "                        [-1.1128e-02,  1.7618e-02, -1.4010e-02]]],\n",
       "              \n",
       "              \n",
       "                      [[[ 2.5431e-02,  7.0315e-02,  6.5082e-02],\n",
       "                        [-3.1877e-03,  6.4352e-02,  1.5883e-02],\n",
       "                        [-1.3926e-02, -3.6249e-03, -2.6836e-02]],\n",
       "              \n",
       "                       [[-6.4520e-02, -1.8675e-02,  7.9048e-03],\n",
       "                        [-8.7152e-02, -2.5783e-02,  8.2941e-02],\n",
       "                        [-2.8566e-02,  5.4288e-02,  7.5672e-02]],\n",
       "              \n",
       "                       [[-4.2727e-02, -1.5530e-02,  1.3833e-02],\n",
       "                        [-5.9311e-03,  8.3678e-03,  1.4237e-01],\n",
       "                        [ 2.9933e-04,  5.9468e-02,  1.0263e-01]],\n",
       "              \n",
       "                       ...,\n",
       "              \n",
       "                       [[-3.0477e-02,  3.6825e-02, -8.0660e-03],\n",
       "                        [-7.9077e-03, -8.7234e-02, -1.5107e-02],\n",
       "                        [-1.0909e-03, -3.5058e-02,  2.7947e-02]],\n",
       "              \n",
       "                       [[-1.6550e-02,  3.0144e-03,  9.4150e-03],\n",
       "                        [-4.3593e-02,  2.9220e-02, -2.8814e-04],\n",
       "                        [-5.1994e-02, -4.9062e-02,  1.1919e-02]],\n",
       "              \n",
       "                       [[ 2.2411e-02, -3.9676e-02,  4.6827e-02],\n",
       "                        [-1.8299e-03, -6.8663e-02, -1.3495e-02],\n",
       "                        [-6.2833e-03,  1.1476e-02,  8.2516e-02]]]], device='mps:0')),\n",
       "             ('conv_block_2.0.bias',\n",
       "              tensor([ 0.0318,  0.0012, -0.0347, -0.0243, -0.0523,  0.0219, -0.0091,  0.0036,\n",
       "                       0.0579, -0.0152, -0.0298, -0.0381, -0.0296,  0.0319, -0.0246,  0.0403,\n",
       "                      -0.0279,  0.0437, -0.0031,  0.0259,  0.0311, -0.0258,  0.0040,  0.0217,\n",
       "                       0.0160, -0.0482, -0.0043,  0.0025, -0.0220, -0.0233, -0.0234, -0.0023,\n",
       "                       0.0465, -0.0095,  0.0728, -0.0193,  0.0322,  0.0102,  0.0739,  0.0093,\n",
       "                       0.0066, -0.0393,  0.0636,  0.0171, -0.0055, -0.0420, -0.0210,  0.0887,\n",
       "                      -0.0249,  0.0352,  0.0063,  0.0504,  0.0107, -0.0051, -0.0049,  0.0262,\n",
       "                       0.0197,  0.0564, -0.0180,  0.0486,  0.0028,  0.0718, -0.0013,  0.0112],\n",
       "                     device='mps:0')),\n",
       "             ('conv_block_2.2.weight',\n",
       "              tensor([[[[ 2.2679e-02, -3.6947e-02, -6.2553e-03],\n",
       "                        [-2.7152e-02,  9.8226e-03, -4.8008e-02],\n",
       "                        [-1.9826e-02, -1.3108e-02, -6.7960e-03]],\n",
       "              \n",
       "                       [[-4.5026e-02, -3.5880e-03, -1.5073e-02],\n",
       "                        [-1.6559e-02, -3.4231e-02, -2.9881e-03],\n",
       "                        [-4.5305e-02, -4.2542e-02,  1.3170e-02]],\n",
       "              \n",
       "                       [[ 3.2263e-02, -4.0279e-02, -4.5483e-02],\n",
       "                        [-1.5827e-03, -3.4798e-02, -3.7993e-02],\n",
       "                        [-3.2998e-02, -1.7566e-02, -7.8963e-03]],\n",
       "              \n",
       "                       ...,\n",
       "              \n",
       "                       [[-2.0327e-02, -3.1489e-04, -3.8882e-02],\n",
       "                        [ 1.5965e-02, -1.6731e-02, -4.0529e-02],\n",
       "                        [ 1.8139e-02, -7.1268e-03, -1.8794e-02]],\n",
       "              \n",
       "                       [[ 3.8278e-02, -2.8687e-02,  4.6438e-03],\n",
       "                        [-2.6776e-02, -1.4941e-02,  1.8375e-02],\n",
       "                        [ 1.1089e-02, -3.3764e-03,  3.3486e-02]],\n",
       "              \n",
       "                       [[ 1.2795e-02, -1.2728e-02,  3.3403e-03],\n",
       "                        [ 5.5733e-03, -1.7701e-02, -3.8616e-02],\n",
       "                        [-3.2041e-02, -2.9031e-02, -2.2247e-02]]],\n",
       "              \n",
       "              \n",
       "                      [[[-2.2908e-03, -4.6024e-02, -3.4836e-04],\n",
       "                        [-4.4199e-02, -1.4847e-03,  5.8552e-02],\n",
       "                        [-5.8427e-04,  1.6354e-02,  5.4270e-02]],\n",
       "              \n",
       "                       [[ 3.5013e-02, -3.3666e-02, -3.4883e-02],\n",
       "                        [ 3.3126e-02,  5.2792e-03, -1.9413e-02],\n",
       "                        [ 3.1802e-02, -2.5490e-02,  1.6071e-02]],\n",
       "              \n",
       "                       [[ 3.0209e-02,  2.7658e-02, -6.6186e-03],\n",
       "                        [ 2.0668e-02, -2.7254e-02, -7.6325e-02],\n",
       "                        [ 4.4878e-02,  2.7184e-03, -1.8601e-02]],\n",
       "              \n",
       "                       ...,\n",
       "              \n",
       "                       [[ 2.5158e-02, -3.7838e-03, -6.8113e-02],\n",
       "                        [ 8.1806e-02,  8.9044e-02, -8.6667e-02],\n",
       "                        [ 8.6373e-02,  5.3165e-02, -7.7043e-02]],\n",
       "              \n",
       "                       [[-2.5382e-02, -3.9340e-02, -7.3465e-02],\n",
       "                        [ 1.4754e-02,  3.5596e-02, -2.2187e-02],\n",
       "                        [ 5.0991e-02,  7.5607e-02, -5.0813e-02]],\n",
       "              \n",
       "                       [[-3.3924e-02,  3.3717e-02, -6.2799e-02],\n",
       "                        [ 3.8386e-02,  1.0621e-01,  7.8693e-03],\n",
       "                        [ 6.1685e-03,  3.1820e-02, -3.0783e-02]]],\n",
       "              \n",
       "              \n",
       "                      [[[ 5.9269e-02,  6.1507e-02, -8.5524e-02],\n",
       "                        [ 2.8441e-02, -8.1122e-03, -1.0586e-01],\n",
       "                        [-6.1878e-02, -6.1483e-02, -5.5761e-02]],\n",
       "              \n",
       "                       [[ 1.8273e-02, -4.2928e-02, -7.5131e-02],\n",
       "                        [-3.2750e-02, -6.4689e-02, -8.3366e-02],\n",
       "                        [ 4.5378e-03, -5.1854e-02,  2.2133e-03]],\n",
       "              \n",
       "                       [[-7.5922e-04,  1.8389e-02, -3.1558e-02],\n",
       "                        [ 9.8805e-03, -2.9606e-02, -4.2821e-02],\n",
       "                        [-5.5552e-03,  1.6524e-03, -2.5425e-03]],\n",
       "              \n",
       "                       ...,\n",
       "              \n",
       "                       [[ 5.6007e-02, -1.6254e-02, -7.7703e-02],\n",
       "                        [ 9.0727e-03, -3.1048e-02, -5.5326e-02],\n",
       "                        [-4.8271e-03, -9.4667e-03, -6.9702e-03]],\n",
       "              \n",
       "                       [[ 7.0741e-02,  2.9501e-02, -7.1968e-02],\n",
       "                        [-4.3300e-02, -4.6996e-03, -3.0240e-02],\n",
       "                        [-7.4556e-02,  3.0558e-02, -4.9962e-02]],\n",
       "              \n",
       "                       [[ 6.1385e-02, -3.1672e-02, -7.3925e-02],\n",
       "                        [-2.4500e-02, -1.0149e-01, -6.6395e-02],\n",
       "                        [-2.8510e-02, -5.7943e-02, -4.4189e-02]]],\n",
       "              \n",
       "              \n",
       "                      ...,\n",
       "              \n",
       "              \n",
       "                      [[[-3.4932e-02, -1.7435e-02,  4.4655e-02],\n",
       "                        [-1.3725e-02,  5.3583e-02,  1.5015e-02],\n",
       "                        [-5.0500e-03,  4.8690e-02, -2.8339e-02]],\n",
       "              \n",
       "                       [[-3.8042e-02, -1.7806e-02,  1.4769e-02],\n",
       "                        [ 7.3221e-03,  1.8818e-02, -5.9318e-03],\n",
       "                        [ 7.7664e-03,  3.8139e-02, -3.9639e-02]],\n",
       "              \n",
       "                       [[-3.8722e-03,  2.3949e-02,  4.9281e-03],\n",
       "                        [ 3.0633e-02,  3.4448e-02, -2.8602e-02],\n",
       "                        [ 4.2594e-03,  3.1213e-02, -4.4655e-02]],\n",
       "              \n",
       "                       ...,\n",
       "              \n",
       "                       [[-1.7208e-02, -1.3734e-02,  2.9156e-02],\n",
       "                        [ 3.5694e-02, -8.4286e-03, -6.6186e-02],\n",
       "                        [ 6.4576e-02,  3.4691e-02, -6.7338e-03]],\n",
       "              \n",
       "                       [[ 1.1245e-02, -4.0907e-02,  9.1705e-03],\n",
       "                        [ 1.1660e-02,  1.4714e-02, -2.7140e-02],\n",
       "                        [ 5.0939e-02,  5.4129e-02, -4.5325e-02]],\n",
       "              \n",
       "                       [[-3.9159e-02, -3.4492e-03, -5.2717e-02],\n",
       "                        [ 6.8772e-03, -1.8082e-02, -7.3177e-02],\n",
       "                        [ 5.6060e-02, -3.8252e-03, -8.8499e-05]]],\n",
       "              \n",
       "              \n",
       "                      [[[-3.6692e-02, -3.8795e-02, -1.4563e-02],\n",
       "                        [ 1.2582e-02, -1.7390e-03, -4.4831e-02],\n",
       "                        [-3.2518e-02, -9.9995e-03,  1.8546e-02]],\n",
       "              \n",
       "                       [[-4.3043e-02,  1.1434e-02, -2.8836e-02],\n",
       "                        [-1.0396e-02,  1.4860e-02, -6.2064e-02],\n",
       "                        [ 2.0433e-03, -2.3425e-02,  9.0934e-03]],\n",
       "              \n",
       "                       [[ 8.8582e-03,  1.0082e-02,  1.7877e-02],\n",
       "                        [-3.3053e-02, -4.2218e-02,  7.9836e-03],\n",
       "                        [-3.0195e-02, -3.7434e-02,  2.9759e-02]],\n",
       "              \n",
       "                       ...,\n",
       "              \n",
       "                       [[-3.5491e-02, -3.2865e-02,  1.1081e-02],\n",
       "                        [ 9.9426e-03, -5.6923e-02, -9.1174e-03],\n",
       "                        [-2.1826e-02, -6.4006e-02, -6.1840e-02]],\n",
       "              \n",
       "                       [[-3.2476e-02,  1.4434e-02, -3.8661e-02],\n",
       "                        [-5.0318e-02, -2.8611e-02,  1.9555e-02],\n",
       "                        [-6.9672e-03, -2.5093e-02,  1.2036e-02]],\n",
       "              \n",
       "                       [[-4.0491e-02, -5.9757e-02,  2.3458e-02],\n",
       "                        [ 2.6329e-02,  7.9441e-03, -4.5606e-02],\n",
       "                        [-3.2505e-03, -1.6347e-04, -3.6412e-02]]],\n",
       "              \n",
       "              \n",
       "                      [[[ 2.2933e-02,  4.9280e-05,  3.2651e-02],\n",
       "                        [ 2.5027e-02,  2.2130e-02,  3.6012e-03],\n",
       "                        [-9.6089e-03,  1.0822e-02,  6.9434e-03]],\n",
       "              \n",
       "                       [[-5.6439e-03,  6.0993e-03,  9.7374e-03],\n",
       "                        [ 1.2121e-03, -4.2383e-02,  2.5705e-02],\n",
       "                        [-2.5300e-02, -3.3135e-02,  4.2009e-02]],\n",
       "              \n",
       "                       [[ 3.4981e-02,  2.7547e-02,  3.0039e-02],\n",
       "                        [-4.5163e-02,  2.1976e-02, -3.1299e-02],\n",
       "                        [-2.0013e-02,  1.6359e-02, -1.3251e-03]],\n",
       "              \n",
       "                       ...,\n",
       "              \n",
       "                       [[-5.2584e-02,  3.4077e-02,  2.0674e-02],\n",
       "                        [ 2.2045e-03, -1.3881e-02, -2.1102e-02],\n",
       "                        [ 8.9310e-04,  2.4904e-02, -2.5397e-02]],\n",
       "              \n",
       "                       [[-3.5050e-02,  1.5384e-02, -2.9898e-02],\n",
       "                        [-4.8132e-02,  6.0784e-03, -1.9640e-02],\n",
       "                        [-4.6149e-02, -7.4779e-03, -1.8791e-02]],\n",
       "              \n",
       "                       [[-3.7380e-02, -3.3355e-02, -2.7417e-02],\n",
       "                        [ 3.8267e-03, -1.3673e-02, -1.1629e-02],\n",
       "                        [-1.7080e-02,  1.4079e-02, -2.8618e-02]]]], device='mps:0')),\n",
       "             ('conv_block_2.2.bias',\n",
       "              tensor([ 0.0277,  0.0225,  0.0360, -0.0111,  0.0166,  0.0295, -0.0124, -0.0143,\n",
       "                      -0.0140,  0.0152,  0.0079,  0.0516, -0.0433,  0.0233, -0.0061, -0.0276,\n",
       "                       0.0089,  0.0061, -0.0421, -0.0188, -0.0111,  0.0243, -0.0277,  0.0150,\n",
       "                      -0.0206, -0.0059, -0.0088,  0.0111, -0.0166, -0.0455,  0.0033,  0.0377,\n",
       "                      -0.0464,  0.0118, -0.0057,  0.0558,  0.0242, -0.0037,  0.0091,  0.0124,\n",
       "                       0.0191, -0.0022, -0.0040, -0.0417,  0.0103,  0.0119,  0.0805,  0.0341,\n",
       "                       0.0063, -0.0453, -0.0267,  0.0090,  0.0580,  0.0064,  0.0253,  0.0764,\n",
       "                       0.0513, -0.0330,  0.0425, -0.0191,  0.0288, -0.0131,  0.0084, -0.0078],\n",
       "                     device='mps:0')),\n",
       "             ('conv_block_2.4.weight',\n",
       "              tensor([[[[-3.8503e-02, -1.1403e-02, -4.1738e-02],\n",
       "                        [ 2.6181e-02, -4.7390e-02,  3.2574e-02],\n",
       "                        [-3.5226e-04, -3.5297e-02, -4.2255e-02]],\n",
       "              \n",
       "                       [[-2.6702e-02,  2.1352e-02,  3.3859e-02],\n",
       "                        [ 5.8270e-02, -2.6199e-02, -2.3012e-02],\n",
       "                        [-5.1940e-02,  1.0826e-02, -1.1195e-02]],\n",
       "              \n",
       "                       [[ 3.9315e-03, -2.4730e-02, -6.5754e-02],\n",
       "                        [ 8.6085e-03, -5.0669e-02, -5.5508e-02],\n",
       "                        [ 5.4127e-02, -1.8252e-02, -9.9922e-02]],\n",
       "              \n",
       "                       ...,\n",
       "              \n",
       "                       [[ 7.4595e-03, -2.1123e-02, -1.4045e-02],\n",
       "                        [ 1.2798e-02, -4.9357e-02,  1.0900e-02],\n",
       "                        [ 2.8133e-02, -2.7717e-02,  2.2427e-02]],\n",
       "              \n",
       "                       [[-5.5583e-02, -7.1041e-03, -3.5350e-02],\n",
       "                        [-2.9053e-02, -1.7560e-02,  2.8278e-02],\n",
       "                        [-2.5494e-02, -3.4267e-02, -9.4425e-03]],\n",
       "              \n",
       "                       [[-3.5299e-02, -4.1583e-04, -1.5888e-02],\n",
       "                        [-2.8719e-02,  1.3490e-02, -4.5666e-02],\n",
       "                        [ 3.1437e-02, -5.1450e-02,  1.5380e-02]]],\n",
       "              \n",
       "              \n",
       "                      [[[ 3.0949e-02,  3.5478e-02, -1.3593e-02],\n",
       "                        [-1.6558e-02,  5.5056e-03,  1.8553e-02],\n",
       "                        [-1.2431e-02,  3.5367e-02,  5.6447e-03]],\n",
       "              \n",
       "                       [[ 4.2095e-03, -3.7644e-02, -3.3813e-02],\n",
       "                        [ 9.2136e-03, -6.2517e-02, -9.7186e-03],\n",
       "                        [ 5.1047e-02, -4.1450e-02, -1.5336e-02]],\n",
       "              \n",
       "                       [[-8.9230e-02, -4.3240e-02, -8.4776e-03],\n",
       "                        [-6.0689e-02,  1.2473e-03, -5.6942e-02],\n",
       "                        [-1.0751e-01, -3.1020e-02, -1.2059e-01]],\n",
       "              \n",
       "                       ...,\n",
       "              \n",
       "                       [[-3.7621e-02, -1.0245e-02, -5.4127e-02],\n",
       "                        [ 3.5453e-02, -2.1885e-02, -4.5053e-02],\n",
       "                        [-1.5077e-02, -5.6623e-02, -1.5869e-02]],\n",
       "              \n",
       "                       [[-2.6502e-02, -7.3279e-03, -3.7952e-02],\n",
       "                        [-3.0685e-02,  1.3766e-02, -1.3651e-02],\n",
       "                        [-1.2496e-02,  6.7040e-03,  2.3650e-02]],\n",
       "              \n",
       "                       [[-2.9060e-02, -4.1268e-02,  2.7642e-02],\n",
       "                        [-1.5076e-02, -7.7574e-03, -4.2432e-02],\n",
       "                        [-1.1544e-02,  2.9657e-04, -2.0781e-02]]],\n",
       "              \n",
       "              \n",
       "                      [[[-3.0348e-02,  3.6120e-02, -2.5621e-02],\n",
       "                        [-1.9679e-02, -6.4494e-03, -3.2271e-02],\n",
       "                        [-2.1197e-02, -1.7886e-02,  9.3392e-04]],\n",
       "              \n",
       "                       [[-6.5442e-02, -7.2546e-02, -3.8172e-02],\n",
       "                        [-3.3025e-02, -4.0897e-02, -4.7874e-02],\n",
       "                        [-1.7472e-03, -5.2094e-02, -2.8679e-02]],\n",
       "              \n",
       "                       [[-3.3586e-02,  1.7770e-02, -3.1346e-02],\n",
       "                        [ 7.6306e-03,  2.9261e-02, -5.4434e-02],\n",
       "                        [-1.2911e-02, -1.5565e-03,  6.7691e-03]],\n",
       "              \n",
       "                       ...,\n",
       "              \n",
       "                       [[-5.0198e-02,  1.1039e-02, -2.6838e-02],\n",
       "                        [ 4.1648e-02, -1.8957e-02,  6.5756e-03],\n",
       "                        [-5.1100e-02, -5.0177e-02,  1.7402e-02]],\n",
       "              \n",
       "                       [[-2.1064e-03, -5.1940e-02,  6.6153e-03],\n",
       "                        [ 2.5812e-02,  2.3863e-03, -3.6580e-02],\n",
       "                        [ 1.2523e-02,  7.8644e-03,  2.2136e-02]],\n",
       "              \n",
       "                       [[-1.2289e-02, -1.2763e-02,  3.5799e-03],\n",
       "                        [ 1.7752e-02,  1.6142e-02,  8.1878e-03],\n",
       "                        [ 4.0781e-02, -4.8316e-03, -4.0427e-02]]],\n",
       "              \n",
       "              \n",
       "                      ...,\n",
       "              \n",
       "              \n",
       "                      [[[-2.7638e-02,  1.0893e-02, -4.1279e-02],\n",
       "                        [-1.5308e-02, -3.4022e-03,  4.7316e-03],\n",
       "                        [ 2.4928e-02,  3.1306e-02,  3.1992e-02]],\n",
       "              \n",
       "                       [[-4.5443e-02, -1.0447e-01, -8.2939e-03],\n",
       "                        [-4.9252e-02, -2.7283e-03, -4.6907e-02],\n",
       "                        [-1.4414e-02, -5.7554e-02, -6.4723e-02]],\n",
       "              \n",
       "                       [[-3.0992e-02, -4.8582e-02, -6.7261e-02],\n",
       "                        [ 3.8619e-02,  1.3007e-02, -5.1070e-02],\n",
       "                        [ 3.1347e-02, -6.8370e-02, -6.2298e-02]],\n",
       "              \n",
       "                       ...,\n",
       "              \n",
       "                       [[ 1.8794e-02,  4.0156e-03, -5.8154e-02],\n",
       "                        [-4.3432e-02,  2.5515e-02, -1.3468e-02],\n",
       "                        [-1.4262e-02,  7.7295e-02,  4.8192e-02]],\n",
       "              \n",
       "                       [[ 3.1582e-03,  1.8056e-02, -5.8931e-02],\n",
       "                        [-1.9435e-02,  1.4873e-02, -1.0316e-02],\n",
       "                        [-1.7822e-02,  2.4539e-02, -8.2733e-02]],\n",
       "              \n",
       "                       [[-1.1171e-02, -2.7015e-02,  3.8424e-02],\n",
       "                        [-1.0726e-02, -3.3780e-02,  1.1741e-02],\n",
       "                        [-5.0372e-03, -7.3827e-03, -2.0891e-02]]],\n",
       "              \n",
       "              \n",
       "                      [[[-4.3956e-02,  1.0015e-02,  1.6797e-02],\n",
       "                        [-2.5823e-02, -3.2424e-02,  2.6461e-02],\n",
       "                        [ 3.1022e-02, -4.6423e-02,  2.8410e-02]],\n",
       "              \n",
       "                       [[ 1.8428e-02, -2.1998e-02, -1.6324e-02],\n",
       "                        [ 3.4913e-02, -6.0680e-03, -2.1460e-02],\n",
       "                        [-3.5139e-02, -4.0014e-02, -3.6545e-02]],\n",
       "              \n",
       "                       [[-8.9006e-03, -1.7854e-02, -6.7264e-05],\n",
       "                        [-7.3553e-03,  1.2255e-02,  1.3745e-03],\n",
       "                        [-4.7408e-02,  3.7353e-03, -2.5054e-02]],\n",
       "              \n",
       "                       ...,\n",
       "              \n",
       "                       [[-2.9838e-03, -4.0730e-02,  1.1575e-02],\n",
       "                        [ 2.5569e-02,  2.2982e-02, -4.0936e-04],\n",
       "                        [ 2.6451e-02,  1.9736e-03, -1.1008e-02]],\n",
       "              \n",
       "                       [[ 7.8418e-03, -2.3919e-02,  2.3867e-02],\n",
       "                        [ 3.5640e-02,  2.6890e-02, -3.0377e-03],\n",
       "                        [ 3.1164e-02, -1.8907e-02, -2.1019e-02]],\n",
       "              \n",
       "                       [[-2.9944e-02, -3.4288e-03,  7.2489e-04],\n",
       "                        [-3.2730e-02, -3.9051e-02,  2.7633e-02],\n",
       "                        [ 2.5437e-02,  3.0881e-02,  1.9301e-02]]],\n",
       "              \n",
       "              \n",
       "                      [[[ 1.7735e-02, -5.4284e-03, -2.0700e-02],\n",
       "                        [ 3.7346e-02, -3.3563e-02,  2.6864e-02],\n",
       "                        [ 4.3023e-02, -5.1603e-03, -3.5803e-02]],\n",
       "              \n",
       "                       [[-1.0497e-02, -2.4698e-03, -1.6512e-01],\n",
       "                        [ 2.4895e-02, -4.6634e-02, -1.5402e-01],\n",
       "                        [-3.7632e-02, -3.8430e-02,  4.0397e-02]],\n",
       "              \n",
       "                       [[-1.1984e-02, -7.5055e-03,  6.4011e-02],\n",
       "                        [ 2.8513e-02,  5.8006e-02,  3.9046e-02],\n",
       "                        [-1.9079e-02, -6.5172e-02, -6.4792e-02]],\n",
       "              \n",
       "                       ...,\n",
       "              \n",
       "                       [[ 6.1715e-02,  3.9866e-02, -5.1302e-02],\n",
       "                        [ 5.5759e-02, -2.3219e-02, -3.8248e-02],\n",
       "                        [-7.4998e-02, -2.2985e-02, -2.3405e-02]],\n",
       "              \n",
       "                       [[ 3.4516e-02,  5.6920e-02,  3.7673e-02],\n",
       "                        [ 3.1162e-02,  2.9843e-02,  2.5355e-02],\n",
       "                        [ 3.0977e-02, -9.6573e-03, -2.7798e-02]],\n",
       "              \n",
       "                       [[-2.3224e-02,  1.3416e-02,  1.7142e-02],\n",
       "                        [-1.5241e-02,  2.1595e-02,  4.4238e-02],\n",
       "                        [-5.2724e-02,  1.7707e-03,  2.8495e-02]]]], device='mps:0')),\n",
       "             ('conv_block_2.4.bias',\n",
       "              tensor([-0.0286,  0.0328, -0.0460,  0.0272,  0.0315, -0.0267, -0.0512,  0.0457,\n",
       "                      -0.0286,  0.0173, -0.0222,  0.0045, -0.0069, -0.0123,  0.0328,  0.0007,\n",
       "                      -0.0231,  0.0151, -0.0037,  0.0263,  0.0263, -0.0449, -0.0352,  0.0058,\n",
       "                       0.0339, -0.0002,  0.0078, -0.0134, -0.0180,  0.0005,  0.0025, -0.0073,\n",
       "                      -0.0021,  0.0574, -0.0416, -0.0458, -0.0258,  0.0187,  0.0497,  0.0443,\n",
       "                       0.0043,  0.0152,  0.0091,  0.0559, -0.0262,  0.0573,  0.0400, -0.0327,\n",
       "                      -0.0314,  0.0659, -0.0458, -0.0113,  0.0176,  0.0277, -0.0315, -0.0150,\n",
       "                       0.0437,  0.0137,  0.0033, -0.0288,  0.0420,  0.0111, -0.0084,  0.0267],\n",
       "                     device='mps:0')),\n",
       "             ('classifier.1.weight',\n",
       "              tensor([[ 1.8836e-02,  1.7029e-02,  1.7929e-02,  ...,  7.3871e-03,\n",
       "                       -9.3569e-02, -5.1443e-02],\n",
       "                      [-1.1835e-02, -8.1992e-03, -1.1797e-02,  ...,  8.6868e-02,\n",
       "                       -2.8779e-03, -6.3979e-02],\n",
       "                      [ 2.3654e-02,  1.0674e-02, -7.4720e-03,  ..., -1.3248e-02,\n",
       "                        2.4918e-02,  3.5353e-02],\n",
       "                      ...,\n",
       "                      [ 1.2102e-02, -6.7081e-03, -3.0165e-02,  ..., -1.1971e-01,\n",
       "                       -8.9659e-02,  2.3638e-02],\n",
       "                      [-1.4221e-02, -2.1600e-02,  3.9132e-02,  ...,  3.9934e-02,\n",
       "                       -1.3007e-01, -1.0621e-02],\n",
       "                      [-4.8754e-02, -3.1944e-02, -4.7118e-05,  ...,  3.5744e-02,\n",
       "                        1.1222e-02,  1.5309e-02]], device='mps:0')),\n",
       "             ('classifier.1.bias',\n",
       "              tensor([ 0.0047, -0.0158, -0.0006,  0.0122, -0.0149,  0.0052,  0.0210,  0.0313,\n",
       "                      -0.0003, -0.0102], device='mps:0'))])"
      ]
     },
     "execution_count": 66,
     "metadata": {},
     "output_type": "execute_result"
    }
   ],
   "execution_count": 66
  },
  {
   "metadata": {
    "ExecuteTime": {
     "end_time": "2025-09-23T17:10:30.495978Z",
     "start_time": "2025-09-23T17:10:30.490511Z"
    }
   },
   "cell_type": "code",
   "source": "image.shape",
   "id": "f8aa643447bd2c26",
   "outputs": [
    {
     "data": {
      "text/plain": [
       "torch.Size([1, 28, 28])"
      ]
     },
     "execution_count": 80,
     "metadata": {},
     "output_type": "execute_result"
    }
   ],
   "execution_count": 80
  },
  {
   "metadata": {
    "ExecuteTime": {
     "end_time": "2025-09-23T17:11:47.222187Z",
     "start_time": "2025-09-23T17:11:47.166670Z"
    }
   },
   "cell_type": "code",
   "source": "imshow(image, \"Shoe\")",
   "id": "23fc9d83513a78d3",
   "outputs": [
    {
     "data": {
      "text/plain": [
       "<Figure size 640x480 with 1 Axes>"
      ],
      "image/png": "[encoded data removed]"
     },
     "metadata": {},
     "output_type": "display_data"
    }
   ],
   "execution_count": 94
  },
  {
   "metadata": {
    "ExecuteTime": {
     "end_time": "2025-09-23T17:15:12.340773Z",
     "start_time": "2025-09-23T17:15:12.120507Z"
    }
   },
   "cell_type": "code",
   "source": "class_names[torch.argmax(model_3(image.unsqueeze(0).to(device)))] # worked lol",
   "id": "1a2ad4bb11026665",
   "outputs": [
    {
     "data": {
      "text/plain": [
       "'Ankle boot'"
      ]
     },
     "execution_count": 103,
     "metadata": {},
     "output_type": "execute_result"
    }
   ],
   "execution_count": 103
  },
  {
   "metadata": {},
   "cell_type": "markdown",
   "source": [
    "### 7.1 Stepping through `nn.Conv2d()`\n",
    "\n",
    "See the documentation for `nn.Conv2d()` here - https://docs.pytorch.org/docs/stable/generated/torch.nn.Conv2d.html#torch.nn.Conv2d"
   ],
   "id": "e04e19d52b8805a3"
  },
  {
   "metadata": {
    "ExecuteTime": {
     "end_time": "2025-09-23T15:15:41.474868Z",
     "start_time": "2025-09-23T15:15:41.393292Z"
    }
   },
   "cell_type": "code",
   "source": [
    "torch.manual_seed(RANDOM_SEED)\n",
    "\n",
    "# Create a batch of images\n",
    "images = torch.randn(size=(32, 3, 64, 64))\n",
    "test_image = images[0]\n",
    "\n",
    "print(f\"Image batch shape: {images.shape}\")\n",
    "print(f\"Single image shape: {test_image.shape}\")\n",
    "print(f\"Test image:\\n {test_image}\")"
   ],
   "id": "79ea48424a6a1791",
   "outputs": [
    {
     "name": "stdout",
     "output_type": "stream",
     "text": [
      "Image batch shape: torch.Size([32, 3, 64, 64])\n",
      "Single image shape: torch.Size([3, 64, 64])\n",
      "Test image: tensor([[[ 1.9269,  1.4873,  0.9007,  ...,  1.8446, -1.1845,  1.3835],\n",
      "         [ 1.4451,  0.8564,  2.2181,  ...,  0.3399,  0.7200,  0.4114],\n",
      "         [ 1.9312,  1.0119, -1.4364,  ..., -0.5558,  0.7043,  0.7099],\n",
      "         ...,\n",
      "         [-0.5610, -0.4830,  0.4770,  ..., -0.2713, -0.9537, -0.6737],\n",
      "         [ 0.3076, -0.1277,  0.0366,  ..., -2.0060,  0.2824, -0.8111],\n",
      "         [-1.5486,  0.0485, -0.7712,  ..., -0.1403,  0.9416, -0.0118]],\n",
      "\n",
      "        [[-0.5197,  1.8524,  1.8365,  ...,  0.8935, -1.5114, -0.8515],\n",
      "         [ 2.0818,  1.0677, -1.4277,  ...,  1.6612, -2.6223, -0.4319],\n",
      "         [-0.1010, -0.4388, -1.9775,  ...,  0.2106,  0.2536, -0.7318],\n",
      "         ...,\n",
      "         [ 0.2779,  0.7342, -0.3736,  ..., -0.4601,  0.1815,  0.1850],\n",
      "         [ 0.7205, -0.2833,  0.0937,  ..., -0.1002, -2.3609,  2.2465],\n",
      "         [-1.3242, -0.1973,  0.2920,  ...,  0.5409,  0.6940,  1.8563]],\n",
      "\n",
      "        [[-0.7978,  1.0261,  1.1465,  ...,  1.2134,  0.9354, -0.0780],\n",
      "         [-1.4647, -1.9571,  0.1017,  ..., -1.9986, -0.7409,  0.7011],\n",
      "         [-1.3938,  0.8466, -1.7191,  ..., -1.1867,  0.1320,  0.3407],\n",
      "         ...,\n",
      "         [ 0.8206, -0.3745,  1.2499,  ..., -0.0676,  0.0385,  0.6335],\n",
      "         [-0.5589, -0.3393,  0.2347,  ...,  2.1181,  2.4569,  1.3083],\n",
      "         [-0.4092,  1.5199,  0.2401,  ..., -0.2558,  0.7870,  0.9924]]])\n"
     ]
    }
   ],
   "execution_count": 65
  },
  {
   "metadata": {
    "ExecuteTime": {
     "end_time": "2025-09-23T15:35:12.401356Z",
     "start_time": "2025-09-23T15:35:12.346783Z"
    }
   },
   "cell_type": "code",
   "source": [
    "# Create a single conv2d layer\n",
    "conv_layer = nn.Conv2d(in_channels=3, out_channels=10, kernel_size=3, stride=1, padding=0)\n",
    "\n",
    "# Pass the data through the convolutional layer\n",
    "conv_output = conv_layer(test_image)\n",
    "print(f\"Conv output shape: {conv_output.shape}\")"
   ],
   "id": "cd97807aefe2e529",
   "outputs": [
    {
     "name": "stdout",
     "output_type": "stream",
     "text": [
      "Conv output shape: torch.Size([10, 62, 62])\n"
     ]
    }
   ],
   "execution_count": 68
  },
  {
   "metadata": {},
   "cell_type": "markdown",
   "source": [
    "### 7.2 Stepping through `nn.MaxPool2d()`\n",
    "\n",
    "https://docs.pytorch.org/docs/stable/generated/torch.nn.MaxPool2d.html#torch.nn.MaxPool2d"
   ],
   "id": "9f2f3a37ddc800d8"
  },
  {
   "metadata": {
    "ExecuteTime": {
     "end_time": "2025-09-23T16:40:34.883546Z",
     "start_time": "2025-09-23T16:40:34.816433Z"
    }
   },
   "cell_type": "code",
   "source": [
    "# Print out original image shape without unsqueezed dimension\n",
    "print(f\"Test image original shape: {test_image.shape}\")\n",
    "print(f\"Test image with unsqueezed dimension: {test_image.unsqueeze(0).shape}\")\n",
    "\n",
    "# Create a sample nn.MaxPool2d layer\n",
    "max_pool_layer = nn.MaxPool2d(kernel_size=2)\n",
    "\n",
    "# Pass data through just the conv_layer\n",
    "test_image_through_conv = conv_layer(test_image.unsqueeze(0))\n",
    "print(f\"Shape after going through conv_layer(): {test_image_through_conv.shape}\")\n",
    "\n",
    "# Pass data through the max pool layer\n",
    "test_image_through_conv_and_max_pool = max_pool_layer(test_image_through_conv)\n",
    "print(f\"Shape after going through conv_layer() and max_pool_layer(): {test_image_through_conv_and_max_pool.shape}\")"
   ],
   "id": "ed8fcab8027615fe",
   "outputs": [
    {
     "name": "stdout",
     "output_type": "stream",
     "text": [
      "Test image original shape: torch.Size([3, 64, 64])\n",
      "Test image with unsqueezed dimension: torch.Size([1, 3, 64, 64])\n",
      "Shape after going through conv_layer(): torch.Size([1, 10, 62, 62])\n",
      "Shape after going through conv_layer() and max_pool_layer(): torch.Size([1, 10, 31, 31])\n"
     ]
    }
   ],
   "execution_count": 72
  },
  {
   "metadata": {
    "ExecuteTime": {
     "end_time": "2025-09-23T16:47:09.587874Z",
     "start_time": "2025-09-23T16:47:09.504444Z"
    }
   },
   "cell_type": "code",
   "source": "imshow(test_image[1].unsqueeze(0),0)",
   "id": "7a7dd332612c28f4",
   "outputs": [
    {
     "data": {
      "text/plain": [
       "<Figure size 640x480 with 1 Axes>"
      ],
      "image/png": "[encoded data removed]"
     },
     "metadata": {},
     "output_type": "display_data"
    }
   ],
   "execution_count": 76
  },
  {
   "metadata": {
    "ExecuteTime": {
     "end_time": "2025-09-23T16:59:32.455405Z",
     "start_time": "2025-09-23T16:59:32.383480Z"
    }
   },
   "cell_type": "code",
   "source": [
    "torch.manual_seed(42)\n",
    "\n",
    "# Create a random tensor with a similar number of dimensions to our images\n",
    "random_tensor = torch.randn(size=(1, 1, 2, 2))\n",
    "print(f\"Random tensor:\\n {random_tensor}\")\n",
    "print(f\"Random tensor shape:\\n {random_tensor.shape}\")\n",
    "\n",
    "# Create a max pool layer\n",
    "max_pool_layer = nn.MaxPool2d(kernel_size=2)\n",
    "\n",
    "# Pass the random tensor through the max pool layer\n",
    "max_pool_tensor = max_pool_layer(random_tensor)\n",
    "print(f\"\\nMax pool tensor:\\n {max_pool_tensor}\")\n",
    "print(f\"Max pool tensor shape: {max_pool_tensor.shape}\")\n",
    "random_tensor"
   ],
   "id": "ed0e1ebd48670736",
   "outputs": [
    {
     "name": "stdout",
     "output_type": "stream",
     "text": [
      "Random tensor:\n",
      " tensor([[[[0.3367, 0.1288],\n",
      "          [0.2345, 0.2303]]]])\n",
      "Random tensor shape:\n",
      " torch.Size([1, 1, 2, 2])\n",
      "\n",
      "Max pool tensor:\n",
      " tensor([[[[0.3367]]]])\n",
      "Max pool tensor shape: torch.Size([1, 1, 1, 1])\n"
     ]
    },
    {
     "data": {
      "text/plain": [
       "tensor([[[[0.3367, 0.1288],\n",
       "          [0.2345, 0.2303]]]])"
      ]
     },
     "execution_count": 78,
     "metadata": {},
     "output_type": "execute_result"
    }
   ],
   "execution_count": 78
  },
  {
   "metadata": {},
   "cell_type": "markdown",
   "source": "### 7.3 Setup a loss function and optimizer for `model_3`",
   "id": "aa7e5a12435cb10f"
  },
  {
   "metadata": {
    "ExecuteTime": {
     "end_time": "2025-09-23T17:48:31.089905Z",
     "start_time": "2025-09-23T17:48:31.029788Z"
    }
   },
   "cell_type": "code",
   "source": [
    "loss_fn = nn.CrossEntropyLoss()\n",
    "optimizer = torch.optim.Adam(model_3.parameters(), lr=0.001)\n",
    "acc_fn = torchmetrics.Accuracy(task=\"multiclass\", num_classes=len(class_names))\n",
    "model_3, device"
   ],
   "id": "12e258ad20e39f38",
   "outputs": [
    {
     "data": {
      "text/plain": [
       "(FashionMNISTModelV3(\n",
       "   (conv_block_1): Sequential(\n",
       "     (0): Conv2d(1, 64, kernel_size=(3, 3), stride=(1, 1), padding=(1, 1))\n",
       "     (1): ReLU()\n",
       "     (2): Conv2d(64, 64, kernel_size=(3, 3), stride=(1, 1), padding=(1, 1))\n",
       "     (3): ReLU()\n",
       "     (4): MaxPool2d(kernel_size=2, stride=2, padding=0, dilation=1, ceil_mode=False)\n",
       "   )\n",
       "   (conv_block_2): Sequential(\n",
       "     (0): Conv2d(64, 64, kernel_size=(3, 3), stride=(1, 1), padding=(1, 1))\n",
       "     (1): ReLU()\n",
       "     (2): Conv2d(64, 64, kernel_size=(3, 3), stride=(1, 1), padding=(1, 1))\n",
       "     (3): ReLU()\n",
       "     (4): Conv2d(64, 64, kernel_size=(3, 3), stride=(1, 1), padding=(1, 1))\n",
       "     (5): ReLU()\n",
       "     (6): MaxPool2d(kernel_size=2, stride=2, padding=0, dilation=1, ceil_mode=False)\n",
       "   )\n",
       "   (classifier): Sequential(\n",
       "     (0): Flatten(start_dim=1, end_dim=-1)\n",
       "     (1): Linear(in_features=3136, out_features=10, bias=True)\n",
       "   )\n",
       " ),\n",
       " device(type='mps'))"
      ]
     },
     "execution_count": 110,
     "metadata": {},
     "output_type": "execute_result"
    }
   ],
   "execution_count": 110
  },
  {
   "metadata": {},
   "cell_type": "markdown",
   "source": "### 7.4 Training and testing `model_3` using our training and testing functions",
   "id": "5764446275dbc9ca"
  },
  {
   "metadata": {
    "ExecuteTime": {
     "end_time": "2025-09-23T18:03:09.451062Z",
     "start_time": "2025-09-23T17:53:33.660676Z"
    }
   },
   "cell_type": "code",
   "source": [
    "torch.manual_seed(RANDOM_SEED)\n",
    "torch.mps.manual_seed(RANDOM_SEED)\n",
    "\n",
    "# Measure time\n",
    "from timeit import default_timer as timer\n",
    "train_time_start_model_3 = timer()\n",
    "EPOCHS = 20\n",
    "\n",
    "for epoch in tqdm(range(EPOCHS)):\n",
    "    print(f\"Epoch {epoch + 1}/{EPOCHS}\")\n",
    "    training_step(\n",
    "        model=model_3,\n",
    "        dataloader=train_dataloader,\n",
    "        loss_fn=loss_fn,\n",
    "        optimizer=optimizer,\n",
    "        acc_fn=acc_fn,\n",
    "        device=device\n",
    "    )\n",
    "    test_step(\n",
    "        model=model_3,\n",
    "        dataloader=test_dataloader,\n",
    "        loss_fn=loss_fn,\n",
    "        acc_fn=acc_fn,\n",
    "        device=device\n",
    "    )\n",
    "\n",
    "train_time_end_model_3 = timer()\n",
    "total_train_time_model_3 = print_train_time(train_time_start_model_3, train_time_end_model_3, device)"
   ],
   "id": "7ccf8aa63bfdf75a",
   "outputs": [
    {
     "name": "stdout",
     "output_type": "stream",
     "text": [
      "Epoch 1/20\n",
      "Train loss: 0.422144, Train accuracy: 84.64%\n",
      "Test loss: 0.3035, test accuracy: 89.34%\n",
      "Epoch 2/20\n",
      "Train loss: 0.259428, Train accuracy: 90.79%\n",
      "Test loss: 0.2581, test accuracy: 90.57%\n",
      "Epoch 3/20\n",
      "Train loss: 0.219161, Train accuracy: 92.12%\n",
      "Test loss: 0.2299, test accuracy: 91.78%\n",
      "Epoch 4/20\n",
      "Train loss: 0.195240, Train accuracy: 92.86%\n",
      "Test loss: 0.2276, test accuracy: 92.11%\n",
      "Epoch 5/20\n",
      "Train loss: 0.171654, Train accuracy: 93.68%\n",
      "Test loss: 0.2427, test accuracy: 91.85%\n",
      "Epoch 6/20\n",
      "Train loss: 0.153972, Train accuracy: 94.38%\n",
      "Test loss: 0.2276, test accuracy: 91.86%\n",
      "Epoch 7/20\n",
      "Train loss: 0.133356, Train accuracy: 95.18%\n",
      "Test loss: 0.2243, test accuracy: 91.89%\n",
      "Epoch 8/20\n",
      "Train loss: 0.116114, Train accuracy: 95.74%\n",
      "Test loss: 0.2435, test accuracy: 91.79%\n",
      "Epoch 9/20\n",
      "Train loss: 0.100863, Train accuracy: 96.29%\n",
      "Test loss: 0.2568, test accuracy: 91.49%\n",
      "Epoch 10/20\n",
      "Train loss: 0.086991, Train accuracy: 96.82%\n",
      "Test loss: 0.2911, test accuracy: 92.02%\n",
      "Epoch 11/20\n",
      "Train loss: 0.076755, Train accuracy: 97.18%\n",
      "Test loss: 0.2916, test accuracy: 92.26%\n",
      "Epoch 12/20\n",
      "Train loss: 0.064512, Train accuracy: 97.59%\n",
      "Test loss: 0.3061, test accuracy: 91.71%\n",
      "Epoch 13/20\n",
      "Train loss: 0.058113, Train accuracy: 97.86%\n",
      "Test loss: 0.3274, test accuracy: 91.90%\n",
      "Epoch 14/20\n",
      "Train loss: 0.052867, Train accuracy: 98.10%\n",
      "Test loss: 0.3484, test accuracy: 92.15%\n",
      "Epoch 15/20\n",
      "Train loss: 0.049206, Train accuracy: 98.20%\n",
      "Test loss: 0.3775, test accuracy: 91.83%\n",
      "Epoch 16/20\n",
      "Train loss: 0.045274, Train accuracy: 98.33%\n",
      "Test loss: 0.4192, test accuracy: 91.52%\n",
      "Epoch 17/20\n",
      "Train loss: 0.045060, Train accuracy: 98.32%\n",
      "Test loss: 0.3725, test accuracy: 91.61%\n",
      "Epoch 18/20\n",
      "Train loss: 0.041089, Train accuracy: 98.49%\n",
      "Test loss: 0.4361, test accuracy: 91.52%\n",
      "Epoch 19/20\n",
      "Train loss: 0.041272, Train accuracy: 98.53%\n",
      "Test loss: 0.4559, test accuracy: 91.71%\n",
      "Epoch 20/20\n",
      "Train loss: 0.034040, Train accuracy: 98.76%\n",
      "Test loss: 0.5017, test accuracy: 91.54%\n"
     ]
    }
   ],
   "execution_count": 111
  },
  {
   "metadata": {
    "ExecuteTime": {
     "end_time": "2025-09-23T18:03:24.972923Z",
     "start_time": "2025-09-23T18:03:21.199478Z"
    }
   },
   "cell_type": "code",
   "source": [
    "model_3_results = eval_model(\n",
    "    model = model_3,\n",
    "    data_loader=test_dataloader,\n",
    "    loss_fn=loss_fn,\n",
    "    acc_fn=acc_fn,\n",
    ")"
   ],
   "id": "28dafe9be7b31192",
   "outputs": [],
   "execution_count": 114
  },
  {
   "metadata": {},
   "cell_type": "markdown",
   "source": "## 8. Compare model results and training time\n",
   "id": "302cfd0a53d4d3e9"
  },
  {
   "metadata": {
    "ExecuteTime": {
     "end_time": "2025-09-23T18:19:29.255389Z",
     "start_time": "2025-09-23T18:19:29.084505Z"
    }
   },
   "cell_type": "code",
   "source": [
    "import pandas as pd\n",
    "compare_results = pd.DataFrame([model_0_results, model_1_results, model_2_results, model_3_results])\n",
    "compare_results.drop(columns=[\"model\"])"
   ],
   "id": "87a3eb3c8f4f75da",
   "outputs": [
    {
     "data": {
      "text/plain": [
       "            model_name      loss  accuracy\n",
       "0  FashionMNISTModelV0  0.622241  0.782743\n",
       "1  FashionMNISTModelV1  0.287759  0.918989\n",
       "2  FashionMNISTModelV2  0.592305  0.786027\n",
       "3  FashionMNISTModelV3  0.501652  0.915406"
      ],
      "text/html": [
       "<div>\n",
       "<style scoped>\n",
       "    .dataframe tbody tr th:only-of-type {\n",
       "        vertical-align: middle;\n",
       "    }\n",
       "\n",
       "    .dataframe tbody tr th {\n",
       "        vertical-align: top;\n",
       "    }\n",
       "\n",
       "    .dataframe thead th {\n",
       "        text-align: right;\n",
       "    }\n",
       "</style>\n",
       "<table border=\"1\" class=\"dataframe\">\n",
       "  <thead>\n",
       "    <tr style=\"text-align: right;\">\n",
       "      <th></th>\n",
       "      <th>model_name</th>\n",
       "      <th>loss</th>\n",
       "      <th>accuracy</th>\n",
       "    </tr>\n",
       "  </thead>\n",
       "  <tbody>\n",
       "    <tr>\n",
       "      <th>0</th>\n",
       "      <td>FashionMNISTModelV0</td>\n",
       "      <td>0.622241</td>\n",
       "      <td>0.782743</td>\n",
       "    </tr>\n",
       "    <tr>\n",
       "      <th>1</th>\n",
       "      <td>FashionMNISTModelV1</td>\n",
       "      <td>0.287759</td>\n",
       "      <td>0.918989</td>\n",
       "    </tr>\n",
       "    <tr>\n",
       "      <th>2</th>\n",
       "      <td>FashionMNISTModelV2</td>\n",
       "      <td>0.592305</td>\n",
       "      <td>0.786027</td>\n",
       "    </tr>\n",
       "    <tr>\n",
       "      <th>3</th>\n",
       "      <td>FashionMNISTModelV3</td>\n",
       "      <td>0.501652</td>\n",
       "      <td>0.915406</td>\n",
       "    </tr>\n",
       "  </tbody>\n",
       "</table>\n",
       "</div>"
      ]
     },
     "execution_count": 120,
     "metadata": {},
     "output_type": "execute_result"
    }
   ],
   "execution_count": 120
  },
  {
   "metadata": {
    "ExecuteTime": {
     "end_time": "2025-09-23T18:27:22.844398Z",
     "start_time": "2025-09-23T18:27:22.768477Z"
    }
   },
   "cell_type": "code",
   "source": [
    "compare_results.set_index(\"model_name\")[\"accuracy\"].plot(kind=\"barh\")\n",
    "plt.xlabel(\"Accuracy\")\n",
    "plt.ylabel(\"Model\");"
   ],
   "id": "22e4349c3e95ebb2",
   "outputs": [
    {
     "data": {
      "text/plain": [
       "<Figure size 640x480 with 1 Axes>"
      ],
      "image/png": "[encoded data removed]"
     },
     "metadata": {},
     "output_type": "display_data"
    }
   ],
   "execution_count": 130
  },
  {
   "metadata": {},
   "cell_type": "markdown",
   "source": "## 9. Make and evaluate random predictions with the best modal",
   "id": "9afee131fa7a351b"
  },
  {
   "metadata": {
    "ExecuteTime": {
     "end_time": "2025-09-23T18:36:48.120829Z",
     "start_time": "2025-09-23T18:36:48.102943Z"
    }
   },
   "cell_type": "code",
   "source": [
    "def make_predictions(model: nn.Module, data: list, device: torch.device):\n",
    "    pred_probs =[]\n",
    "    model.eval()\n",
    "\n",
    "    with torch.inference_mode():\n",
    "        for sample in data:\n",
    "            # Prepare the sample (add a batch dimension and pass to target device)\n",
    "            sample = torch.unsqueeze(sample, dim=0).to(device)\n",
    "\n",
    "            # Forward pass (model outputs raw logits)\n",
    "            pred_logits = model(sample)\n",
    "\n",
    "            # prediction probability  (logit -> prediction probability)\n",
    "            pred_prob = torch.softmax(pred_logits.squeeze(), dim=0)\n",
    "\n",
    "            # Get pred_prob off the GPU for further calculations\n",
    "            pred_probs.append(pred_prob.cpu())\n",
    "\n",
    "    # Stack the pred_probs to turn list into tensor\n",
    "    return torch.stack(pred_probs)"
   ],
   "id": "e731120426a450fb",
   "outputs": [],
   "execution_count": 131
  },
  {
   "metadata": {
    "ExecuteTime": {
     "end_time": "2025-09-23T19:36:06.316432Z",
     "start_time": "2025-09-23T19:36:05.419565Z"
    }
   },
   "cell_type": "code",
   "source": [
    "import random\n",
    "# random.seed(RANDOM_SEED)\n",
    "test_samples = []\n",
    "test_labels = []\n",
    "for sample, label in random.sample(list(test_data), k=9):\n",
    "    test_samples.append(sample)\n",
    "    test_labels.append(label)\n",
    "\n",
    "# View the first sample shape\n",
    "test_samples[0].shape"
   ],
   "id": "22330b02c5601bce",
   "outputs": [
    {
     "data": {
      "text/plain": [
       "torch.Size([1, 28, 28])"
      ]
     },
     "execution_count": 154,
     "metadata": {},
     "output_type": "execute_result"
    }
   ],
   "execution_count": 154
  },
  {
   "metadata": {
    "ExecuteTime": {
     "end_time": "2025-09-23T19:36:06.399732Z",
     "start_time": "2025-09-23T19:36:06.335451Z"
    }
   },
   "cell_type": "code",
   "source": "imshow(test_samples[0], class_names[test_labels[0]])",
   "id": "f76e973c1574f831",
   "outputs": [
    {
     "data": {
      "text/plain": [
       "<Figure size 640x480 with 1 Axes>"
      ],
      "image/png": "[encoded data removed]"
     },
     "metadata": {},
     "output_type": "display_data"
    }
   ],
   "execution_count": 155
  },
  {
   "metadata": {
    "ExecuteTime": {
     "end_time": "2025-09-23T19:36:06.857089Z",
     "start_time": "2025-09-23T19:36:06.759601Z"
    }
   },
   "cell_type": "code",
   "source": [
    "# Make predictions\n",
    "pred_probs = make_predictions(model_3, test_samples, device)\n",
    "\n",
    "# View first two probabilities\n",
    "pred_probs[:2]"
   ],
   "id": "97f95ac89b4a2028",
   "outputs": [
    {
     "data": {
      "text/plain": [
       "tensor([[3.5274e-14, 1.6876e-20, 4.7753e-15, 5.7628e-15, 6.3682e-20, 1.3166e-12,\n",
       "         1.2100e-14, 3.5989e-06, 8.5755e-13, 1.0000e+00],\n",
       "        [4.6781e-10, 3.0655e-17, 2.5489e-11, 1.2988e-11, 1.4222e-14, 2.9178e-12,\n",
       "         3.6991e-10, 1.0000e+00, 1.3526e-09, 3.3929e-06]])"
      ]
     },
     "execution_count": 156,
     "metadata": {},
     "output_type": "execute_result"
    }
   ],
   "execution_count": 156
  },
  {
   "metadata": {
    "ExecuteTime": {
     "end_time": "2025-09-23T19:36:08.237999Z",
     "start_time": "2025-09-23T19:36:08.223096Z"
    }
   },
   "cell_type": "code",
   "source": [
    "# Convert predictions probabilities to labels\n",
    "pred_classes = pred_probs.argmax(dim=1)\n",
    "pred_classes"
   ],
   "id": "4e93c595b5ffbba8",
   "outputs": [
    {
     "data": {
      "text/plain": [
       "tensor([9, 7, 2, 0, 1, 0, 3, 5, 4])"
      ]
     },
     "execution_count": 157,
     "metadata": {},
     "output_type": "execute_result"
    }
   ],
   "execution_count": 157
  },
  {
   "metadata": {
    "ExecuteTime": {
     "end_time": "2025-09-23T19:36:08.882633Z",
     "start_time": "2025-09-23T19:36:08.879125Z"
    }
   },
   "cell_type": "code",
   "source": "test_labels",
   "id": "69f9ec395704a78e",
   "outputs": [
    {
     "data": {
      "text/plain": [
       "[9, 7, 2, 0, 1, 0, 4, 5, 4]"
      ]
     },
     "execution_count": 158,
     "metadata": {},
     "output_type": "execute_result"
    }
   ],
   "execution_count": 158
  },
  {
   "metadata": {
    "ExecuteTime": {
     "end_time": "2025-09-23T19:36:09.668784Z",
     "start_time": "2025-09-23T19:36:09.451266Z"
    }
   },
   "cell_type": "code",
   "source": [
    "# Plot predictions\n",
    "plt.figure(figsize=(10, 10))\n",
    "nrows = 3\n",
    "ncols = 3\n",
    "for i, sample in enumerate(test_samples):\n",
    "    plt.subplot(nrows, ncols, i + 1)\n",
    "\n",
    "    # Plot the target image\n",
    "    plt.imshow(sample.squeeze(), cmap=\"gray\")\n",
    "\n",
    "\n",
    "    # Find the predictions (in text form, e.g. \"Sandel\")\n",
    "    pred_label = class_names[pred_classes[i]]\n",
    "\n",
    "    # Get the truth label (in test form)\n",
    "    truth_label = class_names[test_labels[i]]\n",
    "\n",
    "    # Create a title for the plot\n",
    "    title_text = f\"Pred: {pred_label}, Truth: {truth_label}\"\n",
    "\n",
    "    # Check if equality between pred and truth and change the color of the title text\n",
    "    if pred_label == truth_label:\n",
    "        plt.title(title_text, fontsize=10, color=\"g\")\n",
    "    else:\n",
    "        plt.title(title_text, fontsize=10, color=\"r\")\n",
    "    plt.axis(\"off\")"
   ],
   "id": "ba92f0973bd8dd7d",
   "outputs": [
    {
     "data": {
      "text/plain": [
       "<Figure size 1000x1000 with 9 Axes>"
      ],
      "image/png": "[encoded data removed]"
     },
     "metadata": {},
     "output_type": "display_data"
    }
   ],
   "execution_count": 159
  },
  {
   "metadata": {},
   "cell_type": "markdown",
   "source": [
    "## 10. Making a confusion matrix for further prediction evaluation\n",
    "\n",
    "A confusion matrix is a fantastic way of evaluating your classification models visually:\n",
    "https://www.learnpytorch.io/02_pytorch_classification/#9-more-classification-evaluation-metrics\n",
    "\n",
    "1. Make predictions with our trained model on the test dataset\n",
    "2. Make a confusion matrix torchmetrics.ConfusionMatrix -\n",
    "https://torchmetrics.readthedocs.io/en/stable/classification/confusion_matrix.html\n",
    "3. Plot the confusion matrix using mlxtend.plotting.plot_confusion_matrix() - http://rasbt.github.io/mlxtend/user_guide/plotting/plot._confusion_matrix/"
   ],
   "id": "ae9225abde137b2d"
  },
  {
   "metadata": {
    "ExecuteTime": {
     "end_time": "2025-09-23T20:03:53.468665Z",
     "start_time": "2025-09-23T20:03:51.910074Z"
    }
   },
   "cell_type": "code",
   "source": [
    "# Import tqdm.auto\n",
    "from tqdm import tqdm\n",
    "\n",
    "# 1. make predictions with trained model\n",
    "y_preds = []\n",
    "model_1.eval()\n",
    "with torch.inference_mode():\n",
    "    for img, label in tqdm(test_dataloader, desc=\"Making predictions\"):\n",
    "        # Send the data and targets to target device\n",
    "        img, label = img.to(device), label.to(device)\n",
    "        # Do the forward pass\n",
    "        y_logit = model_1(img)\n",
    "        # Turn predictions from logits -> prediction probabilities -> prediction labels\n",
    "        y_pred = torch.softmax(y_logit.squeeze(), dim=0).argmax(dim=1)\n",
    "        # Put predictions on CPU for evaluation\n",
    "        y_preds.append(y_pred.cpu())\n",
    "\n",
    "# Concatenate list of predictions into a tensor\n",
    "y_preds_tensor = torch.cat(y_preds)\n",
    "y_preds_tensor[:10]"
   ],
   "id": "63eaf68934195ef7",
   "outputs": [
    {
     "name": "stderr",
     "output_type": "stream",
     "text": [
      "Making predictions: 100%|██████████| 157/157 [00:01<00:00, 102.16it/s]\n"
     ]
    },
    {
     "data": {
      "text/plain": [
       "tensor([9, 2, 1, 1, 6, 1, 4, 6, 5, 7])"
      ]
     },
     "execution_count": 166,
     "metadata": {},
     "output_type": "execute_result"
    }
   ],
   "execution_count": 166
  },
  {
   "metadata": {
    "ExecuteTime": {
     "end_time": "2025-09-23T20:04:06.283416Z",
     "start_time": "2025-09-23T20:04:06.268424Z"
    }
   },
   "cell_type": "code",
   "source": "len(y_preds_tensor)",
   "id": "3047255f2532ac7d",
   "outputs": [
    {
     "data": {
      "text/plain": [
       "10000"
      ]
     },
     "execution_count": 167,
     "metadata": {},
     "output_type": "execute_result"
    }
   ],
   "execution_count": 167
  },
  {
   "metadata": {
    "ExecuteTime": {
     "end_time": "2025-09-23T20:09:57.445831Z",
     "start_time": "2025-09-23T20:09:57.435474Z"
    }
   },
   "cell_type": "code",
   "source": [
    "import mlxtend\n",
    "print(mlxtend.__version__)"
   ],
   "id": "cfc45a0f4dfbf242",
   "outputs": [
    {
     "name": "stdout",
     "output_type": "stream",
     "text": [
      "0.23.4\n"
     ]
    }
   ],
   "execution_count": 168
  },
  {
   "metadata": {
    "ExecuteTime": {
     "end_time": "2025-09-23T20:20:22.666009Z",
     "start_time": "2025-09-23T20:20:22.484425Z"
    }
   },
   "cell_type": "code",
   "source": [
    "from torchmetrics import ConfusionMatrix\n",
    "from mlxtend.plotting import plot_confusion_matrix\n",
    "\n",
    "# 2. Setup confusion instance and compare predictions to targets\n",
    "confmat = ConfusionMatrix(task=\"multiclass\", num_classes=len(class_names))\n",
    "comfmat_tensor = confmat(y_preds_tensor, test_data.targets)\n",
    "\n",
    "# 3. Plot our confusion matrix\n",
    "fig, ax = plot_confusion_matrix(\n",
    "    conf_mat=comfmat_tensor.numpy(),\n",
    "    class_names=class_names,\n",
    "    figsize=(10, 10),\n",
    "    cmap=\"Blues\",\n",
    ")"
   ],
   "id": "7a4e41a73849af32",
   "outputs": [
    {
     "data": {
      "text/plain": [
       "<Figure size 1000x1000 with 1 Axes>"
      ],
      "image/png": "[encoded data removed]"
     },
     "metadata": {},
     "output_type": "display_data"
    }
   ],
   "execution_count": 177
  },
  {
   "metadata": {},
   "cell_type": "markdown",
   "source": "## 11. Save and load best performing model",
   "id": "2dc8b4d66dee0d96"
  },
  {
   "metadata": {
    "ExecuteTime": {
     "end_time": "2025-09-23T20:35:33.699974Z",
     "start_time": "2025-09-23T20:35:33.636363Z"
    }
   },
   "cell_type": "code",
   "source": [
    "from pathlib import Path\n",
    "\n",
    "# Create model directory path\n",
    "MODEL_PATH = Path(\"models\")\n",
    "MODEL_PATH.mkdir(parents=True, exist_ok=True)\n",
    "\n",
    "# Create model save\n",
    "MODEL_NAME = \"03_pytorch_computer_vision_model_1.pth\"\n",
    "MODEL_SAVE_PATH = MODEL_PATH / MODEL_NAME\n",
    "\n",
    "# Save the model state dict\n",
    "print(f\"Saving model to: {MODEL_SAVE_PATH}\")\n",
    "torch.save(obj=model_1.state_dict(), f=MODEL_SAVE_PATH)\n",
    "model_1.__class__.__name__"
   ],
   "id": "b92bf395ff511a52",
   "outputs": [
    {
     "name": "stdout",
     "output_type": "stream",
     "text": [
      "Saving model to: models/03_pytorch_computer_vision_model_1.pth\n"
     ]
    },
    {
     "data": {
      "text/plain": [
       "'FashionMNISTModelV1'"
      ]
     },
     "execution_count": 184,
     "metadata": {},
     "output_type": "execute_result"
    }
   ],
   "execution_count": 184
  },
  {
   "metadata": {
    "ExecuteTime": {
     "end_time": "2025-09-23T20:37:29.984785Z",
     "start_time": "2025-09-23T20:37:29.849388Z"
    }
   },
   "cell_type": "code",
   "source": [
    "# Create a new instance\n",
    "torch.manual_seed(RANDOM_SEED)\n",
    "\n",
    "loaded_model_1 = FashionMNISTModelV1(in_features=28, hidden1=32, hidden2=64, out_features=len(class_names))\n",
    "\n",
    "# Load in the saved state_dict()\n",
    "loaded_model_1.load_state_dict(torch.load(f=MODEL_SAVE_PATH, weights_only=True))\n",
    "\n",
    "# Send the model to the target device\n",
    "loaded_model_1.to(device)"
   ],
   "id": "b978da95af452ac4",
   "outputs": [
    {
     "data": {
      "text/plain": [
       "FashionMNISTModelV1(\n",
       "  (layer_stack): Sequential(\n",
       "    (0): Conv2d(1, 32, kernel_size=(3, 3), stride=(1, 1), padding=(1, 1))\n",
       "    (1): ReLU()\n",
       "    (2): MaxPool2d(kernel_size=2, stride=2, padding=0, dilation=1, ceil_mode=False)\n",
       "    (3): Conv2d(32, 64, kernel_size=(3, 3), stride=(1, 1), padding=(1, 1))\n",
       "    (4): ReLU()\n",
       "    (5): MaxPool2d(kernel_size=2, stride=2, padding=0, dilation=1, ceil_mode=False)\n",
       "    (6): Flatten(start_dim=1, end_dim=-1)\n",
       "    (7): Linear(in_features=3136, out_features=128, bias=True)\n",
       "    (8): ReLU()\n",
       "    (9): Linear(in_features=128, out_features=10, bias=True)\n",
       "  )\n",
       ")"
      ]
     },
     "execution_count": 186,
     "metadata": {},
     "output_type": "execute_result"
    }
   ],
   "execution_count": 186
  },
  {
   "metadata": {
    "ExecuteTime": {
     "end_time": "2025-09-23T20:41:46.215352Z",
     "start_time": "2025-09-23T20:41:43.777793Z"
    }
   },
   "cell_type": "code",
   "source": [
    "# Evaluate loaded model\n",
    "loaded_model_1_results = eval_model(model=loaded_model_1,\n",
    "           data_loader=test_dataloader,\n",
    "           loss_fn=loss_fn,\n",
    "           acc_fn=acc_fn,\n",
    "           device=device)\n",
    "loaded_model_1_results"
   ],
   "id": "e07dae6c7791bad3",
   "outputs": [
    {
     "data": {
      "text/plain": [
       "{'model_name': 'FashionMNISTModelV1',\n",
       " 'model': FashionMNISTModelV1(\n",
       "   (layer_stack): Sequential(\n",
       "     (0): Conv2d(1, 32, kernel_size=(3, 3), stride=(1, 1), padding=(1, 1))\n",
       "     (1): ReLU()\n",
       "     (2): MaxPool2d(kernel_size=2, stride=2, padding=0, dilation=1, ceil_mode=False)\n",
       "     (3): Conv2d(32, 64, kernel_size=(3, 3), stride=(1, 1), padding=(1, 1))\n",
       "     (4): ReLU()\n",
       "     (5): MaxPool2d(kernel_size=2, stride=2, padding=0, dilation=1, ceil_mode=False)\n",
       "     (6): Flatten(start_dim=1, end_dim=-1)\n",
       "     (7): Linear(in_features=3136, out_features=128, bias=True)\n",
       "     (8): ReLU()\n",
       "     (9): Linear(in_features=128, out_features=10, bias=True)\n",
       "   )\n",
       " ),\n",
       " 'loss': 0.28775882630781,\n",
       " 'accuracy': 0.9189888535031847}"
      ]
     },
     "execution_count": 192,
     "metadata": {},
     "output_type": "execute_result"
    }
   ],
   "execution_count": 192
  },
  {
   "metadata": {
    "ExecuteTime": {
     "end_time": "2025-09-23T20:41:48.839464Z",
     "start_time": "2025-09-23T20:41:48.825077Z"
    }
   },
   "cell_type": "code",
   "source": "model_1_results",
   "id": "8f9740e0150ef9d0",
   "outputs": [
    {
     "data": {
      "text/plain": [
       "{'model_name': 'FashionMNISTModelV1',\n",
       " 'model': FashionMNISTModelV1(\n",
       "   (layer_stack): Sequential(\n",
       "     (0): Conv2d(1, 32, kernel_size=(3, 3), stride=(1, 1), padding=(1, 1))\n",
       "     (1): ReLU()\n",
       "     (2): MaxPool2d(kernel_size=2, stride=2, padding=0, dilation=1, ceil_mode=False)\n",
       "     (3): Conv2d(32, 64, kernel_size=(3, 3), stride=(1, 1), padding=(1, 1))\n",
       "     (4): ReLU()\n",
       "     (5): MaxPool2d(kernel_size=2, stride=2, padding=0, dilation=1, ceil_mode=False)\n",
       "     (6): Flatten(start_dim=1, end_dim=-1)\n",
       "     (7): Linear(in_features=3136, out_features=128, bias=True)\n",
       "     (8): ReLU()\n",
       "     (9): Linear(in_features=128, out_features=10, bias=True)\n",
       "   )\n",
       " ),\n",
       " 'loss': 0.28775882630781,\n",
       " 'accuracy': 0.9189888535031847}"
      ]
     },
     "execution_count": 193,
     "metadata": {},
     "output_type": "execute_result"
    }
   ],
   "execution_count": 193
  },
  {
   "metadata": {
    "ExecuteTime": {
     "end_time": "2025-09-23T20:42:13.492093Z",
     "start_time": "2025-09-23T20:42:13.464054Z"
    }
   },
   "cell_type": "code",
   "source": [
    "# Check if model results are close to each other\n",
    "torch.isclose(torch.tensor(model_1_results[\"loss\"]), torch.tensor(loaded_model_1_results[\"loss\"]))"
   ],
   "id": "e2ccb405de5cc716",
   "outputs": [
    {
     "data": {
      "text/plain": [
       "tensor(True)"
      ]
     },
     "execution_count": 195,
     "metadata": {},
     "output_type": "execute_result"
    }
   ],
   "execution_count": 195
  }
 ],
 "metadata": {
  "kernelspec": {
   "display_name": "Python 3 (ipykernel)",
   "language": "python",
   "name": "python3"
  },
  "language_info": {
   "codemirror_mode": {
    "name": "ipython",
    "version": 3
   },
   "file_extension": ".py",
   "mimetype": "text/x-python",
   "name": "python",
   "nbconvert_exporter": "python",
   "pygments_lexer": "ipython3",
   "version": "3.12.3"
  }
 },
 "nbformat": 4,
 "nbformat_minor": 5
}
